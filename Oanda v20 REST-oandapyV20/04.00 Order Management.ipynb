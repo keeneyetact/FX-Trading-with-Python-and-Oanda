{
 "cells": [
  {
   "cell_type": "markdown",
   "metadata": {},
   "source": [
    "<!--NAVIGATION-->\n",
    "< [Account Information](03.00 Account Information.ipynb) | [Contents](Index.ipynb) | [Trade Management](05.00 Trade Management.ipynb) >"
   ]
  },
  {
   "cell_type": "markdown",
   "metadata": {},
   "source": [
    "# Order Management"
   ]
  },
  {
   "cell_type": "markdown",
   "metadata": {},
   "source": [
    "[OANDA REST-V20 API wrapper doc on Order](http://oanda-api-v20.readthedocs.io/en/latest/endpoints/orders.html)\n",
    "\n",
    "[OANDA API Getting Started](http://developer.oanda.com/rest-live-v20/introduction/)\n",
    "\n",
    "[OANDA API Order](http://developer.oanda.com/rest-live-v20/orders-ep/)\n"
   ]
  },
  {
   "cell_type": "markdown",
   "metadata": {},
   "source": [
    "## Create an Order for an Account"
   ]
  },
  {
   "cell_type": "code",
   "execution_count": 1,
   "metadata": {
    "collapsed": true
   },
   "outputs": [],
   "source": [
    "import pandas as pd\n",
    "import oandapyV20\n",
    "import oandapyV20.endpoints.orders as orders\n",
    "import configparser"
   ]
  },
  {
   "cell_type": "code",
   "execution_count": 2,
   "metadata": {
    "collapsed": true
   },
   "outputs": [],
   "source": [
    "config = configparser.ConfigParser()\n",
    "config.read('../config/config_v20.ini')\n",
    "accountID = config['oanda']['account_id']\n",
    "access_token = config['oanda']['api_key']"
   ]
  },
  {
   "cell_type": "code",
   "execution_count": 3,
   "metadata": {
    "collapsed": true
   },
   "outputs": [],
   "source": [
    "client = oandapyV20.API(access_token=access_token)"
   ]
  },
  {
   "cell_type": "code",
   "execution_count": 4,
   "metadata": {
    "collapsed": true
   },
   "outputs": [],
   "source": [
    "data = {\n",
    "  \"order\": {\n",
    "    \"price\": \"1.2\",\n",
    "    \"stopLossOnFill\": {\n",
    "      \"timeInForce\": \"GTC\",\n",
    "      \"price\": \"1.22\"\n",
    "    },\n",
    "    \"timeInForce\": \"GTC\",\n",
    "    \"instrument\": \"EUR_USD\",\n",
    "    \"units\": \"-100\",\n",
    "    \"type\": \"LIMIT\",\n",
    "    \"positionFill\": \"DEFAULT\"\n",
    "  }\n",
    "}"
   ]
  },
  {
   "cell_type": "code",
   "execution_count": 5,
   "metadata": {
    "collapsed": true
   },
   "outputs": [],
   "source": [
    "r = orders.OrderCreate(accountID, data=data)"
   ]
  },
  {
   "cell_type": "code",
   "execution_count": 6,
   "metadata": {
    "collapsed": false
   },
   "outputs": [
    {
     "data": {
      "text/plain": [
       "{'lastTransactionID': '69',\n",
       " 'orderCreateTransaction': {'accountID': '101-003-5120068-001',\n",
       "  'batchID': '69',\n",
       "  'id': '69',\n",
       "  'instrument': 'EUR_USD',\n",
       "  'positionFill': 'DEFAULT',\n",
       "  'price': '1.20000',\n",
       "  'reason': 'CLIENT_ORDER',\n",
       "  'stopLossOnFill': {'price': '1.22000', 'timeInForce': 'GTC'},\n",
       "  'time': '2017-01-30T01:04:28.187803832Z',\n",
       "  'timeInForce': 'GTC',\n",
       "  'triggerCondition': 'TRIGGER_DEFAULT',\n",
       "  'type': 'LIMIT_ORDER',\n",
       "  'units': '-100',\n",
       "  'userID': 5120068},\n",
       " 'relatedTransactionIDs': ['69']}"
      ]
     },
     "execution_count": 6,
     "metadata": {},
     "output_type": "execute_result"
    }
   ],
   "source": [
    "client.request(r)"
   ]
  },
  {
   "cell_type": "code",
   "execution_count": 7,
   "metadata": {
    "collapsed": false
   },
   "outputs": [
    {
     "name": "stdout",
     "output_type": "stream",
     "text": [
      "{'relatedTransactionIDs': ['69'], 'orderCreateTransaction': {'time': '2017-01-30T01:04:28.187803832Z', 'units': '-100', 'accountID': '101-003-5120068-001', 'id': '69', 'stopLossOnFill': {'price': '1.22000', 'timeInForce': 'GTC'}, 'instrument': 'EUR_USD', 'price': '1.20000', 'triggerCondition': 'TRIGGER_DEFAULT', 'positionFill': 'DEFAULT', 'timeInForce': 'GTC', 'type': 'LIMIT_ORDER', 'userID': 5120068, 'batchID': '69', 'reason': 'CLIENT_ORDER'}, 'lastTransactionID': '69'}\n"
     ]
    }
   ],
   "source": [
    "print(r.response)"
   ]
  },
  {
   "cell_type": "code",
   "execution_count": 8,
   "metadata": {
    "collapsed": false
   },
   "outputs": [
    {
     "data": {
      "text/plain": [
       "accountID                                  101-003-5120068-001\n",
       "batchID                                                     69\n",
       "id                                                          69\n",
       "instrument                                             EUR_USD\n",
       "positionFill                                           DEFAULT\n",
       "price                                                  1.20000\n",
       "reason                                            CLIENT_ORDER\n",
       "stopLossOnFill      {'price': '1.22000', 'timeInForce': 'GTC'}\n",
       "time                            2017-01-30T01:04:28.187803832Z\n",
       "timeInForce                                                GTC\n",
       "triggerCondition                               TRIGGER_DEFAULT\n",
       "type                                               LIMIT_ORDER\n",
       "units                                                     -100\n",
       "userID                                                 5120068\n",
       "dtype: object"
      ]
     },
     "execution_count": 8,
     "metadata": {},
     "output_type": "execute_result"
    }
   ],
   "source": [
    "pd.Series(r.response['orderCreateTransaction'])"
   ]
  },
  {
   "cell_type": "markdown",
   "metadata": {},
   "source": [
    "## Get a List of Orders for an Account"
   ]
  },
  {
   "cell_type": "code",
   "execution_count": 9,
   "metadata": {
    "collapsed": true
   },
   "outputs": [],
   "source": [
    "r = orders.OrderList(accountID)"
   ]
  },
  {
   "cell_type": "code",
   "execution_count": 10,
   "metadata": {
    "collapsed": false
   },
   "outputs": [
    {
     "data": {
      "text/plain": [
       "{'lastTransactionID': '69',\n",
       " 'orders': [{'createTime': '2017-01-30T01:04:28.187803832Z',\n",
       "   'id': '69',\n",
       "   'instrument': 'EUR_USD',\n",
       "   'partialFill': 'DEFAULT_FILL',\n",
       "   'positionFill': 'POSITION_DEFAULT',\n",
       "   'price': '1.20000',\n",
       "   'state': 'PENDING',\n",
       "   'stopLossOnFill': {'price': '1.22000', 'timeInForce': 'GTC'},\n",
       "   'timeInForce': 'GTC',\n",
       "   'triggerCondition': 'TRIGGER_DEFAULT',\n",
       "   'type': 'LIMIT',\n",
       "   'units': '-100'},\n",
       "  {'createTime': '2017-01-20T15:47:51.120880289Z',\n",
       "   'id': '17',\n",
       "   'instrument': 'EUR_USD',\n",
       "   'partialFill': 'DEFAULT_FILL',\n",
       "   'positionFill': 'POSITION_DEFAULT',\n",
       "   'price': '1.25000',\n",
       "   'replacesOrderID': '15',\n",
       "   'state': 'PENDING',\n",
       "   'timeInForce': 'GTC',\n",
       "   'triggerCondition': 'TRIGGER_DEFAULT',\n",
       "   'type': 'LIMIT',\n",
       "   'units': '-500000'},\n",
       "  {'createTime': '2017-01-20T15:47:33.998386716Z',\n",
       "   'id': '13',\n",
       "   'instrument': 'EUR_USD',\n",
       "   'partialFill': 'DEFAULT_FILL',\n",
       "   'positionFill': 'POSITION_DEFAULT',\n",
       "   'price': '1.25000',\n",
       "   'replacesOrderID': '11',\n",
       "   'state': 'PENDING',\n",
       "   'timeInForce': 'GTC',\n",
       "   'triggerCondition': 'TRIGGER_DEFAULT',\n",
       "   'type': 'LIMIT',\n",
       "   'units': '-500000'},\n",
       "  {'createTime': '2017-01-20T15:44:35.046525739Z',\n",
       "   'id': '9',\n",
       "   'instrument': 'EUR_USD',\n",
       "   'partialFill': 'DEFAULT_FILL',\n",
       "   'positionFill': 'POSITION_DEFAULT',\n",
       "   'price': '1.20000',\n",
       "   'state': 'PENDING',\n",
       "   'stopLossOnFill': {'price': '1.22000', 'timeInForce': 'GTC'},\n",
       "   'timeInForce': 'GTC',\n",
       "   'triggerCondition': 'TRIGGER_DEFAULT',\n",
       "   'type': 'LIMIT',\n",
       "   'units': '-100'}]}"
      ]
     },
     "execution_count": 10,
     "metadata": {},
     "output_type": "execute_result"
    }
   ],
   "source": [
    "client.request(r)"
   ]
  },
  {
   "cell_type": "code",
   "execution_count": 11,
   "metadata": {
    "collapsed": false
   },
   "outputs": [
    {
     "name": "stdout",
     "output_type": "stream",
     "text": [
      "{'lastTransactionID': '69', 'orders': [{'state': 'PENDING', 'units': '-100', 'id': '69', 'stopLossOnFill': {'price': '1.22000', 'timeInForce': 'GTC'}, 'instrument': 'EUR_USD', 'createTime': '2017-01-30T01:04:28.187803832Z', 'triggerCondition': 'TRIGGER_DEFAULT', 'positionFill': 'POSITION_DEFAULT', 'timeInForce': 'GTC', 'type': 'LIMIT', 'partialFill': 'DEFAULT_FILL', 'price': '1.20000'}, {'state': 'PENDING', 'createTime': '2017-01-20T15:47:51.120880289Z', 'replacesOrderID': '15', 'id': '17', 'positionFill': 'POSITION_DEFAULT', 'instrument': 'EUR_USD', 'units': '-500000', 'triggerCondition': 'TRIGGER_DEFAULT', 'timeInForce': 'GTC', 'type': 'LIMIT', 'partialFill': 'DEFAULT_FILL', 'price': '1.25000'}, {'state': 'PENDING', 'createTime': '2017-01-20T15:47:33.998386716Z', 'replacesOrderID': '11', 'id': '13', 'positionFill': 'POSITION_DEFAULT', 'instrument': 'EUR_USD', 'units': '-500000', 'triggerCondition': 'TRIGGER_DEFAULT', 'timeInForce': 'GTC', 'type': 'LIMIT', 'partialFill': 'DEFAULT_FILL', 'price': '1.25000'}, {'state': 'PENDING', 'units': '-100', 'id': '9', 'stopLossOnFill': {'price': '1.22000', 'timeInForce': 'GTC'}, 'instrument': 'EUR_USD', 'createTime': '2017-01-20T15:44:35.046525739Z', 'triggerCondition': 'TRIGGER_DEFAULT', 'positionFill': 'POSITION_DEFAULT', 'timeInForce': 'GTC', 'type': 'LIMIT', 'partialFill': 'DEFAULT_FILL', 'price': '1.20000'}]}\n"
     ]
    }
   ],
   "source": [
    "print(r.response)"
   ]
  },
  {
   "cell_type": "code",
   "execution_count": 12,
   "metadata": {
    "collapsed": false
   },
   "outputs": [
    {
     "data": {
      "text/plain": [
       "createTime                      2017-01-30T01:04:28.187803832Z\n",
       "id                                                          69\n",
       "instrument                                             EUR_USD\n",
       "partialFill                                       DEFAULT_FILL\n",
       "positionFill                                  POSITION_DEFAULT\n",
       "price                                                  1.20000\n",
       "state                                                  PENDING\n",
       "stopLossOnFill      {'price': '1.22000', 'timeInForce': 'GTC'}\n",
       "timeInForce                                                GTC\n",
       "triggerCondition                               TRIGGER_DEFAULT\n",
       "type                                                     LIMIT\n",
       "units                                                     -100\n",
       "dtype: object"
      ]
     },
     "execution_count": 12,
     "metadata": {},
     "output_type": "execute_result"
    }
   ],
   "source": [
    "pd.Series(r.response['orders'][0])"
   ]
  },
  {
   "cell_type": "markdown",
   "metadata": {},
   "source": [
    "## List all Pending Orders in an Account"
   ]
  },
  {
   "cell_type": "code",
   "execution_count": 13,
   "metadata": {
    "collapsed": true
   },
   "outputs": [],
   "source": [
    "r = orders.OrdersPending(accountID)"
   ]
  },
  {
   "cell_type": "code",
   "execution_count": 14,
   "metadata": {
    "collapsed": false
   },
   "outputs": [
    {
     "data": {
      "text/plain": [
       "{'lastTransactionID': '69',\n",
       " 'orders': [{'createTime': '2017-01-30T01:04:28.187803832Z',\n",
       "   'id': '69',\n",
       "   'instrument': 'EUR_USD',\n",
       "   'partialFill': 'DEFAULT_FILL',\n",
       "   'positionFill': 'POSITION_DEFAULT',\n",
       "   'price': '1.20000',\n",
       "   'state': 'PENDING',\n",
       "   'stopLossOnFill': {'price': '1.22000', 'timeInForce': 'GTC'},\n",
       "   'timeInForce': 'GTC',\n",
       "   'triggerCondition': 'TRIGGER_DEFAULT',\n",
       "   'type': 'LIMIT',\n",
       "   'units': '-100'},\n",
       "  {'createTime': '2017-01-20T15:47:51.120880289Z',\n",
       "   'id': '17',\n",
       "   'instrument': 'EUR_USD',\n",
       "   'partialFill': 'DEFAULT_FILL',\n",
       "   'positionFill': 'POSITION_DEFAULT',\n",
       "   'price': '1.25000',\n",
       "   'replacesOrderID': '15',\n",
       "   'state': 'PENDING',\n",
       "   'timeInForce': 'GTC',\n",
       "   'triggerCondition': 'TRIGGER_DEFAULT',\n",
       "   'type': 'LIMIT',\n",
       "   'units': '-500000'},\n",
       "  {'createTime': '2017-01-20T15:47:33.998386716Z',\n",
       "   'id': '13',\n",
       "   'instrument': 'EUR_USD',\n",
       "   'partialFill': 'DEFAULT_FILL',\n",
       "   'positionFill': 'POSITION_DEFAULT',\n",
       "   'price': '1.25000',\n",
       "   'replacesOrderID': '11',\n",
       "   'state': 'PENDING',\n",
       "   'timeInForce': 'GTC',\n",
       "   'triggerCondition': 'TRIGGER_DEFAULT',\n",
       "   'type': 'LIMIT',\n",
       "   'units': '-500000'},\n",
       "  {'createTime': '2017-01-20T15:44:35.046525739Z',\n",
       "   'id': '9',\n",
       "   'instrument': 'EUR_USD',\n",
       "   'partialFill': 'DEFAULT_FILL',\n",
       "   'positionFill': 'POSITION_DEFAULT',\n",
       "   'price': '1.20000',\n",
       "   'state': 'PENDING',\n",
       "   'stopLossOnFill': {'price': '1.22000', 'timeInForce': 'GTC'},\n",
       "   'timeInForce': 'GTC',\n",
       "   'triggerCondition': 'TRIGGER_DEFAULT',\n",
       "   'type': 'LIMIT',\n",
       "   'units': '-100'}]}"
      ]
     },
     "execution_count": 14,
     "metadata": {},
     "output_type": "execute_result"
    }
   ],
   "source": [
    "client.request(r)"
   ]
  },
  {
   "cell_type": "code",
   "execution_count": 15,
   "metadata": {
    "collapsed": false
   },
   "outputs": [
    {
     "name": "stdout",
     "output_type": "stream",
     "text": [
      "{'lastTransactionID': '69', 'orders': [{'state': 'PENDING', 'units': '-100', 'id': '69', 'stopLossOnFill': {'price': '1.22000', 'timeInForce': 'GTC'}, 'instrument': 'EUR_USD', 'createTime': '2017-01-30T01:04:28.187803832Z', 'triggerCondition': 'TRIGGER_DEFAULT', 'positionFill': 'POSITION_DEFAULT', 'timeInForce': 'GTC', 'type': 'LIMIT', 'partialFill': 'DEFAULT_FILL', 'price': '1.20000'}, {'state': 'PENDING', 'createTime': '2017-01-20T15:47:51.120880289Z', 'replacesOrderID': '15', 'id': '17', 'positionFill': 'POSITION_DEFAULT', 'instrument': 'EUR_USD', 'units': '-500000', 'triggerCondition': 'TRIGGER_DEFAULT', 'timeInForce': 'GTC', 'type': 'LIMIT', 'partialFill': 'DEFAULT_FILL', 'price': '1.25000'}, {'state': 'PENDING', 'createTime': '2017-01-20T15:47:33.998386716Z', 'replacesOrderID': '11', 'id': '13', 'positionFill': 'POSITION_DEFAULT', 'instrument': 'EUR_USD', 'units': '-500000', 'triggerCondition': 'TRIGGER_DEFAULT', 'timeInForce': 'GTC', 'type': 'LIMIT', 'partialFill': 'DEFAULT_FILL', 'price': '1.25000'}, {'state': 'PENDING', 'units': '-100', 'id': '9', 'stopLossOnFill': {'price': '1.22000', 'timeInForce': 'GTC'}, 'instrument': 'EUR_USD', 'createTime': '2017-01-20T15:44:35.046525739Z', 'triggerCondition': 'TRIGGER_DEFAULT', 'positionFill': 'POSITION_DEFAULT', 'timeInForce': 'GTC', 'type': 'LIMIT', 'partialFill': 'DEFAULT_FILL', 'price': '1.20000'}]}\n"
     ]
    }
   ],
   "source": [
    "print(r.response)"
   ]
  },
  {
   "cell_type": "code",
   "execution_count": 16,
   "metadata": {
    "collapsed": false
   },
   "outputs": [],
   "source": [
    "res = r.response['orders']"
   ]
  },
  {
   "cell_type": "code",
   "execution_count": 17,
   "metadata": {
    "collapsed": false
   },
   "outputs": [
    {
     "name": "stdout",
     "output_type": "stream",
     "text": [
      "[{'state': 'PENDING', 'units': '-100', 'id': '69', 'stopLossOnFill': {'price': '1.22000', 'timeInForce': 'GTC'}, 'instrument': 'EUR_USD', 'createTime': '2017-01-30T01:04:28.187803832Z', 'triggerCondition': 'TRIGGER_DEFAULT', 'positionFill': 'POSITION_DEFAULT', 'timeInForce': 'GTC', 'type': 'LIMIT', 'partialFill': 'DEFAULT_FILL', 'price': '1.20000'}, {'state': 'PENDING', 'createTime': '2017-01-20T15:47:51.120880289Z', 'replacesOrderID': '15', 'id': '17', 'positionFill': 'POSITION_DEFAULT', 'instrument': 'EUR_USD', 'units': '-500000', 'triggerCondition': 'TRIGGER_DEFAULT', 'timeInForce': 'GTC', 'type': 'LIMIT', 'partialFill': 'DEFAULT_FILL', 'price': '1.25000'}, {'state': 'PENDING', 'createTime': '2017-01-20T15:47:33.998386716Z', 'replacesOrderID': '11', 'id': '13', 'positionFill': 'POSITION_DEFAULT', 'instrument': 'EUR_USD', 'units': '-500000', 'triggerCondition': 'TRIGGER_DEFAULT', 'timeInForce': 'GTC', 'type': 'LIMIT', 'partialFill': 'DEFAULT_FILL', 'price': '1.25000'}, {'state': 'PENDING', 'units': '-100', 'id': '9', 'stopLossOnFill': {'price': '1.22000', 'timeInForce': 'GTC'}, 'instrument': 'EUR_USD', 'createTime': '2017-01-20T15:44:35.046525739Z', 'triggerCondition': 'TRIGGER_DEFAULT', 'positionFill': 'POSITION_DEFAULT', 'timeInForce': 'GTC', 'type': 'LIMIT', 'partialFill': 'DEFAULT_FILL', 'price': '1.20000'}]\n"
     ]
    }
   ],
   "source": [
    "print(res)"
   ]
  },
  {
   "cell_type": "code",
   "execution_count": 18,
   "metadata": {
    "collapsed": false
   },
   "outputs": [],
   "source": [
    "last_order_id = res[0]['id']"
   ]
  },
  {
   "cell_type": "code",
   "execution_count": 19,
   "metadata": {
    "collapsed": false
   },
   "outputs": [
    {
     "data": {
      "text/plain": [
       "createTime                      2017-01-30T01:04:28.187803832Z\n",
       "id                                                          69\n",
       "instrument                                             EUR_USD\n",
       "partialFill                                       DEFAULT_FILL\n",
       "positionFill                                  POSITION_DEFAULT\n",
       "price                                                  1.20000\n",
       "state                                                  PENDING\n",
       "stopLossOnFill      {'price': '1.22000', 'timeInForce': 'GTC'}\n",
       "timeInForce                                                GTC\n",
       "triggerCondition                               TRIGGER_DEFAULT\n",
       "type                                                     LIMIT\n",
       "units                                                     -100\n",
       "dtype: object"
      ]
     },
     "execution_count": 19,
     "metadata": {},
     "output_type": "execute_result"
    }
   ],
   "source": [
    "pd.Series(r.response['orders'][0])"
   ]
  },
  {
   "cell_type": "markdown",
   "metadata": {},
   "source": [
    "## Get Details for a Single Order in an Account"
   ]
  },
  {
   "cell_type": "code",
   "execution_count": 20,
   "metadata": {
    "collapsed": true
   },
   "outputs": [],
   "source": [
    "r = orders.OrderDetails(accountID=accountID, orderID=last_order_id)"
   ]
  },
  {
   "cell_type": "code",
   "execution_count": 21,
   "metadata": {
    "collapsed": false
   },
   "outputs": [
    {
     "data": {
      "text/plain": [
       "{'lastTransactionID': '69',\n",
       " 'order': {'createTime': '2017-01-30T01:04:28.187803832Z',\n",
       "  'id': '69',\n",
       "  'instrument': 'EUR_USD',\n",
       "  'partialFill': 'DEFAULT_FILL',\n",
       "  'positionFill': 'POSITION_DEFAULT',\n",
       "  'price': '1.20000',\n",
       "  'state': 'PENDING',\n",
       "  'stopLossOnFill': {'price': '1.22000', 'timeInForce': 'GTC'},\n",
       "  'timeInForce': 'GTC',\n",
       "  'triggerCondition': 'TRIGGER_DEFAULT',\n",
       "  'type': 'LIMIT',\n",
       "  'units': '-100'}}"
      ]
     },
     "execution_count": 21,
     "metadata": {},
     "output_type": "execute_result"
    }
   ],
   "source": [
    "client.request(r)"
   ]
  },
  {
   "cell_type": "markdown",
   "metadata": {},
   "source": [
    "## Replace an Order in an Account by simultaneously cancelling it and createing a replacement Order."
   ]
  },
  {
   "cell_type": "code",
   "execution_count": 22,
   "metadata": {
    "collapsed": true
   },
   "outputs": [],
   "source": [
    "data = {\n",
    "  \"order\": {\n",
    "    \"units\": \"-500000\",\n",
    "    \"instrument\": \"EUR_USD\",\n",
    "    \"price\": \"1.25000\",\n",
    "    \"type\": \"LIMIT\"\n",
    "  }\n",
    "}"
   ]
  },
  {
   "cell_type": "code",
   "execution_count": 23,
   "metadata": {
    "collapsed": true
   },
   "outputs": [],
   "source": [
    "r = orders.OrderReplace(accountID=accountID, orderID=last_order_id, data=data)"
   ]
  },
  {
   "cell_type": "code",
   "execution_count": 24,
   "metadata": {
    "collapsed": false
   },
   "outputs": [
    {
     "data": {
      "text/plain": [
       "{'lastTransactionID': '71',\n",
       " 'orderCancelTransaction': {'accountID': '101-003-5120068-001',\n",
       "  'batchID': '70',\n",
       "  'id': '70',\n",
       "  'orderID': '69',\n",
       "  'reason': 'CLIENT_REQUEST_REPLACED',\n",
       "  'replacedByOrderID': '71',\n",
       "  'time': '2017-01-30T01:04:29.935077629Z',\n",
       "  'type': 'ORDER_CANCEL',\n",
       "  'userID': 5120068},\n",
       " 'orderCreateTransaction': {'accountID': '101-003-5120068-001',\n",
       "  'batchID': '70',\n",
       "  'id': '71',\n",
       "  'instrument': 'EUR_USD',\n",
       "  'positionFill': 'DEFAULT',\n",
       "  'price': '1.25000',\n",
       "  'reason': 'REPLACEMENT',\n",
       "  'replacesOrderID': '69',\n",
       "  'time': '2017-01-30T01:04:29.935077629Z',\n",
       "  'timeInForce': 'GTC',\n",
       "  'triggerCondition': 'TRIGGER_DEFAULT',\n",
       "  'type': 'LIMIT_ORDER',\n",
       "  'units': '-500000',\n",
       "  'userID': 5120068},\n",
       " 'relatedTransactionIDs': ['70', '71']}"
      ]
     },
     "execution_count": 24,
     "metadata": {},
     "output_type": "execute_result"
    }
   ],
   "source": [
    "client.request(r)"
   ]
  },
  {
   "cell_type": "code",
   "execution_count": 25,
   "metadata": {
    "collapsed": false
   },
   "outputs": [
    {
     "name": "stdout",
     "output_type": "stream",
     "text": [
      "{'relatedTransactionIDs': ['70', '71'], 'orderCreateTransaction': {'time': '2017-01-30T01:04:29.935077629Z', 'units': '-500000', 'replacesOrderID': '69', 'accountID': '101-003-5120068-001', 'id': '71', 'positionFill': 'DEFAULT', 'instrument': 'EUR_USD', 'price': '1.25000', 'triggerCondition': 'TRIGGER_DEFAULT', 'timeInForce': 'GTC', 'type': 'LIMIT_ORDER', 'userID': 5120068, 'batchID': '70', 'reason': 'REPLACEMENT'}, 'lastTransactionID': '71', 'orderCancelTransaction': {'time': '2017-01-30T01:04:29.935077629Z', 'accountID': '101-003-5120068-001', 'type': 'ORDER_CANCEL', 'replacedByOrderID': '71', 'userID': 5120068, 'batchID': '70', 'orderID': '69', 'reason': 'CLIENT_REQUEST_REPLACED', 'id': '70'}}\n"
     ]
    }
   ],
   "source": [
    "print(r.response)"
   ]
  },
  {
   "cell_type": "code",
   "execution_count": 26,
   "metadata": {
    "collapsed": false
   },
   "outputs": [],
   "source": [
    "req_id = r.response['lastTransactionID']"
   ]
  },
  {
   "cell_type": "markdown",
   "metadata": {},
   "source": [
    "## Cancel a pending Order in an Account."
   ]
  },
  {
   "cell_type": "code",
   "execution_count": 27,
   "metadata": {
    "collapsed": true
   },
   "outputs": [],
   "source": [
    "r = orders.OrderCancel(accountID=accountID, orderID=req_id)"
   ]
  },
  {
   "cell_type": "code",
   "execution_count": 28,
   "metadata": {
    "collapsed": false
   },
   "outputs": [
    {
     "data": {
      "text/plain": [
       "{'lastTransactionID': '72',\n",
       " 'orderCancelTransaction': {'accountID': '101-003-5120068-001',\n",
       "  'batchID': '72',\n",
       "  'id': '72',\n",
       "  'orderID': '71',\n",
       "  'reason': 'CLIENT_REQUEST',\n",
       "  'time': '2017-01-30T01:04:30.314623316Z',\n",
       "  'type': 'ORDER_CANCEL',\n",
       "  'userID': 5120068},\n",
       " 'relatedTransactionIDs': ['72']}"
      ]
     },
     "execution_count": 28,
     "metadata": {},
     "output_type": "execute_result"
    }
   ],
   "source": [
    "client.request(r)"
   ]
  },
  {
   "cell_type": "code",
   "execution_count": 29,
   "metadata": {
    "collapsed": false
   },
   "outputs": [
    {
     "name": "stdout",
     "output_type": "stream",
     "text": [
      "{'relatedTransactionIDs': ['72'], 'lastTransactionID': '72', 'orderCancelTransaction': {'time': '2017-01-30T01:04:30.314623316Z', 'accountID': '101-003-5120068-001', 'type': 'ORDER_CANCEL', 'userID': 5120068, 'batchID': '72', 'orderID': '71', 'reason': 'CLIENT_REQUEST', 'id': '72'}}\n"
     ]
    }
   ],
   "source": [
    "print(r.response)"
   ]
  },
  {
   "cell_type": "code",
   "execution_count": 30,
   "metadata": {
    "collapsed": false
   },
   "outputs": [
    {
     "data": {
      "text/plain": [
       "'69'"
      ]
     },
     "execution_count": 30,
     "metadata": {},
     "output_type": "execute_result"
    }
   ],
   "source": [
    "last_order_id"
   ]
  },
  {
   "cell_type": "markdown",
   "metadata": {},
   "source": [
    "# MKT Order"
   ]
  },
  {
   "cell_type": "code",
   "execution_count": 31,
   "metadata": {
    "collapsed": false
   },
   "outputs": [],
   "source": [
    "data = {\"order\": \n",
    "        {\"units\": \"100\", \n",
    "         \"instrument\": \"GBP_USD\", \n",
    "         \"timeInForce\": \"FOK\", \n",
    "         \"type\": \"MARKET\", \n",
    "         \"positionFill\": \"DEFAULT\"\n",
    "        },\n",
    "       }"
   ]
  },
  {
   "cell_type": "code",
   "execution_count": 32,
   "metadata": {
    "collapsed": true
   },
   "outputs": [],
   "source": [
    "r = orders.OrderCreate(accountID, data=data)"
   ]
  },
  {
   "cell_type": "code",
   "execution_count": 33,
   "metadata": {
    "collapsed": false
   },
   "outputs": [
    {
     "data": {
      "text/plain": [
       "{'lastTransactionID': '74',\n",
       " 'orderCreateTransaction': {'accountID': '101-003-5120068-001',\n",
       "  'batchID': '73',\n",
       "  'id': '73',\n",
       "  'instrument': 'GBP_USD',\n",
       "  'positionFill': 'DEFAULT',\n",
       "  'reason': 'CLIENT_ORDER',\n",
       "  'time': '2017-01-30T01:04:30.659975082Z',\n",
       "  'timeInForce': 'FOK',\n",
       "  'type': 'MARKET_ORDER',\n",
       "  'units': '100',\n",
       "  'userID': 5120068},\n",
       " 'orderFillTransaction': {'accountBalance': '100000.3090',\n",
       "  'accountID': '101-003-5120068-001',\n",
       "  'batchID': '73',\n",
       "  'financing': '0.0000',\n",
       "  'id': '74',\n",
       "  'instrument': 'GBP_USD',\n",
       "  'orderID': '73',\n",
       "  'pl': '0.0000',\n",
       "  'price': '1.25892',\n",
       "  'reason': 'MARKET_ORDER',\n",
       "  'time': '2017-01-30T01:04:30.659975082Z',\n",
       "  'tradeOpened': {'tradeID': '74', 'units': '100'},\n",
       "  'type': 'ORDER_FILL',\n",
       "  'units': '100',\n",
       "  'userID': 5120068},\n",
       " 'relatedTransactionIDs': ['73', '74']}"
      ]
     },
     "execution_count": 33,
     "metadata": {},
     "output_type": "execute_result"
    }
   ],
   "source": [
    "client.request(r)"
   ]
  },
  {
   "cell_type": "code",
   "execution_count": 34,
   "metadata": {
    "collapsed": false
   },
   "outputs": [
    {
     "name": "stdout",
     "output_type": "stream",
     "text": [
      "{'relatedTransactionIDs': ['73', '74'], 'orderCreateTransaction': {'time': '2017-01-30T01:04:30.659975082Z', 'timeInForce': 'FOK', 'id': '73', 'accountID': '101-003-5120068-001', 'type': 'MARKET_ORDER', 'positionFill': 'DEFAULT', 'userID': 5120068, 'batchID': '73', 'units': '100', 'reason': 'CLIENT_ORDER', 'instrument': 'GBP_USD'}, 'lastTransactionID': '74', 'orderFillTransaction': {'time': '2017-01-30T01:04:30.659975082Z', 'units': '100', 'accountID': '101-003-5120068-001', 'id': '74', 'pl': '0.0000', 'instrument': 'GBP_USD', 'batchID': '73', 'price': '1.25892', 'type': 'ORDER_FILL', 'accountBalance': '100000.3090', 'userID': 5120068, 'tradeOpened': {'tradeID': '74', 'units': '100'}, 'orderID': '73', 'financing': '0.0000', 'reason': 'MARKET_ORDER'}}\n"
     ]
    }
   ],
   "source": [
    "print(r.response)"
   ]
  },
  {
   "cell_type": "code",
   "execution_count": 35,
   "metadata": {
    "collapsed": false
   },
   "outputs": [
    {
     "data": {
      "text/plain": [
       "accountID                  101-003-5120068-001\n",
       "batchID                                     73\n",
       "id                                          73\n",
       "instrument                             GBP_USD\n",
       "positionFill                           DEFAULT\n",
       "reason                            CLIENT_ORDER\n",
       "time            2017-01-30T01:04:30.659975082Z\n",
       "timeInForce                                FOK\n",
       "type                              MARKET_ORDER\n",
       "units                                      100\n",
       "userID                                 5120068\n",
       "dtype: object"
      ]
     },
     "execution_count": 35,
     "metadata": {},
     "output_type": "execute_result"
    }
   ],
   "source": [
    "pd.Series(r.response['orderCreateTransaction'])"
   ]
  },
  {
   "cell_type": "code",
   "execution_count": 36,
   "metadata": {
    "collapsed": false
   },
   "outputs": [
    {
     "data": {
      "text/plain": [
       "accountBalance                          100000.3090\n",
       "accountID                       101-003-5120068-001\n",
       "batchID                                          73\n",
       "financing                                    0.0000\n",
       "id                                               74\n",
       "instrument                                  GBP_USD\n",
       "orderID                                          73\n",
       "pl                                           0.0000\n",
       "price                                       1.25892\n",
       "reason                                 MARKET_ORDER\n",
       "time                 2017-01-30T01:04:30.659975082Z\n",
       "tradeOpened       {'tradeID': '74', 'units': '100'}\n",
       "type                                     ORDER_FILL\n",
       "units                                           100\n",
       "userID                                      5120068\n",
       "dtype: object"
      ]
     },
     "execution_count": 36,
     "metadata": {},
     "output_type": "execute_result"
    }
   ],
   "source": [
    "pd.Series(r.response['orderFillTransaction'])"
   ]
  },
  {
   "cell_type": "markdown",
   "metadata": {},
   "source": [
    "<!--NAVIGATION-->\n",
    "< [Account Information](03.00 Account Information.ipynb) | [Contents](Index.ipynb) | [Trade Management](05.00 Trade Management.ipynb) >"
   ]
  },
  {
   "cell_type": "markdown",
   "metadata": {},
   "source": []
  }
 ],
 "metadata": {
  "anaconda-cloud": {},
  "kernelspec": {
   "display_name": "Python [conda root]",
   "language": "python",
   "name": "conda-root-py"
  },
  "language_info": {
   "codemirror_mode": {
    "name": "ipython",
    "version": 3
   },
   "file_extension": ".py",
   "mimetype": "text/x-python",
   "name": "python",
   "nbconvert_exporter": "python",
   "pygments_lexer": "ipython3",
   "version": "3.5.2"
  }
 },
 "nbformat": 4,
 "nbformat_minor": 0
}
