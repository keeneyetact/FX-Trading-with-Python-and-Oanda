{
 "cells": [
  {
   "cell_type": "markdown",
   "metadata": {},
   "source": [
    "<!--NAVIGATION-->\n",
    "< [Introduction](01.00 Introduction.ipynb) | [Contents](Index.ipynb) | [Account Information](03.00 Account Information.ipynb) >"
   ]
  },
  {
   "cell_type": "markdown",
   "metadata": {},
   "source": [
    "# Rates Information"
   ]
  },
  {
   "cell_type": "markdown",
   "metadata": {},
   "source": [
    "[OANDA REST-V20 API wrapper doc on Pricing / Rates](http://oanda-api-v20.readthedocs.io/en/latest/endpoints/pricing.html)\n",
    "\n",
    "[OANDA API Getting Started](http://developer.oanda.com/rest-live-v20/introduction/)\n",
    "\n",
    "[OANDA API Pricing](http://developer.oanda.com/rest-live-v20/pricing-ep/)"
   ]
  },
  {
   "cell_type": "code",
   "execution_count": 1,
   "metadata": {
    "collapsed": false
   },
   "outputs": [],
   "source": [
    "import pandas as pd\n",
    "import oandapyV20\n",
    "from oandapyV20 import API\n",
    "import oandapyV20.endpoints.pricing as pricing\n",
    "import configparser"
   ]
  },
  {
   "cell_type": "code",
   "execution_count": 2,
   "metadata": {
    "collapsed": false
   },
   "outputs": [],
   "source": [
    "config = configparser.ConfigParser()\n",
    "config.read('../config/config_v20.ini')\n",
    "accountID = config['oanda']['account_id']\n",
    "access_token = config['oanda']['api_key']\n",
    "api = API(access_token=access_token)"
   ]
  },
  {
   "cell_type": "code",
   "execution_count": 3,
   "metadata": {
    "collapsed": true
   },
   "outputs": [],
   "source": [
    "params ={\n",
    "          \"instruments\": \"EUR_USD,EUR_JPY\"\n",
    "        }"
   ]
  },
  {
   "cell_type": "code",
   "execution_count": 4,
   "metadata": {
    "collapsed": true
   },
   "outputs": [],
   "source": [
    "r = pricing.PricingInfo(accountID=accountID, params=params)"
   ]
  },
  {
   "cell_type": "code",
   "execution_count": 5,
   "metadata": {
    "collapsed": true
   },
   "outputs": [],
   "source": [
    "rv = api.request(r)"
   ]
  },
  {
   "cell_type": "code",
   "execution_count": 6,
   "metadata": {
    "collapsed": false
   },
   "outputs": [
    {
     "name": "stdout",
     "output_type": "stream",
     "text": [
      "{'prices': [{'type': 'PRICE', 'instrument': 'EUR_USD', 'time': '2017-01-31T06:56:33.045012160Z', 'bids': [{'liquidity': 10000000.0, 'price': '1.06933'}, {'liquidity': 10000000.0, 'price': '1.06931'}], 'status': 'tradeable', 'quoteHomeConversionFactors': {'positiveUnits': '1.41913000', 'negativeUnits': '1.41934000'}, 'closeoutAsk': '1.06952', 'unitsAvailable': {'default': {'long': '3293816', 'short': '3294766'}, 'reduceOnly': {'long': '0', 'short': '0'}, 'openOnly': {'long': '3293816', 'short': '3294766'}, 'reduceFirst': {'long': '3293816', 'short': '3294766'}}, 'closeoutBid': '1.06929', 'asks': [{'liquidity': 10000000.0, 'price': '1.06948'}, {'liquidity': 10000000.0, 'price': '1.06950'}], 'tradeable': True}, {'type': 'PRICE', 'instrument': 'EUR_JPY', 'time': '2017-01-31T06:56:31.757929252Z', 'bids': [{'liquidity': 1000000.0, 'price': '121.415'}, {'liquidity': 2000000.0, 'price': '121.414'}, {'liquidity': 5000000.0, 'price': '121.413'}, {'liquidity': 10000000.0, 'price': '121.411'}], 'status': 'tradeable', 'quoteHomeConversionFactors': {'positiveUnits': '0.01249719', 'negativeUnits': '0.01250109'}, 'closeoutAsk': '121.439', 'unitsAvailable': {'default': {'long': '3293546', 'short': '3295161'}, 'reduceOnly': {'long': '0', 'short': '0'}, 'openOnly': {'long': '3293546', 'short': '3295161'}, 'reduceFirst': {'long': '3293546', 'short': '3295161'}}, 'closeoutBid': '121.411', 'asks': [{'liquidity': 1000000.0, 'price': '121.435'}, {'liquidity': 2000000.0, 'price': '121.436'}, {'liquidity': 5000000.0, 'price': '121.437'}, {'liquidity': 10000000.0, 'price': '121.439'}], 'tradeable': True}]}\n"
     ]
    }
   ],
   "source": [
    "print(r.response)"
   ]
  },
  {
   "cell_type": "code",
   "execution_count": 7,
   "metadata": {
    "collapsed": false
   },
   "outputs": [
    {
     "data": {
      "text/html": [
       "<div>\n",
       "<table border=\"1\" class=\"dataframe\">\n",
       "  <thead>\n",
       "    <tr style=\"text-align: right;\">\n",
       "      <th></th>\n",
       "      <th>asks</th>\n",
       "      <th>bids</th>\n",
       "      <th>closeoutAsk</th>\n",
       "      <th>closeoutBid</th>\n",
       "      <th>instrument</th>\n",
       "      <th>quoteHomeConversionFactors</th>\n",
       "      <th>status</th>\n",
       "      <th>time</th>\n",
       "      <th>tradeable</th>\n",
       "      <th>type</th>\n",
       "      <th>unitsAvailable</th>\n",
       "    </tr>\n",
       "  </thead>\n",
       "  <tbody>\n",
       "    <tr>\n",
       "      <th>0</th>\n",
       "      <td>[{'liquidity': 10000000.0, 'price': '1.06948'}...</td>\n",
       "      <td>[{'liquidity': 10000000.0, 'price': '1.06933'}...</td>\n",
       "      <td>1.06952</td>\n",
       "      <td>1.06929</td>\n",
       "      <td>EUR_USD</td>\n",
       "      <td>{'positiveUnits': '1.41913000', 'negativeUnits...</td>\n",
       "      <td>tradeable</td>\n",
       "      <td>2017-01-31T06:56:33.045012160Z</td>\n",
       "      <td>True</td>\n",
       "      <td>PRICE</td>\n",
       "      <td>{'default': {'long': '3293816', 'short': '3294...</td>\n",
       "    </tr>\n",
       "    <tr>\n",
       "      <th>1</th>\n",
       "      <td>[{'liquidity': 1000000.0, 'price': '121.435'},...</td>\n",
       "      <td>[{'liquidity': 1000000.0, 'price': '121.415'},...</td>\n",
       "      <td>121.439</td>\n",
       "      <td>121.411</td>\n",
       "      <td>EUR_JPY</td>\n",
       "      <td>{'positiveUnits': '0.01249719', 'negativeUnits...</td>\n",
       "      <td>tradeable</td>\n",
       "      <td>2017-01-31T06:56:31.757929252Z</td>\n",
       "      <td>True</td>\n",
       "      <td>PRICE</td>\n",
       "      <td>{'default': {'long': '3293546', 'short': '3295...</td>\n",
       "    </tr>\n",
       "  </tbody>\n",
       "</table>\n",
       "</div>"
      ],
      "text/plain": [
       "                                                asks  \\\n",
       "0  [{'liquidity': 10000000.0, 'price': '1.06948'}...   \n",
       "1  [{'liquidity': 1000000.0, 'price': '121.435'},...   \n",
       "\n",
       "                                                bids closeoutAsk closeoutBid  \\\n",
       "0  [{'liquidity': 10000000.0, 'price': '1.06933'}...     1.06952     1.06929   \n",
       "1  [{'liquidity': 1000000.0, 'price': '121.415'},...     121.439     121.411   \n",
       "\n",
       "  instrument                         quoteHomeConversionFactors     status  \\\n",
       "0    EUR_USD  {'positiveUnits': '1.41913000', 'negativeUnits...  tradeable   \n",
       "1    EUR_JPY  {'positiveUnits': '0.01249719', 'negativeUnits...  tradeable   \n",
       "\n",
       "                             time tradeable   type  \\\n",
       "0  2017-01-31T06:56:33.045012160Z      True  PRICE   \n",
       "1  2017-01-31T06:56:31.757929252Z      True  PRICE   \n",
       "\n",
       "                                      unitsAvailable  \n",
       "0  {'default': {'long': '3293816', 'short': '3294...  \n",
       "1  {'default': {'long': '3293546', 'short': '3295...  "
      ]
     },
     "execution_count": 7,
     "metadata": {},
     "output_type": "execute_result"
    }
   ],
   "source": [
    "pd.DataFrame(r.response['prices'])"
   ]
  },
  {
   "cell_type": "code",
   "execution_count": 8,
   "metadata": {
    "collapsed": false
   },
   "outputs": [
    {
     "data": {
      "text/plain": [
       "[{'asks': [{'liquidity': 10000000.0, 'price': '1.06948'},\n",
       "   {'liquidity': 10000000.0, 'price': '1.06950'}],\n",
       "  'bids': [{'liquidity': 10000000.0, 'price': '1.06933'},\n",
       "   {'liquidity': 10000000.0, 'price': '1.06931'}],\n",
       "  'closeoutAsk': '1.06952',\n",
       "  'closeoutBid': '1.06929',\n",
       "  'instrument': 'EUR_USD',\n",
       "  'quoteHomeConversionFactors': {'negativeUnits': '1.41934000',\n",
       "   'positiveUnits': '1.41913000'},\n",
       "  'status': 'tradeable',\n",
       "  'time': '2017-01-31T06:56:33.045012160Z',\n",
       "  'tradeable': True,\n",
       "  'type': 'PRICE',\n",
       "  'unitsAvailable': {'default': {'long': '3293816', 'short': '3294766'},\n",
       "   'openOnly': {'long': '3293816', 'short': '3294766'},\n",
       "   'reduceFirst': {'long': '3293816', 'short': '3294766'},\n",
       "   'reduceOnly': {'long': '0', 'short': '0'}}},\n",
       " {'asks': [{'liquidity': 1000000.0, 'price': '121.435'},\n",
       "   {'liquidity': 2000000.0, 'price': '121.436'},\n",
       "   {'liquidity': 5000000.0, 'price': '121.437'},\n",
       "   {'liquidity': 10000000.0, 'price': '121.439'}],\n",
       "  'bids': [{'liquidity': 1000000.0, 'price': '121.415'},\n",
       "   {'liquidity': 2000000.0, 'price': '121.414'},\n",
       "   {'liquidity': 5000000.0, 'price': '121.413'},\n",
       "   {'liquidity': 10000000.0, 'price': '121.411'}],\n",
       "  'closeoutAsk': '121.439',\n",
       "  'closeoutBid': '121.411',\n",
       "  'instrument': 'EUR_JPY',\n",
       "  'quoteHomeConversionFactors': {'negativeUnits': '0.01250109',\n",
       "   'positiveUnits': '0.01249719'},\n",
       "  'status': 'tradeable',\n",
       "  'time': '2017-01-31T06:56:31.757929252Z',\n",
       "  'tradeable': True,\n",
       "  'type': 'PRICE',\n",
       "  'unitsAvailable': {'default': {'long': '3293546', 'short': '3295161'},\n",
       "   'openOnly': {'long': '3293546', 'short': '3295161'},\n",
       "   'reduceFirst': {'long': '3293546', 'short': '3295161'},\n",
       "   'reduceOnly': {'long': '0', 'short': '0'}}}]"
      ]
     },
     "execution_count": 8,
     "metadata": {},
     "output_type": "execute_result"
    }
   ],
   "source": [
    "r.response['prices']"
   ]
  },
  {
   "cell_type": "markdown",
   "metadata": {},
   "source": [
    "<!--NAVIGATION-->\n",
    "< [Introduction](01.00 Introduction.ipynb) | [Contents](Index.ipynb) | [Account Information](03.00 Account Information.ipynb) >"
   ]
  }
 ],
 "metadata": {
  "anaconda-cloud": {},
  "kernelspec": {
   "display_name": "Python [conda root]",
   "language": "python",
   "name": "conda-root-py"
  },
  "language_info": {
   "codemirror_mode": {
    "name": "ipython",
    "version": 3
   },
   "file_extension": ".py",
   "mimetype": "text/x-python",
   "name": "python",
   "nbconvert_exporter": "python",
   "pygments_lexer": "ipython3",
   "version": "3.5.2"
  }
 },
 "nbformat": 4,
 "nbformat_minor": 0
}
