{
 "cells": [
  {
   "cell_type": "markdown",
   "metadata": {},
   "source": [
    "<!--NAVIGATION-->\n",
    "< [Position Management](06.00 Position Management.ipynb) | [Contents](Index.ipynb) >"
   ]
  },
  {
   "cell_type": "markdown",
   "metadata": {},
   "source": [
    "# Transaction History"
   ]
  },
  {
   "cell_type": "markdown",
   "metadata": {},
   "source": [
    "[OANDA REST-V20 API wrapper doc](http://oanda-api-v20.readthedocs.io/en/latest/endpoints/transactions.html)\n",
    "\n",
    "[OANDA API Getting Started](http://developer.oanda.com/rest-live-v20/introduction/)\n",
    "\n",
    "[OANDA DOC](http://developer.oanda.com/rest-live-v20/transactions-ep/)"
   ]
  },
  {
   "cell_type": "code",
   "execution_count": 1,
   "metadata": {
    "collapsed": true
   },
   "outputs": [],
   "source": [
    "import pandas as pd\n",
    "import oandapyV20\n",
    "import oandapyV20.endpoints.transactions as trans\n",
    "import configparser"
   ]
  },
  {
   "cell_type": "code",
   "execution_count": 2,
   "metadata": {
    "collapsed": false
   },
   "outputs": [],
   "source": [
    "config = configparser.ConfigParser()\n",
    "config.read('../config/config_v20.ini')\n",
    "accountID = config['oanda']['account_id']\n",
    "access_token = config['oanda']['api_key']"
   ]
  },
  {
   "cell_type": "code",
   "execution_count": 3,
   "metadata": {
    "collapsed": true
   },
   "outputs": [],
   "source": [
    "client = oandapyV20.API(access_token=access_token)"
   ]
  },
  {
   "cell_type": "markdown",
   "metadata": {},
   "source": [
    "## Transaction List"
   ]
  },
  {
   "cell_type": "code",
   "execution_count": 4,
   "metadata": {
    "collapsed": true
   },
   "outputs": [],
   "source": [
    "r = trans.TransactionList(accountID)"
   ]
  },
  {
   "cell_type": "code",
   "execution_count": 5,
   "metadata": {
    "collapsed": false
   },
   "outputs": [
    {
     "data": {
      "text/plain": [
       "{'count': 66,\n",
       " 'from': '2017-01-20T14:23:22.308266448Z',\n",
       " 'lastTransactionID': '66',\n",
       " 'pageSize': 100,\n",
       " 'pages': ['https://api-fxpractice.oanda.com/v3/accounts/101-003-5120068-001/transactions/idrange?from=1&to=66'],\n",
       " 'to': '2017-01-28T13:31:55.464629929Z'}"
      ]
     },
     "execution_count": 5,
     "metadata": {},
     "output_type": "execute_result"
    }
   ],
   "source": [
    "client.request(r)"
   ]
  },
  {
   "cell_type": "markdown",
   "metadata": {},
   "source": [
    "## Get the details of a single Account Transaction."
   ]
  },
  {
   "cell_type": "code",
   "execution_count": 6,
   "metadata": {
    "collapsed": true
   },
   "outputs": [],
   "source": [
    "r = trans.TransactionDetails(accountID=accountID, transactionID=49)"
   ]
  },
  {
   "cell_type": "code",
   "execution_count": 7,
   "metadata": {
    "collapsed": false
   },
   "outputs": [
    {
     "data": {
      "text/plain": [
       "{'lastTransactionID': '66',\n",
       " 'transaction': {'accountBalance': '100000.2780',\n",
       "  'accountID': '101-003-5120068-001',\n",
       "  'batchID': '48',\n",
       "  'financing': '0.0000',\n",
       "  'id': '49',\n",
       "  'instrument': 'EUR_USD',\n",
       "  'orderID': '48',\n",
       "  'pl': '-0.0086',\n",
       "  'price': '1.06723',\n",
       "  'reason': 'MARKET_ORDER_POSITION_CLOSEOUT',\n",
       "  'time': '2017-01-20T16:13:56.644609335Z',\n",
       "  'tradesClosed': [{'financing': '0.0000',\n",
       "    'realizedPL': '-0.0086',\n",
       "    'tradeID': '29',\n",
       "    'units': '-100'}],\n",
       "  'type': 'ORDER_FILL',\n",
       "  'units': '-100',\n",
       "  'userID': 5120068}}"
      ]
     },
     "execution_count": 7,
     "metadata": {},
     "output_type": "execute_result"
    }
   ],
   "source": [
    "client.request(r)"
   ]
  },
  {
   "cell_type": "markdown",
   "metadata": {},
   "source": [
    "<!--NAVIGATION-->\n",
    "< [Position Management](06.00 Position Management.ipynb) | [Contents](Index.ipynb) >"
   ]
  },
  {
   "cell_type": "markdown",
   "metadata": {},
   "source": []
  }
 ],
 "metadata": {
  "anaconda-cloud": {},
  "kernelspec": {
   "display_name": "Python [conda root]",
   "language": "python",
   "name": "conda-root-py"
  },
  "language_info": {
   "codemirror_mode": {
    "name": "ipython",
    "version": 3
   },
   "file_extension": ".py",
   "mimetype": "text/x-python",
   "name": "python",
   "nbconvert_exporter": "python",
   "pygments_lexer": "ipython3",
   "version": "3.5.2"
  }
 },
 "nbformat": 4,
 "nbformat_minor": 0
}
