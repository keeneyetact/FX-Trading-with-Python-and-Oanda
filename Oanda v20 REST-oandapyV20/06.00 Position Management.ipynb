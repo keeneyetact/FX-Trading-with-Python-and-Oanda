{
 "cells": [
  {
   "cell_type": "markdown",
   "metadata": {},
   "source": [
    "<!--NAVIGATION-->\n",
    "< [Trade Management](05.00 Trade Management.ipynb) | [Contents](Index.ipynb) | [Transaction History](07.00 Transaction History.ipynb) >\n"
   ]
  },
  {
   "cell_type": "markdown",
   "metadata": {},
   "source": [
    "# Position Management"
   ]
  },
  {
   "cell_type": "markdown",
   "metadata": {},
   "source": [
    "[OANDA REST-V20 API Wrapper Doc on Position](http://oanda-api-v20.readthedocs.io/en/latest/endpoints/positions.html)\n",
    "\n",
    "[OANDA API Getting Started](http://developer.oanda.com/rest-live-v20/introduction/)\n",
    "\n",
    "[OANDA DOC on Position](http://developer.oanda.com/rest-live-v20/positions-ep/)"
   ]
  },
  {
   "cell_type": "code",
   "execution_count": 1,
   "metadata": {
    "collapsed": true
   },
   "outputs": [],
   "source": [
    "import pandas as pd\n",
    "import oandapyV20\n",
    "import oandapyV20.endpoints.positions as positions\n",
    "import configparser"
   ]
  },
  {
   "cell_type": "code",
   "execution_count": 2,
   "metadata": {
    "collapsed": true
   },
   "outputs": [],
   "source": [
    "config = configparser.ConfigParser()\n",
    "config.read('../config/config_v20.ini')\n",
    "accountID = config['oanda']['account_id']\n",
    "access_token = config['oanda']['api_key']"
   ]
  },
  {
   "cell_type": "code",
   "execution_count": 3,
   "metadata": {
    "collapsed": true
   },
   "outputs": [],
   "source": [
    "client = oandapyV20.API(access_token=access_token)"
   ]
  },
  {
   "cell_type": "markdown",
   "metadata": {},
   "source": [
    "## List all Positions for an Account. "
   ]
  },
  {
   "cell_type": "code",
   "execution_count": 4,
   "metadata": {
    "collapsed": false
   },
   "outputs": [],
   "source": [
    "r = positions.PositionList(accountID=accountID)"
   ]
  },
  {
   "cell_type": "code",
   "execution_count": 5,
   "metadata": {
    "collapsed": false,
    "scrolled": false
   },
   "outputs": [
    {
     "data": {
      "text/plain": [
       "{'lastTransactionID': '77',\n",
       " 'positions': [{'instrument': 'NZD_USD',\n",
       "   'long': {'pl': '1.6491',\n",
       "    'resettablePL': '1.6491',\n",
       "    'units': '0',\n",
       "    'unrealizedPL': '0.0000'},\n",
       "   'pl': '1.6491',\n",
       "   'resettablePL': '1.6491',\n",
       "   'short': {'pl': '0.0000',\n",
       "    'resettablePL': '0.0000',\n",
       "    'units': '0',\n",
       "    'unrealizedPL': '0.0000'},\n",
       "   'unrealizedPL': '0.0000'},\n",
       "  {'instrument': 'AUD_USD',\n",
       "   'long': {'averagePrice': '0.75481',\n",
       "    'pl': '0.0000',\n",
       "    'resettablePL': '0.0000',\n",
       "    'tradeIDs': ['31', '33'],\n",
       "    'units': '200',\n",
       "    'unrealizedPL': '0.2706'},\n",
       "   'pl': '0.0000',\n",
       "   'resettablePL': '0.0000',\n",
       "   'short': {'pl': '0.0000',\n",
       "    'resettablePL': '0.0000',\n",
       "    'units': '0',\n",
       "    'unrealizedPL': '0.0000'},\n",
       "   'unrealizedPL': '0.2706'},\n",
       "  {'instrument': 'GBP_USD',\n",
       "   'long': {'averagePrice': '1.25892',\n",
       "    'pl': '0.2866',\n",
       "    'resettablePL': '0.2866',\n",
       "    'tradeIDs': ['74'],\n",
       "    'units': '100',\n",
       "    'unrealizedPL': '0.0555'},\n",
       "   'pl': '0.2866',\n",
       "   'resettablePL': '0.2866',\n",
       "   'short': {'pl': '0.0000',\n",
       "    'resettablePL': '0.0000',\n",
       "    'units': '0',\n",
       "    'unrealizedPL': '0.0000'},\n",
       "   'unrealizedPL': '0.0555'},\n",
       "  {'instrument': 'EUR_USD',\n",
       "   'long': {'pl': '-0.0086',\n",
       "    'resettablePL': '-0.0086',\n",
       "    'units': '0',\n",
       "    'unrealizedPL': '0.0000'},\n",
       "   'pl': '-0.0086',\n",
       "   'resettablePL': '-0.0086',\n",
       "   'short': {'pl': '0.0000',\n",
       "    'resettablePL': '0.0000',\n",
       "    'units': '0',\n",
       "    'unrealizedPL': '0.0000'},\n",
       "   'unrealizedPL': '0.0000'}]}"
      ]
     },
     "execution_count": 5,
     "metadata": {},
     "output_type": "execute_result"
    }
   ],
   "source": [
    "client.request(r)"
   ]
  },
  {
   "cell_type": "code",
   "execution_count": 6,
   "metadata": {
    "collapsed": false
   },
   "outputs": [
    {
     "name": "stdout",
     "output_type": "stream",
     "text": [
      "{'lastTransactionID': '77', 'positions': [{'resettablePL': '1.6491', 'instrument': 'NZD_USD', 'unrealizedPL': '0.0000', 'long': {'unrealizedPL': '0.0000', 'units': '0', 'pl': '1.6491', 'resettablePL': '1.6491'}, 'short': {'unrealizedPL': '0.0000', 'units': '0', 'pl': '0.0000', 'resettablePL': '0.0000'}, 'pl': '1.6491'}, {'resettablePL': '0.0000', 'instrument': 'AUD_USD', 'unrealizedPL': '0.2706', 'long': {'averagePrice': '0.75481', 'units': '200', 'pl': '0.0000', 'unrealizedPL': '0.2706', 'tradeIDs': ['31', '33'], 'resettablePL': '0.0000'}, 'short': {'unrealizedPL': '0.0000', 'units': '0', 'pl': '0.0000', 'resettablePL': '0.0000'}, 'pl': '0.0000'}, {'resettablePL': '0.2866', 'instrument': 'GBP_USD', 'unrealizedPL': '0.0555', 'long': {'averagePrice': '1.25892', 'units': '100', 'pl': '0.2866', 'unrealizedPL': '0.0555', 'tradeIDs': ['74'], 'resettablePL': '0.2866'}, 'short': {'unrealizedPL': '0.0000', 'units': '0', 'pl': '0.0000', 'resettablePL': '0.0000'}, 'pl': '0.2866'}, {'resettablePL': '-0.0086', 'instrument': 'EUR_USD', 'unrealizedPL': '0.0000', 'long': {'unrealizedPL': '0.0000', 'units': '0', 'pl': '-0.0086', 'resettablePL': '-0.0086'}, 'short': {'unrealizedPL': '0.0000', 'units': '0', 'pl': '0.0000', 'resettablePL': '0.0000'}, 'pl': '-0.0086'}]}\n"
     ]
    }
   ],
   "source": [
    "print(r.response)"
   ]
  },
  {
   "cell_type": "markdown",
   "metadata": {},
   "source": [
    "## List all open Positions for an Account."
   ]
  },
  {
   "cell_type": "code",
   "execution_count": 7,
   "metadata": {
    "collapsed": true
   },
   "outputs": [],
   "source": [
    "r = positions.OpenPositions(accountID=accountID)"
   ]
  },
  {
   "cell_type": "code",
   "execution_count": 8,
   "metadata": {
    "collapsed": false
   },
   "outputs": [
    {
     "data": {
      "text/plain": [
       "{'lastTransactionID': '77',\n",
       " 'positions': [{'instrument': 'AUD_USD',\n",
       "   'long': {'averagePrice': '0.75481',\n",
       "    'pl': '0.0000',\n",
       "    'resettablePL': '0.0000',\n",
       "    'tradeIDs': ['31', '33'],\n",
       "    'units': '200',\n",
       "    'unrealizedPL': '0.2706'},\n",
       "   'pl': '0.0000',\n",
       "   'resettablePL': '0.0000',\n",
       "   'short': {'pl': '0.0000',\n",
       "    'resettablePL': '0.0000',\n",
       "    'units': '0',\n",
       "    'unrealizedPL': '0.0000'},\n",
       "   'unrealizedPL': '0.2706'},\n",
       "  {'instrument': 'GBP_USD',\n",
       "   'long': {'averagePrice': '1.25892',\n",
       "    'pl': '0.2866',\n",
       "    'resettablePL': '0.2866',\n",
       "    'tradeIDs': ['74'],\n",
       "    'units': '100',\n",
       "    'unrealizedPL': '0.0555'},\n",
       "   'pl': '0.2866',\n",
       "   'resettablePL': '0.2866',\n",
       "   'short': {'pl': '0.0000',\n",
       "    'resettablePL': '0.0000',\n",
       "    'units': '0',\n",
       "    'unrealizedPL': '0.0000'},\n",
       "   'unrealizedPL': '0.0555'}]}"
      ]
     },
     "execution_count": 8,
     "metadata": {},
     "output_type": "execute_result"
    }
   ],
   "source": [
    "client.request(r)"
   ]
  },
  {
   "cell_type": "markdown",
   "metadata": {},
   "source": [
    "## Get the details of a single instrument’s position in an Account"
   ]
  },
  {
   "cell_type": "code",
   "execution_count": 9,
   "metadata": {
    "collapsed": true
   },
   "outputs": [],
   "source": [
    "instrument = \"AUD_USD\""
   ]
  },
  {
   "cell_type": "code",
   "execution_count": 10,
   "metadata": {
    "collapsed": false
   },
   "outputs": [],
   "source": [
    "r = positions.PositionDetails(accountID=accountID, instrument=instrument)"
   ]
  },
  {
   "cell_type": "code",
   "execution_count": 11,
   "metadata": {
    "collapsed": false
   },
   "outputs": [
    {
     "data": {
      "text/plain": [
       "{'lastTransactionID': '77',\n",
       " 'position': {'instrument': 'AUD_USD',\n",
       "  'long': {'averagePrice': '0.75481',\n",
       "   'pl': '0.0000',\n",
       "   'resettablePL': '0.0000',\n",
       "   'tradeIDs': ['31', '33'],\n",
       "   'units': '200',\n",
       "   'unrealizedPL': '0.2706'},\n",
       "  'pl': '0.0000',\n",
       "  'resettablePL': '0.0000',\n",
       "  'short': {'pl': '0.0000',\n",
       "   'resettablePL': '0.0000',\n",
       "   'units': '0',\n",
       "   'unrealizedPL': '0.0000'},\n",
       "  'unrealizedPL': '0.2706'}}"
      ]
     },
     "execution_count": 11,
     "metadata": {},
     "output_type": "execute_result"
    }
   ],
   "source": [
    "client.request(r)"
   ]
  },
  {
   "cell_type": "markdown",
   "metadata": {},
   "source": [
    "## Closeout the open Position regarding instrument in an Account."
   ]
  },
  {
   "cell_type": "code",
   "execution_count": 12,
   "metadata": {
    "collapsed": true
   },
   "outputs": [],
   "source": [
    "data = {\n",
    "  \"longUnits\": \"ALL\"\n",
    "}"
   ]
  },
  {
   "cell_type": "code",
   "execution_count": 13,
   "metadata": {
    "collapsed": true
   },
   "outputs": [],
   "source": [
    "r = positions.PositionClose(accountID=accountID,\n",
    "                            instrument=instrument,\n",
    "                            data=data)"
   ]
  },
  {
   "cell_type": "code",
   "execution_count": 14,
   "metadata": {
    "collapsed": false
   },
   "outputs": [
    {
     "data": {
      "text/plain": [
       "{'lastTransactionID': '79',\n",
       " 'longOrderCreateTransaction': {'accountID': '101-003-5120068-001',\n",
       "  'batchID': '78',\n",
       "  'id': '78',\n",
       "  'instrument': 'AUD_USD',\n",
       "  'longPositionCloseout': {'instrument': 'AUD_USD', 'units': 'ALL'},\n",
       "  'positionFill': 'REDUCE_ONLY',\n",
       "  'reason': 'POSITION_CLOSEOUT',\n",
       "  'time': '2017-01-30T01:58:38.167265656Z',\n",
       "  'timeInForce': 'FOK',\n",
       "  'type': 'MARKET_ORDER',\n",
       "  'units': '-200',\n",
       "  'userID': 5120068},\n",
       " 'longOrderFillTransaction': {'accountBalance': '100002.2293',\n",
       "  'accountID': '101-003-5120068-001',\n",
       "  'batchID': '78',\n",
       "  'financing': '0.0004',\n",
       "  'id': '79',\n",
       "  'instrument': 'AUD_USD',\n",
       "  'orderID': '78',\n",
       "  'pl': '0.2706',\n",
       "  'price': '0.75576',\n",
       "  'reason': 'MARKET_ORDER_POSITION_CLOSEOUT',\n",
       "  'time': '2017-01-30T01:58:38.167265656Z',\n",
       "  'tradesClosed': [{'financing': '0.0002',\n",
       "    'realizedPL': '0.1239',\n",
       "    'tradeID': '31',\n",
       "    'units': '-100'},\n",
       "   {'financing': '0.0002',\n",
       "    'realizedPL': '0.1467',\n",
       "    'tradeID': '33',\n",
       "    'units': '-100'}],\n",
       "  'type': 'ORDER_FILL',\n",
       "  'units': '-200',\n",
       "  'userID': 5120068},\n",
       " 'relatedTransactionIDs': ['78', '79']}"
      ]
     },
     "execution_count": 14,
     "metadata": {},
     "output_type": "execute_result"
    }
   ],
   "source": [
    "client.request(r)"
   ]
  },
  {
   "cell_type": "markdown",
   "metadata": {},
   "source": [
    "<!--NAVIGATION-->\n",
    "< [Trade Management](05.00 Trade Management.ipynb) | [Contents](Index.ipynb) | [Transaction History](07.00 Transaction History.ipynb) >\n"
   ]
  }
 ],
 "metadata": {
  "anaconda-cloud": {},
  "kernelspec": {
   "display_name": "Python [conda root]",
   "language": "python",
   "name": "conda-root-py"
  },
  "language_info": {
   "codemirror_mode": {
    "name": "ipython",
    "version": 3
   },
   "file_extension": ".py",
   "mimetype": "text/x-python",
   "name": "python",
   "nbconvert_exporter": "python",
   "pygments_lexer": "ipython3",
   "version": "3.5.2"
  }
 },
 "nbformat": 4,
 "nbformat_minor": 0
}
