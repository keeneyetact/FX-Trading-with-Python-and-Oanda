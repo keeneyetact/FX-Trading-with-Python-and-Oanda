{
 "cells": [
  {
   "cell_type": "markdown",
   "metadata": {},
   "source": [
    "# Streaming Price with Oanda V20 API\n",
    "\n",
    "[Oanda API V20 Streaming](https://github.com/hootnot/oanda-api-v20#streaming-endpoints)\n",
    "\n",
    "[Oanda Streaming Documentation](http://developer.oanda.com/rest-live-v20/pricing-ep/)\n"
   ]
  },
  {
   "cell_type": "code",
   "execution_count": 1,
   "metadata": {
    "collapsed": true
   },
   "outputs": [],
   "source": [
    "import json\n",
    "from oandapyV20 import API\n",
    "from oandapyV20.exceptions import V20Error\n",
    "from oandapyV20.endpoints.pricing import PricingStream"
   ]
  },
  {
   "cell_type": "code",
   "execution_count": 2,
   "metadata": {
    "collapsed": true
   },
   "outputs": [],
   "source": [
    "accountID = \"101-003-5120068-001\"\n",
    "access_token=\"f4c2019ce22b77be4ee829a282a06321-0f36fdb9330353ec0e4a1ac637253b87\""
   ]
  },
  {
   "cell_type": "code",
   "execution_count": 3,
   "metadata": {
    "collapsed": true
   },
   "outputs": [],
   "source": [
    "api = API(access_token=access_token, environment=\"practice\")"
   ]
  },
  {
   "cell_type": "code",
   "execution_count": 4,
   "metadata": {
    "collapsed": true
   },
   "outputs": [],
   "source": [
    "instruments = \"EUR_USD\""
   ]
  },
  {
   "cell_type": "code",
   "execution_count": 5,
   "metadata": {
    "collapsed": true
   },
   "outputs": [],
   "source": [
    "s = PricingStream(accountID=accountID, params={\"instruments\":instruments})"
   ]
  },
  {
   "cell_type": "code",
   "execution_count": 6,
   "metadata": {
    "scrolled": false
   },
   "outputs": [
    {
     "name": "stdout",
     "output_type": "stream",
     "text": [
      "{\n",
      "  \"type\": \"PRICE\",\n",
      "  \"closeoutBid\": \"1.18271\",\n",
      "  \"status\": \"tradeable\",\n",
      "  \"instrument\": \"EUR_USD\",\n",
      "  \"tradeable\": true,\n",
      "  \"time\": \"2017-08-14T03:14:25.300845871Z\",\n",
      "  \"closeoutAsk\": \"1.18313\",\n",
      "  \"asks\": [\n",
      "    {\n",
      "      \"liquidity\": 10000000,\n",
      "      \"price\": \"1.18298\"\n",
      "    }\n",
      "  ],\n",
      "  \"bids\": [\n",
      "    {\n",
      "      \"liquidity\": 10000000,\n",
      "      \"price\": \"1.18286\"\n",
      "    }\n",
      "  ]\n",
      "}\n",
      "{\n",
      "  \"type\": \"HEARTBEAT\",\n",
      "  \"time\": \"2017-08-14T03:14:42.626381576Z\"\n",
      "}\n",
      "{\n",
      "  \"type\": \"HEARTBEAT\",\n",
      "  \"time\": \"2017-08-14T03:14:47.658447687Z\"\n",
      "}\n",
      "{\n",
      "  \"type\": \"HEARTBEAT\",\n",
      "  \"time\": \"2017-08-14T03:14:52.696389795Z\"\n",
      "}\n",
      "{\n",
      "  \"type\": \"HEARTBEAT\",\n",
      "  \"time\": \"2017-08-14T03:14:57.728078948Z\"\n",
      "}\n",
      "{\n",
      "  \"type\": \"PRICE\",\n",
      "  \"closeoutBid\": \"1.18271\",\n",
      "  \"status\": \"tradeable\",\n",
      "  \"instrument\": \"EUR_USD\",\n",
      "  \"tradeable\": true,\n",
      "  \"time\": \"2017-08-14T03:15:00.715775443Z\",\n",
      "  \"closeoutAsk\": \"1.18314\",\n",
      "  \"asks\": [\n",
      "    {\n",
      "      \"liquidity\": 10000000,\n",
      "      \"price\": \"1.18299\"\n",
      "    }\n",
      "  ],\n",
      "  \"bids\": [\n",
      "    {\n",
      "      \"liquidity\": 10000000,\n",
      "      \"price\": \"1.18286\"\n",
      "    }\n",
      "  ]\n",
      "}\n",
      "done\n"
     ]
    }
   ],
   "source": [
    "try:\n",
    "    n = 0\n",
    "    for R in api.request(s):\n",
    "        print(json.dumps(R, indent=2))\n",
    "        n += 1\n",
    "        if n > 5:\n",
    "            print(\"done\")\n",
    "            break\n",
    "\n",
    "except V20Error as e:\n",
    "    print(\"Error: {}\".format(e))"
   ]
  },
  {
   "cell_type": "markdown",
   "metadata": {},
   "source": [
    "***"
   ]
  }
 ],
 "metadata": {
  "kernelspec": {
   "display_name": "Python [default]",
   "language": "python",
   "name": "python3"
  },
  "language_info": {
   "codemirror_mode": {
    "name": "ipython",
    "version": 3
   },
   "file_extension": ".py",
   "mimetype": "text/x-python",
   "name": "python",
   "nbconvert_exporter": "python",
   "pygments_lexer": "ipython3",
   "version": "3.5.3"
  }
 },
 "nbformat": 4,
 "nbformat_minor": 2
}
