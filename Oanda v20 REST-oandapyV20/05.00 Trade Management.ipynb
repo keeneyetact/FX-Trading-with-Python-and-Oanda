{
 "cells": [
  {
   "cell_type": "markdown",
   "metadata": {},
   "source": [
    "<!--NAVIGATION-->\n",
    "< [Order Management](04.00 Order Management.ipynb) | [Contents](Index.ipynb) | [Position Management](06.00 Position Management.ipynb) >"
   ]
  },
  {
   "cell_type": "markdown",
   "metadata": {},
   "source": [
    "# Trade Management"
   ]
  },
  {
   "cell_type": "markdown",
   "metadata": {},
   "source": [
    "[OANDA REST-V20 API Wrapper Doc on Trade](http://oanda-api-v20.readthedocs.io/en/latest/endpoints/trades/opentrades.html)\n",
    "\n",
    "[OANDA API Getting Started](http://developer.oanda.com/rest-live-v20/introduction/)\n",
    "\n",
    "[OANDA API Trade](http://developer.oanda.com/rest-live-v20/trades-ep/)"
   ]
  },
  {
   "cell_type": "code",
   "execution_count": 1,
   "metadata": {
    "collapsed": true
   },
   "outputs": [],
   "source": [
    "import pandas as pd\n",
    "import oandapyV20\n",
    "import oandapyV20.endpoints.trades as trades \n",
    "import configparser"
   ]
  },
  {
   "cell_type": "code",
   "execution_count": 2,
   "metadata": {
    "collapsed": false
   },
   "outputs": [],
   "source": [
    "config = configparser.ConfigParser()\n",
    "config.read('../config/config_v20.ini')\n",
    "accountID = config['oanda']['account_id']\n",
    "access_token = config['oanda']['api_key']"
   ]
  },
  {
   "cell_type": "markdown",
   "metadata": {},
   "source": [
    "## Get a list of trades for an Account."
   ]
  },
  {
   "cell_type": "code",
   "execution_count": 3,
   "metadata": {
    "collapsed": true
   },
   "outputs": [],
   "source": [
    "client = oandapyV20.API(access_token=access_token)"
   ]
  },
  {
   "cell_type": "code",
   "execution_count": 4,
   "metadata": {
    "collapsed": false
   },
   "outputs": [],
   "source": [
    "params ={\n",
    "          \"instrument\": \"DE30_EUR,EUR_USD\"\n",
    "        }"
   ]
  },
  {
   "cell_type": "code",
   "execution_count": 5,
   "metadata": {
    "collapsed": true
   },
   "outputs": [],
   "source": [
    "r = trades.TradesList(accountID=accountID, params=params)"
   ]
  },
  {
   "cell_type": "code",
   "execution_count": 6,
   "metadata": {
    "collapsed": false
   },
   "outputs": [
    {
     "data": {
      "text/plain": [
       "{'lastTransactionID': '63',\n",
       " 'trades': [{'currentUnits': '100',\n",
       "   'financing': '0.0090',\n",
       "   'id': '35',\n",
       "   'initialUnits': '100',\n",
       "   'instrument': 'NZD_USD',\n",
       "   'openTime': '2017-01-20T15:59:08.362429413Z',\n",
       "   'price': '0.71532',\n",
       "   'realizedPL': '0.0000',\n",
       "   'state': 'OPEN',\n",
       "   'unrealizedPL': '1.4736'},\n",
       "  {'currentUnits': '100',\n",
       "   'financing': '0.0078',\n",
       "   'id': '33',\n",
       "   'initialUnits': '100',\n",
       "   'instrument': 'AUD_USD',\n",
       "   'openTime': '2017-01-20T15:58:58.618457963Z',\n",
       "   'price': '0.75473',\n",
       "   'realizedPL': '0.0000',\n",
       "   'state': 'OPEN',\n",
       "   'unrealizedPL': '-0.0458'},\n",
       "  {'currentUnits': '100',\n",
       "   'financing': '0.0078',\n",
       "   'id': '31',\n",
       "   'initialUnits': '100',\n",
       "   'instrument': 'AUD_USD',\n",
       "   'openTime': '2017-01-20T15:58:23.903964257Z',\n",
       "   'price': '0.75489',\n",
       "   'realizedPL': '0.0000',\n",
       "   'state': 'OPEN',\n",
       "   'unrealizedPL': '-0.0688'}]}"
      ]
     },
     "execution_count": 6,
     "metadata": {},
     "output_type": "execute_result"
    }
   ],
   "source": [
    "client.request(r)"
   ]
  },
  {
   "cell_type": "code",
   "execution_count": 7,
   "metadata": {
    "collapsed": false
   },
   "outputs": [
    {
     "name": "stdout",
     "output_type": "stream",
     "text": [
      "{'lastTransactionID': '63', 'trades': [{'state': 'OPEN', 'currentUnits': '100', 'realizedPL': '0.0000', 'price': '0.71532', 'openTime': '2017-01-20T15:59:08.362429413Z', 'unrealizedPL': '1.4736', 'initialUnits': '100', 'instrument': 'NZD_USD', 'id': '35', 'financing': '0.0090'}, {'state': 'OPEN', 'currentUnits': '100', 'realizedPL': '0.0000', 'price': '0.75473', 'openTime': '2017-01-20T15:58:58.618457963Z', 'unrealizedPL': '-0.0458', 'initialUnits': '100', 'instrument': 'AUD_USD', 'id': '33', 'financing': '0.0078'}, {'state': 'OPEN', 'currentUnits': '100', 'realizedPL': '0.0000', 'price': '0.75489', 'openTime': '2017-01-20T15:58:23.903964257Z', 'unrealizedPL': '-0.0688', 'initialUnits': '100', 'instrument': 'AUD_USD', 'id': '31', 'financing': '0.0078'}]}\n"
     ]
    }
   ],
   "source": [
    "print(r.response)"
   ]
  },
  {
   "cell_type": "markdown",
   "metadata": {},
   "source": [
    "## Get the list of open Trades for an Account."
   ]
  },
  {
   "cell_type": "code",
   "execution_count": 8,
   "metadata": {
    "collapsed": true
   },
   "outputs": [],
   "source": [
    "r = trades.OpenTrades(accountID)"
   ]
  },
  {
   "cell_type": "code",
   "execution_count": 9,
   "metadata": {
    "collapsed": false
   },
   "outputs": [
    {
     "data": {
      "text/plain": [
       "{'lastTransactionID': '63',\n",
       " 'trades': [{'currentUnits': '100',\n",
       "   'financing': '0.0090',\n",
       "   'id': '35',\n",
       "   'initialUnits': '100',\n",
       "   'instrument': 'NZD_USD',\n",
       "   'openTime': '2017-01-20T15:59:08.362429413Z',\n",
       "   'price': '0.71532',\n",
       "   'realizedPL': '0.0000',\n",
       "   'state': 'OPEN',\n",
       "   'unrealizedPL': '1.4736'},\n",
       "  {'currentUnits': '100',\n",
       "   'financing': '0.0078',\n",
       "   'id': '33',\n",
       "   'initialUnits': '100',\n",
       "   'instrument': 'AUD_USD',\n",
       "   'openTime': '2017-01-20T15:58:58.618457963Z',\n",
       "   'price': '0.75473',\n",
       "   'realizedPL': '0.0000',\n",
       "   'state': 'OPEN',\n",
       "   'unrealizedPL': '-0.0458'},\n",
       "  {'currentUnits': '100',\n",
       "   'financing': '0.0078',\n",
       "   'id': '31',\n",
       "   'initialUnits': '100',\n",
       "   'instrument': 'AUD_USD',\n",
       "   'openTime': '2017-01-20T15:58:23.903964257Z',\n",
       "   'price': '0.75489',\n",
       "   'realizedPL': '0.0000',\n",
       "   'state': 'OPEN',\n",
       "   'unrealizedPL': '-0.0688'}]}"
      ]
     },
     "execution_count": 9,
     "metadata": {},
     "output_type": "execute_result"
    }
   ],
   "source": [
    "client.request(r)"
   ]
  },
  {
   "cell_type": "code",
   "execution_count": 10,
   "metadata": {
    "collapsed": false
   },
   "outputs": [
    {
     "data": {
      "text/plain": [
       "{'lastTransactionID': '63',\n",
       " 'trades': [{'currentUnits': '100',\n",
       "   'financing': '0.0090',\n",
       "   'id': '35',\n",
       "   'initialUnits': '100',\n",
       "   'instrument': 'NZD_USD',\n",
       "   'openTime': '2017-01-20T15:59:08.362429413Z',\n",
       "   'price': '0.71532',\n",
       "   'realizedPL': '0.0000',\n",
       "   'state': 'OPEN',\n",
       "   'unrealizedPL': '1.4736'},\n",
       "  {'currentUnits': '100',\n",
       "   'financing': '0.0078',\n",
       "   'id': '33',\n",
       "   'initialUnits': '100',\n",
       "   'instrument': 'AUD_USD',\n",
       "   'openTime': '2017-01-20T15:58:58.618457963Z',\n",
       "   'price': '0.75473',\n",
       "   'realizedPL': '0.0000',\n",
       "   'state': 'OPEN',\n",
       "   'unrealizedPL': '-0.0458'},\n",
       "  {'currentUnits': '100',\n",
       "   'financing': '0.0078',\n",
       "   'id': '31',\n",
       "   'initialUnits': '100',\n",
       "   'instrument': 'AUD_USD',\n",
       "   'openTime': '2017-01-20T15:58:23.903964257Z',\n",
       "   'price': '0.75489',\n",
       "   'realizedPL': '0.0000',\n",
       "   'state': 'OPEN',\n",
       "   'unrealizedPL': '-0.0688'}]}"
      ]
     },
     "execution_count": 10,
     "metadata": {},
     "output_type": "execute_result"
    }
   ],
   "source": [
    "r.response"
   ]
  },
  {
   "cell_type": "code",
   "execution_count": 11,
   "metadata": {
    "collapsed": false
   },
   "outputs": [],
   "source": [
    "trade_id = r.response['trades'][0]['id']"
   ]
  },
  {
   "cell_type": "markdown",
   "metadata": {},
   "source": [
    "## Get the details of a specific Trade in an Account."
   ]
  },
  {
   "cell_type": "code",
   "execution_count": 12,
   "metadata": {
    "collapsed": false
   },
   "outputs": [],
   "source": [
    "r = trades.TradeDetails(accountID, tradeID=trade_id)"
   ]
  },
  {
   "cell_type": "code",
   "execution_count": 13,
   "metadata": {
    "collapsed": false
   },
   "outputs": [
    {
     "data": {
      "text/plain": [
       "{'lastTransactionID': '63',\n",
       " 'trade': {'currentUnits': '100',\n",
       "  'financing': '0.0090',\n",
       "  'id': '35',\n",
       "  'initialUnits': '100',\n",
       "  'instrument': 'NZD_USD',\n",
       "  'openTime': '2017-01-20T15:59:08.362429413Z',\n",
       "  'price': '0.71532',\n",
       "  'realizedPL': '0.0000',\n",
       "  'state': 'OPEN',\n",
       "  'unrealizedPL': '1.4736'}}"
      ]
     },
     "execution_count": 13,
     "metadata": {},
     "output_type": "execute_result"
    }
   ],
   "source": [
    "client.request(r)"
   ]
  },
  {
   "cell_type": "code",
   "execution_count": 14,
   "metadata": {
    "collapsed": false
   },
   "outputs": [
    {
     "name": "stdout",
     "output_type": "stream",
     "text": [
      "{'lastTransactionID': '63', 'trade': {'state': 'OPEN', 'currentUnits': '100', 'realizedPL': '0.0000', 'price': '0.71532', 'openTime': '2017-01-20T15:59:08.362429413Z', 'unrealizedPL': '1.4736', 'initialUnits': '100', 'instrument': 'NZD_USD', 'id': '35', 'financing': '0.0090'}}\n"
     ]
    }
   ],
   "source": [
    "print(r.response)"
   ]
  },
  {
   "cell_type": "markdown",
   "metadata": {},
   "source": [
    "## Close (partially or fully) a specific open Trade in an Account."
   ]
  },
  {
   "cell_type": "code",
   "execution_count": 15,
   "metadata": {
    "collapsed": false
   },
   "outputs": [],
   "source": [
    "data = {\n",
    "          \"units\": 100\n",
    "       }"
   ]
  },
  {
   "cell_type": "code",
   "execution_count": 16,
   "metadata": {
    "collapsed": false
   },
   "outputs": [],
   "source": [
    "r = trades.TradeClose(accountID, tradeID=trade_id)"
   ]
  },
  {
   "cell_type": "code",
   "execution_count": 17,
   "metadata": {
    "collapsed": false
   },
   "outputs": [
    {
     "data": {
      "text/plain": [
       "{'lastTransactionID': '65',\n",
       " 'orderCancelTransaction': {'accountID': '101-003-5120068-001',\n",
       "  'batchID': '64',\n",
       "  'id': '65',\n",
       "  'orderID': '64',\n",
       "  'reason': 'MARKET_HALTED',\n",
       "  'time': '2017-01-28T13:31:38.732264064Z',\n",
       "  'type': 'ORDER_CANCEL',\n",
       "  'userID': 5120068},\n",
       " 'orderCreateTransaction': {'accountID': '101-003-5120068-001',\n",
       "  'batchID': '64',\n",
       "  'id': '64',\n",
       "  'instrument': 'NZD_USD',\n",
       "  'positionFill': 'REDUCE_ONLY',\n",
       "  'reason': 'TRADE_CLOSE',\n",
       "  'time': '2017-01-28T13:31:38.732264064Z',\n",
       "  'timeInForce': 'FOK',\n",
       "  'tradeClose': {'tradeID': '35', 'units': 'ALL'},\n",
       "  'type': 'MARKET_ORDER',\n",
       "  'units': '-100',\n",
       "  'userID': 5120068},\n",
       " 'relatedTransactionIDs': ['64', '65']}"
      ]
     },
     "execution_count": 17,
     "metadata": {},
     "output_type": "execute_result"
    }
   ],
   "source": [
    "client.request(r)"
   ]
  },
  {
   "cell_type": "markdown",
   "metadata": {},
   "source": [
    "<!--NAVIGATION-->\n",
    "< [Order Management](04.00 Order Management.ipynb) | [Contents](Index.ipynb) | [Position Management](06.00 Position Management.ipynb) >"
   ]
  },
  {
   "cell_type": "markdown",
   "metadata": {},
   "source": []
  }
 ],
 "metadata": {
  "anaconda-cloud": {},
  "kernelspec": {
   "display_name": "Python [conda root]",
   "language": "python",
   "name": "conda-root-py"
  },
  "language_info": {
   "codemirror_mode": {
    "name": "ipython",
    "version": 3
   },
   "file_extension": ".py",
   "mimetype": "text/x-python",
   "name": "python",
   "nbconvert_exporter": "python",
   "pygments_lexer": "ipython3",
   "version": "3.5.2"
  }
 },
 "nbformat": 4,
 "nbformat_minor": 0
}
