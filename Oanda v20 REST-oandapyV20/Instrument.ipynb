{
 "cells": [
  {
   "cell_type": "markdown",
   "metadata": {},
   "source": [
    "# Instrument"
   ]
  },
  {
   "cell_type": "markdown",
   "metadata": {},
   "source": [
    "[OANDA REST-V20 API wrapper doc](http://oanda-api-v20.readthedocs.io/en/latest/endpoints/instruments.html)\n",
    "\n",
    "[OANDA DOC](http://developer.oanda.com/rest-live-v20/instrument-ep/)"
   ]
  },
  {
   "cell_type": "code",
   "execution_count": 1,
   "metadata": {
    "collapsed": true
   },
   "outputs": [],
   "source": [
    "import pandas as pd\n",
    "import oandapyV20\n",
    "import oandapyV20.endpoints.instruments as instruments\n",
    "import configparser"
   ]
  },
  {
   "cell_type": "code",
   "execution_count": 2,
   "metadata": {
    "collapsed": true
   },
   "outputs": [],
   "source": [
    "config = configparser.ConfigParser()\n",
    "config.read('config/config.ini')\n",
    "accountID = config['oanda']['account_id']\n",
    "access_token = config['oanda']['api_key']"
   ]
  },
  {
   "cell_type": "code",
   "execution_count": 3,
   "metadata": {
    "collapsed": false
   },
   "outputs": [],
   "source": [
    "client = oandapyV20.API(access_token=access_token)"
   ]
  },
  {
   "cell_type": "code",
   "execution_count": 4,
   "metadata": {
    "collapsed": true
   },
   "outputs": [],
   "source": [
    "params = {\n",
    "          \"count\": 5,\n",
    "          \"granularity\": \"M5\"}"
   ]
  },
  {
   "cell_type": "code",
   "execution_count": 5,
   "metadata": {
    "collapsed": true
   },
   "outputs": [],
   "source": [
    "r = instruments.InstrumentsCandles(instrument=\"DE30_EUR\",\n",
    "                                   params=params)"
   ]
  },
  {
   "cell_type": "code",
   "execution_count": 6,
   "metadata": {
    "collapsed": false
   },
   "outputs": [
    {
     "data": {
      "text/plain": [
       "{'candles': [{'complete': True,\n",
       "   'mid': {'c': '11627.5', 'h': '11631.3', 'l': '11625.0', 'o': '11626.8'},\n",
       "   'time': '2017-01-20T14:55:00.000000000Z',\n",
       "   'volume': 429},\n",
       "  {'complete': True,\n",
       "   'mid': {'c': '11629.5', 'h': '11636.0', 'l': '11625.0', 'o': '11627.3'},\n",
       "   'time': '2017-01-20T15:00:00.000000000Z',\n",
       "   'volume': 518},\n",
       "  {'complete': True,\n",
       "   'mid': {'c': '11625.5', 'h': '11630.5', 'l': '11624.0', 'o': '11629.8'},\n",
       "   'time': '2017-01-20T15:05:00.000000000Z',\n",
       "   'volume': 332},\n",
       "  {'complete': True,\n",
       "   'mid': {'c': '11621.0', 'h': '11629.3', 'l': '11619.8', 'o': '11625.3'},\n",
       "   'time': '2017-01-20T15:10:00.000000000Z',\n",
       "   'volume': 401},\n",
       "  {'complete': False,\n",
       "   'mid': {'c': '11622.5', 'h': '11624.3', 'l': '11619.3', 'o': '11621.1'},\n",
       "   'time': '2017-01-20T15:15:00.000000000Z',\n",
       "   'volume': 268}],\n",
       " 'granularity': 'M5',\n",
       " 'instrument': 'DE30_EUR'}"
      ]
     },
     "execution_count": 6,
     "metadata": {},
     "output_type": "execute_result"
    }
   ],
   "source": [
    "client.request(r)"
   ]
  },
  {
   "cell_type": "code",
   "execution_count": 7,
   "metadata": {
    "collapsed": false
   },
   "outputs": [
    {
     "name": "stdout",
     "output_type": "stream",
     "text": [
      "{'instrument': 'DE30_EUR', 'granularity': 'M5', 'candles': [{'time': '2017-01-20T14:55:00.000000000Z', 'mid': {'h': '11631.3', 'l': '11625.0', 'c': '11627.5', 'o': '11626.8'}, 'volume': 429, 'complete': True}, {'time': '2017-01-20T15:00:00.000000000Z', 'mid': {'h': '11636.0', 'l': '11625.0', 'c': '11629.5', 'o': '11627.3'}, 'volume': 518, 'complete': True}, {'time': '2017-01-20T15:05:00.000000000Z', 'mid': {'h': '11630.5', 'l': '11624.0', 'c': '11625.5', 'o': '11629.8'}, 'volume': 332, 'complete': True}, {'time': '2017-01-20T15:10:00.000000000Z', 'mid': {'h': '11629.3', 'l': '11619.8', 'c': '11621.0', 'o': '11625.3'}, 'volume': 401, 'complete': True}, {'time': '2017-01-20T15:15:00.000000000Z', 'mid': {'h': '11624.3', 'l': '11619.3', 'c': '11622.5', 'o': '11621.1'}, 'volume': 268, 'complete': False}]}\n"
     ]
    }
   ],
   "source": [
    "print(r.response)"
   ]
  },
  {
   "cell_type": "code",
   "execution_count": 8,
   "metadata": {
    "collapsed": false
   },
   "outputs": [
    {
     "data": {
      "text/plain": [
       "[{'complete': True,\n",
       "  'mid': {'c': '11627.5', 'h': '11631.3', 'l': '11625.0', 'o': '11626.8'},\n",
       "  'time': '2017-01-20T14:55:00.000000000Z',\n",
       "  'volume': 429},\n",
       " {'complete': True,\n",
       "  'mid': {'c': '11629.5', 'h': '11636.0', 'l': '11625.0', 'o': '11627.3'},\n",
       "  'time': '2017-01-20T15:00:00.000000000Z',\n",
       "  'volume': 518},\n",
       " {'complete': True,\n",
       "  'mid': {'c': '11625.5', 'h': '11630.5', 'l': '11624.0', 'o': '11629.8'},\n",
       "  'time': '2017-01-20T15:05:00.000000000Z',\n",
       "  'volume': 332},\n",
       " {'complete': True,\n",
       "  'mid': {'c': '11621.0', 'h': '11629.3', 'l': '11619.8', 'o': '11625.3'},\n",
       "  'time': '2017-01-20T15:10:00.000000000Z',\n",
       "  'volume': 401},\n",
       " {'complete': False,\n",
       "  'mid': {'c': '11622.5', 'h': '11624.3', 'l': '11619.3', 'o': '11621.1'},\n",
       "  'time': '2017-01-20T15:15:00.000000000Z',\n",
       "  'volume': 268}]"
      ]
     },
     "execution_count": 8,
     "metadata": {},
     "output_type": "execute_result"
    }
   ],
   "source": [
    "r.response['candles']"
   ]
  }
 ],
 "metadata": {
  "anaconda-cloud": {},
  "kernelspec": {
   "display_name": "Python [Root]",
   "language": "python",
   "name": "Python [Root]"
  },
  "language_info": {
   "codemirror_mode": {
    "name": "ipython",
    "version": 3
   },
   "file_extension": ".py",
   "mimetype": "text/x-python",
   "name": "python",
   "nbconvert_exporter": "python",
   "pygments_lexer": "ipython3",
   "version": "3.5.2"
  }
 },
 "nbformat": 4,
 "nbformat_minor": 0
}
