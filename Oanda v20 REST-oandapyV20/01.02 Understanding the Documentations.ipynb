{
 "cells": [
  {
   "cell_type": "markdown",
   "metadata": {},
   "source": [
    "<!--NAVIGATION-->\n",
    "< [Setting Up](01.01 Setting Up.ipynb) | [Contents](Index.ipynb) | [Rates Information](02.00 Rates Information.ipynb) >"
   ]
  },
  {
   "cell_type": "markdown",
   "metadata": {},
   "source": [
    "# Understanding the Documentations"
   ]
  },
  {
   "cell_type": "markdown",
   "metadata": {},
   "source": [
    "In order to make use of the API effective, we need to understand the input parameters and the corresponding output. Good thing Oanda provides a comprehensive API guide as shown below. "
   ]
  },
  {
   "cell_type": "markdown",
   "metadata": {},
   "source": [
    "# Oanda\n",
    "The [Oanda API](http://developer.oanda.com/rest-live-v20/introduction/) guide is very comprehensive. Select **REST** amongst the options of REST-V20, REST, JAVA, FIX, and MT4.\n",
    "\n",
    "We are interested in particular the **Resouces** section."
   ]
  },
  {
   "cell_type": "markdown",
   "metadata": {},
   "source": [
    "<img src=\"../img/OANDA_APIv20.PNG\">"
   ]
  },
  {
   "cell_type": "markdown",
   "metadata": {},
   "source": [
    "# OandapyV20"
   ]
  },
  {
   "cell_type": "markdown",
   "metadata": {},
   "source": [
    "Follow this [oandapyV20](http://oanda-api-v20.readthedocs.io/en/latest/index.html#) to head to the github repository. There is a brief **README.md** guide that demonstrates how to use oandapy with the Oanda API. "
   ]
  },
  {
   "cell_type": "markdown",
   "metadata": {},
   "source": [
    "Let's do a simple walk through here to get started.\n",
    "\n",
    "We need to first import the oandapyv20 library.\n",
    "\n",
    "The oandapyV20 package contains a client class, oandapyV20.API, to communicate with the REST-V20 interface.  It processes requests that can be created from the endpoint classes. For it’s communication it relies on: requests (requests).\n",
    "\n",
    "The client keeps no state of a requests. The response of a request is assigned to the request instance. The response is also returned as a return value by the client."
   ]
  },
  {
   "cell_type": "code",
   "execution_count": 1,
   "metadata": {
    "collapsed": true
   },
   "outputs": [],
   "source": [
    "import oandapyV20\n",
    "from oandapyV20 import API\n",
    "import oandapyV20.endpoints.pricing as pricing"
   ]
  },
  {
   "cell_type": "markdown",
   "metadata": {},
   "source": [
    "We need to provide Python with the **accountID** and **access_token**. \n",
    "\n",
    "We will show in later lesson how we can segregate this from our main code body thus protecting our account."
   ]
  },
  {
   "cell_type": "code",
   "execution_count": 2,
   "metadata": {
    "collapsed": false
   },
   "outputs": [],
   "source": [
    "accountID = \"111-111-1111111-111\"\n",
    "access_token = \"11111111111111111111111111111111-11111111111111111111111111111111\""
   ]
  },
  {
   "cell_type": "markdown",
   "metadata": {},
   "source": [
    "Below is an extract from the [oandapyv20 documentation](http://oanda-api-v20.readthedocs.io/en/latest/endpoints/pricing/pricinginfo.html). Note that you only need to provide **accountID** and **params**.\n",
    "\n"
   ]
  },
  {
   "cell_type": "markdown",
   "metadata": {},
   "source": [
    "<img src=\"../img/v20_pricing_info.PNG\">"
   ]
  },
  {
   "cell_type": "markdown",
   "metadata": {},
   "source": [
    "The corresponding Oanda API for pricing information:\n",
    "\n",
    "<img src=\"../img/OANDA_APIv20_pricing_endpoints.PNG\">\n"
   ]
  },
  {
   "cell_type": "markdown",
   "metadata": {},
   "source": [
    "We then instantiate as the next step shows. You can use other variable name aside from `api`."
   ]
  },
  {
   "cell_type": "code",
   "execution_count": 3,
   "metadata": {
    "collapsed": true
   },
   "outputs": [],
   "source": [
    "api = API(access_token)                                     # step 1"
   ]
  },
  {
   "cell_type": "code",
   "execution_count": 4,
   "metadata": {
    "collapsed": true
   },
   "outputs": [],
   "source": [
    "params ={\"instruments\": \"EUR_USD\"}                          # step 2"
   ]
  },
  {
   "cell_type": "code",
   "execution_count": 5,
   "metadata": {
    "collapsed": false
   },
   "outputs": [],
   "source": [
    "r = pricing.PricingInfo(accountID=accountID, params=params) # step 3"
   ]
  },
  {
   "cell_type": "code",
   "execution_count": 6,
   "metadata": {
    "collapsed": false
   },
   "outputs": [],
   "source": [
    "api.request(r);                                             # step 4"
   ]
  },
  {
   "cell_type": "markdown",
   "metadata": {},
   "source": [
    "**Note the steps above:**\n",
    "\n",
    "1. Create an instance by invoking `API(..)`\n",
    "2. provide the needed parameters and store it in a variable. In our example, we use `params`\n",
    "3. Store the instance into a variable\n",
    "4. Submit the `requests` with the instance as the input parameter. The value will be returned to the input parameter. In our example, we use `r`\n"
   ]
  },
  {
   "cell_type": "code",
   "execution_count": 7,
   "metadata": {
    "collapsed": false
   },
   "outputs": [
    {
     "name": "stdout",
     "output_type": "stream",
     "text": [
      "{'prices': [{'unitsAvailable': {'reduceOnly': {'long': '0', 'short': '0'}, 'default': {'long': '3291797', 'short': '3292777'}, 'openOnly': {'long': '3291797', 'short': '3292777'}, 'reduceFirst': {'long': '3291797', 'short': '3292777'}}, 'quoteHomeConversionFactors': {'positiveUnits': '1.41926000', 'negativeUnits': '1.41951000'}, 'status': 'tradeable', 'bids': [{'price': '1.06988', 'liquidity': 10000000.0}, {'price': '1.06986', 'liquidity': 10000000.0}], 'type': 'PRICE', 'instrument': 'EUR_USD', 'asks': [{'price': '1.07001', 'liquidity': 10000000.0}, {'price': '1.07003', 'liquidity': 10000000.0}], 'time': '2017-01-31T05:52:14.887535357Z', 'closeoutAsk': '1.07005', 'closeoutBid': '1.06984', 'tradeable': True}]}\n"
     ]
    }
   ],
   "source": [
    "print(r.response)"
   ]
  },
  {
   "cell_type": "code",
   "execution_count": 8,
   "metadata": {
    "collapsed": false
   },
   "outputs": [
    {
     "data": {
      "text/plain": [
       "[{'asks': [{'liquidity': 10000000.0, 'price': '1.07001'},\n",
       "   {'liquidity': 10000000.0, 'price': '1.07003'}],\n",
       "  'bids': [{'liquidity': 10000000.0, 'price': '1.06988'},\n",
       "   {'liquidity': 10000000.0, 'price': '1.06986'}],\n",
       "  'closeoutAsk': '1.07005',\n",
       "  'closeoutBid': '1.06984',\n",
       "  'instrument': 'EUR_USD',\n",
       "  'quoteHomeConversionFactors': {'negativeUnits': '1.41951000',\n",
       "   'positiveUnits': '1.41926000'},\n",
       "  'status': 'tradeable',\n",
       "  'time': '2017-01-31T05:52:14.887535357Z',\n",
       "  'tradeable': True,\n",
       "  'type': 'PRICE',\n",
       "  'unitsAvailable': {'default': {'long': '3291797', 'short': '3292777'},\n",
       "   'openOnly': {'long': '3291797', 'short': '3292777'},\n",
       "   'reduceFirst': {'long': '3291797', 'short': '3292777'},\n",
       "   'reduceOnly': {'long': '0', 'short': '0'}}}]"
      ]
     },
     "execution_count": 8,
     "metadata": {},
     "output_type": "execute_result"
    }
   ],
   "source": [
    "r.response['prices']"
   ]
  },
  {
   "cell_type": "code",
   "execution_count": 9,
   "metadata": {
    "collapsed": false
   },
   "outputs": [
    {
     "data": {
      "text/plain": [
       "[{'liquidity': 10000000.0, 'price': '1.07001'},\n",
       " {'liquidity': 10000000.0, 'price': '1.07003'}]"
      ]
     },
     "execution_count": 9,
     "metadata": {},
     "output_type": "execute_result"
    }
   ],
   "source": [
    "r.response['prices'][0]['asks']"
   ]
  },
  {
   "cell_type": "markdown",
   "metadata": {},
   "source": [
    "<!--NAVIGATION-->\n",
    "< [Setting Up](01.01 Setting Up.ipynb) | [Contents](Index.ipynb) | [Rates Information](02.00 Rates Information.ipynb) >"
   ]
  }
 ],
 "metadata": {
  "anaconda-cloud": {},
  "kernelspec": {
   "display_name": "Python 3",
   "language": "python",
   "name": "python3"
  },
  "language_info": {
   "codemirror_mode": {
    "name": "ipython",
    "version": 3
   },
   "file_extension": ".py",
   "mimetype": "text/x-python",
   "name": "python",
   "nbconvert_exporter": "python",
   "pygments_lexer": "ipython3",
   "version": "3.6.0"
  }
 },
 "nbformat": 4,
 "nbformat_minor": 0
}
