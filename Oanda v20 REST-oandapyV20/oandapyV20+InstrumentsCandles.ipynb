{
 "cells": [
  {
   "cell_type": "code",
   "execution_count": 1,
   "metadata": {},
   "outputs": [],
   "source": [
    "import oandapyV20"
   ]
  },
  {
   "cell_type": "code",
   "execution_count": 2,
   "metadata": {
    "collapsed": true
   },
   "outputs": [],
   "source": [
    "import oandapyV20.endpoints.instruments as instruments"
   ]
  },
  {
   "cell_type": "code",
   "execution_count": 3,
   "metadata": {
    "collapsed": true
   },
   "outputs": [],
   "source": [
    "client = oandapyV20.API(access_token=\"...\")"
   ]
  },
  {
   "cell_type": "code",
   "execution_count": 4,
   "metadata": {
    "collapsed": true
   },
   "outputs": [],
   "source": [
    "params = {\n",
    "  \"count\": 5,\n",
    "  \"granularity\": \"M5\"\n",
    "}"
   ]
  },
  {
   "cell_type": "code",
   "execution_count": 5,
   "metadata": {
    "collapsed": true
   },
   "outputs": [],
   "source": [
    "r = instruments.InstrumentsCandles(instrument=\"DE30_EUR\", params=params)"
   ]
  },
  {
   "cell_type": "code",
   "execution_count": 6,
   "metadata": {},
   "outputs": [
    {
     "data": {
      "text/plain": [
       "{'candles': [{'complete': True,\n",
       "   'mid': {'c': '12662.5', 'h': '12663.5', 'l': '12658.8', 'o': '12662.5'},\n",
       "   'time': '2017-07-14T19:35:00.000000000Z',\n",
       "   'volume': 133},\n",
       "  {'complete': True,\n",
       "   'mid': {'c': '12657.8', 'h': '12664.4', 'l': '12657.5', 'o': '12662.5'},\n",
       "   'time': '2017-07-14T19:40:00.000000000Z',\n",
       "   'volume': 93},\n",
       "  {'complete': True,\n",
       "   'mid': {'c': '12657.5', 'h': '12659.0', 'l': '12656.5', 'o': '12657.8'},\n",
       "   'time': '2017-07-14T19:45:00.000000000Z',\n",
       "   'volume': 113},\n",
       "  {'complete': True,\n",
       "   'mid': {'c': '12652.0', 'h': '12658.5', 'l': '12650.9', 'o': '12657.5'},\n",
       "   'time': '2017-07-14T19:50:00.000000000Z',\n",
       "   'volume': 163},\n",
       "  {'complete': True,\n",
       "   'mid': {'c': '12649.8', 'h': '12652.0', 'l': '12647.9', 'o': '12652.0'},\n",
       "   'time': '2017-07-14T19:55:00.000000000Z',\n",
       "   'volume': 118}],\n",
       " 'granularity': 'M5',\n",
       " 'instrument': 'DE30_EUR'}"
      ]
     },
     "execution_count": 6,
     "metadata": {},
     "output_type": "execute_result"
    }
   ],
   "source": [
    "client.request(r)"
   ]
  },
  {
   "cell_type": "code",
   "execution_count": 7,
   "metadata": {},
   "outputs": [
    {
     "name": "stdout",
     "output_type": "stream",
     "text": [
      "{'instrument': 'DE30_EUR', 'granularity': 'M5', 'candles': [{'complete': True, 'volume': 133, 'time': '2017-07-14T19:35:00.000000000Z', 'mid': {'o': '12662.5', 'h': '12663.5', 'l': '12658.8', 'c': '12662.5'}}, {'complete': True, 'volume': 93, 'time': '2017-07-14T19:40:00.000000000Z', 'mid': {'o': '12662.5', 'h': '12664.4', 'l': '12657.5', 'c': '12657.8'}}, {'complete': True, 'volume': 113, 'time': '2017-07-14T19:45:00.000000000Z', 'mid': {'o': '12657.8', 'h': '12659.0', 'l': '12656.5', 'c': '12657.5'}}, {'complete': True, 'volume': 163, 'time': '2017-07-14T19:50:00.000000000Z', 'mid': {'o': '12657.5', 'h': '12658.5', 'l': '12650.9', 'c': '12652.0'}}, {'complete': True, 'volume': 118, 'time': '2017-07-14T19:55:00.000000000Z', 'mid': {'o': '12652.0', 'h': '12652.0', 'l': '12647.9', 'c': '12649.8'}}]}\n"
     ]
    }
   ],
   "source": [
    "print(r.response)"
   ]
  },
  {
   "cell_type": "code",
   "execution_count": 8,
   "metadata": {
    "collapsed": true
   },
   "outputs": [],
   "source": [
    "import pandas as pd"
   ]
  },
  {
   "cell_type": "code",
   "execution_count": 9,
   "metadata": {},
   "outputs": [
    {
     "data": {
      "text/html": [
       "<div>\n",
       "<style>\n",
       "    .dataframe thead tr:only-child th {\n",
       "        text-align: right;\n",
       "    }\n",
       "\n",
       "    .dataframe thead th {\n",
       "        text-align: left;\n",
       "    }\n",
       "\n",
       "    .dataframe tbody tr th {\n",
       "        vertical-align: top;\n",
       "    }\n",
       "</style>\n",
       "<table border=\"1\" class=\"dataframe\">\n",
       "  <thead>\n",
       "    <tr style=\"text-align: right;\">\n",
       "      <th></th>\n",
       "      <th>complete</th>\n",
       "      <th>mid</th>\n",
       "      <th>time</th>\n",
       "      <th>volume</th>\n",
       "    </tr>\n",
       "  </thead>\n",
       "  <tbody>\n",
       "    <tr>\n",
       "      <th>c</th>\n",
       "      <td>True</td>\n",
       "      <td>12649.8</td>\n",
       "      <td>2017-07-14T19:55:00.000000000Z</td>\n",
       "      <td>118</td>\n",
       "    </tr>\n",
       "    <tr>\n",
       "      <th>h</th>\n",
       "      <td>True</td>\n",
       "      <td>12652.0</td>\n",
       "      <td>2017-07-14T19:55:00.000000000Z</td>\n",
       "      <td>118</td>\n",
       "    </tr>\n",
       "    <tr>\n",
       "      <th>l</th>\n",
       "      <td>True</td>\n",
       "      <td>12647.9</td>\n",
       "      <td>2017-07-14T19:55:00.000000000Z</td>\n",
       "      <td>118</td>\n",
       "    </tr>\n",
       "    <tr>\n",
       "      <th>o</th>\n",
       "      <td>True</td>\n",
       "      <td>12652.0</td>\n",
       "      <td>2017-07-14T19:55:00.000000000Z</td>\n",
       "      <td>118</td>\n",
       "    </tr>\n",
       "  </tbody>\n",
       "</table>\n",
       "</div>"
      ],
      "text/plain": [
       "   complete      mid                            time  volume\n",
       "c      True  12649.8  2017-07-14T19:55:00.000000000Z     118\n",
       "h      True  12652.0  2017-07-14T19:55:00.000000000Z     118\n",
       "l      True  12647.9  2017-07-14T19:55:00.000000000Z     118\n",
       "o      True  12652.0  2017-07-14T19:55:00.000000000Z     118"
      ]
     },
     "execution_count": 9,
     "metadata": {},
     "output_type": "execute_result"
    }
   ],
   "source": [
    "pd.DataFrame(r.response['candles'][4])"
   ]
  },
  {
   "cell_type": "code",
   "execution_count": 10,
   "metadata": {},
   "outputs": [
    {
     "data": {
      "text/html": [
       "<div>\n",
       "<style>\n",
       "    .dataframe thead tr:only-child th {\n",
       "        text-align: right;\n",
       "    }\n",
       "\n",
       "    .dataframe thead th {\n",
       "        text-align: left;\n",
       "    }\n",
       "\n",
       "    .dataframe tbody tr th {\n",
       "        vertical-align: top;\n",
       "    }\n",
       "</style>\n",
       "<table border=\"1\" class=\"dataframe\">\n",
       "  <thead>\n",
       "    <tr style=\"text-align: right;\">\n",
       "      <th></th>\n",
       "      <th>complete</th>\n",
       "      <th>mid</th>\n",
       "      <th>time</th>\n",
       "      <th>volume</th>\n",
       "    </tr>\n",
       "  </thead>\n",
       "  <tbody>\n",
       "    <tr>\n",
       "      <th>c</th>\n",
       "      <td>True</td>\n",
       "      <td>12662.5</td>\n",
       "      <td>2017-07-14T19:35:00.000000000Z</td>\n",
       "      <td>133</td>\n",
       "    </tr>\n",
       "    <tr>\n",
       "      <th>h</th>\n",
       "      <td>True</td>\n",
       "      <td>12663.5</td>\n",
       "      <td>2017-07-14T19:35:00.000000000Z</td>\n",
       "      <td>133</td>\n",
       "    </tr>\n",
       "    <tr>\n",
       "      <th>l</th>\n",
       "      <td>True</td>\n",
       "      <td>12658.8</td>\n",
       "      <td>2017-07-14T19:35:00.000000000Z</td>\n",
       "      <td>133</td>\n",
       "    </tr>\n",
       "    <tr>\n",
       "      <th>o</th>\n",
       "      <td>True</td>\n",
       "      <td>12662.5</td>\n",
       "      <td>2017-07-14T19:35:00.000000000Z</td>\n",
       "      <td>133</td>\n",
       "    </tr>\n",
       "  </tbody>\n",
       "</table>\n",
       "</div>"
      ],
      "text/plain": [
       "   complete      mid                            time  volume\n",
       "c      True  12662.5  2017-07-14T19:35:00.000000000Z     133\n",
       "h      True  12663.5  2017-07-14T19:35:00.000000000Z     133\n",
       "l      True  12658.8  2017-07-14T19:35:00.000000000Z     133\n",
       "o      True  12662.5  2017-07-14T19:35:00.000000000Z     133"
      ]
     },
     "execution_count": 10,
     "metadata": {},
     "output_type": "execute_result"
    }
   ],
   "source": [
    "pd.DataFrame(r.response['candles'][0])"
   ]
  },
  {
   "cell_type": "code",
   "execution_count": null,
   "metadata": {
    "collapsed": true
   },
   "outputs": [],
   "source": []
  }
 ],
 "metadata": {
  "kernelspec": {
   "display_name": "Python 3",
   "language": "python",
   "name": "python3"
  },
  "language_info": {
   "codemirror_mode": {
    "name": "ipython",
    "version": 3
   },
   "file_extension": ".py",
   "mimetype": "text/x-python",
   "name": "python",
   "nbconvert_exporter": "python",
   "pygments_lexer": "ipython3",
   "version": "3.6.1"
  }
 },
 "nbformat": 4,
 "nbformat_minor": 2
}
