{
 "cells": [
  {
   "cell_type": "markdown",
   "metadata": {},
   "source": [
    "<!--NAVIGATION-->\n",
    "< [Contents](Index.ipynb) | [Setting Up](01.01 Setting Up.ipynb) >"
   ]
  },
  {
   "cell_type": "markdown",
   "metadata": {},
   "source": [
    "# Introduction"
   ]
  },
  {
   "cell_type": "markdown",
   "metadata": {},
   "source": [
    "NB:\n",
    "\n",
    "- API subject to change\n",
    "- Oanda has two versions of REST API - v1 and v20\n",
    "- The new REST API is v20\n",
    "- Still a lot of accounts use v1"
   ]
  },
  {
   "cell_type": "markdown",
   "metadata": {},
   "source": [
    "# Disclaimer \n",
    "\n",
    "- This presentation is for informational purposes only and does not constitute an offer to sell, a solicitation to buy, or a recommendation for any security; nor does it constitute an offer to provide investment advisory or other services.\n",
    "\n",
    "- Nothing contained herein constitutes investment advice or offers any opinion with respect to the suitability of any security, and any views expressed herein should not be taken as advice to buy, sell, or hold any security or as an endorsement of any security or company. \n",
    "\n",
    "- In preparing the information contained herein, the investment needs, objectives, and financial circumstances of any particular investor has not been taken into account. \n",
    "\n",
    "- Any views expressed and data illustrated herein were prepared based upon information, believed to be reliable, available to at the time of publication. \n",
    "\n",
    "- No guarantees has been made the accuracy or completeness of the information contained within. \n",
    "\n",
    "- All information is subject to change and may quickly become unreliable for various reasons, including changes in market conditions or economic circumstances."
   ]
  },
  {
   "cell_type": "markdown",
   "metadata": {
    "collapsed": true
   },
   "source": [
    "# Why?"
   ]
  },
  {
   "cell_type": "markdown",
   "metadata": {},
   "source": [
    "In this section we look at the reasons for selecting Python as our programming language, Oanda as our platform for trading forex and algorithmic trading instead of discretionary trading."
   ]
  },
  {
   "cell_type": "markdown",
   "metadata": {},
   "source": [
    "# Why Python?"
   ]
  },
  {
   "cell_type": "markdown",
   "metadata": {},
   "source": [
    "Reasons for using Python for algorithmic trading:\n",
    "\n",
    "- Rapid prototyping\n",
    "- Extremely popular for data science\n",
    "- Heavily use for web design / development\n",
    "- Extremely fast for prototyping, concept testing and great for low to medium frequency trading\n",
    "- Used widely by Hedge funds. Check out AHL, AQR etc\n",
    "- Rich universe of modules and libraries supporting technical analysis, machine learning, artificial intelligence, data analytics etc.\n",
    "- Portability. Not locked up to single platform\n"
   ]
  },
  {
   "cell_type": "markdown",
   "metadata": {},
   "source": [
    "# Why Algorithmic Trading?"
   ]
  },
  {
   "cell_type": "markdown",
   "metadata": {},
   "source": [
    "- Automated. Easy to diagnose the root problem \n",
    "- Lend itself to scientific approach very well\n",
    "- No cognitive bias\n",
    "- Advanced in technology, data, and software removed the barriers that used to exclude the general public"
   ]
  },
  {
   "cell_type": "markdown",
   "metadata": {},
   "source": [
    "# Why Oanda?"
   ]
  },
  {
   "cell_type": "markdown",
   "metadata": {},
   "source": [
    "- API. \n",
    "- Diverse trading universe"
   ]
  },
  {
   "cell_type": "markdown",
   "metadata": {},
   "source": [
    "# Why FX Trading?"
   ]
  },
  {
   "cell_type": "markdown",
   "metadata": {},
   "source": [
    "- Liquidity\n",
    "- 24/7 \n",
    "- Leverage"
   ]
  },
  {
   "cell_type": "markdown",
   "metadata": {},
   "source": [
    "<!--NAVIGATION-->\n",
    "< [Contents](Index.ipynb) | [Setting Up](01.01 Setting Up.ipynb) >"
   ]
  }
 ],
 "metadata": {
  "anaconda-cloud": {},
  "kernelspec": {
   "display_name": "Python 3",
   "language": "python",
   "name": "python3"
  },
  "language_info": {
   "codemirror_mode": {
    "name": "ipython",
    "version": 3
   },
   "file_extension": ".py",
   "mimetype": "text/x-python",
   "name": "python",
   "nbconvert_exporter": "python",
   "pygments_lexer": "ipython3",
   "version": "3.6.0"
  }
 },
 "nbformat": 4,
 "nbformat_minor": 1
}
