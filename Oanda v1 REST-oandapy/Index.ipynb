{
 "cells": [
  {
   "cell_type": "markdown",
   "metadata": {},
   "source": [
    "# Python Algo Trading: FX Trading with Oanda\n",
    "\n",
    "[v1 REST API](http://developer.oanda.com/rest-live/introduction/)\n",
    "\n",
    "*Anthony NG @ Jan 2017*"
   ]
  },
  {
   "cell_type": "markdown",
   "metadata": {},
   "source": [
    "## Table of Contents\n",
    "\n",
    "\n",
    "### 1. [Introduction](01.00 Introduction.ipynb)\n",
    "- Why\n",
    "  - Why Python\n",
    "  - Why Algorithmic Trading\n",
    "  - Why Oanda\n",
    "  - Why FX Trading\n",
    "- [Setting Up](01.01 Setting Up.ipynb)\n",
    "  - Setting Up Oanda Account\n",
    "  - Installing oandapy\n",
    "  - Oanda fxTrade Practive Account View\n",
    "  - API Key and Account ID\n",
    "- [Understanding the Documentations](01.02 Understanding the Documentations.ipynb)\n",
    "  - Oanda \n",
    "  - oandapy\n",
    "- [Algorithmic Trading Architecture](01.03 Algorithmic Trading Architecture.ipynb)\n",
    "\n",
    "### 2. [Rates Information](02.00 Rates Information.ipynb)\n",
    "- Obtaining Market Rates\n",
    "- Obtaining a List of Tradable Instruments\n",
    "- Getting Historical Price\n",
    "\n",
    "### 3. [Account Information](03.00 Account Information.ipynb)\n",
    "- Obtaining Account Information\n",
    "- Obtaining Specific Account Information\n",
    "\n",
    "### 4. [Order Management](04.00 Order Management.ipynb)\n",
    "- Creating Orders\n",
    "- Getting Open Orders\n",
    "- Getting Specific Order Information\n",
    "- Modify Order\n",
    "- Close Order\n",
    "\n",
    "### 5. [Trade Management](05.00 Trade Management.ipynb)\n",
    "- Get a List of All Open Trades\n",
    "- Get Specific Trade Information\n",
    "- Modify a Trade\n",
    "- Close an Open Trade\n",
    "\n",
    "### 6. [Position Management](06.00 Position Management.ipynb)\n",
    "- Position Management\n",
    "- Get a List of All Open Positions\n",
    "- Get The Position of An Instrument\n",
    "- Close An Existing Position\n",
    "\n",
    "### 7. [Transaction History](07.00 Transaction History.ipynb)\n",
    "- Obtaining Transaction History\n",
    "- Get Specific Transaction Information\n",
    "\n",
    "### 8. [Streaming Prices](08.00 Streaming Prices.ipynb)\n",
    "- Stream Prices\n",
    "\n",
    "### 9. [Bonus Materials I](09.00 Bonus Materials I.ipynb)\n",
    "- Obtaining Historical Economic Calendar\n",
    "- Historical Position Ratios\n",
    "- Getting Historical Spread\n",
    "- Commitment of Traders\n",
    "- Orderbook\n",
    "\n",
    "### 10. [Bonus Materials II](10.00 Bonus Materials II.ipynb)"
   ]
  },
  {
   "cell_type": "markdown",
   "metadata": {},
   "source": [
    "***"
   ]
  }
 ],
 "metadata": {
  "anaconda-cloud": {},
  "kernelspec": {
   "display_name": "Python 3",
   "language": "python",
   "name": "python3"
  },
  "language_info": {
   "codemirror_mode": {
    "name": "ipython",
    "version": 3
   },
   "file_extension": ".py",
   "mimetype": "text/x-python",
   "name": "python",
   "nbconvert_exporter": "python",
   "pygments_lexer": "ipython3",
   "version": "3.6.0"
  }
 },
 "nbformat": 4,
 "nbformat_minor": 1
}
