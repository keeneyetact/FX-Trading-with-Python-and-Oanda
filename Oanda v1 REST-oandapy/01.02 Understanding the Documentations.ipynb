{
 "cells": [
  {
   "cell_type": "markdown",
   "metadata": {},
   "source": [
    "<!--NAVIGATION-->\n",
    "< [Setting Up](01.01 Setting Up.ipynb) | [Contents](Index.ipynb) | [Algorithmic Trading Architecture](01.03 Algorithmic Trading Architecture.ipynb) >"
   ]
  },
  {
   "cell_type": "markdown",
   "metadata": {},
   "source": [
    "# Understanding the Documentations"
   ]
  },
  {
   "cell_type": "markdown",
   "metadata": {},
   "source": [
    "In order to make use of the API effective, we need to understand the input parameters and the corresponding output. Good thing Oanda provides a comprehensive API guide as shown below. "
   ]
  },
  {
   "cell_type": "markdown",
   "metadata": {},
   "source": [
    "# Oanda\n",
    "The [Oanda API](http://developer.oanda.com/rest-live/introduction/) guide is very comprehensive. Select **REST** amongst the options of REST-V20, REST, JAVA, FIX, and MT4.\n",
    "\n",
    "We are interested in particular the **Resouces** section."
   ]
  },
  {
   "cell_type": "markdown",
   "metadata": {},
   "source": [
    "<img src=\"../img/OANDA_API.PNG\">"
   ]
  },
  {
   "cell_type": "markdown",
   "metadata": {
    "collapsed": true
   },
   "source": [
    "# oandapy\n",
    "Follow this [oandapy link](https://github.com/oanda/oandapy) to head to the github repository. There is a brief **README.md** guide that demonstrates how to use oandapy with the Oanda API. "
   ]
  },
  {
   "cell_type": "markdown",
   "metadata": {
    "collapsed": true
   },
   "source": [
    "Let's do a simple walk through here to get started.\n",
    "\n",
    "We need to first import the oandapy library:"
   ]
  },
  {
   "cell_type": "code",
   "execution_count": 1,
   "metadata": {
    "collapsed": true
   },
   "outputs": [],
   "source": [
    "import oandapy"
   ]
  },
  {
   "cell_type": "markdown",
   "metadata": {},
   "source": [
    "We need to provide Python with the **Account ID** and **API Key**. We store these two under two variables called `account_id` and `api_key`. We will show in later lesson how we can segregate this from our main code body thus protecting our account."
   ]
  },
  {
   "cell_type": "code",
   "execution_count": 2,
   "metadata": {
    "collapsed": false
   },
   "outputs": [],
   "source": [
    "account_id = 0123456\n",
    "api_key = \"this-is-not-the-actual-api-key-as-we-will-see-how-we-can-protect-\""
   ]
  },
  {
   "cell_type": "markdown",
   "metadata": {},
   "source": [
    "We then instantiate as follow the next step shows. You can use other variable name instead of `oanda` here."
   ]
  },
  {
   "cell_type": "code",
   "execution_count": 3,
   "metadata": {
    "collapsed": false
   },
   "outputs": [],
   "source": [
    "oanda = oandapy.API(environment=\"practice\", \n",
    "                    access_token=api_key)"
   ]
  },
  {
   "cell_type": "markdown",
   "metadata": {},
   "source": [
    "Once we have done the above, we can start making API call to extract information. "
   ]
  },
  {
   "cell_type": "code",
   "execution_count": 4,
   "metadata": {
    "collapsed": false
   },
   "outputs": [
    {
     "name": "stdout",
     "output_type": "stream",
     "text": [
      "{'prices': [{'ask': 113.302, 'bid': 113.284, 'instrument': 'USD_JPY', 'time': '2017-01-31T03:08:09.970803Z'}]}\n"
     ]
    }
   ],
   "source": [
    "response = oanda.get_prices(instruments=\"USD_JPY\")\n",
    "print(response)"
   ]
  },
  {
   "cell_type": "markdown",
   "metadata": {},
   "source": [
    "Here, we made an API call to get prices using the form **instance.method** and specific we wanted the current price for USDJPY and store the return value to the `response` variable.\n",
    "\n",
    "When we subsequently print the `response` variable to observe the results of our earlier API call."
   ]
  },
  {
   "cell_type": "markdown",
   "metadata": {},
   "source": [
    "Let's take this apart to understand it more so we can access more functionalities.\n",
    "\n",
    "First, select the `oandapy` folder.\n",
    "\n",
    "<img src=\"../img/oandapy_main.PNG\">\n",
    "\n",
    "Then, select the `oandapy.py` Python file.\n",
    "\n",
    "<img src=\"../img/oandapy_oandapy.PNG\">\n",
    "\n",
    "You will see the following Python codes\n"
   ]
  },
  {
   "cell_type": "markdown",
   "metadata": {},
   "source": [
    "<img src=\"../img/oandapy_code.PNG\">"
   ]
  },
  {
   "cell_type": "markdown",
   "metadata": {},
   "source": [
    "Note the highlighted **get_prices** section. \n",
    "\n",
    "The line \n",
    "\n",
    "`Docs: http://developer.oanda.com/rest-live/rates`\n",
    "\n",
    "inform us to visit the link for more information about the API call. Below is a partial screen capture:\n",
    "\n",
    "<img src=\"../img/get_prices.PNG\">"
   ]
  },
  {
   "cell_type": "markdown",
   "metadata": {
    "collapsed": true
   },
   "source": [
    "The heading states **Get current prices** which inform us the purpose of this API call.\n",
    "\n",
    "Note there is some instruction on the **Input Query Parameters**. In this case, the **instruments** is a *required* input. We must provide this. \n",
    "\n",
    "Contrast this to the **since** which is optional.\n",
    "\n",
    "The `oandapy` will direct you to the detail **Oanda API** documentation. It is a good practice to always refer to the documentation for more information."
   ]
  },
  {
   "cell_type": "markdown",
   "metadata": {},
   "source": [
    "This ends the brief introduction to understand the documentations."
   ]
  },
  {
   "cell_type": "markdown",
   "metadata": {},
   "source": [
    "<!--NAVIGATION-->\n",
    "< [Setting Up](01.01 Setting Up.ipynb) | [Contents](Index.ipynb) | [Algorithmic Trading Architecture](01.03 Algorithmic Trading Architecture.ipynb) >"
   ]
  }
 ],
 "metadata": {
  "anaconda-cloud": {},
  "kernelspec": {
   "display_name": "Python 3",
   "language": "python",
   "name": "python3"
  },
  "language_info": {
   "codemirror_mode": {
    "name": "ipython",
    "version": 3
   },
   "file_extension": ".py",
   "mimetype": "text/x-python",
   "name": "python",
   "nbconvert_exporter": "python",
   "pygments_lexer": "ipython3",
   "version": "3.6.0"
  }
 },
 "nbformat": 4,
 "nbformat_minor": 1
}
