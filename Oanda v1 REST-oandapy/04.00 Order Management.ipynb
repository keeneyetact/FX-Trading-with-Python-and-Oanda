{
 "cells": [
  {
   "cell_type": "markdown",
   "metadata": {},
   "source": [
    "<!--NAVIGATION-->\n",
    "< [Account Information](03.00 Account Information.ipynb) | [Contents](Index.ipynb) | [Trade Management](05.00 Trade Management.ipynb) >"
   ]
  },
  {
   "cell_type": "markdown",
   "metadata": {},
   "source": [
    "# Order Management"
   ]
  },
  {
   "cell_type": "markdown",
   "metadata": {},
   "source": [
    "[Orders](http://developer.oanda.com/rest-live/orders/)"
   ]
  },
  {
   "cell_type": "markdown",
   "metadata": {},
   "source": [
    "# Creating Orders"
   ]
  },
  {
   "cell_type": "markdown",
   "metadata": {},
   "source": [
    "`create_order(self, account_id, **params)`"
   ]
  },
  {
   "cell_type": "code",
   "execution_count": 1,
   "metadata": {
    "collapsed": true
   },
   "outputs": [],
   "source": [
    "from datetime import datetime, timedelta\n",
    "import pandas as pd\n",
    "import oandapy\n",
    "import configparser\n",
    "\n",
    "config = configparser.ConfigParser()\n",
    "config.read('../config/config_v1.ini')\n",
    "account_id = config['oanda']['account_id']\n",
    "api_key = config['oanda']['api_key']\n",
    "\n",
    "oanda = oandapy.API(environment=\"practice\", \n",
    "                    access_token=api_key)"
   ]
  },
  {
   "cell_type": "code",
   "execution_count": 2,
   "metadata": {
    "collapsed": false,
    "scrolled": true
   },
   "outputs": [
    {
     "data": {
      "text/plain": [
       "'2017-01-28T21:54:17.120062Z'"
      ]
     },
     "execution_count": 2,
     "metadata": {},
     "output_type": "execute_result"
    }
   ],
   "source": [
    "trade_expire = datetime.now() + timedelta(days=1)\n",
    "trade_expire = trade_expire.isoformat(\"T\") + \"Z\"\n",
    "trade_expire"
   ]
  },
  {
   "cell_type": "markdown",
   "metadata": {},
   "source": [
    "For a detailed explanation of the above, please refer to [Rates Information](02.00 Rates Information.ipynb)."
   ]
  },
  {
   "cell_type": "code",
   "execution_count": 3,
   "metadata": {
    "collapsed": false
   },
   "outputs": [
    {
     "name": "stdout",
     "output_type": "stream",
     "text": [
      "{'orderOpened': {'takeProfit': 0, 'side': 'buy', 'upperBound': 0, 'expiry': '2017-01-28T21:54:17.000000Z', 'trailingStop': 0, 'stopLoss': 0, 'id': 10618881403, 'lowerBound': 0, 'units': 1000}, 'price': 0.742, 'instrument': 'AUD_USD', 'time': '2017-01-27T13:54:18.000000Z'}\n"
     ]
    }
   ],
   "source": [
    "response = oanda.create_order(account_id,\n",
    "                              instrument = \"AUD_USD\",\n",
    "                              units=1000,\n",
    "                              side=\"buy\",\n",
    "                              type=\"limit\",\n",
    "                              price=0.7420,\n",
    "                              expiry=trade_expire)\n",
    "print(response)"
   ]
  },
  {
   "cell_type": "code",
   "execution_count": 4,
   "metadata": {
    "collapsed": false
   },
   "outputs": [
    {
     "data": {
      "text/plain": [
       "expiry          2017-01-28T21:54:17.000000Z\n",
       "id                              10618881403\n",
       "lowerBound                                0\n",
       "side                                    buy\n",
       "stopLoss                                  0\n",
       "takeProfit                                0\n",
       "trailingStop                              0\n",
       "units                                  1000\n",
       "upperBound                                0\n",
       "dtype: object"
      ]
     },
     "execution_count": 4,
     "metadata": {},
     "output_type": "execute_result"
    }
   ],
   "source": [
    "pd.Series(response[\"orderOpened\"])"
   ]
  },
  {
   "cell_type": "code",
   "execution_count": 5,
   "metadata": {
    "collapsed": true
   },
   "outputs": [],
   "source": [
    "order_id = response[\"orderOpened\"]['id']"
   ]
  },
  {
   "cell_type": "markdown",
   "metadata": {},
   "source": [
    "# Getting Open Orders"
   ]
  },
  {
   "cell_type": "markdown",
   "metadata": {},
   "source": [
    "`get_orders(self, account_id, **params)`"
   ]
  },
  {
   "cell_type": "code",
   "execution_count": 6,
   "metadata": {
    "collapsed": false
   },
   "outputs": [
    {
     "name": "stdout",
     "output_type": "stream",
     "text": [
      "{'orders': [{'takeProfit': 0, 'type': 'limit', 'side': 'buy', 'trailingStop': 0, 'price': 0.742, 'upperBound': 0, 'instrument': 'AUD_USD', 'id': 10618881403, 'units': 1000, 'expiry': '2017-01-28T21:54:17.000000Z', 'stopLoss': 0, 'lowerBound': 0, 'time': '2017-01-27T13:54:18.000000Z'}]}\n"
     ]
    }
   ],
   "source": [
    "response = oanda.get_orders(account_id)\n",
    "print(response)"
   ]
  },
  {
   "cell_type": "code",
   "execution_count": 7,
   "metadata": {
    "collapsed": false
   },
   "outputs": [
    {
     "data": {
      "text/html": [
       "<div>\n",
       "<table border=\"1\" class=\"dataframe\">\n",
       "  <thead>\n",
       "    <tr style=\"text-align: right;\">\n",
       "      <th></th>\n",
       "      <th>expiry</th>\n",
       "      <th>id</th>\n",
       "      <th>instrument</th>\n",
       "      <th>lowerBound</th>\n",
       "      <th>price</th>\n",
       "      <th>side</th>\n",
       "      <th>stopLoss</th>\n",
       "      <th>takeProfit</th>\n",
       "      <th>time</th>\n",
       "      <th>trailingStop</th>\n",
       "      <th>type</th>\n",
       "      <th>units</th>\n",
       "      <th>upperBound</th>\n",
       "    </tr>\n",
       "  </thead>\n",
       "  <tbody>\n",
       "    <tr>\n",
       "      <th>0</th>\n",
       "      <td>2017-01-28T21:54:17.000000Z</td>\n",
       "      <td>10618881403</td>\n",
       "      <td>AUD_USD</td>\n",
       "      <td>0</td>\n",
       "      <td>0.742</td>\n",
       "      <td>buy</td>\n",
       "      <td>0</td>\n",
       "      <td>0</td>\n",
       "      <td>2017-01-27T13:54:18.000000Z</td>\n",
       "      <td>0</td>\n",
       "      <td>limit</td>\n",
       "      <td>1000</td>\n",
       "      <td>0</td>\n",
       "    </tr>\n",
       "  </tbody>\n",
       "</table>\n",
       "</div>"
      ],
      "text/plain": [
       "                        expiry           id instrument  lowerBound  price  \\\n",
       "0  2017-01-28T21:54:17.000000Z  10618881403    AUD_USD           0  0.742   \n",
       "\n",
       "  side  stopLoss  takeProfit                         time  trailingStop  \\\n",
       "0  buy         0           0  2017-01-27T13:54:18.000000Z             0   \n",
       "\n",
       "    type  units  upperBound  \n",
       "0  limit   1000           0  "
      ]
     },
     "execution_count": 7,
     "metadata": {},
     "output_type": "execute_result"
    }
   ],
   "source": [
    "pd.DataFrame(response['orders'])"
   ]
  },
  {
   "cell_type": "markdown",
   "metadata": {},
   "source": [
    "# Getting Specific Order Information"
   ]
  },
  {
   "cell_type": "markdown",
   "metadata": {},
   "source": [
    "`get_order(self, account_id, order_id, **params)`"
   ]
  },
  {
   "cell_type": "code",
   "execution_count": 8,
   "metadata": {
    "collapsed": true
   },
   "outputs": [],
   "source": [
    "response = oanda.get_orders(account_id)\n",
    "id = response['orders'][0]['id']"
   ]
  },
  {
   "cell_type": "code",
   "execution_count": 9,
   "metadata": {
    "collapsed": false
   },
   "outputs": [
    {
     "data": {
      "text/plain": [
       "{'expiry': '2017-01-28T21:54:17.000000Z',\n",
       " 'id': 10618881403,\n",
       " 'instrument': 'AUD_USD',\n",
       " 'lowerBound': 0,\n",
       " 'price': 0.742,\n",
       " 'side': 'buy',\n",
       " 'stopLoss': 0,\n",
       " 'takeProfit': 0,\n",
       " 'time': '2017-01-27T13:54:18.000000Z',\n",
       " 'trailingStop': 0,\n",
       " 'type': 'limit',\n",
       " 'units': 1000,\n",
       " 'upperBound': 0}"
      ]
     },
     "execution_count": 9,
     "metadata": {},
     "output_type": "execute_result"
    }
   ],
   "source": [
    "oanda.get_order(account_id, order_id=id)"
   ]
  },
  {
   "cell_type": "markdown",
   "metadata": {},
   "source": [
    "# Modify Order"
   ]
  },
  {
   "cell_type": "markdown",
   "metadata": {},
   "source": [
    "`modify_order(self, account_id, order_id, **params)`"
   ]
  },
  {
   "cell_type": "code",
   "execution_count": 10,
   "metadata": {
    "collapsed": true
   },
   "outputs": [],
   "source": [
    "response = oanda.get_orders(account_id)\n",
    "id = response['orders'][0]['id']"
   ]
  },
  {
   "cell_type": "code",
   "execution_count": 11,
   "metadata": {
    "collapsed": false
   },
   "outputs": [
    {
     "data": {
      "text/plain": [
       "{'expiry': '2017-01-28T21:54:17.000000Z',\n",
       " 'id': 10618881403,\n",
       " 'instrument': 'AUD_USD',\n",
       " 'lowerBound': 0,\n",
       " 'price': 0.704,\n",
       " 'side': 'buy',\n",
       " 'stopLoss': 0,\n",
       " 'takeProfit': 0,\n",
       " 'time': '2017-01-27T13:54:20.000000Z',\n",
       " 'trailingStop': 0,\n",
       " 'type': 'limit',\n",
       " 'units': 1000,\n",
       " 'upperBound': 0}"
      ]
     },
     "execution_count": 11,
     "metadata": {},
     "output_type": "execute_result"
    }
   ],
   "source": [
    "oanda.modify_order(account_id, order_id=id, price=0.7040)"
   ]
  },
  {
   "cell_type": "markdown",
   "metadata": {},
   "source": [
    "# Close Order"
   ]
  },
  {
   "cell_type": "markdown",
   "metadata": {},
   "source": [
    "`close_order(self, account_id, order_id, **params)`"
   ]
  },
  {
   "cell_type": "code",
   "execution_count": 12,
   "metadata": {
    "collapsed": true
   },
   "outputs": [],
   "source": [
    "response = oanda.get_orders(account_id)\n",
    "id = response['orders'][0]['id']"
   ]
  },
  {
   "cell_type": "code",
   "execution_count": 13,
   "metadata": {
    "collapsed": false
   },
   "outputs": [
    {
     "data": {
      "text/plain": [
       "{'id': 10618881403,\n",
       " 'instrument': 'AUD_USD',\n",
       " 'price': 0.704,\n",
       " 'side': 'buy',\n",
       " 'time': '2017-01-27T13:54:20.000000Z',\n",
       " 'type': 'BuyLimit',\n",
       " 'units': 1000}"
      ]
     },
     "execution_count": 13,
     "metadata": {},
     "output_type": "execute_result"
    }
   ],
   "source": [
    "oanda.close_order(account_id, order_id=id)"
   ]
  },
  {
   "cell_type": "markdown",
   "metadata": {},
   "source": [
    "Now when we check the orders. The above order has been closed and removed without being filled. There is only one outstanding order now."
   ]
  },
  {
   "cell_type": "code",
   "execution_count": 14,
   "metadata": {
    "collapsed": false
   },
   "outputs": [
    {
     "data": {
      "text/plain": [
       "{'orders': []}"
      ]
     },
     "execution_count": 14,
     "metadata": {},
     "output_type": "execute_result"
    }
   ],
   "source": [
    "oanda.get_orders(account_id)"
   ]
  },
  {
   "cell_type": "markdown",
   "metadata": {},
   "source": [
    "<!--NAVIGATION-->\n",
    "< [Account Information](03.00 Account Information.ipynb) | [Contents](Index.ipynb) | [Trade Management](05.00 Trade Management.ipynb) >"
   ]
  }
 ],
 "metadata": {
  "anaconda-cloud": {},
  "kernelspec": {
   "display_name": "Python 3",
   "language": "python",
   "name": "python3"
  },
  "language_info": {
   "codemirror_mode": {
    "name": "ipython",
    "version": 3
   },
   "file_extension": ".py",
   "mimetype": "text/x-python",
   "name": "python",
   "nbconvert_exporter": "python",
   "pygments_lexer": "ipython3",
   "version": "3.6.0"
  }
 },
 "nbformat": 4,
 "nbformat_minor": 1
}
