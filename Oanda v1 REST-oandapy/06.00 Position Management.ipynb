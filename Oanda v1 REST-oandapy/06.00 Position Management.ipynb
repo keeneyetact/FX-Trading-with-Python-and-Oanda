{
 "cells": [
  {
   "cell_type": "markdown",
   "metadata": {},
   "source": [
    "<!--NAVIGATION-->\n",
    "< [Trade Management](05.00 Trade Management.ipynb) | [Contents](Index.ipynb) | [Transaction History](07.00 Transaction History.ipynb) >\n"
   ]
  },
  {
   "cell_type": "markdown",
   "metadata": {},
   "source": [
    "# Position Management"
   ]
  },
  {
   "cell_type": "markdown",
   "metadata": {},
   "source": [
    "# Get a List of All Open Positions\n",
    "\n",
    "`get_positions(self, account_id, **params)`"
   ]
  },
  {
   "cell_type": "code",
   "execution_count": 1,
   "metadata": {
    "collapsed": true
   },
   "outputs": [],
   "source": [
    "from datetime import datetime, timedelta\n",
    "import pandas as pd\n",
    "import oandapy\n",
    "import configparser\n",
    "\n",
    "config = configparser.ConfigParser()\n",
    "config.read('../config/config_v1.ini')\n",
    "account_id = config['oanda']['account_id']\n",
    "api_key = config['oanda']['api_key']\n",
    "\n",
    "oanda = oandapy.API(environment=\"practice\", \n",
    "                    access_token=api_key)"
   ]
  },
  {
   "cell_type": "code",
   "execution_count": 2,
   "metadata": {
    "collapsed": true
   },
   "outputs": [],
   "source": [
    "trade_expire = datetime.now() + timedelta(days=1)\n",
    "trade_expire = trade_expire.isoformat(\"T\") + \"Z\"\n",
    "fx_list = [\"AUD_USD\", \"NZD_USD\", \"USD_JPY\"]\n",
    "for oo in fx_list:\n",
    "    response = oanda.create_order(account_id,\n",
    "                                  instrument = oo,\n",
    "                                  units=1000,\n",
    "                                  side=\"buy\",\n",
    "                                  type=\"market\",\n",
    "                                  expiry=trade_expire)\n"
   ]
  },
  {
   "cell_type": "code",
   "execution_count": 3,
   "metadata": {
    "collapsed": false
   },
   "outputs": [
    {
     "name": "stdout",
     "output_type": "stream",
     "text": [
      "{'positions': [{'avgPrice': 0.75083, 'units': 8000, 'side': 'buy', 'instrument': 'AUD_USD'}, {'avgPrice': 1.06433, 'units': 7000, 'side': 'buy', 'instrument': 'EUR_USD'}, {'avgPrice': 1.20372, 'units': 1000, 'side': 'buy', 'instrument': 'GBP_USD'}, {'avgPrice': 0.71598, 'units': 6000, 'side': 'buy', 'instrument': 'NZD_USD'}, {'avgPrice': 1.00742, 'units': 7000, 'side': 'buy', 'instrument': 'USD_CHF'}, {'avgPrice': 115.204, 'units': 1000, 'side': 'buy', 'instrument': 'USD_JPY'}]}\n"
     ]
    }
   ],
   "source": [
    "response = oanda.get_positions(account_id)\n",
    "print(response)"
   ]
  },
  {
   "cell_type": "code",
   "execution_count": 4,
   "metadata": {
    "collapsed": false
   },
   "outputs": [
    {
     "data": {
      "text/html": [
       "<div>\n",
       "<table border=\"1\" class=\"dataframe\">\n",
       "  <thead>\n",
       "    <tr style=\"text-align: right;\">\n",
       "      <th></th>\n",
       "      <th>avgPrice</th>\n",
       "      <th>instrument</th>\n",
       "      <th>side</th>\n",
       "      <th>units</th>\n",
       "    </tr>\n",
       "  </thead>\n",
       "  <tbody>\n",
       "    <tr>\n",
       "      <th>0</th>\n",
       "      <td>0.75083</td>\n",
       "      <td>AUD_USD</td>\n",
       "      <td>buy</td>\n",
       "      <td>8000</td>\n",
       "    </tr>\n",
       "    <tr>\n",
       "      <th>1</th>\n",
       "      <td>1.06433</td>\n",
       "      <td>EUR_USD</td>\n",
       "      <td>buy</td>\n",
       "      <td>7000</td>\n",
       "    </tr>\n",
       "    <tr>\n",
       "      <th>2</th>\n",
       "      <td>1.20372</td>\n",
       "      <td>GBP_USD</td>\n",
       "      <td>buy</td>\n",
       "      <td>1000</td>\n",
       "    </tr>\n",
       "    <tr>\n",
       "      <th>3</th>\n",
       "      <td>0.71598</td>\n",
       "      <td>NZD_USD</td>\n",
       "      <td>buy</td>\n",
       "      <td>6000</td>\n",
       "    </tr>\n",
       "    <tr>\n",
       "      <th>4</th>\n",
       "      <td>1.00742</td>\n",
       "      <td>USD_CHF</td>\n",
       "      <td>buy</td>\n",
       "      <td>7000</td>\n",
       "    </tr>\n",
       "    <tr>\n",
       "      <th>5</th>\n",
       "      <td>115.20400</td>\n",
       "      <td>USD_JPY</td>\n",
       "      <td>buy</td>\n",
       "      <td>1000</td>\n",
       "    </tr>\n",
       "  </tbody>\n",
       "</table>\n",
       "</div>"
      ],
      "text/plain": [
       "    avgPrice instrument side  units\n",
       "0    0.75083    AUD_USD  buy   8000\n",
       "1    1.06433    EUR_USD  buy   7000\n",
       "2    1.20372    GBP_USD  buy   1000\n",
       "3    0.71598    NZD_USD  buy   6000\n",
       "4    1.00742    USD_CHF  buy   7000\n",
       "5  115.20400    USD_JPY  buy   1000"
      ]
     },
     "execution_count": 4,
     "metadata": {},
     "output_type": "execute_result"
    }
   ],
   "source": [
    "pd.DataFrame(response['positions'])"
   ]
  },
  {
   "cell_type": "markdown",
   "metadata": {},
   "source": [
    "# Get the Position for An Instrument\n",
    "`get_position(self, account_id, instrument, **params)`"
   ]
  },
  {
   "cell_type": "code",
   "execution_count": 5,
   "metadata": {
    "collapsed": false
   },
   "outputs": [
    {
     "name": "stdout",
     "output_type": "stream",
     "text": [
      "{'avgPrice': 115.204, 'units': 1000, 'side': 'buy', 'instrument': 'USD_JPY'}\n"
     ]
    }
   ],
   "source": [
    "response = oanda.get_position(account_id, \n",
    "                              instrument=\"USD_JPY\")\n",
    "print(response)"
   ]
  },
  {
   "cell_type": "markdown",
   "metadata": {},
   "source": [
    "# Close an Existing Position\n",
    "`close_position(self, account_id, instrument, **params)`"
   ]
  },
  {
   "cell_type": "code",
   "execution_count": 6,
   "metadata": {
    "collapsed": false
   },
   "outputs": [
    {
     "name": "stdout",
     "output_type": "stream",
     "text": [
      "{'totalUnits': 1000, 'ids': [10618882484, 10618882724], 'instrument': 'USD_JPY', 'price': 115.19}\n"
     ]
    }
   ],
   "source": [
    "response = oanda.close_position(account_id, \n",
    "                                instrument=\"USD_JPY\")\n",
    "print(response)"
   ]
  },
  {
   "cell_type": "code",
   "execution_count": 7,
   "metadata": {
    "collapsed": false
   },
   "outputs": [
    {
     "data": {
      "text/html": [
       "<div>\n",
       "<table border=\"1\" class=\"dataframe\">\n",
       "  <thead>\n",
       "    <tr style=\"text-align: right;\">\n",
       "      <th></th>\n",
       "      <th>avgPrice</th>\n",
       "      <th>instrument</th>\n",
       "      <th>side</th>\n",
       "      <th>units</th>\n",
       "    </tr>\n",
       "  </thead>\n",
       "  <tbody>\n",
       "    <tr>\n",
       "      <th>0</th>\n",
       "      <td>0.75083</td>\n",
       "      <td>AUD_USD</td>\n",
       "      <td>buy</td>\n",
       "      <td>8000</td>\n",
       "    </tr>\n",
       "    <tr>\n",
       "      <th>1</th>\n",
       "      <td>1.06433</td>\n",
       "      <td>EUR_USD</td>\n",
       "      <td>buy</td>\n",
       "      <td>7000</td>\n",
       "    </tr>\n",
       "    <tr>\n",
       "      <th>2</th>\n",
       "      <td>1.20372</td>\n",
       "      <td>GBP_USD</td>\n",
       "      <td>buy</td>\n",
       "      <td>1000</td>\n",
       "    </tr>\n",
       "    <tr>\n",
       "      <th>3</th>\n",
       "      <td>0.71598</td>\n",
       "      <td>NZD_USD</td>\n",
       "      <td>buy</td>\n",
       "      <td>6000</td>\n",
       "    </tr>\n",
       "    <tr>\n",
       "      <th>4</th>\n",
       "      <td>1.00742</td>\n",
       "      <td>USD_CHF</td>\n",
       "      <td>buy</td>\n",
       "      <td>7000</td>\n",
       "    </tr>\n",
       "  </tbody>\n",
       "</table>\n",
       "</div>"
      ],
      "text/plain": [
       "   avgPrice instrument side  units\n",
       "0   0.75083    AUD_USD  buy   8000\n",
       "1   1.06433    EUR_USD  buy   7000\n",
       "2   1.20372    GBP_USD  buy   1000\n",
       "3   0.71598    NZD_USD  buy   6000\n",
       "4   1.00742    USD_CHF  buy   7000"
      ]
     },
     "execution_count": 7,
     "metadata": {},
     "output_type": "execute_result"
    }
   ],
   "source": [
    "response = oanda.get_positions(account_id)\n",
    "pd.DataFrame(response['positions'])"
   ]
  },
  {
   "cell_type": "markdown",
   "metadata": {},
   "source": [
    "<!--NAVIGATION-->\n",
    "< [Trade Management](05.00 Trade Management.ipynb) | [Contents](Index.ipynb) | [Transaction History](07.00 Transaction History.ipynb) >\n"
   ]
  }
 ],
 "metadata": {
  "anaconda-cloud": {},
  "kernelspec": {
   "display_name": "Python 3",
   "language": "python",
   "name": "python3"
  },
  "language_info": {
   "codemirror_mode": {
    "name": "ipython",
    "version": 3
   },
   "file_extension": ".py",
   "mimetype": "text/x-python",
   "name": "python",
   "nbconvert_exporter": "python",
   "pygments_lexer": "ipython3",
   "version": "3.6.0"
  }
 },
 "nbformat": 4,
 "nbformat_minor": 1
}
