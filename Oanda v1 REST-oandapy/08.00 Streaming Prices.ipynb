{
 "cells": [
  {
   "cell_type": "markdown",
   "metadata": {},
   "source": [
    "<!--NAVIGATION-->\n",
    "< [Transaction History](07.00 Transaction History.ipynb) | [Contents](Index.ipynb) | [Bonus Materials I](09.00 Bonus Materials I.ipynb)>"
   ]
  },
  {
   "cell_type": "markdown",
   "metadata": {},
   "source": [
    "# Streaming Prices"
   ]
  },
  {
   "cell_type": "code",
   "execution_count": 1,
   "metadata": {
    "collapsed": true
   },
   "outputs": [],
   "source": [
    "from datetime import datetime, timedelta\n",
    "import pandas as pd\n",
    "import oandapy\n",
    "import configparser\n",
    "\n",
    "config = configparser.ConfigParser()\n",
    "config.read('../config/config_v1.ini')\n",
    "account_id = config['oanda']['account_id']\n",
    "api_key = config['oanda']['api_key']\n",
    "\n",
    "oanda = oandapy.API(environment=\"practice\", \n",
    "                    access_token=api_key)"
   ]
  },
  {
   "cell_type": "code",
   "execution_count": 2,
   "metadata": {
    "collapsed": true
   },
   "outputs": [],
   "source": [
    "class MyStreamer(oandapy.Streamer):\n",
    "    def __init__(self, count=10, *args, **kwargs):\n",
    "        super(MyStreamer, self).__init__(*args, **kwargs)\n",
    "        self.count = count\n",
    "        self.reccnt = 0\n",
    "\n",
    "    def on_success(self, data):\n",
    "        print(data, \"\\n\")\n",
    "        self.reccnt += 1\n",
    "        if self.reccnt == self.count:\n",
    "            self.disconnect()\n",
    "\n",
    "    def on_error(self, data):\n",
    "        self.disconnect()"
   ]
  },
  {
   "cell_type": "code",
   "execution_count": 3,
   "metadata": {
    "collapsed": false
   },
   "outputs": [
    {
     "name": "stdout",
     "output_type": "stream",
     "text": [
      "{'tick': {'time': '2017-01-27T13:55:54.881300Z', 'ask': 1.0695, 'bid': 1.06937, 'instrument': 'EUR_USD'}} \n",
      "\n",
      "{'tick': {'time': '2017-01-27T13:55:57.550989Z', 'ask': 123.202, 'bid': 123.184, 'instrument': 'EUR_JPY'}} \n",
      "\n",
      "{'tick': {'time': '2017-01-27T13:55:59.301785Z', 'ask': 123.206, 'bid': 123.188, 'instrument': 'EUR_JPY'}} \n",
      "\n",
      "{'tick': {'time': '2017-01-27T13:55:59.294828Z', 'ask': 1.06952, 'bid': 1.06939, 'instrument': 'EUR_USD'}} \n",
      "\n",
      "{'tick': {'time': '2017-01-27T13:55:59.611722Z', 'ask': 1.06953, 'bid': 1.06942, 'instrument': 'EUR_USD'}} \n",
      "\n",
      "{'tick': {'time': '2017-01-27T13:55:59.829196Z', 'ask': 1.06951, 'bid': 1.0694, 'instrument': 'EUR_USD'}} \n",
      "\n",
      "{'tick': {'time': '2017-01-27T13:55:59.917122Z', 'ask': 1.06949, 'bid': 1.06937, 'instrument': 'EUR_USD'}} \n",
      "\n",
      "{'heartbeat': {'time': '2017-01-27T13:56:00.013690Z'}} \n",
      "\n",
      "{'tick': {'time': '2017-01-27T13:56:00.163226Z', 'ask': 123.212, 'bid': 123.192, 'instrument': 'EUR_JPY'}} \n",
      "\n",
      "{'tick': {'time': '2017-01-27T13:56:00.621958Z', 'ask': 123.208, 'bid': 123.188, 'instrument': 'EUR_JPY'}} \n",
      "\n"
     ]
    }
   ],
   "source": [
    "stream = MyStreamer(environment=\"practice\", \n",
    "                    access_token=api_key)\n",
    "stream.rates(account_id, instruments=\"EUR_USD,EUR_JPY\")"
   ]
  },
  {
   "cell_type": "markdown",
   "metadata": {},
   "source": [
    "<!--NAVIGATION-->\n",
    "< [Transaction History](07.00 Transaction History.ipynb) | [Contents](Index.ipynb) | [Bonus Materials I](09.00 Bonus Materials I.ipynb)>"
   ]
  }
 ],
 "metadata": {
  "anaconda-cloud": {},
  "kernelspec": {
   "display_name": "Python 3",
   "language": "python",
   "name": "python3"
  },
  "language_info": {
   "codemirror_mode": {
    "name": "ipython",
    "version": 3
   },
   "file_extension": ".py",
   "mimetype": "text/x-python",
   "name": "python",
   "nbconvert_exporter": "python",
   "pygments_lexer": "ipython3",
   "version": "3.6.0"
  }
 },
 "nbformat": 4,
 "nbformat_minor": 1
}
