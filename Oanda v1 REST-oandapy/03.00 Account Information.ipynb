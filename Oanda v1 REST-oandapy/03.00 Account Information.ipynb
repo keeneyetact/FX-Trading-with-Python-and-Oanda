{
 "cells": [
  {
   "cell_type": "markdown",
   "metadata": {},
   "source": [
    "<!--NAVIGATION-->\n",
    "< [Rates Information](02.00 Rates Information.ipynb) | [Contents](Index.ipynb) | [Order Management](04.00 Order Management.ipynb) >"
   ]
  },
  {
   "cell_type": "markdown",
   "metadata": {},
   "source": [
    "# Account Information"
   ]
  },
  {
   "cell_type": "markdown",
   "metadata": {},
   "source": [
    "[Accounts](http://developer.oanda.com/rest-live/accounts/)"
   ]
  },
  {
   "cell_type": "markdown",
   "metadata": {
    "collapsed": true
   },
   "source": [
    "# Obtaining Account Information"
   ]
  },
  {
   "cell_type": "markdown",
   "metadata": {},
   "source": [
    "`get_accounts(self, **params)`\n",
    "\n",
    "This is assuming you have multiple accounts for the user"
   ]
  },
  {
   "cell_type": "code",
   "execution_count": 1,
   "metadata": {
    "collapsed": true
   },
   "outputs": [],
   "source": [
    "import pandas as pd\n",
    "import oandapy\n",
    "import configparser\n",
    "\n",
    "config = configparser.ConfigParser()\n",
    "config.read('../config/config_v1.ini')\n",
    "account_id = config['oanda']['account_id']\n",
    "api_key = config['oanda']['api_key']\n",
    "\n",
    "oanda = oandapy.API(environment=\"practice\", \n",
    "                    access_token=api_key)"
   ]
  },
  {
   "cell_type": "markdown",
   "metadata": {},
   "source": [
    "For a detailed explanation of the above, please refer to [Rates Information](02.00 Rates Information.ipynb)."
   ]
  },
  {
   "cell_type": "code",
   "execution_count": 2,
   "metadata": {
    "collapsed": false
   },
   "outputs": [
    {
     "name": "stdout",
     "output_type": "stream",
     "text": [
      "{'accounts': [{'accountCurrency': 'SGD', 'marginRate': 0.02, 'accountId': 7173488, 'accountName': 'Primary'}]}\n"
     ]
    }
   ],
   "source": [
    "response = oanda.get_accounts()\n",
    "print(response)"
   ]
  },
  {
   "cell_type": "code",
   "execution_count": 3,
   "metadata": {
    "collapsed": false
   },
   "outputs": [
    {
     "data": {
      "text/html": [
       "<div>\n",
       "<table border=\"1\" class=\"dataframe\">\n",
       "  <thead>\n",
       "    <tr style=\"text-align: right;\">\n",
       "      <th></th>\n",
       "      <th>accountCurrency</th>\n",
       "      <th>accountId</th>\n",
       "      <th>accountName</th>\n",
       "      <th>marginRate</th>\n",
       "    </tr>\n",
       "  </thead>\n",
       "  <tbody>\n",
       "    <tr>\n",
       "      <th>0</th>\n",
       "      <td>SGD</td>\n",
       "      <td>7173488</td>\n",
       "      <td>Primary</td>\n",
       "      <td>0.02</td>\n",
       "    </tr>\n",
       "  </tbody>\n",
       "</table>\n",
       "</div>"
      ],
      "text/plain": [
       "  accountCurrency  accountId accountName  marginRate\n",
       "0             SGD    7173488     Primary        0.02"
      ]
     },
     "execution_count": 3,
     "metadata": {},
     "output_type": "execute_result"
    }
   ],
   "source": [
    "pd.DataFrame(response['accounts'])"
   ]
  },
  {
   "cell_type": "markdown",
   "metadata": {},
   "source": [
    "# Obtaining Specific Account Information"
   ]
  },
  {
   "cell_type": "markdown",
   "metadata": {},
   "source": [
    "`get_account(self, account_id, **params)`"
   ]
  },
  {
   "cell_type": "code",
   "execution_count": 4,
   "metadata": {
    "collapsed": false
   },
   "outputs": [
    {
     "name": "stdout",
     "output_type": "stream",
     "text": [
      "{'openOrders': 0, 'marginUsed': 978.1169, 'realizedPl': -11.5872, 'marginRate': 0.02, 'accountCurrency': 'SGD', 'openTrades': 25, 'marginAvail': 99184.5286, 'accountName': 'Primary', 'accountId': 7173488, 'unrealizedPl': 174.3933, 'balance': 99988.2522}\n"
     ]
    }
   ],
   "source": [
    "response = oanda.get_account(account_id)\n",
    "print(response)"
   ]
  },
  {
   "cell_type": "code",
   "execution_count": 5,
   "metadata": {
    "collapsed": false
   },
   "outputs": [
    {
     "data": {
      "text/plain": [
       "accountCurrency        SGD\n",
       "accountId          7173488\n",
       "accountName        Primary\n",
       "balance            99988.3\n",
       "marginAvail        99184.5\n",
       "marginRate            0.02\n",
       "marginUsed         978.117\n",
       "openOrders               0\n",
       "openTrades              25\n",
       "realizedPl        -11.5872\n",
       "unrealizedPl       174.393\n",
       "dtype: object"
      ]
     },
     "execution_count": 5,
     "metadata": {},
     "output_type": "execute_result"
    }
   ],
   "source": [
    "pd.Series(response)"
   ]
  },
  {
   "cell_type": "code",
   "execution_count": 6,
   "metadata": {
    "collapsed": false
   },
   "outputs": [
    {
     "name": "stdout",
     "output_type": "stream",
     "text": [
      "174.3933\n"
     ]
    }
   ],
   "source": [
    "print(response['unrealizedPl'])"
   ]
  },
  {
   "cell_type": "markdown",
   "metadata": {},
   "source": [
    "<!--NAVIGATION-->\n",
    "< [Rates Information](02.00 Rates Information.ipynb) | [Contents](Index.ipynb) | [Order Management](04.00 Order Management.ipynb) >"
   ]
  }
 ],
 "metadata": {
  "anaconda-cloud": {},
  "kernelspec": {
   "display_name": "Python 3",
   "language": "python",
   "name": "python3"
  },
  "language_info": {
   "codemirror_mode": {
    "name": "ipython",
    "version": 3
   },
   "file_extension": ".py",
   "mimetype": "text/x-python",
   "name": "python",
   "nbconvert_exporter": "python",
   "pygments_lexer": "ipython3",
   "version": "3.6.0"
  }
 },
 "nbformat": 4,
 "nbformat_minor": 1
}
