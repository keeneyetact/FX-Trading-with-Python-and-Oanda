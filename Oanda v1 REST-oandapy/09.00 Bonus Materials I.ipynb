{
 "cells": [
  {
   "cell_type": "markdown",
   "metadata": {},
   "source": [
    "<!--NAVIGATION-->\n",
    "< [Streaming Prices](08.00 Streaming Prices.ipynb) | [Contents](Index.ipynb) | [Bonus Material II](10.00 Bonus Materials II.ipynb) >"
   ]
  },
  {
   "cell_type": "markdown",
   "metadata": {},
   "source": [
    "# Bonus Material I"
   ]
  },
  {
   "cell_type": "markdown",
   "metadata": {},
   "source": [
    "# FOREX LABS ENDPOINTS\n",
    "*Note: According to the documentation materials in these section are under development. So it may change at any point in time or become invalid*"
   ]
  },
  {
   "cell_type": "code",
   "execution_count": 1,
   "metadata": {
    "collapsed": true
   },
   "outputs": [],
   "source": [
    "import pandas as pd\n",
    "%matplotlib inline\n",
    "import seaborn as sns\n",
    "import oandapy\n",
    "import configparser\n",
    "\n",
    "config = configparser.ConfigParser()\n",
    "config.read('../config/config_v1.ini')\n",
    "account_id = config['oanda']['account_id']\n",
    "api_key = config['oanda']['api_key']\n",
    "\n",
    "oanda = oandapy.API(environment=\"practice\", \n",
    "                    access_token=api_key)"
   ]
  },
  {
   "cell_type": "markdown",
   "metadata": {
    "collapsed": true
   },
   "source": [
    "# Obtaining Historical Economic Calendar"
   ]
  },
  {
   "cell_type": "code",
   "execution_count": 2,
   "metadata": {
    "collapsed": false
   },
   "outputs": [],
   "source": [
    "calendar = oanda.get_eco_calendar(instrument=\"EUR_USD\", period=86400)"
   ]
  },
  {
   "cell_type": "code",
   "execution_count": 3,
   "metadata": {
    "collapsed": false,
    "scrolled": true
   },
   "outputs": [
    {
     "name": "stdout",
     "output_type": "stream",
     "text": [
      "[{'unit': '% m/m', 'timestamp': 1485783000, 'market': '0.5', 'actual': '0.5', 'previous': '0.2', 'title': 'Personal spending', 'impact': 2, 'forecast': '0.4', 'region': 'americas', 'currency': 'USD'}, {'unit': '% m/m', 'timestamp': 1485788400, 'market': '1.1', 'previous': '-2.5', 'title': 'Pending Home Sales', 'impact': 2, 'currency': 'USD', 'region': 'americas', 'actual': '1.6'}]\n"
     ]
    }
   ],
   "source": [
    "print(calendar)"
   ]
  },
  {
   "cell_type": "code",
   "execution_count": 4,
   "metadata": {
    "collapsed": false
   },
   "outputs": [
    {
     "data": {
      "text/html": [
       "<div>\n",
       "<table border=\"1\" class=\"dataframe\">\n",
       "  <thead>\n",
       "    <tr style=\"text-align: right;\">\n",
       "      <th></th>\n",
       "      <th>actual</th>\n",
       "      <th>currency</th>\n",
       "      <th>forecast</th>\n",
       "      <th>impact</th>\n",
       "      <th>market</th>\n",
       "      <th>previous</th>\n",
       "      <th>region</th>\n",
       "      <th>timestamp</th>\n",
       "      <th>title</th>\n",
       "      <th>unit</th>\n",
       "    </tr>\n",
       "  </thead>\n",
       "  <tbody>\n",
       "    <tr>\n",
       "      <th>0</th>\n",
       "      <td>0.5</td>\n",
       "      <td>USD</td>\n",
       "      <td>0.4</td>\n",
       "      <td>2</td>\n",
       "      <td>0.5</td>\n",
       "      <td>0.2</td>\n",
       "      <td>americas</td>\n",
       "      <td>2017-01-30 13:30:00</td>\n",
       "      <td>Personal spending</td>\n",
       "      <td>% m/m</td>\n",
       "    </tr>\n",
       "    <tr>\n",
       "      <th>1</th>\n",
       "      <td>1.6</td>\n",
       "      <td>USD</td>\n",
       "      <td>NaN</td>\n",
       "      <td>2</td>\n",
       "      <td>1.1</td>\n",
       "      <td>-2.5</td>\n",
       "      <td>americas</td>\n",
       "      <td>2017-01-30 15:00:00</td>\n",
       "      <td>Pending Home Sales</td>\n",
       "      <td>% m/m</td>\n",
       "    </tr>\n",
       "  </tbody>\n",
       "</table>\n",
       "</div>"
      ],
      "text/plain": [
       "  actual currency forecast  impact market previous    region  \\\n",
       "0    0.5      USD      0.4       2    0.5      0.2  americas   \n",
       "1    1.6      USD      NaN       2    1.1     -2.5  americas   \n",
       "\n",
       "            timestamp               title   unit  \n",
       "0 2017-01-30 13:30:00   Personal spending  % m/m  \n",
       "1 2017-01-30 15:00:00  Pending Home Sales  % m/m  "
      ]
     },
     "execution_count": 4,
     "metadata": {},
     "output_type": "execute_result"
    }
   ],
   "source": [
    "df = pd.DataFrame(calendar)\n",
    "df['timestamp'] = pd.to_datetime(df['timestamp'], unit='s')\n",
    "df.tail(10)"
   ]
  },
  {
   "cell_type": "markdown",
   "metadata": {},
   "source": [
    "***"
   ]
  },
  {
   "cell_type": "markdown",
   "metadata": {},
   "source": [
    "# Historical Position Ratios"
   ]
  },
  {
   "cell_type": "code",
   "execution_count": 5,
   "metadata": {
    "collapsed": false,
    "scrolled": true
   },
   "outputs": [
    {
     "name": "stdout",
     "output_type": "stream",
     "text": [
      "[[1485741600, 46.58, 114.4], [1485742801, 46.61, 114.44], [1485744001, 46.41, 114.41], [1485745201, 46.42, 114.34], [1485746400, 46.32, 114.32], [1485747600, 46.42, 114.37], [1485748801, 47.04, 114.42], [1485750001, 47.28, 114.46], [1485751200, 47.33, 114.5], [1485752400, 47.34, 114.5], [1485753601, 46.75, 114.44], [1485754800, 46.94, 114.51], [1485756001, 47.27, 114.59], [1485757200, 47.43, 114.63], [1485758400, 47.41, 114.59], [1485759601, 47.3, 114.58], [1485760800, 47.57, 114.69], [1485762001, 47.82, 114.72], [1485763200, 47.73, 114.7], [1485764400, 48.04, 114.89], [1485765601, 48.08, 114.82], [1485766801, 47.83, 114.81], [1485768001, 48, 114.72], [1485769200, 47.76, 114.7], [1485770401, 47.91, 114.69], [1485771601, 47.47, 114.66], [1485772800, 47.58, 114.65], [1485774001, 47.06, 114.59], [1485775200, 47.11, 114.62], [1485776400, 48.42, 114.69], [1485777601, 48.08, 114.68], [1485778801, 48.63, 114.66], [1485780001, 49.3, 114.73], [1485781201, 48.19, 114.61], [1485782401, 47.64, 114.47], [1485783600, 48.42, 114.51], [1485784800, 48.39, 114.5], [1485786001, 48.26, 114.39], [1485787201, 48.14, 114.32], [1485788401, 47.01, 114.28], [1485789601, 47.74, 114.03], [1485790801, 48.48, 113.87], [1485792001, 49.52, 113.86], [1485793201, 50.16, 113.88], [1485794400, 50.4, 113.79], [1485795601, 50.42, 113.86], [1485796801, 50.48, 113.72], [1485798000, 50.51, 113.57], [1485799200, 50.95, 113.6], [1485800400, 51.21, 113.66], [1485801600, 51.19, 113.68], [1485802801, 51.31, 113.62], [1485804001, 51.49, 113.7], [1485805201, 51.35, 113.73], [1485806401, 51.42, 113.68], [1485807600, 51.66, 113.57], [1485808800, 51.94, 113.56], [1485810001, 51.64, 113.71], [1485811201, 51.07, 113.76], [1485812401, 51.12, 113.8], [1485813601, 50.69, 113.78], [1485814801, 50.62, 113.77], [1485816001, 50.81, 113.7], [1485817201, 50.77, 113.74], [1485818401, 50.72, 113.79], [1485819600, 51.05, 113.76], [1485820801, 50.53, 113.68], [1485822000, 50.85, 113.67], [1485823200, 50.87, 113.7], [1485824401, 51.3, 113.77], [1485825601, 51.4, 113.8], [1485826801, 51.17, 113.73]]\n"
     ]
    }
   ],
   "source": [
    "response = oanda.get_historical_position_ratios(instrument='USD_JPY', \n",
    "                                                period=60)\n",
    "print(response['data']['USD_JPY']['data'])"
   ]
  },
  {
   "cell_type": "code",
   "execution_count": 6,
   "metadata": {
    "collapsed": false,
    "scrolled": true
   },
   "outputs": [
    {
     "data": {
      "text/html": [
       "<div>\n",
       "<table border=\"1\" class=\"dataframe\">\n",
       "  <thead>\n",
       "    <tr style=\"text-align: right;\">\n",
       "      <th></th>\n",
       "      <th>Timestamp</th>\n",
       "      <th>Long_pos_ratio</th>\n",
       "      <th>exchange_rate</th>\n",
       "    </tr>\n",
       "  </thead>\n",
       "  <tbody>\n",
       "    <tr>\n",
       "      <th>0</th>\n",
       "      <td>2017-01-30 02:00:00</td>\n",
       "      <td>46.58</td>\n",
       "      <td>114.40</td>\n",
       "    </tr>\n",
       "    <tr>\n",
       "      <th>1</th>\n",
       "      <td>2017-01-30 02:20:01</td>\n",
       "      <td>46.61</td>\n",
       "      <td>114.44</td>\n",
       "    </tr>\n",
       "    <tr>\n",
       "      <th>2</th>\n",
       "      <td>2017-01-30 02:40:01</td>\n",
       "      <td>46.41</td>\n",
       "      <td>114.41</td>\n",
       "    </tr>\n",
       "    <tr>\n",
       "      <th>3</th>\n",
       "      <td>2017-01-30 03:00:01</td>\n",
       "      <td>46.42</td>\n",
       "      <td>114.34</td>\n",
       "    </tr>\n",
       "    <tr>\n",
       "      <th>4</th>\n",
       "      <td>2017-01-30 03:20:00</td>\n",
       "      <td>46.32</td>\n",
       "      <td>114.32</td>\n",
       "    </tr>\n",
       "    <tr>\n",
       "      <th>5</th>\n",
       "      <td>2017-01-30 03:40:00</td>\n",
       "      <td>46.42</td>\n",
       "      <td>114.37</td>\n",
       "    </tr>\n",
       "    <tr>\n",
       "      <th>6</th>\n",
       "      <td>2017-01-30 04:00:01</td>\n",
       "      <td>47.04</td>\n",
       "      <td>114.42</td>\n",
       "    </tr>\n",
       "    <tr>\n",
       "      <th>7</th>\n",
       "      <td>2017-01-30 04:20:01</td>\n",
       "      <td>47.28</td>\n",
       "      <td>114.46</td>\n",
       "    </tr>\n",
       "    <tr>\n",
       "      <th>8</th>\n",
       "      <td>2017-01-30 04:40:00</td>\n",
       "      <td>47.33</td>\n",
       "      <td>114.50</td>\n",
       "    </tr>\n",
       "    <tr>\n",
       "      <th>9</th>\n",
       "      <td>2017-01-30 05:00:00</td>\n",
       "      <td>47.34</td>\n",
       "      <td>114.50</td>\n",
       "    </tr>\n",
       "    <tr>\n",
       "      <th>10</th>\n",
       "      <td>2017-01-30 05:20:01</td>\n",
       "      <td>46.75</td>\n",
       "      <td>114.44</td>\n",
       "    </tr>\n",
       "    <tr>\n",
       "      <th>11</th>\n",
       "      <td>2017-01-30 05:40:00</td>\n",
       "      <td>46.94</td>\n",
       "      <td>114.51</td>\n",
       "    </tr>\n",
       "    <tr>\n",
       "      <th>12</th>\n",
       "      <td>2017-01-30 06:00:01</td>\n",
       "      <td>47.27</td>\n",
       "      <td>114.59</td>\n",
       "    </tr>\n",
       "    <tr>\n",
       "      <th>13</th>\n",
       "      <td>2017-01-30 06:20:00</td>\n",
       "      <td>47.43</td>\n",
       "      <td>114.63</td>\n",
       "    </tr>\n",
       "    <tr>\n",
       "      <th>14</th>\n",
       "      <td>2017-01-30 06:40:00</td>\n",
       "      <td>47.41</td>\n",
       "      <td>114.59</td>\n",
       "    </tr>\n",
       "    <tr>\n",
       "      <th>15</th>\n",
       "      <td>2017-01-30 07:00:01</td>\n",
       "      <td>47.30</td>\n",
       "      <td>114.58</td>\n",
       "    </tr>\n",
       "    <tr>\n",
       "      <th>16</th>\n",
       "      <td>2017-01-30 07:20:00</td>\n",
       "      <td>47.57</td>\n",
       "      <td>114.69</td>\n",
       "    </tr>\n",
       "    <tr>\n",
       "      <th>17</th>\n",
       "      <td>2017-01-30 07:40:01</td>\n",
       "      <td>47.82</td>\n",
       "      <td>114.72</td>\n",
       "    </tr>\n",
       "    <tr>\n",
       "      <th>18</th>\n",
       "      <td>2017-01-30 08:00:00</td>\n",
       "      <td>47.73</td>\n",
       "      <td>114.70</td>\n",
       "    </tr>\n",
       "    <tr>\n",
       "      <th>19</th>\n",
       "      <td>2017-01-30 08:20:00</td>\n",
       "      <td>48.04</td>\n",
       "      <td>114.89</td>\n",
       "    </tr>\n",
       "    <tr>\n",
       "      <th>20</th>\n",
       "      <td>2017-01-30 08:40:01</td>\n",
       "      <td>48.08</td>\n",
       "      <td>114.82</td>\n",
       "    </tr>\n",
       "    <tr>\n",
       "      <th>21</th>\n",
       "      <td>2017-01-30 09:00:01</td>\n",
       "      <td>47.83</td>\n",
       "      <td>114.81</td>\n",
       "    </tr>\n",
       "    <tr>\n",
       "      <th>22</th>\n",
       "      <td>2017-01-30 09:20:01</td>\n",
       "      <td>48.00</td>\n",
       "      <td>114.72</td>\n",
       "    </tr>\n",
       "    <tr>\n",
       "      <th>23</th>\n",
       "      <td>2017-01-30 09:40:00</td>\n",
       "      <td>47.76</td>\n",
       "      <td>114.70</td>\n",
       "    </tr>\n",
       "    <tr>\n",
       "      <th>24</th>\n",
       "      <td>2017-01-30 10:00:01</td>\n",
       "      <td>47.91</td>\n",
       "      <td>114.69</td>\n",
       "    </tr>\n",
       "    <tr>\n",
       "      <th>25</th>\n",
       "      <td>2017-01-30 10:20:01</td>\n",
       "      <td>47.47</td>\n",
       "      <td>114.66</td>\n",
       "    </tr>\n",
       "    <tr>\n",
       "      <th>26</th>\n",
       "      <td>2017-01-30 10:40:00</td>\n",
       "      <td>47.58</td>\n",
       "      <td>114.65</td>\n",
       "    </tr>\n",
       "    <tr>\n",
       "      <th>27</th>\n",
       "      <td>2017-01-30 11:00:01</td>\n",
       "      <td>47.06</td>\n",
       "      <td>114.59</td>\n",
       "    </tr>\n",
       "    <tr>\n",
       "      <th>28</th>\n",
       "      <td>2017-01-30 11:20:00</td>\n",
       "      <td>47.11</td>\n",
       "      <td>114.62</td>\n",
       "    </tr>\n",
       "    <tr>\n",
       "      <th>29</th>\n",
       "      <td>2017-01-30 11:40:00</td>\n",
       "      <td>48.42</td>\n",
       "      <td>114.69</td>\n",
       "    </tr>\n",
       "    <tr>\n",
       "      <th>...</th>\n",
       "      <td>...</td>\n",
       "      <td>...</td>\n",
       "      <td>...</td>\n",
       "    </tr>\n",
       "    <tr>\n",
       "      <th>42</th>\n",
       "      <td>2017-01-30 16:00:01</td>\n",
       "      <td>49.52</td>\n",
       "      <td>113.86</td>\n",
       "    </tr>\n",
       "    <tr>\n",
       "      <th>43</th>\n",
       "      <td>2017-01-30 16:20:01</td>\n",
       "      <td>50.16</td>\n",
       "      <td>113.88</td>\n",
       "    </tr>\n",
       "    <tr>\n",
       "      <th>44</th>\n",
       "      <td>2017-01-30 16:40:00</td>\n",
       "      <td>50.40</td>\n",
       "      <td>113.79</td>\n",
       "    </tr>\n",
       "    <tr>\n",
       "      <th>45</th>\n",
       "      <td>2017-01-30 17:00:01</td>\n",
       "      <td>50.42</td>\n",
       "      <td>113.86</td>\n",
       "    </tr>\n",
       "    <tr>\n",
       "      <th>46</th>\n",
       "      <td>2017-01-30 17:20:01</td>\n",
       "      <td>50.48</td>\n",
       "      <td>113.72</td>\n",
       "    </tr>\n",
       "    <tr>\n",
       "      <th>47</th>\n",
       "      <td>2017-01-30 17:40:00</td>\n",
       "      <td>50.51</td>\n",
       "      <td>113.57</td>\n",
       "    </tr>\n",
       "    <tr>\n",
       "      <th>48</th>\n",
       "      <td>2017-01-30 18:00:00</td>\n",
       "      <td>50.95</td>\n",
       "      <td>113.60</td>\n",
       "    </tr>\n",
       "    <tr>\n",
       "      <th>49</th>\n",
       "      <td>2017-01-30 18:20:00</td>\n",
       "      <td>51.21</td>\n",
       "      <td>113.66</td>\n",
       "    </tr>\n",
       "    <tr>\n",
       "      <th>50</th>\n",
       "      <td>2017-01-30 18:40:00</td>\n",
       "      <td>51.19</td>\n",
       "      <td>113.68</td>\n",
       "    </tr>\n",
       "    <tr>\n",
       "      <th>51</th>\n",
       "      <td>2017-01-30 19:00:01</td>\n",
       "      <td>51.31</td>\n",
       "      <td>113.62</td>\n",
       "    </tr>\n",
       "    <tr>\n",
       "      <th>52</th>\n",
       "      <td>2017-01-30 19:20:01</td>\n",
       "      <td>51.49</td>\n",
       "      <td>113.70</td>\n",
       "    </tr>\n",
       "    <tr>\n",
       "      <th>53</th>\n",
       "      <td>2017-01-30 19:40:01</td>\n",
       "      <td>51.35</td>\n",
       "      <td>113.73</td>\n",
       "    </tr>\n",
       "    <tr>\n",
       "      <th>54</th>\n",
       "      <td>2017-01-30 20:00:01</td>\n",
       "      <td>51.42</td>\n",
       "      <td>113.68</td>\n",
       "    </tr>\n",
       "    <tr>\n",
       "      <th>55</th>\n",
       "      <td>2017-01-30 20:20:00</td>\n",
       "      <td>51.66</td>\n",
       "      <td>113.57</td>\n",
       "    </tr>\n",
       "    <tr>\n",
       "      <th>56</th>\n",
       "      <td>2017-01-30 20:40:00</td>\n",
       "      <td>51.94</td>\n",
       "      <td>113.56</td>\n",
       "    </tr>\n",
       "    <tr>\n",
       "      <th>57</th>\n",
       "      <td>2017-01-30 21:00:01</td>\n",
       "      <td>51.64</td>\n",
       "      <td>113.71</td>\n",
       "    </tr>\n",
       "    <tr>\n",
       "      <th>58</th>\n",
       "      <td>2017-01-30 21:20:01</td>\n",
       "      <td>51.07</td>\n",
       "      <td>113.76</td>\n",
       "    </tr>\n",
       "    <tr>\n",
       "      <th>59</th>\n",
       "      <td>2017-01-30 21:40:01</td>\n",
       "      <td>51.12</td>\n",
       "      <td>113.80</td>\n",
       "    </tr>\n",
       "    <tr>\n",
       "      <th>60</th>\n",
       "      <td>2017-01-30 22:00:01</td>\n",
       "      <td>50.69</td>\n",
       "      <td>113.78</td>\n",
       "    </tr>\n",
       "    <tr>\n",
       "      <th>61</th>\n",
       "      <td>2017-01-30 22:20:01</td>\n",
       "      <td>50.62</td>\n",
       "      <td>113.77</td>\n",
       "    </tr>\n",
       "    <tr>\n",
       "      <th>62</th>\n",
       "      <td>2017-01-30 22:40:01</td>\n",
       "      <td>50.81</td>\n",
       "      <td>113.70</td>\n",
       "    </tr>\n",
       "    <tr>\n",
       "      <th>63</th>\n",
       "      <td>2017-01-30 23:00:01</td>\n",
       "      <td>50.77</td>\n",
       "      <td>113.74</td>\n",
       "    </tr>\n",
       "    <tr>\n",
       "      <th>64</th>\n",
       "      <td>2017-01-30 23:20:01</td>\n",
       "      <td>50.72</td>\n",
       "      <td>113.79</td>\n",
       "    </tr>\n",
       "    <tr>\n",
       "      <th>65</th>\n",
       "      <td>2017-01-30 23:40:00</td>\n",
       "      <td>51.05</td>\n",
       "      <td>113.76</td>\n",
       "    </tr>\n",
       "    <tr>\n",
       "      <th>66</th>\n",
       "      <td>2017-01-31 00:00:01</td>\n",
       "      <td>50.53</td>\n",
       "      <td>113.68</td>\n",
       "    </tr>\n",
       "    <tr>\n",
       "      <th>67</th>\n",
       "      <td>2017-01-31 00:20:00</td>\n",
       "      <td>50.85</td>\n",
       "      <td>113.67</td>\n",
       "    </tr>\n",
       "    <tr>\n",
       "      <th>68</th>\n",
       "      <td>2017-01-31 00:40:00</td>\n",
       "      <td>50.87</td>\n",
       "      <td>113.70</td>\n",
       "    </tr>\n",
       "    <tr>\n",
       "      <th>69</th>\n",
       "      <td>2017-01-31 01:00:01</td>\n",
       "      <td>51.30</td>\n",
       "      <td>113.77</td>\n",
       "    </tr>\n",
       "    <tr>\n",
       "      <th>70</th>\n",
       "      <td>2017-01-31 01:20:01</td>\n",
       "      <td>51.40</td>\n",
       "      <td>113.80</td>\n",
       "    </tr>\n",
       "    <tr>\n",
       "      <th>71</th>\n",
       "      <td>2017-01-31 01:40:01</td>\n",
       "      <td>51.17</td>\n",
       "      <td>113.73</td>\n",
       "    </tr>\n",
       "  </tbody>\n",
       "</table>\n",
       "<p>72 rows × 3 columns</p>\n",
       "</div>"
      ],
      "text/plain": [
       "             Timestamp  Long_pos_ratio  exchange_rate\n",
       "0  2017-01-30 02:00:00           46.58         114.40\n",
       "1  2017-01-30 02:20:01           46.61         114.44\n",
       "2  2017-01-30 02:40:01           46.41         114.41\n",
       "3  2017-01-30 03:00:01           46.42         114.34\n",
       "4  2017-01-30 03:20:00           46.32         114.32\n",
       "5  2017-01-30 03:40:00           46.42         114.37\n",
       "6  2017-01-30 04:00:01           47.04         114.42\n",
       "7  2017-01-30 04:20:01           47.28         114.46\n",
       "8  2017-01-30 04:40:00           47.33         114.50\n",
       "9  2017-01-30 05:00:00           47.34         114.50\n",
       "10 2017-01-30 05:20:01           46.75         114.44\n",
       "11 2017-01-30 05:40:00           46.94         114.51\n",
       "12 2017-01-30 06:00:01           47.27         114.59\n",
       "13 2017-01-30 06:20:00           47.43         114.63\n",
       "14 2017-01-30 06:40:00           47.41         114.59\n",
       "15 2017-01-30 07:00:01           47.30         114.58\n",
       "16 2017-01-30 07:20:00           47.57         114.69\n",
       "17 2017-01-30 07:40:01           47.82         114.72\n",
       "18 2017-01-30 08:00:00           47.73         114.70\n",
       "19 2017-01-30 08:20:00           48.04         114.89\n",
       "20 2017-01-30 08:40:01           48.08         114.82\n",
       "21 2017-01-30 09:00:01           47.83         114.81\n",
       "22 2017-01-30 09:20:01           48.00         114.72\n",
       "23 2017-01-30 09:40:00           47.76         114.70\n",
       "24 2017-01-30 10:00:01           47.91         114.69\n",
       "25 2017-01-30 10:20:01           47.47         114.66\n",
       "26 2017-01-30 10:40:00           47.58         114.65\n",
       "27 2017-01-30 11:00:01           47.06         114.59\n",
       "28 2017-01-30 11:20:00           47.11         114.62\n",
       "29 2017-01-30 11:40:00           48.42         114.69\n",
       "..                 ...             ...            ...\n",
       "42 2017-01-30 16:00:01           49.52         113.86\n",
       "43 2017-01-30 16:20:01           50.16         113.88\n",
       "44 2017-01-30 16:40:00           50.40         113.79\n",
       "45 2017-01-30 17:00:01           50.42         113.86\n",
       "46 2017-01-30 17:20:01           50.48         113.72\n",
       "47 2017-01-30 17:40:00           50.51         113.57\n",
       "48 2017-01-30 18:00:00           50.95         113.60\n",
       "49 2017-01-30 18:20:00           51.21         113.66\n",
       "50 2017-01-30 18:40:00           51.19         113.68\n",
       "51 2017-01-30 19:00:01           51.31         113.62\n",
       "52 2017-01-30 19:20:01           51.49         113.70\n",
       "53 2017-01-30 19:40:01           51.35         113.73\n",
       "54 2017-01-30 20:00:01           51.42         113.68\n",
       "55 2017-01-30 20:20:00           51.66         113.57\n",
       "56 2017-01-30 20:40:00           51.94         113.56\n",
       "57 2017-01-30 21:00:01           51.64         113.71\n",
       "58 2017-01-30 21:20:01           51.07         113.76\n",
       "59 2017-01-30 21:40:01           51.12         113.80\n",
       "60 2017-01-30 22:00:01           50.69         113.78\n",
       "61 2017-01-30 22:20:01           50.62         113.77\n",
       "62 2017-01-30 22:40:01           50.81         113.70\n",
       "63 2017-01-30 23:00:01           50.77         113.74\n",
       "64 2017-01-30 23:20:01           50.72         113.79\n",
       "65 2017-01-30 23:40:00           51.05         113.76\n",
       "66 2017-01-31 00:00:01           50.53         113.68\n",
       "67 2017-01-31 00:20:00           50.85         113.67\n",
       "68 2017-01-31 00:40:00           50.87         113.70\n",
       "69 2017-01-31 01:00:01           51.30         113.77\n",
       "70 2017-01-31 01:20:01           51.40         113.80\n",
       "71 2017-01-31 01:40:01           51.17         113.73\n",
       "\n",
       "[72 rows x 3 columns]"
      ]
     },
     "execution_count": 6,
     "metadata": {},
     "output_type": "execute_result"
    }
   ],
   "source": [
    "df = pd.DataFrame(response['data']['USD_JPY']['data'])\n",
    "df.columns = [\"Timestamp\", \"Long_pos_ratio\", \"exchange_rate\"]\n",
    "df[\"Timestamp\"] = pd.to_datetime(df['Timestamp'], unit='s')\n",
    "df"
   ]
  },
  {
   "cell_type": "code",
   "execution_count": 7,
   "metadata": {
    "collapsed": true
   },
   "outputs": [],
   "source": [
    "df = df.set_index(\"Timestamp\")"
   ]
  },
  {
   "cell_type": "code",
   "execution_count": 8,
   "metadata": {
    "collapsed": false
   },
   "outputs": [
    {
     "data": {
      "image/png": "[encoded data removed]",
      "text/plain": [
       "<matplotlib.figure.Figure at 0x81c870ee80>"
      ]
     },
     "metadata": {},
     "output_type": "display_data"
    }
   ],
   "source": [
    "df['Long_pos_ratio'].plot();"
   ]
  },
  {
   "cell_type": "markdown",
   "metadata": {},
   "source": [
    "***"
   ]
  },
  {
   "cell_type": "markdown",
   "metadata": {},
   "source": [
    "# Get Historical Spread"
   ]
  },
  {
   "cell_type": "code",
   "execution_count": 9,
   "metadata": {
    "collapsed": false,
    "scrolled": true
   },
   "outputs": [
    {
     "name": "stdout",
     "output_type": "stream",
     "text": [
      "{'avg': [[1485820800, 2.95722], [1485821700, 2.763]], 'max': [[1485820800, 4], [1485821700, 3.8]], 'min': [[1485820800, 2.3], [1485821700, 2.3]]}\n"
     ]
    }
   ],
   "source": [
    "response = oanda.get_historical_spreads(instrument='GBP_USD', period=600)\n",
    "print(response)"
   ]
  },
  {
   "cell_type": "markdown",
   "metadata": {},
   "source": [
    "***"
   ]
  },
  {
   "cell_type": "markdown",
   "metadata": {},
   "source": [
    "# Commitments of Traders"
   ]
  },
  {
   "cell_type": "code",
   "execution_count": 10,
   "metadata": {
    "collapsed": false,
    "scrolled": true
   },
   "outputs": [
    {
     "name": "stdout",
     "output_type": "stream",
     "text": [
      "[{'unit': 'Contracts Of CAD 100,000', 'ncs': '15224', 'price': '1.000845', 'date': 1199768400, 'oi': '82454', 'ncl': '31648'}, {'unit': 'Contracts Of CAD 100,000', 'ncs': '15101', 'price': '1.010115', 'date': 1200373200, 'oi': '81827', 'ncl': '22866'}, {'unit': 'Contracts Of CAD 100,000', 'ncs': '16786', 'price': '1.02546', 'date': 1200978000, 'oi': '86378', 'ncl': '24463'}, {'unit': 'Contracts Of CAD 100,000', 'ncs': '21653', 'price': '1.019535', 'date': 1201582800, 'oi': '90907', 'ncl': '25948'}, {'unit': 'Contracts Of CAD 100,000', 'ncs': '20363', 'price': '1.000095', 'date': 1202187600, 'oi': '93574', 'ncl': '30603'}, {'unit': 'Contracts Of CAD 100,000', 'ncs': '22956', 'price': '0.999475', 'date': 1202792400, 'oi': '101187', 'ncl': '43391'}, {'unit': 'Contracts Of CAD 100,000', 'ncs': '21440', 'price': '1.005535', 'date': 1203397200, 'oi': '95614', 'ncl': '33387'}, {'unit': 'Contracts Of CAD 100,000', 'ncs': '24139', 'price': '1.002335', 'date': 1204002000, 'oi': '110073', 'ncl': '50323'}, {'unit': 'Contracts Of CAD 100,000', 'ncs': '23699', 'price': '0.994475', 'date': 1204606800, 'oi': '117986', 'ncl': '60105'}, {'unit': 'Contracts Of CAD 100,000', 'ncs': '21422', 'price': '0.992375', 'date': 1205208000, 'oi': '117606', 'ncl': '50353'}]\n"
     ]
    }
   ],
   "source": [
    "response = oanda.get_commitments_of_traders(instrument='USD_CAD')\n",
    "print(response['USD_CAD'][:10])"
   ]
  },
  {
   "cell_type": "markdown",
   "metadata": {},
   "source": [
    "***"
   ]
  },
  {
   "cell_type": "markdown",
   "metadata": {},
   "source": [
    "# Orderbook"
   ]
  },
  {
   "cell_type": "code",
   "execution_count": 11,
   "metadata": {
    "collapsed": false,
    "scrolled": false
   },
   "outputs": [],
   "source": [
    "response = oanda.get_orderbook(instrument=\"EUR_USD\", period=1)"
   ]
  },
  {
   "cell_type": "code",
   "execution_count": 12,
   "metadata": {
    "collapsed": false,
    "scrolled": false
   },
   "outputs": [
    {
     "data": {
      "text/html": [
       "<div>\n",
       "<table border=\"1\" class=\"dataframe\">\n",
       "  <thead>\n",
       "    <tr style=\"text-align: right;\">\n",
       "      <th></th>\n",
       "      <th>1485820801</th>\n",
       "      <th>1485822000</th>\n",
       "      <th>1485823200</th>\n",
       "      <th>1485824401</th>\n",
       "      <th>1485825601</th>\n",
       "      <th>1485826801</th>\n",
       "    </tr>\n",
       "  </thead>\n",
       "  <tbody>\n",
       "    <tr>\n",
       "      <th>price_points</th>\n",
       "      <td>{'1.087': {'pl': 0.2415, 'os': 0.2689, 'ps': 0...</td>\n",
       "      <td>{'1.087': {'pl': 0.2415, 'os': 0.2724, 'ps': 0...</td>\n",
       "      <td>{'1.087': {'pl': 0.2601, 'os': 0.2724, 'ps': 0...</td>\n",
       "      <td>{'1.087': {'pl': 0.2601, 'os': 0.2724, 'ps': 0...</td>\n",
       "      <td>{'1.087': {'pl': 0.2601, 'os': 0.2724, 'ps': 0...</td>\n",
       "      <td>{'1.087': {'pl': 0.2601, 'os': 0.2724, 'ps': 0...</td>\n",
       "    </tr>\n",
       "    <tr>\n",
       "      <th>rate</th>\n",
       "      <td>1.0708</td>\n",
       "      <td>1.0702</td>\n",
       "      <td>1.0699</td>\n",
       "      <td>1.0697</td>\n",
       "      <td>1.0697</td>\n",
       "      <td>1.0696</td>\n",
       "    </tr>\n",
       "  </tbody>\n",
       "</table>\n",
       "</div>"
      ],
      "text/plain": [
       "                                                     1485820801  \\\n",
       "price_points  {'1.087': {'pl': 0.2415, 'os': 0.2689, 'ps': 0...   \n",
       "rate                                                     1.0708   \n",
       "\n",
       "                                                     1485822000  \\\n",
       "price_points  {'1.087': {'pl': 0.2415, 'os': 0.2724, 'ps': 0...   \n",
       "rate                                                     1.0702   \n",
       "\n",
       "                                                     1485823200  \\\n",
       "price_points  {'1.087': {'pl': 0.2601, 'os': 0.2724, 'ps': 0...   \n",
       "rate                                                     1.0699   \n",
       "\n",
       "                                                     1485824401  \\\n",
       "price_points  {'1.087': {'pl': 0.2601, 'os': 0.2724, 'ps': 0...   \n",
       "rate                                                     1.0697   \n",
       "\n",
       "                                                     1485825601  \\\n",
       "price_points  {'1.087': {'pl': 0.2601, 'os': 0.2724, 'ps': 0...   \n",
       "rate                                                     1.0697   \n",
       "\n",
       "                                                     1485826801  \n",
       "price_points  {'1.087': {'pl': 0.2601, 'os': 0.2724, 'ps': 0...  \n",
       "rate                                                     1.0696  "
      ]
     },
     "execution_count": 12,
     "metadata": {},
     "output_type": "execute_result"
    }
   ],
   "source": [
    "pd.DataFrame(response)"
   ]
  },
  {
   "cell_type": "code",
   "execution_count": 13,
   "metadata": {
    "collapsed": false
   },
   "outputs": [
    {
     "data": {
      "text/html": [
       "<div>\n",
       "<table border=\"1\" class=\"dataframe\">\n",
       "  <thead>\n",
       "    <tr style=\"text-align: right;\">\n",
       "      <th></th>\n",
       "      <th>1.03</th>\n",
       "      <th>1.0305</th>\n",
       "      <th>1.031</th>\n",
       "      <th>1.0315</th>\n",
       "      <th>1.032</th>\n",
       "      <th>1.0325</th>\n",
       "      <th>1.033</th>\n",
       "      <th>1.0335</th>\n",
       "      <th>1.034</th>\n",
       "      <th>1.0345</th>\n",
       "      <th>...</th>\n",
       "      <th>1.106</th>\n",
       "      <th>1.1065</th>\n",
       "      <th>1.107</th>\n",
       "      <th>1.1075</th>\n",
       "      <th>1.108</th>\n",
       "      <th>1.1085</th>\n",
       "      <th>1.109</th>\n",
       "      <th>1.1095</th>\n",
       "      <th>1.11</th>\n",
       "      <th>1.1105</th>\n",
       "    </tr>\n",
       "  </thead>\n",
       "  <tbody>\n",
       "    <tr>\n",
       "      <th>ol</th>\n",
       "      <td>0.7606</td>\n",
       "      <td>0.8490</td>\n",
       "      <td>0.1592</td>\n",
       "      <td>0.7429</td>\n",
       "      <td>0.9375</td>\n",
       "      <td>0.8455</td>\n",
       "      <td>0.7358</td>\n",
       "      <td>1.2488</td>\n",
       "      <td>0.7606</td>\n",
       "      <td>0.1132</td>\n",
       "      <td>...</td>\n",
       "      <td>0.0460</td>\n",
       "      <td>0.0283</td>\n",
       "      <td>0.0495</td>\n",
       "      <td>0.0389</td>\n",
       "      <td>0.0495</td>\n",
       "      <td>0.0318</td>\n",
       "      <td>0.0495</td>\n",
       "      <td>0.0318</td>\n",
       "      <td>0.1840</td>\n",
       "      <td>0.0212</td>\n",
       "    </tr>\n",
       "    <tr>\n",
       "      <th>os</th>\n",
       "      <td>0.3538</td>\n",
       "      <td>0.2016</td>\n",
       "      <td>0.2158</td>\n",
       "      <td>0.1840</td>\n",
       "      <td>0.1981</td>\n",
       "      <td>0.2052</td>\n",
       "      <td>0.3219</td>\n",
       "      <td>0.4493</td>\n",
       "      <td>0.1769</td>\n",
       "      <td>0.1274</td>\n",
       "      <td>...</td>\n",
       "      <td>0.1663</td>\n",
       "      <td>0.1132</td>\n",
       "      <td>0.1592</td>\n",
       "      <td>0.1203</td>\n",
       "      <td>0.1521</td>\n",
       "      <td>0.1132</td>\n",
       "      <td>0.1309</td>\n",
       "      <td>0.1840</td>\n",
       "      <td>0.3219</td>\n",
       "      <td>0.0884</td>\n",
       "    </tr>\n",
       "    <tr>\n",
       "      <th>pl</th>\n",
       "      <td>0.0000</td>\n",
       "      <td>0.0000</td>\n",
       "      <td>0.0000</td>\n",
       "      <td>0.0000</td>\n",
       "      <td>0.0000</td>\n",
       "      <td>0.0000</td>\n",
       "      <td>0.0000</td>\n",
       "      <td>0.0000</td>\n",
       "      <td>0.0186</td>\n",
       "      <td>0.0000</td>\n",
       "      <td>...</td>\n",
       "      <td>0.1115</td>\n",
       "      <td>0.0929</td>\n",
       "      <td>0.0929</td>\n",
       "      <td>0.0557</td>\n",
       "      <td>0.1115</td>\n",
       "      <td>0.0743</td>\n",
       "      <td>0.0557</td>\n",
       "      <td>0.0929</td>\n",
       "      <td>0.1486</td>\n",
       "      <td>0.0557</td>\n",
       "    </tr>\n",
       "    <tr>\n",
       "      <th>ps</th>\n",
       "      <td>0.0000</td>\n",
       "      <td>0.0000</td>\n",
       "      <td>0.0000</td>\n",
       "      <td>0.0000</td>\n",
       "      <td>0.0000</td>\n",
       "      <td>0.0000</td>\n",
       "      <td>0.0000</td>\n",
       "      <td>0.0000</td>\n",
       "      <td>0.0372</td>\n",
       "      <td>0.0372</td>\n",
       "      <td>...</td>\n",
       "      <td>0.0000</td>\n",
       "      <td>0.0186</td>\n",
       "      <td>0.0000</td>\n",
       "      <td>0.0000</td>\n",
       "      <td>0.0372</td>\n",
       "      <td>0.0000</td>\n",
       "      <td>0.0000</td>\n",
       "      <td>0.0000</td>\n",
       "      <td>0.0186</td>\n",
       "      <td>0.0372</td>\n",
       "    </tr>\n",
       "  </tbody>\n",
       "</table>\n",
       "<p>4 rows × 162 columns</p>\n",
       "</div>"
      ],
      "text/plain": [
       "      1.03  1.0305   1.031  1.0315   1.032  1.0325   1.033  1.0335   1.034  \\\n",
       "ol  0.7606  0.8490  0.1592  0.7429  0.9375  0.8455  0.7358  1.2488  0.7606   \n",
       "os  0.3538  0.2016  0.2158  0.1840  0.1981  0.2052  0.3219  0.4493  0.1769   \n",
       "pl  0.0000  0.0000  0.0000  0.0000  0.0000  0.0000  0.0000  0.0000  0.0186   \n",
       "ps  0.0000  0.0000  0.0000  0.0000  0.0000  0.0000  0.0000  0.0000  0.0372   \n",
       "\n",
       "    1.0345   ...     1.106  1.1065   1.107  1.1075   1.108  1.1085   1.109  \\\n",
       "ol  0.1132   ...    0.0460  0.0283  0.0495  0.0389  0.0495  0.0318  0.0495   \n",
       "os  0.1274   ...    0.1663  0.1132  0.1592  0.1203  0.1521  0.1132  0.1309   \n",
       "pl  0.0000   ...    0.1115  0.0929  0.0929  0.0557  0.1115  0.0743  0.0557   \n",
       "ps  0.0372   ...    0.0000  0.0186  0.0000  0.0000  0.0372  0.0000  0.0000   \n",
       "\n",
       "    1.1095    1.11  1.1105  \n",
       "ol  0.0318  0.1840  0.0212  \n",
       "os  0.1840  0.3219  0.0884  \n",
       "pl  0.0929  0.1486  0.0557  \n",
       "ps  0.0000  0.0186  0.0372  \n",
       "\n",
       "[4 rows x 162 columns]"
      ]
     },
     "execution_count": 13,
     "metadata": {},
     "output_type": "execute_result"
    }
   ],
   "source": [
    "pd.DataFrame(response['1485820801']['price_points'])"
   ]
  },
  {
   "cell_type": "markdown",
   "metadata": {},
   "source": [
    "***"
   ]
  },
  {
   "cell_type": "markdown",
   "metadata": {},
   "source": [
    "# Auto Chartist"
   ]
  },
  {
   "cell_type": "code",
   "execution_count": 14,
   "metadata": {
    "collapsed": false,
    "scrolled": true
   },
   "outputs": [],
   "source": [
    "response = oanda.get_autochartist()"
   ]
  },
  {
   "cell_type": "code",
   "execution_count": 15,
   "metadata": {
    "collapsed": false,
    "scrolled": true
   },
   "outputs": [
    {
     "data": {
      "text/html": [
       "<div>\n",
       "<table border=\"1\" class=\"dataframe\">\n",
       "  <thead>\n",
       "    <tr style=\"text-align: right;\">\n",
       "      <th></th>\n",
       "      <th>data</th>\n",
       "      <th>id</th>\n",
       "      <th>instrument</th>\n",
       "      <th>meta</th>\n",
       "      <th>type</th>\n",
       "    </tr>\n",
       "  </thead>\n",
       "  <tbody>\n",
       "    <tr>\n",
       "      <th>0</th>\n",
       "      <td>{'patternendtime': 1485806400, 'points': {'res...</td>\n",
       "      <td>452007805</td>\n",
       "      <td>XPT_USD</td>\n",
       "      <td>{'length': 78, 'historicalstats': {'symbol': {...</td>\n",
       "      <td>chartpattern</td>\n",
       "    </tr>\n",
       "    <tr>\n",
       "      <th>1</th>\n",
       "      <td>{'patternendtime': 1485792000, 'points': {'res...</td>\n",
       "      <td>452005692</td>\n",
       "      <td>USB05Y_USD</td>\n",
       "      <td>{'length': 50, 'historicalstats': {'symbol': {...</td>\n",
       "      <td>chartpattern</td>\n",
       "    </tr>\n",
       "    <tr>\n",
       "      <th>2</th>\n",
       "      <td>{'patternendtime': 1485784800, 'points': {'res...</td>\n",
       "      <td>452004362</td>\n",
       "      <td>CAD_SGD</td>\n",
       "      <td>{'length': 69, 'historicalstats': {'symbol': {...</td>\n",
       "      <td>chartpattern</td>\n",
       "    </tr>\n",
       "    <tr>\n",
       "      <th>3</th>\n",
       "      <td>{'patternendtime': 1485784800, 'points': {'res...</td>\n",
       "      <td>452004356</td>\n",
       "      <td>XAU_SGD</td>\n",
       "      <td>{'length': 28, 'historicalstats': {'symbol': {...</td>\n",
       "      <td>chartpattern</td>\n",
       "    </tr>\n",
       "    <tr>\n",
       "      <th>4</th>\n",
       "      <td>{'patternendtime': 1485777600, 'points': {'res...</td>\n",
       "      <td>452003304</td>\n",
       "      <td>XAG_EUR</td>\n",
       "      <td>{'length': 26, 'historicalstats': {'symbol': {...</td>\n",
       "      <td>chartpattern</td>\n",
       "    </tr>\n",
       "  </tbody>\n",
       "</table>\n",
       "</div>"
      ],
      "text/plain": [
       "                                                data         id  instrument  \\\n",
       "0  {'patternendtime': 1485806400, 'points': {'res...  452007805     XPT_USD   \n",
       "1  {'patternendtime': 1485792000, 'points': {'res...  452005692  USB05Y_USD   \n",
       "2  {'patternendtime': 1485784800, 'points': {'res...  452004362     CAD_SGD   \n",
       "3  {'patternendtime': 1485784800, 'points': {'res...  452004356     XAU_SGD   \n",
       "4  {'patternendtime': 1485777600, 'points': {'res...  452003304     XAG_EUR   \n",
       "\n",
       "                                                meta          type  \n",
       "0  {'length': 78, 'historicalstats': {'symbol': {...  chartpattern  \n",
       "1  {'length': 50, 'historicalstats': {'symbol': {...  chartpattern  \n",
       "2  {'length': 69, 'historicalstats': {'symbol': {...  chartpattern  \n",
       "3  {'length': 28, 'historicalstats': {'symbol': {...  chartpattern  \n",
       "4  {'length': 26, 'historicalstats': {'symbol': {...  chartpattern  "
      ]
     },
     "execution_count": 15,
     "metadata": {},
     "output_type": "execute_result"
    }
   ],
   "source": [
    "pd.DataFrame(response['signals'][:5])"
   ]
  },
  {
   "cell_type": "markdown",
   "metadata": {},
   "source": [
    "<!--NAVIGATION-->\n",
    "< [Streaming Prices](08.00 Streaming Prices.ipynb) | [Contents](Index.ipynb) | [Bonus Material II](10.00 Bonus Materials II.ipynb) >"
   ]
  }
 ],
 "metadata": {
  "anaconda-cloud": {},
  "kernelspec": {
   "display_name": "Python 3",
   "language": "python",
   "name": "python3"
  },
  "language_info": {
   "codemirror_mode": {
    "name": "ipython",
    "version": 3
   },
   "file_extension": ".py",
   "mimetype": "text/x-python",
   "name": "python",
   "nbconvert_exporter": "python",
   "pygments_lexer": "ipython3",
   "version": "3.6.0"
  }
 },
 "nbformat": 4,
 "nbformat_minor": 1
}
