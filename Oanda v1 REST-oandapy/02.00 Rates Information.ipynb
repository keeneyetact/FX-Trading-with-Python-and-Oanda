{
 "cells": [
  {
   "cell_type": "markdown",
   "metadata": {},
   "source": [
    "<!--NAVIGATION-->\n",
    "< [Algorithmic Trading Architecture](01.03 Algorithmic Trading Architecture.ipynb) | [Contents](Index.ipynb) | [Account Information](03.00 Account Information.ipynb) >"
   ]
  },
  {
   "cell_type": "markdown",
   "metadata": {},
   "source": [
    "# Rates Information\n",
    "\n",
    "[Rates link](http://developer.oanda.com/rest-live/rates/)"
   ]
  },
  {
   "cell_type": "markdown",
   "metadata": {},
   "source": [
    "# Obtaining Market Rates"
   ]
  },
  {
   "cell_type": "markdown",
   "metadata": {
    "collapsed": true
   },
   "source": [
    "We are importing a couple of libraries to assist us with this task."
   ]
  },
  {
   "cell_type": "code",
   "execution_count": 1,
   "metadata": {
    "collapsed": true
   },
   "outputs": [],
   "source": [
    "import pandas as pd\n",
    "import oandapy\n",
    "import configparser"
   ]
  },
  {
   "cell_type": "code",
   "execution_count": 2,
   "metadata": {
    "collapsed": false
   },
   "outputs": [],
   "source": [
    "config = configparser.ConfigParser()\n",
    "config.read('../config/config_v1.ini')\n",
    "account_id = config['oanda']['account_id']\n",
    "api_key = config['oanda']['api_key']"
   ]
  },
  {
   "cell_type": "markdown",
   "metadata": {},
   "source": [
    "The `oandapy` wraps the Oanda API in a format that make our codes cleaner and the task of extracting information from the API easier.\n",
    "\n",
    "The `configparser` is an in-built Python library where it allows us to read configuration files easily. The documentation can be found via this [link](https://docs.python.org/3/library/configparser.html). It is a good practice to segregate your Python code from your API keys.\n",
    "\n",
    "Using the `configparser`, we extract the relevant Account ID and API Key information.\n",
    "\n",
    "We shall come back to the `pandas` library later."
   ]
  },
  {
   "cell_type": "code",
   "execution_count": 3,
   "metadata": {
    "collapsed": true
   },
   "outputs": [],
   "source": [
    "oanda = oandapy.API(environment=\"practice\", \n",
    "                    access_token=api_key)"
   ]
  },
  {
   "cell_type": "markdown",
   "metadata": {},
   "source": [
    "We instantiate (create an instance) to prepare for the API call we are about to make. We named this instance as `oanda`. This name is flexible. In this case, we follow the documentation provide in `oandapy`.\n",
    "\n",
    "We make a *request* call to oandas using their in-built API. All responses will be in JSON format. The `oandapy` wrapper convert the JSON to a native Python object saving us a lot of tidying up work. The code below make a `get_prices` request call to oanda. The data will be stored in the `response` variable. You can use any variable name instead of `response` for your code. I am using `response` here to maintain consistency with `oandapy`."
   ]
  },
  {
   "cell_type": "code",
   "execution_count": 4,
   "metadata": {
    "collapsed": false
   },
   "outputs": [
    {
     "name": "stdout",
     "output_type": "stream",
     "text": [
      "{'prices': [{'ask': 0.75469, 'time': '2017-01-27T13:53:35.761438Z', 'instrument': 'AUD_USD', 'bid': 0.75455}, {'ask': 0.72605, 'time': '2017-01-27T13:53:35.848960Z', 'instrument': 'NZD_USD', 'bid': 0.72587}, {'ask': 1.06915, 'time': '2017-01-27T13:53:35.776101Z', 'instrument': 'EUR_USD', 'bid': 1.06903}]}\n"
     ]
    }
   ],
   "source": [
    "response = oanda.get_prices(instruments=\n",
    "                            \"AUD_USD,NZD_USD,EUR_USD\")\n",
    "print(response)"
   ]
  },
  {
   "cell_type": "markdown",
   "metadata": {},
   "source": [
    "Using the instance we created earlier with the name `oanda`, we make an API call using `get_prices` method whilst passing the argument `instruments=\"AUD_USD,NZD_USD,EUR_USD\"` to the API. The argument provided tells the Oanda API to return information only on these instruments. All the data is to be stored in the `response` variable.\n",
    "\n",
    "We then print the variable to screen to observe what information has been returned.\n",
    "\n",
    "The returned data is in the format of **Python dictionary object**. We can tell that it is a Python dictionary object by the curly braces `{}`. \n",
    "\n",
    "`'prices'` here is the key. to access the dictionary elements, we use square brackets along with the key to obtain its value. Example:"
   ]
  },
  {
   "cell_type": "code",
   "execution_count": 5,
   "metadata": {
    "collapsed": false
   },
   "outputs": [
    {
     "data": {
      "text/plain": [
       "[{'ask': 0.75469,\n",
       "  'bid': 0.75455,\n",
       "  'instrument': 'AUD_USD',\n",
       "  'time': '2017-01-27T13:53:35.761438Z'},\n",
       " {'ask': 0.72605,\n",
       "  'bid': 0.72587,\n",
       "  'instrument': 'NZD_USD',\n",
       "  'time': '2017-01-27T13:53:35.848960Z'},\n",
       " {'ask': 1.06915,\n",
       "  'bid': 1.06903,\n",
       "  'instrument': 'EUR_USD',\n",
       "  'time': '2017-01-27T13:53:35.776101Z'}]"
      ]
     },
     "execution_count": 5,
     "metadata": {},
     "output_type": "execute_result"
    }
   ],
   "source": [
    "response['prices']"
   ]
  },
  {
   "cell_type": "markdown",
   "metadata": {},
   "source": [
    "The above value is in the format of **Python lists object**. Python lists object can be identified by the squared brackets `[]`.\n",
    "\n",
    "To access the `ask` price for the first lists object:"
   ]
  },
  {
   "cell_type": "code",
   "execution_count": 6,
   "metadata": {
    "collapsed": false
   },
   "outputs": [
    {
     "data": {
      "text/plain": [
       "0.75469"
      ]
     },
     "execution_count": 6,
     "metadata": {},
     "output_type": "execute_result"
    }
   ],
   "source": [
    "response[\"prices\"][0]['ask']"
   ]
  },
  {
   "cell_type": "markdown",
   "metadata": {},
   "source": [
    "We can store individual value for future use"
   ]
  },
  {
   "cell_type": "code",
   "execution_count": 7,
   "metadata": {
    "collapsed": false
   },
   "outputs": [
    {
     "name": "stdout",
     "output_type": "stream",
     "text": [
      "[2017-01-27T13:53:35.761438Z] AUD_USD bid=0.75455 ask=0.75469\n"
     ]
    }
   ],
   "source": [
    "data = response['prices']\n",
    "time_stamp = data[0]['time']\n",
    "instrument = data[0]['instrument']\n",
    "bid_price = data[0]['bid']\n",
    "ask_price = data[0]['ask']\n",
    "print(\"[{}] {} bid={} ask={}\".format(time_stamp, \n",
    "                                     instrument, \n",
    "                                     bid_price, \n",
    "                                     ask_price))"
   ]
  },
  {
   "cell_type": "markdown",
   "metadata": {},
   "source": [
    "We can also use the `pandas` DataFrame to display the value in a familiar and easier to read table format. The `pandas` library is a powerful library created for the sole purpose of data analysis"
   ]
  },
  {
   "cell_type": "code",
   "execution_count": 8,
   "metadata": {
    "collapsed": false
   },
   "outputs": [
    {
     "data": {
      "text/html": [
       "<div>\n",
       "<table border=\"1\" class=\"dataframe\">\n",
       "  <thead>\n",
       "    <tr style=\"text-align: right;\">\n",
       "      <th></th>\n",
       "      <th>ask</th>\n",
       "      <th>bid</th>\n",
       "      <th>instrument</th>\n",
       "      <th>time</th>\n",
       "    </tr>\n",
       "  </thead>\n",
       "  <tbody>\n",
       "    <tr>\n",
       "      <th>0</th>\n",
       "      <td>0.75469</td>\n",
       "      <td>0.75455</td>\n",
       "      <td>AUD_USD</td>\n",
       "      <td>2017-01-27T13:53:35.761438Z</td>\n",
       "    </tr>\n",
       "    <tr>\n",
       "      <th>1</th>\n",
       "      <td>0.72605</td>\n",
       "      <td>0.72587</td>\n",
       "      <td>NZD_USD</td>\n",
       "      <td>2017-01-27T13:53:35.848960Z</td>\n",
       "    </tr>\n",
       "    <tr>\n",
       "      <th>2</th>\n",
       "      <td>1.06915</td>\n",
       "      <td>1.06903</td>\n",
       "      <td>EUR_USD</td>\n",
       "      <td>2017-01-27T13:53:35.776101Z</td>\n",
       "    </tr>\n",
       "  </tbody>\n",
       "</table>\n",
       "</div>"
      ],
      "text/plain": [
       "       ask      bid instrument                         time\n",
       "0  0.75469  0.75455    AUD_USD  2017-01-27T13:53:35.761438Z\n",
       "1  0.72605  0.72587    NZD_USD  2017-01-27T13:53:35.848960Z\n",
       "2  1.06915  1.06903    EUR_USD  2017-01-27T13:53:35.776101Z"
      ]
     },
     "execution_count": 8,
     "metadata": {},
     "output_type": "execute_result"
    }
   ],
   "source": [
    "pd.DataFrame(response[\"prices\"])"
   ]
  },
  {
   "cell_type": "markdown",
   "metadata": {},
   "source": [
    "# Obtaining a List of Trabable Instruments"
   ]
  },
  {
   "cell_type": "markdown",
   "metadata": {},
   "source": [
    "`get_instruments(self, account_id, **params)`"
   ]
  },
  {
   "cell_type": "code",
   "execution_count": 9,
   "metadata": {
    "collapsed": false
   },
   "outputs": [
    {
     "data": {
      "text/html": [
       "<div>\n",
       "<table border=\"1\" class=\"dataframe\">\n",
       "  <thead>\n",
       "    <tr style=\"text-align: right;\">\n",
       "      <th></th>\n",
       "      <th>displayName</th>\n",
       "      <th>instrument</th>\n",
       "      <th>maxTradeUnits</th>\n",
       "      <th>pip</th>\n",
       "    </tr>\n",
       "  </thead>\n",
       "  <tbody>\n",
       "    <tr>\n",
       "      <th>0</th>\n",
       "      <td>AUD/CAD</td>\n",
       "      <td>AUD_CAD</td>\n",
       "      <td>10000000</td>\n",
       "      <td>0.0001</td>\n",
       "    </tr>\n",
       "    <tr>\n",
       "      <th>1</th>\n",
       "      <td>AUD/CHF</td>\n",
       "      <td>AUD_CHF</td>\n",
       "      <td>10000000</td>\n",
       "      <td>0.0001</td>\n",
       "    </tr>\n",
       "    <tr>\n",
       "      <th>2</th>\n",
       "      <td>AUD/HKD</td>\n",
       "      <td>AUD_HKD</td>\n",
       "      <td>10000000</td>\n",
       "      <td>0.0001</td>\n",
       "    </tr>\n",
       "    <tr>\n",
       "      <th>3</th>\n",
       "      <td>AUD/JPY</td>\n",
       "      <td>AUD_JPY</td>\n",
       "      <td>10000000</td>\n",
       "      <td>0.01</td>\n",
       "    </tr>\n",
       "    <tr>\n",
       "      <th>4</th>\n",
       "      <td>AUD/NZD</td>\n",
       "      <td>AUD_NZD</td>\n",
       "      <td>10000000</td>\n",
       "      <td>0.0001</td>\n",
       "    </tr>\n",
       "  </tbody>\n",
       "</table>\n",
       "</div>"
      ],
      "text/plain": [
       "  displayName instrument  maxTradeUnits     pip\n",
       "0     AUD/CAD    AUD_CAD       10000000  0.0001\n",
       "1     AUD/CHF    AUD_CHF       10000000  0.0001\n",
       "2     AUD/HKD    AUD_HKD       10000000  0.0001\n",
       "3     AUD/JPY    AUD_JPY       10000000    0.01\n",
       "4     AUD/NZD    AUD_NZD       10000000  0.0001"
      ]
     },
     "execution_count": 9,
     "metadata": {},
     "output_type": "execute_result"
    }
   ],
   "source": [
    "response = oanda.get_instruments(account_id)\n",
    "pd.DataFrame(response['instruments']).head()"
   ]
  },
  {
   "cell_type": "code",
   "execution_count": 10,
   "metadata": {
    "collapsed": false
   },
   "outputs": [
    {
     "data": {
      "text/html": [
       "<div>\n",
       "<table border=\"1\" class=\"dataframe\">\n",
       "  <thead>\n",
       "    <tr style=\"text-align: right;\">\n",
       "      <th></th>\n",
       "      <th>displayName</th>\n",
       "      <th>instrument</th>\n",
       "      <th>maxTradeUnits</th>\n",
       "      <th>pip</th>\n",
       "    </tr>\n",
       "  </thead>\n",
       "  <tbody>\n",
       "    <tr>\n",
       "      <th>89</th>\n",
       "      <td>Gold</td>\n",
       "      <td>XAU_USD</td>\n",
       "      <td>2000</td>\n",
       "      <td>0.01</td>\n",
       "    </tr>\n",
       "    <tr>\n",
       "      <th>90</th>\n",
       "      <td>Gold/Silver</td>\n",
       "      <td>XAU_XAG</td>\n",
       "      <td>2000</td>\n",
       "      <td>0.01</td>\n",
       "    </tr>\n",
       "    <tr>\n",
       "      <th>91</th>\n",
       "      <td>Palladium</td>\n",
       "      <td>XPD_USD</td>\n",
       "      <td>500</td>\n",
       "      <td>0.01</td>\n",
       "    </tr>\n",
       "    <tr>\n",
       "      <th>92</th>\n",
       "      <td>Platinum</td>\n",
       "      <td>XPT_USD</td>\n",
       "      <td>500</td>\n",
       "      <td>0.01</td>\n",
       "    </tr>\n",
       "    <tr>\n",
       "      <th>93</th>\n",
       "      <td>ZAR/JPY</td>\n",
       "      <td>ZAR_JPY</td>\n",
       "      <td>10000000</td>\n",
       "      <td>0.01</td>\n",
       "    </tr>\n",
       "  </tbody>\n",
       "</table>\n",
       "</div>"
      ],
      "text/plain": [
       "    displayName instrument  maxTradeUnits   pip\n",
       "89         Gold    XAU_USD           2000  0.01\n",
       "90  Gold/Silver    XAU_XAG           2000  0.01\n",
       "91    Palladium    XPD_USD            500  0.01\n",
       "92     Platinum    XPT_USD            500  0.01\n",
       "93      ZAR/JPY    ZAR_JPY       10000000  0.01"
      ]
     },
     "execution_count": 10,
     "metadata": {},
     "output_type": "execute_result"
    }
   ],
   "source": [
    "pd.DataFrame(response['instruments']).tail()"
   ]
  },
  {
   "cell_type": "markdown",
   "metadata": {},
   "source": [
    "# Getting Historical Prices"
   ]
  },
  {
   "cell_type": "markdown",
   "metadata": {},
   "source": [
    "`get_history(self, **params)`"
   ]
  },
  {
   "cell_type": "code",
   "execution_count": 11,
   "metadata": {
    "collapsed": false
   },
   "outputs": [
    {
     "name": "stdout",
     "output_type": "stream",
     "text": [
      "{'granularity': 'S5', 'instrument': 'EUR_USD', 'candles': [{'highAsk': 1.06781, 'complete': True, 'lowAsk': 1.06765, 'lowBid': 1.06753, 'closeBid': 1.0677, 'openAsk': 1.06765, 'openBid': 1.06753, 'time': '2017-01-27T13:06:40.000000Z', 'closeAsk': 1.06781, 'volume': 7, 'highBid': 1.0677}, {'highAsk': 1.0678, 'complete': True, 'lowAsk': 1.06774, 'lowBid': 1.0676, 'closeBid': 1.06768, 'openAsk': 1.0678, 'openBid': 1.06767, 'time': '2017-01-27T13:06:45.000000Z', 'closeAsk': 1.0678, 'volume': 6, 'highBid': 1.06768}, {'highAsk': 1.06791, 'complete': True, 'lowAsk': 1.06783, 'lowBid': 1.06771, 'closeBid': 1.06778, 'openAsk': 1.06783, 'openBid': 1.06771, 'time': '2017-01-27T13:06:50.000000Z', 'closeAsk': 1.06791, 'volume': 4, 'highBid': 1.06778}, {'highAsk': 1.06789, 'complete': True, 'lowAsk': 1.06787, 'lowBid': 1.06774, 'closeBid': 1.06774, 'openAsk': 1.06789, 'openBid': 1.06777, 'time': '2017-01-27T13:06:55.000000Z', 'closeAsk': 1.06787, 'volume': 4, 'highBid': 1.06777}, {'highAsk': 1.06789, 'complete': True, 'lowAsk': 1.06783, 'lowBid': 1.06771, 'closeBid': 1.06776, 'openAsk': 1.06783, 'openBid': 1.06771, 'time': '2017-01-27T13:07:00.000000Z', 'closeAsk': 1.06789, 'volume': 4, 'highBid': 1.06776}, {'highAsk': 1.06794, 'complete': True, 'lowAsk': 1.06781, 'lowBid': 1.06768, 'closeBid': 1.06768, 'openAsk': 1.06792, 'openBid': 1.06778, 'time': '2017-01-27T13:07:05.000000Z', 'closeAsk': 1.06781, 'volume': 7, 'highBid': 1.0678}, {'highAsk': 1.06779, 'complete': True, 'lowAsk': 1.06779, 'lowBid': 1.06765, 'closeBid': 1.06765, 'openAsk': 1.06779, 'openBid': 1.06765, 'time': '2017-01-27T13:07:10.000000Z', 'closeAsk': 1.06779, 'volume': 1, 'highBid': 1.06765}, {'highAsk': 1.06783, 'complete': True, 'lowAsk': 1.06781, 'lowBid': 1.06768, 'closeBid': 1.0677, 'openAsk': 1.06781, 'openBid': 1.06768, 'time': '2017-01-27T13:07:20.000000Z', 'closeAsk': 1.06783, 'volume': 2, 'highBid': 1.0677}, {'highAsk': 1.06787, 'complete': True, 'lowAsk': 1.06783, 'lowBid': 1.06771, 'closeBid': 1.06771, 'openAsk': 1.06785, 'openBid': 1.06773, 'time': '2017-01-27T13:07:25.000000Z', 'closeAsk': 1.06783, 'volume': 4, 'highBid': 1.06775}, {'highAsk': 1.06781, 'complete': True, 'lowAsk': 1.06781, 'lowBid': 1.06768, 'closeBid': 1.06768, 'openAsk': 1.06781, 'openBid': 1.06768, 'time': '2017-01-27T13:07:30.000000Z', 'closeAsk': 1.06781, 'volume': 1, 'highBid': 1.06768}, {'highAsk': 1.06782, 'complete': True, 'lowAsk': 1.06782, 'lowBid': 1.06771, 'closeBid': 1.06771, 'openAsk': 1.06782, 'openBid': 1.06771, 'time': '2017-01-27T13:07:35.000000Z', 'closeAsk': 1.06782, 'volume': 1, 'highBid': 1.06771}, {'highAsk': 1.0678, 'complete': True, 'lowAsk': 1.0678, 'lowBid': 1.06768, 'closeBid': 1.06768, 'openAsk': 1.0678, 'openBid': 1.06768, 'time': '2017-01-27T13:07:40.000000Z', 'closeAsk': 1.0678, 'volume': 1, 'highBid': 1.06768}, {'highAsk': 1.06779, 'complete': True, 'lowAsk': 1.06776, 'lowBid': 1.06763, 'closeBid': 1.06763, 'openAsk': 1.06779, 'openBid': 1.06765, 'time': '2017-01-27T13:07:45.000000Z', 'closeAsk': 1.06776, 'volume': 2, 'highBid': 1.06765}, {'highAsk': 1.06779, 'complete': True, 'lowAsk': 1.06779, 'lowBid': 1.06767, 'closeBid': 1.06767, 'openAsk': 1.06779, 'openBid': 1.06767, 'time': '2017-01-27T13:07:55.000000Z', 'closeAsk': 1.06779, 'volume': 1, 'highBid': 1.06767}, {'highAsk': 1.06782, 'complete': True, 'lowAsk': 1.06782, 'lowBid': 1.06769, 'closeBid': 1.06769, 'openAsk': 1.06782, 'openBid': 1.06769, 'time': '2017-01-27T13:08:00.000000Z', 'closeAsk': 1.06782, 'volume': 1, 'highBid': 1.06769}, {'highAsk': 1.06784, 'complete': True, 'lowAsk': 1.06782, 'lowBid': 1.06769, 'closeBid': 1.06772, 'openAsk': 1.06784, 'openBid': 1.06772, 'time': '2017-01-27T13:08:05.000000Z', 'closeAsk': 1.06784, 'volume': 3, 'highBid': 1.06772}, {'highAsk': 1.06789, 'complete': True, 'lowAsk': 1.06786, 'lowBid': 1.06774, 'closeBid': 1.06777, 'openAsk': 1.06786, 'openBid': 1.06774, 'time': '2017-01-27T13:08:20.000000Z', 'closeAsk': 1.06789, 'volume': 2, 'highBid': 1.06777}, {'highAsk': 1.06794, 'complete': True, 'lowAsk': 1.06792, 'lowBid': 1.0678, 'closeBid': 1.06783, 'openAsk': 1.06792, 'openBid': 1.0678, 'time': '2017-01-27T13:08:45.000000Z', 'closeAsk': 1.06794, 'volume': 2, 'highBid': 1.06783}, {'highAsk': 1.068, 'complete': True, 'lowAsk': 1.06795, 'lowBid': 1.06783, 'closeBid': 1.06783, 'openAsk': 1.06797, 'openBid': 1.06784, 'time': '2017-01-27T13:08:50.000000Z', 'closeAsk': 1.06795, 'volume': 4, 'highBid': 1.06787}, {'highAsk': 1.06798, 'complete': True, 'lowAsk': 1.06795, 'lowBid': 1.06782, 'closeBid': 1.06782, 'openAsk': 1.06798, 'openBid': 1.06785, 'time': '2017-01-27T13:08:55.000000Z', 'closeAsk': 1.06795, 'volume': 2, 'highBid': 1.06785}, {'highAsk': 1.06797, 'complete': True, 'lowAsk': 1.06797, 'lowBid': 1.06784, 'closeBid': 1.06784, 'openAsk': 1.06797, 'openBid': 1.06784, 'time': '2017-01-27T13:09:00.000000Z', 'closeAsk': 1.06797, 'volume': 1, 'highBid': 1.06784}, {'highAsk': 1.06799, 'complete': True, 'lowAsk': 1.06799, 'lowBid': 1.06787, 'closeBid': 1.06787, 'openAsk': 1.06799, 'openBid': 1.06787, 'time': '2017-01-27T13:09:05.000000Z', 'closeAsk': 1.06799, 'volume': 1, 'highBid': 1.06787}, {'highAsk': 1.06797, 'complete': True, 'lowAsk': 1.06795, 'lowBid': 1.06781, 'closeBid': 1.06781, 'openAsk': 1.06797, 'openBid': 1.06784, 'time': '2017-01-27T13:09:10.000000Z', 'closeAsk': 1.06795, 'volume': 2, 'highBid': 1.06784}, {'highAsk': 1.06794, 'complete': True, 'lowAsk': 1.06791, 'lowBid': 1.0678, 'closeBid': 1.06782, 'openAsk': 1.06791, 'openBid': 1.0678, 'time': '2017-01-27T13:09:15.000000Z', 'closeAsk': 1.06794, 'volume': 2, 'highBid': 1.06782}, {'highAsk': 1.06801, 'complete': True, 'lowAsk': 1.06795, 'lowBid': 1.06782, 'closeBid': 1.06789, 'openAsk': 1.06796, 'openBid': 1.06785, 'time': '2017-01-27T13:09:20.000000Z', 'closeAsk': 1.06801, 'volume': 4, 'highBid': 1.06789}, {'highAsk': 1.06799, 'complete': True, 'lowAsk': 1.06796, 'lowBid': 1.06784, 'closeBid': 1.06784, 'openAsk': 1.06799, 'openBid': 1.06785, 'time': '2017-01-27T13:09:25.000000Z', 'closeAsk': 1.06796, 'volume': 2, 'highBid': 1.06785}, {'highAsk': 1.06798, 'complete': True, 'lowAsk': 1.06798, 'lowBid': 1.06787, 'closeBid': 1.06787, 'openAsk': 1.06798, 'openBid': 1.06787, 'time': '2017-01-27T13:09:30.000000Z', 'closeAsk': 1.06798, 'volume': 1, 'highBid': 1.06787}, {'highAsk': 1.06803, 'complete': True, 'lowAsk': 1.06794, 'lowBid': 1.06781, 'closeBid': 1.06781, 'openAsk': 1.06796, 'openBid': 1.06784, 'time': '2017-01-27T13:09:35.000000Z', 'closeAsk': 1.06794, 'volume': 8, 'highBid': 1.06791}, {'highAsk': 1.06796, 'complete': True, 'lowAsk': 1.06796, 'lowBid': 1.06783, 'closeBid': 1.06783, 'openAsk': 1.06796, 'openBid': 1.06783, 'time': '2017-01-27T13:09:40.000000Z', 'closeAsk': 1.06796, 'volume': 1, 'highBid': 1.06783}, {'highAsk': 1.06797, 'complete': True, 'lowAsk': 1.06797, 'lowBid': 1.06786, 'closeBid': 1.06786, 'openAsk': 1.06797, 'openBid': 1.06786, 'time': '2017-01-27T13:10:00.000000Z', 'closeAsk': 1.06797, 'volume': 1, 'highBid': 1.06786}, {'highAsk': 1.06811, 'complete': True, 'lowAsk': 1.06794, 'lowBid': 1.06781, 'closeBid': 1.06798, 'openAsk': 1.06795, 'openBid': 1.06784, 'time': '2017-01-27T13:10:05.000000Z', 'closeAsk': 1.06811, 'volume': 11, 'highBid': 1.06798}, {'highAsk': 1.0682, 'complete': True, 'lowAsk': 1.06815, 'lowBid': 1.068, 'closeBid': 1.06804, 'openAsk': 1.06815, 'openBid': 1.068, 'time': '2017-01-27T13:10:10.000000Z', 'closeAsk': 1.0682, 'volume': 3, 'highBid': 1.06804}, {'highAsk': 1.06827, 'complete': True, 'lowAsk': 1.06821, 'lowBid': 1.06808, 'closeBid': 1.06813, 'openAsk': 1.06821, 'openBid': 1.06808, 'time': '2017-01-27T13:10:15.000000Z', 'closeAsk': 1.06825, 'volume': 7, 'highBid': 1.06815}, {'highAsk': 1.06823, 'complete': True, 'lowAsk': 1.06816, 'lowBid': 1.06803, 'closeBid': 1.06806, 'openAsk': 1.06823, 'openBid': 1.06811, 'time': '2017-01-27T13:10:20.000000Z', 'closeAsk': 1.06818, 'volume': 7, 'highBid': 1.06811}, {'highAsk': 1.0682, 'complete': True, 'lowAsk': 1.06816, 'lowBid': 1.06803, 'closeBid': 1.06806, 'openAsk': 1.0682, 'openBid': 1.06808, 'time': '2017-01-27T13:10:25.000000Z', 'closeAsk': 1.06819, 'volume': 4, 'highBid': 1.06808}, {'highAsk': 1.06823, 'complete': True, 'lowAsk': 1.06822, 'lowBid': 1.06808, 'closeBid': 1.06812, 'openAsk': 1.06822, 'openBid': 1.06808, 'time': '2017-01-27T13:10:30.000000Z', 'closeAsk': 1.06823, 'volume': 2, 'highBid': 1.06812}, {'highAsk': 1.06824, 'complete': True, 'lowAsk': 1.06816, 'lowBid': 1.06803, 'closeBid': 1.0681, 'openAsk': 1.06821, 'openBid': 1.0681, 'time': '2017-01-27T13:10:35.000000Z', 'closeAsk': 1.06824, 'volume': 6, 'highBid': 1.0681}, {'highAsk': 1.06821, 'complete': True, 'lowAsk': 1.06816, 'lowBid': 1.06803, 'closeBid': 1.06803, 'openAsk': 1.0682, 'openBid': 1.06808, 'time': '2017-01-27T13:10:40.000000Z', 'closeAsk': 1.06816, 'volume': 5, 'highBid': 1.06808}, {'highAsk': 1.06813, 'complete': True, 'lowAsk': 1.06813, 'lowBid': 1.06802, 'closeBid': 1.06802, 'openAsk': 1.06813, 'openBid': 1.06802, 'time': '2017-01-27T13:10:45.000000Z', 'closeAsk': 1.06813, 'volume': 1, 'highBid': 1.06802}, {'highAsk': 1.0681, 'complete': True, 'lowAsk': 1.0681, 'lowBid': 1.06798, 'closeBid': 1.06798, 'openAsk': 1.0681, 'openBid': 1.06798, 'time': '2017-01-27T13:10:50.000000Z', 'closeAsk': 1.0681, 'volume': 1, 'highBid': 1.06798}, {'highAsk': 1.06818, 'complete': True, 'lowAsk': 1.06812, 'lowBid': 1.068, 'closeBid': 1.06803, 'openAsk': 1.06812, 'openBid': 1.068, 'time': '2017-01-27T13:10:55.000000Z', 'closeAsk': 1.06815, 'volume': 4, 'highBid': 1.06805}, {'highAsk': 1.06813, 'complete': True, 'lowAsk': 1.0681, 'lowBid': 1.06798, 'closeBid': 1.06798, 'openAsk': 1.06813, 'openBid': 1.068, 'time': '2017-01-27T13:11:00.000000Z', 'closeAsk': 1.0681, 'volume': 2, 'highBid': 1.068}, {'highAsk': 1.06807, 'complete': True, 'lowAsk': 1.06807, 'lowBid': 1.06796, 'closeBid': 1.06796, 'openAsk': 1.06807, 'openBid': 1.06796, 'time': '2017-01-27T13:11:05.000000Z', 'closeAsk': 1.06807, 'volume': 1, 'highBid': 1.06796}, {'highAsk': 1.06805, 'complete': True, 'lowAsk': 1.06805, 'lowBid': 1.06793, 'closeBid': 1.06793, 'openAsk': 1.06805, 'openBid': 1.06793, 'time': '2017-01-27T13:11:10.000000Z', 'closeAsk': 1.06805, 'volume': 1, 'highBid': 1.06793}, {'highAsk': 1.06803, 'complete': True, 'lowAsk': 1.06803, 'lowBid': 1.06791, 'closeBid': 1.06791, 'openAsk': 1.06803, 'openBid': 1.06791, 'time': '2017-01-27T13:11:20.000000Z', 'closeAsk': 1.06803, 'volume': 1, 'highBid': 1.06791}, {'highAsk': 1.068, 'complete': True, 'lowAsk': 1.068, 'lowBid': 1.06787, 'closeBid': 1.06787, 'openAsk': 1.068, 'openBid': 1.06787, 'time': '2017-01-27T13:11:25.000000Z', 'closeAsk': 1.068, 'volume': 1, 'highBid': 1.06787}, {'highAsk': 1.06797, 'complete': True, 'lowAsk': 1.06792, 'lowBid': 1.0678, 'closeBid': 1.06782, 'openAsk': 1.06797, 'openBid': 1.06784, 'time': '2017-01-27T13:11:35.000000Z', 'closeAsk': 1.06796, 'volume': 4, 'highBid': 1.06784}, {'highAsk': 1.06798, 'complete': True, 'lowAsk': 1.06798, 'lowBid': 1.06785, 'closeBid': 1.06785, 'openAsk': 1.06798, 'openBid': 1.06785, 'time': '2017-01-27T13:11:40.000000Z', 'closeAsk': 1.06798, 'volume': 1, 'highBid': 1.06785}, {'highAsk': 1.0681, 'complete': True, 'lowAsk': 1.068, 'lowBid': 1.06789, 'closeBid': 1.06797, 'openAsk': 1.068, 'openBid': 1.06789, 'time': '2017-01-27T13:11:45.000000Z', 'closeAsk': 1.0681, 'volume': 5, 'highBid': 1.06797}, {'highAsk': 1.06819, 'complete': True, 'lowAsk': 1.06812, 'lowBid': 1.068, 'closeBid': 1.06807, 'openAsk': 1.06812, 'openBid': 1.068, 'time': '2017-01-27T13:11:50.000000Z', 'closeAsk': 1.06819, 'volume': 4, 'highBid': 1.06807}, {'highAsk': 1.06824, 'complete': True, 'lowAsk': 1.06823, 'lowBid': 1.0681, 'closeBid': 1.06813, 'openAsk': 1.06823, 'openBid': 1.0681, 'time': '2017-01-27T13:11:55.000000Z', 'closeAsk': 1.06824, 'volume': 2, 'highBid': 1.06813}, {'highAsk': 1.06827, 'complete': True, 'lowAsk': 1.0682, 'lowBid': 1.06807, 'closeBid': 1.06815, 'openAsk': 1.06822, 'openBid': 1.0681, 'time': '2017-01-27T13:12:00.000000Z', 'closeAsk': 1.06827, 'volume': 5, 'highBid': 1.06815}, {'highAsk': 1.06837, 'complete': True, 'lowAsk': 1.0683, 'lowBid': 1.06818, 'closeBid': 1.06821, 'openAsk': 1.0683, 'openBid': 1.06818, 'time': '2017-01-27T13:12:05.000000Z', 'closeAsk': 1.06833, 'volume': 6, 'highBid': 1.06823}, {'highAsk': 1.06833, 'complete': True, 'lowAsk': 1.06831, 'lowBid': 1.06817, 'closeBid': 1.06818, 'openAsk': 1.06831, 'openBid': 1.06817, 'time': '2017-01-27T13:12:10.000000Z', 'closeAsk': 1.06833, 'volume': 2, 'highBid': 1.06818}, {'highAsk': 1.06838, 'complete': True, 'lowAsk': 1.06834, 'lowBid': 1.06822, 'closeBid': 1.06822, 'openAsk': 1.06834, 'openBid': 1.06822, 'time': '2017-01-27T13:12:15.000000Z', 'closeAsk': 1.06836, 'volume': 3, 'highBid': 1.06824}, {'highAsk': 1.06832, 'complete': True, 'lowAsk': 1.0683, 'lowBid': 1.06818, 'closeBid': 1.06818, 'openAsk': 1.06832, 'openBid': 1.06821, 'time': '2017-01-27T13:12:20.000000Z', 'closeAsk': 1.0683, 'volume': 2, 'highBid': 1.06821}, {'highAsk': 1.06833, 'complete': True, 'lowAsk': 1.06833, 'lowBid': 1.06819, 'closeBid': 1.06819, 'openAsk': 1.06833, 'openBid': 1.06819, 'time': '2017-01-27T13:12:25.000000Z', 'closeAsk': 1.06833, 'volume': 1, 'highBid': 1.06819}, {'highAsk': 1.0683, 'complete': True, 'lowAsk': 1.06828, 'lowBid': 1.06815, 'closeBid': 1.06815, 'openAsk': 1.0683, 'openBid': 1.06818, 'time': '2017-01-27T13:12:30.000000Z', 'closeAsk': 1.06828, 'volume': 2, 'highBid': 1.06818}, {'highAsk': 1.0683, 'complete': True, 'lowAsk': 1.06818, 'lowBid': 1.06806, 'closeBid': 1.0681, 'openAsk': 1.0683, 'openBid': 1.06818, 'time': '2017-01-27T13:12:35.000000Z', 'closeAsk': 1.06823, 'volume': 8, 'highBid': 1.06818}, {'highAsk': 1.06821, 'complete': True, 'lowAsk': 1.06821, 'lowBid': 1.06807, 'closeBid': 1.06807, 'openAsk': 1.06821, 'openBid': 1.06807, 'time': '2017-01-27T13:12:40.000000Z', 'closeAsk': 1.06821, 'volume': 1, 'highBid': 1.06807}, {'highAsk': 1.0682, 'complete': True, 'lowAsk': 1.06818, 'lowBid': 1.06806, 'closeBid': 1.06808, 'openAsk': 1.06818, 'openBid': 1.06806, 'time': '2017-01-27T13:12:50.000000Z', 'closeAsk': 1.0682, 'volume': 2, 'highBid': 1.06808}, {'highAsk': 1.06823, 'complete': True, 'lowAsk': 1.06823, 'lowBid': 1.0681, 'closeBid': 1.0681, 'openAsk': 1.06823, 'openBid': 1.0681, 'time': '2017-01-27T13:13:00.000000Z', 'closeAsk': 1.06823, 'volume': 1, 'highBid': 1.0681}, {'highAsk': 1.06821, 'complete': True, 'lowAsk': 1.06812, 'lowBid': 1.06801, 'closeBid': 1.06801, 'openAsk': 1.06821, 'openBid': 1.06807, 'time': '2017-01-27T13:13:10.000000Z', 'closeAsk': 1.06812, 'volume': 4, 'highBid': 1.06807}, {'highAsk': 1.06815, 'complete': True, 'lowAsk': 1.06808, 'lowBid': 1.06795, 'closeBid': 1.06795, 'openAsk': 1.06815, 'openBid': 1.06802, 'time': '2017-01-27T13:13:15.000000Z', 'closeAsk': 1.06808, 'volume': 4, 'highBid': 1.06802}, {'highAsk': 1.06812, 'complete': True, 'lowAsk': 1.06803, 'lowBid': 1.0679, 'closeBid': 1.06793, 'openAsk': 1.06805, 'openBid': 1.06793, 'time': '2017-01-27T13:13:20.000000Z', 'closeAsk': 1.06808, 'volume': 8, 'highBid': 1.068}, {'highAsk': 1.06812, 'complete': True, 'lowAsk': 1.06808, 'lowBid': 1.06797, 'closeBid': 1.06799, 'openAsk': 1.06808, 'openBid': 1.06797, 'time': '2017-01-27T13:13:35.000000Z', 'closeAsk': 1.06812, 'volume': 2, 'highBid': 1.06799}, {'highAsk': 1.06817, 'complete': True, 'lowAsk': 1.06814, 'lowBid': 1.06802, 'closeBid': 1.06804, 'openAsk': 1.06814, 'openBid': 1.06802, 'time': '2017-01-27T13:13:40.000000Z', 'closeAsk': 1.06817, 'volume': 2, 'highBid': 1.06804}, {'highAsk': 1.06817, 'complete': True, 'lowAsk': 1.06814, 'lowBid': 1.06802, 'closeBid': 1.06804, 'openAsk': 1.06814, 'openBid': 1.06802, 'time': '2017-01-27T13:13:45.000000Z', 'closeAsk': 1.06817, 'volume': 2, 'highBid': 1.06804}, {'highAsk': 1.06821, 'complete': True, 'lowAsk': 1.06814, 'lowBid': 1.06801, 'closeBid': 1.06801, 'openAsk': 1.06819, 'openBid': 1.06807, 'time': '2017-01-27T13:13:50.000000Z', 'closeAsk': 1.06814, 'volume': 5, 'highBid': 1.06809}, {'highAsk': 1.06812, 'complete': True, 'lowAsk': 1.06809, 'lowBid': 1.06796, 'closeBid': 1.06796, 'openAsk': 1.06812, 'openBid': 1.06798, 'time': '2017-01-27T13:13:55.000000Z', 'closeAsk': 1.06809, 'volume': 2, 'highBid': 1.06798}, {'highAsk': 1.06812, 'complete': True, 'lowAsk': 1.06812, 'lowBid': 1.06799, 'closeBid': 1.06799, 'openAsk': 1.06812, 'openBid': 1.06799, 'time': '2017-01-27T13:14:00.000000Z', 'closeAsk': 1.06812, 'volume': 1, 'highBid': 1.06799}, {'highAsk': 1.06809, 'complete': True, 'lowAsk': 1.06809, 'lowBid': 1.06797, 'closeBid': 1.06797, 'openAsk': 1.06809, 'openBid': 1.06797, 'time': '2017-01-27T13:14:05.000000Z', 'closeAsk': 1.06809, 'volume': 1, 'highBid': 1.06797}, {'highAsk': 1.06812, 'complete': True, 'lowAsk': 1.06802, 'lowBid': 1.0679, 'closeBid': 1.06795, 'openAsk': 1.06812, 'openBid': 1.068, 'time': '2017-01-27T13:14:10.000000Z', 'closeAsk': 1.06807, 'volume': 7, 'highBid': 1.068}, {'highAsk': 1.06806, 'complete': True, 'lowAsk': 1.06806, 'lowBid': 1.06791, 'closeBid': 1.06791, 'openAsk': 1.06806, 'openBid': 1.06791, 'time': '2017-01-27T13:14:25.000000Z', 'closeAsk': 1.06806, 'volume': 1, 'highBid': 1.06791}, {'highAsk': 1.06805, 'complete': True, 'lowAsk': 1.06799, 'lowBid': 1.06787, 'closeBid': 1.06792, 'openAsk': 1.06802, 'openBid': 1.0679, 'time': '2017-01-27T13:14:30.000000Z', 'closeAsk': 1.06805, 'volume': 4, 'highBid': 1.06792}, {'highAsk': 1.06802, 'complete': True, 'lowAsk': 1.06802, 'lowBid': 1.0679, 'closeBid': 1.0679, 'openAsk': 1.06802, 'openBid': 1.0679, 'time': '2017-01-27T13:14:35.000000Z', 'closeAsk': 1.06802, 'volume': 1, 'highBid': 1.0679}, {'highAsk': 1.06805, 'complete': True, 'lowAsk': 1.06805, 'lowBid': 1.06792, 'closeBid': 1.06792, 'openAsk': 1.06805, 'openBid': 1.06792, 'time': '2017-01-27T13:14:40.000000Z', 'closeAsk': 1.06805, 'volume': 1, 'highBid': 1.06792}, {'highAsk': 1.06812, 'complete': True, 'lowAsk': 1.06806, 'lowBid': 1.06794, 'closeBid': 1.06794, 'openAsk': 1.06806, 'openBid': 1.06796, 'time': '2017-01-27T13:14:45.000000Z', 'closeAsk': 1.06809, 'volume': 5, 'highBid': 1.068}, {'highAsk': 1.06813, 'complete': True, 'lowAsk': 1.06809, 'lowBid': 1.06794, 'closeBid': 1.06798, 'openAsk': 1.06811, 'openBid': 1.06797, 'time': '2017-01-27T13:14:50.000000Z', 'closeAsk': 1.0681, 'volume': 5, 'highBid': 1.06799}, {'highAsk': 1.06812, 'complete': True, 'lowAsk': 1.06809, 'lowBid': 1.06798, 'closeBid': 1.06798, 'openAsk': 1.06812, 'openBid': 1.068, 'time': '2017-01-27T13:14:55.000000Z', 'closeAsk': 1.06809, 'volume': 4, 'highBid': 1.068}, {'highAsk': 1.0683, 'complete': True, 'lowAsk': 1.06813, 'lowBid': 1.068, 'closeBid': 1.06817, 'openAsk': 1.06813, 'openBid': 1.068, 'time': '2017-01-27T13:15:00.000000Z', 'closeAsk': 1.0683, 'volume': 11, 'highBid': 1.06817}, {'highAsk': 1.06827, 'complete': True, 'lowAsk': 1.06826, 'lowBid': 1.06811, 'closeBid': 1.06811, 'openAsk': 1.06827, 'openBid': 1.06814, 'time': '2017-01-27T13:15:05.000000Z', 'closeAsk': 1.06826, 'volume': 2, 'highBid': 1.06814}, {'highAsk': 1.06822, 'complete': True, 'lowAsk': 1.06815, 'lowBid': 1.06801, 'closeBid': 1.06807, 'openAsk': 1.06822, 'openBid': 1.06809, 'time': '2017-01-27T13:15:10.000000Z', 'closeAsk': 1.06819, 'volume': 6, 'highBid': 1.06809}, {'highAsk': 1.06818, 'complete': True, 'lowAsk': 1.06812, 'lowBid': 1.068, 'closeBid': 1.068, 'openAsk': 1.06818, 'openBid': 1.06804, 'time': '2017-01-27T13:15:15.000000Z', 'closeAsk': 1.06812, 'volume': 3, 'highBid': 1.06804}, {'highAsk': 1.06817, 'complete': True, 'lowAsk': 1.06815, 'lowBid': 1.06801, 'closeBid': 1.06801, 'openAsk': 1.06815, 'openBid': 1.06802, 'time': '2017-01-27T13:15:20.000000Z', 'closeAsk': 1.06815, 'volume': 5, 'highBid': 1.06804}, {'highAsk': 1.06812, 'complete': True, 'lowAsk': 1.06809, 'lowBid': 1.06796, 'closeBid': 1.06796, 'openAsk': 1.06812, 'openBid': 1.06798, 'time': '2017-01-27T13:15:25.000000Z', 'closeAsk': 1.06809, 'volume': 2, 'highBid': 1.06798}, {'highAsk': 1.06807, 'complete': True, 'lowAsk': 1.06804, 'lowBid': 1.06791, 'closeBid': 1.06791, 'openAsk': 1.06807, 'openBid': 1.06793, 'time': '2017-01-27T13:15:30.000000Z', 'closeAsk': 1.06804, 'volume': 2, 'highBid': 1.06793}, {'highAsk': 1.06807, 'complete': True, 'lowAsk': 1.06807, 'lowBid': 1.06793, 'closeBid': 1.06793, 'openAsk': 1.06807, 'openBid': 1.06793, 'time': '2017-01-27T13:15:35.000000Z', 'closeAsk': 1.06807, 'volume': 1, 'highBid': 1.06793}, {'highAsk': 1.06806, 'complete': True, 'lowAsk': 1.06804, 'lowBid': 1.06792, 'closeBid': 1.06794, 'openAsk': 1.06804, 'openBid': 1.06792, 'time': '2017-01-27T13:15:40.000000Z', 'closeAsk': 1.06806, 'volume': 2, 'highBid': 1.06794}, {'highAsk': 1.06804, 'complete': True, 'lowAsk': 1.06804, 'lowBid': 1.06792, 'closeBid': 1.06792, 'openAsk': 1.06804, 'openBid': 1.06792, 'time': '2017-01-27T13:15:45.000000Z', 'closeAsk': 1.06804, 'volume': 1, 'highBid': 1.06792}, {'highAsk': 1.06806, 'complete': True, 'lowAsk': 1.06806, 'lowBid': 1.06794, 'closeBid': 1.06794, 'openAsk': 1.06806, 'openBid': 1.06794, 'time': '2017-01-27T13:15:50.000000Z', 'closeAsk': 1.06806, 'volume': 1, 'highBid': 1.06794}, {'highAsk': 1.06809, 'complete': True, 'lowAsk': 1.06798, 'lowBid': 1.06786, 'closeBid': 1.06786, 'openAsk': 1.06809, 'openBid': 1.06797, 'time': '2017-01-27T13:16:10.000000Z', 'closeAsk': 1.06798, 'volume': 5, 'highBid': 1.06797}, {'highAsk': 1.068, 'complete': True, 'lowAsk': 1.06798, 'lowBid': 1.06786, 'closeBid': 1.06786, 'openAsk': 1.068, 'openBid': 1.06788, 'time': '2017-01-27T13:16:15.000000Z', 'closeAsk': 1.06798, 'volume': 2, 'highBid': 1.06788}, {'highAsk': 1.06795, 'complete': True, 'lowAsk': 1.0679, 'lowBid': 1.06778, 'closeBid': 1.0678, 'openAsk': 1.06795, 'openBid': 1.06783, 'time': '2017-01-27T13:16:25.000000Z', 'closeAsk': 1.06792, 'volume': 4, 'highBid': 1.06783}, {'highAsk': 1.06795, 'complete': True, 'lowAsk': 1.06791, 'lowBid': 1.06777, 'closeBid': 1.06783, 'openAsk': 1.06791, 'openBid': 1.06777, 'time': '2017-01-27T13:16:30.000000Z', 'closeAsk': 1.06795, 'volume': 5, 'highBid': 1.06783}, {'highAsk': 1.06801, 'complete': True, 'lowAsk': 1.06792, 'lowBid': 1.06781, 'closeBid': 1.06785, 'openAsk': 1.06792, 'openBid': 1.06781, 'time': '2017-01-27T13:16:35.000000Z', 'closeAsk': 1.06799, 'volume': 5, 'highBid': 1.06789}, {'highAsk': 1.06803, 'complete': True, 'lowAsk': 1.06799, 'lowBid': 1.06785, 'closeBid': 1.06785, 'openAsk': 1.068, 'openBid': 1.06788, 'time': '2017-01-27T13:16:40.000000Z', 'closeAsk': 1.06799, 'volume': 4, 'highBid': 1.06791}, {'highAsk': 1.068, 'complete': True, 'lowAsk': 1.06796, 'lowBid': 1.06783, 'closeBid': 1.06786, 'openAsk': 1.06796, 'openBid': 1.06783, 'time': '2017-01-27T13:16:50.000000Z', 'closeAsk': 1.068, 'volume': 2, 'highBid': 1.06786}, {'highAsk': 1.06802, 'complete': True, 'lowAsk': 1.06802, 'lowBid': 1.0679, 'closeBid': 1.0679, 'openAsk': 1.06802, 'openBid': 1.0679, 'time': '2017-01-27T13:16:55.000000Z', 'closeAsk': 1.06802, 'volume': 1, 'highBid': 1.0679}, {'highAsk': 1.06814, 'complete': True, 'lowAsk': 1.06805, 'lowBid': 1.06793, 'closeBid': 1.06802, 'openAsk': 1.06805, 'openBid': 1.06793, 'time': '2017-01-27T13:17:05.000000Z', 'closeAsk': 1.06814, 'volume': 5, 'highBid': 1.06802}, {'highAsk': 1.06812, 'complete': True, 'lowAsk': 1.06811, 'lowBid': 1.06797, 'closeBid': 1.06797, 'openAsk': 1.06812, 'openBid': 1.068, 'time': '2017-01-27T13:17:10.000000Z', 'closeAsk': 1.06811, 'volume': 2, 'highBid': 1.068}, {'highAsk': 1.06806, 'complete': True, 'lowAsk': 1.06806, 'lowBid': 1.06796, 'closeBid': 1.06796, 'openAsk': 1.06806, 'openBid': 1.06796, 'time': '2017-01-27T13:17:15.000000Z', 'closeAsk': 1.06806, 'volume': 1, 'highBid': 1.06796}, {'highAsk': 1.06806, 'complete': True, 'lowAsk': 1.06802, 'lowBid': 1.0679, 'closeBid': 1.06793, 'openAsk': 1.06804, 'openBid': 1.06793, 'time': '2017-01-27T13:17:30.000000Z', 'closeAsk': 1.06806, 'volume': 3, 'highBid': 1.06793}, {'highAsk': 1.06808, 'complete': True, 'lowAsk': 1.06808, 'lowBid': 1.06796, 'closeBid': 1.06796, 'openAsk': 1.06808, 'openBid': 1.06796, 'time': '2017-01-27T13:17:35.000000Z', 'closeAsk': 1.06808, 'volume': 1, 'highBid': 1.06796}, {'highAsk': 1.0682, 'complete': True, 'lowAsk': 1.06812, 'lowBid': 1.06797, 'closeBid': 1.06806, 'openAsk': 1.06812, 'openBid': 1.06797, 'time': '2017-01-27T13:17:40.000000Z', 'closeAsk': 1.0682, 'volume': 6, 'highBid': 1.06806}, {'highAsk': 1.06828, 'complete': True, 'lowAsk': 1.06822, 'lowBid': 1.06809, 'closeBid': 1.06813, 'openAsk': 1.06822, 'openBid': 1.06809, 'time': '2017-01-27T13:17:45.000000Z', 'closeAsk': 1.06828, 'volume': 3, 'highBid': 1.06813}, {'highAsk': 1.06829, 'complete': True, 'lowAsk': 1.06826, 'lowBid': 1.06813, 'closeBid': 1.06816, 'openAsk': 1.06829, 'openBid': 1.06816, 'time': '2017-01-27T13:17:50.000000Z', 'closeAsk': 1.06828, 'volume': 3, 'highBid': 1.06816}, {'highAsk': 1.06825, 'complete': True, 'lowAsk': 1.06821, 'lowBid': 1.06808, 'closeBid': 1.0681, 'openAsk': 1.06825, 'openBid': 1.06813, 'time': '2017-01-27T13:18:00.000000Z', 'closeAsk': 1.06823, 'volume': 4, 'highBid': 1.06813}, {'highAsk': 1.06821, 'complete': True, 'lowAsk': 1.06821, 'lowBid': 1.06808, 'closeBid': 1.06808, 'openAsk': 1.06821, 'openBid': 1.06808, 'time': '2017-01-27T13:18:05.000000Z', 'closeAsk': 1.06821, 'volume': 1, 'highBid': 1.06808}, {'highAsk': 1.06824, 'complete': True, 'lowAsk': 1.06824, 'lowBid': 1.0681, 'closeBid': 1.0681, 'openAsk': 1.06824, 'openBid': 1.0681, 'time': '2017-01-27T13:18:10.000000Z', 'closeAsk': 1.06824, 'volume': 1, 'highBid': 1.0681}, {'highAsk': 1.06831, 'complete': True, 'lowAsk': 1.06825, 'lowBid': 1.06814, 'closeBid': 1.06818, 'openAsk': 1.06825, 'openBid': 1.06814, 'time': '2017-01-27T13:18:15.000000Z', 'closeAsk': 1.06831, 'volume': 5, 'highBid': 1.06818}, {'highAsk': 1.06833, 'complete': True, 'lowAsk': 1.06831, 'lowBid': 1.06819, 'closeBid': 1.06819, 'openAsk': 1.06833, 'openBid': 1.06821, 'time': '2017-01-27T13:18:25.000000Z', 'closeAsk': 1.06831, 'volume': 2, 'highBid': 1.06821}, {'highAsk': 1.06834, 'complete': True, 'lowAsk': 1.06834, 'lowBid': 1.06821, 'closeBid': 1.06821, 'openAsk': 1.06834, 'openBid': 1.06821, 'time': '2017-01-27T13:18:30.000000Z', 'closeAsk': 1.06834, 'volume': 1, 'highBid': 1.06821}, {'highAsk': 1.06832, 'complete': True, 'lowAsk': 1.06829, 'lowBid': 1.06817, 'closeBid': 1.06817, 'openAsk': 1.06832, 'openBid': 1.06819, 'time': '2017-01-27T13:18:35.000000Z', 'closeAsk': 1.06829, 'volume': 2, 'highBid': 1.06819}, {'highAsk': 1.06829, 'complete': True, 'lowAsk': 1.06824, 'lowBid': 1.06812, 'closeBid': 1.06817, 'openAsk': 1.06827, 'openBid': 1.06814, 'time': '2017-01-27T13:18:40.000000Z', 'closeAsk': 1.06828, 'volume': 8, 'highBid': 1.06817}, {'highAsk': 1.06826, 'complete': True, 'lowAsk': 1.06826, 'lowBid': 1.06814, 'closeBid': 1.06814, 'openAsk': 1.06826, 'openBid': 1.06814, 'time': '2017-01-27T13:18:45.000000Z', 'closeAsk': 1.06826, 'volume': 1, 'highBid': 1.06814}, {'highAsk': 1.06829, 'complete': True, 'lowAsk': 1.06829, 'lowBid': 1.06816, 'closeBid': 1.06816, 'openAsk': 1.06829, 'openBid': 1.06816, 'time': '2017-01-27T13:18:55.000000Z', 'closeAsk': 1.06829, 'volume': 1, 'highBid': 1.06816}, {'highAsk': 1.06826, 'complete': True, 'lowAsk': 1.06826, 'lowBid': 1.06814, 'closeBid': 1.06814, 'openAsk': 1.06826, 'openBid': 1.06814, 'time': '2017-01-27T13:19:00.000000Z', 'closeAsk': 1.06826, 'volume': 1, 'highBid': 1.06814}, {'highAsk': 1.06823, 'complete': True, 'lowAsk': 1.06823, 'lowBid': 1.06813, 'closeBid': 1.06813, 'openAsk': 1.06823, 'openBid': 1.06813, 'time': '2017-01-27T13:19:05.000000Z', 'closeAsk': 1.06823, 'volume': 1, 'highBid': 1.06813}, {'highAsk': 1.06822, 'complete': True, 'lowAsk': 1.06817, 'lowBid': 1.06805, 'closeBid': 1.06805, 'openAsk': 1.06822, 'openBid': 1.06809, 'time': '2017-01-27T13:19:10.000000Z', 'closeAsk': 1.06817, 'volume': 3, 'highBid': 1.06809}, {'highAsk': 1.06814, 'complete': True, 'lowAsk': 1.06808, 'lowBid': 1.06797, 'closeBid': 1.06799, 'openAsk': 1.06814, 'openBid': 1.06801, 'time': '2017-01-27T13:19:15.000000Z', 'closeAsk': 1.0681, 'volume': 6, 'highBid': 1.06801}, {'highAsk': 1.06813, 'complete': True, 'lowAsk': 1.06813, 'lowBid': 1.06802, 'closeBid': 1.06802, 'openAsk': 1.06813, 'openBid': 1.06802, 'time': '2017-01-27T13:19:20.000000Z', 'closeAsk': 1.06813, 'volume': 1, 'highBid': 1.06802}, {'highAsk': 1.06811, 'complete': True, 'lowAsk': 1.06808, 'lowBid': 1.06797, 'closeBid': 1.06797, 'openAsk': 1.06811, 'openBid': 1.06799, 'time': '2017-01-27T13:19:25.000000Z', 'closeAsk': 1.06808, 'volume': 2, 'highBid': 1.06799}, {'highAsk': 1.06806, 'complete': True, 'lowAsk': 1.06801, 'lowBid': 1.0679, 'closeBid': 1.0679, 'openAsk': 1.06806, 'openBid': 1.06794, 'time': '2017-01-27T13:19:30.000000Z', 'closeAsk': 1.06801, 'volume': 3, 'highBid': 1.06794}, {'highAsk': 1.06799, 'complete': True, 'lowAsk': 1.06799, 'lowBid': 1.06788, 'closeBid': 1.06788, 'openAsk': 1.06799, 'openBid': 1.06788, 'time': '2017-01-27T13:19:45.000000Z', 'closeAsk': 1.06799, 'volume': 1, 'highBid': 1.06788}, {'highAsk': 1.06808, 'complete': True, 'lowAsk': 1.06801, 'lowBid': 1.0679, 'closeBid': 1.06794, 'openAsk': 1.06801, 'openBid': 1.0679, 'time': '2017-01-27T13:19:50.000000Z', 'closeAsk': 1.06808, 'volume': 3, 'highBid': 1.06794}, {'highAsk': 1.06812, 'complete': True, 'lowAsk': 1.06807, 'lowBid': 1.06796, 'closeBid': 1.06797, 'openAsk': 1.06811, 'openBid': 1.06796, 'time': '2017-01-27T13:19:55.000000Z', 'closeAsk': 1.06811, 'volume': 5, 'highBid': 1.068}, {'highAsk': 1.06807, 'complete': True, 'lowAsk': 1.06803, 'lowBid': 1.06791, 'closeBid': 1.06791, 'openAsk': 1.06807, 'openBid': 1.06796, 'time': '2017-01-27T13:20:00.000000Z', 'closeAsk': 1.06803, 'volume': 3, 'highBid': 1.06796}, {'highAsk': 1.06801, 'complete': True, 'lowAsk': 1.06801, 'lowBid': 1.06788, 'closeBid': 1.06788, 'openAsk': 1.06801, 'openBid': 1.06788, 'time': '2017-01-27T13:20:05.000000Z', 'closeAsk': 1.06801, 'volume': 1, 'highBid': 1.06788}, {'highAsk': 1.06798, 'complete': True, 'lowAsk': 1.06794, 'lowBid': 1.06781, 'closeBid': 1.06782, 'openAsk': 1.06797, 'openBid': 1.06786, 'time': '2017-01-27T13:20:10.000000Z', 'closeAsk': 1.06796, 'volume': 6, 'highBid': 1.06786}, {'highAsk': 1.06803, 'complete': True, 'lowAsk': 1.06798, 'lowBid': 1.06784, 'closeBid': 1.0679, 'openAsk': 1.06798, 'openBid': 1.06786, 'time': '2017-01-27T13:20:15.000000Z', 'closeAsk': 1.06803, 'volume': 6, 'highBid': 1.0679}, {'highAsk': 1.06801, 'complete': True, 'lowAsk': 1.06798, 'lowBid': 1.06785, 'closeBid': 1.06785, 'openAsk': 1.06801, 'openBid': 1.06788, 'time': '2017-01-27T13:20:20.000000Z', 'closeAsk': 1.06798, 'volume': 2, 'highBid': 1.06788}, {'highAsk': 1.06802, 'complete': True, 'lowAsk': 1.068, 'lowBid': 1.06787, 'closeBid': 1.06787, 'openAsk': 1.068, 'openBid': 1.06787, 'time': '2017-01-27T13:20:25.000000Z', 'closeAsk': 1.068, 'volume': 3, 'highBid': 1.0679}, {'highAsk': 1.06808, 'complete': True, 'lowAsk': 1.06802, 'lowBid': 1.06791, 'closeBid': 1.06796, 'openAsk': 1.06802, 'openBid': 1.06791, 'time': '2017-01-27T13:20:30.000000Z', 'closeAsk': 1.06808, 'volume': 3, 'highBid': 1.06796}, {'highAsk': 1.06831, 'complete': True, 'lowAsk': 1.06813, 'lowBid': 1.06797, 'closeBid': 1.06816, 'openAsk': 1.06813, 'openBid': 1.06798, 'time': '2017-01-27T13:20:35.000000Z', 'closeAsk': 1.06828, 'volume': 8, 'highBid': 1.06817}, {'highAsk': 1.06826, 'complete': True, 'lowAsk': 1.06812, 'lowBid': 1.06799, 'closeBid': 1.06802, 'openAsk': 1.06826, 'openBid': 1.06813, 'time': '2017-01-27T13:20:40.000000Z', 'closeAsk': 1.06814, 'volume': 7, 'highBid': 1.06813}, {'highAsk': 1.06818, 'complete': True, 'lowAsk': 1.06814, 'lowBid': 1.06801, 'closeBid': 1.06806, 'openAsk': 1.06817, 'openBid': 1.06804, 'time': '2017-01-27T13:20:45.000000Z', 'closeAsk': 1.06818, 'volume': 4, 'highBid': 1.06806}, {'highAsk': 1.06824, 'complete': True, 'lowAsk': 1.0682, 'lowBid': 1.06808, 'closeBid': 1.0681, 'openAsk': 1.0682, 'openBid': 1.06808, 'time': '2017-01-27T13:20:55.000000Z', 'closeAsk': 1.06824, 'volume': 2, 'highBid': 1.0681}, {'highAsk': 1.0682, 'complete': True, 'lowAsk': 1.06811, 'lowBid': 1.06798, 'closeBid': 1.068, 'openAsk': 1.0682, 'openBid': 1.06808, 'time': '2017-01-27T13:21:00.000000Z', 'closeAsk': 1.06813, 'volume': 6, 'highBid': 1.06808}, {'highAsk': 1.06816, 'complete': True, 'lowAsk': 1.06816, 'lowBid': 1.06803, 'closeBid': 1.06803, 'openAsk': 1.06816, 'openBid': 1.06803, 'time': '2017-01-27T13:21:05.000000Z', 'closeAsk': 1.06816, 'volume': 1, 'highBid': 1.06803}, {'highAsk': 1.06814, 'complete': True, 'lowAsk': 1.06814, 'lowBid': 1.06801, 'closeBid': 1.06801, 'openAsk': 1.06814, 'openBid': 1.06801, 'time': '2017-01-27T13:21:10.000000Z', 'closeAsk': 1.06814, 'volume': 1, 'highBid': 1.06801}, {'highAsk': 1.06811, 'complete': True, 'lowAsk': 1.06811, 'lowBid': 1.06798, 'closeBid': 1.06798, 'openAsk': 1.06811, 'openBid': 1.06798, 'time': '2017-01-27T13:21:15.000000Z', 'closeAsk': 1.06811, 'volume': 1, 'highBid': 1.06798}, {'highAsk': 1.06808, 'complete': True, 'lowAsk': 1.06802, 'lowBid': 1.06788, 'closeBid': 1.06788, 'openAsk': 1.06808, 'openBid': 1.06795, 'time': '2017-01-27T13:21:20.000000Z', 'closeAsk': 1.06802, 'volume': 3, 'highBid': 1.06795}, {'highAsk': 1.06803, 'complete': True, 'lowAsk': 1.06803, 'lowBid': 1.0679, 'closeBid': 1.0679, 'openAsk': 1.06803, 'openBid': 1.0679, 'time': '2017-01-27T13:21:30.000000Z', 'closeAsk': 1.06803, 'volume': 1, 'highBid': 1.0679}, {'highAsk': 1.06807, 'complete': True, 'lowAsk': 1.06803, 'lowBid': 1.06792, 'closeBid': 1.06794, 'openAsk': 1.06803, 'openBid': 1.06792, 'time': '2017-01-27T13:21:35.000000Z', 'closeAsk': 1.06807, 'volume': 2, 'highBid': 1.06794}, {'highAsk': 1.06809, 'complete': True, 'lowAsk': 1.06809, 'lowBid': 1.06797, 'closeBid': 1.06797, 'openAsk': 1.06809, 'openBid': 1.06797, 'time': '2017-01-27T13:21:40.000000Z', 'closeAsk': 1.06809, 'volume': 1, 'highBid': 1.06797}, {'highAsk': 1.06812, 'complete': True, 'lowAsk': 1.06812, 'lowBid': 1.06799, 'closeBid': 1.06799, 'openAsk': 1.06812, 'openBid': 1.06799, 'time': '2017-01-27T13:21:50.000000Z', 'closeAsk': 1.06812, 'volume': 1, 'highBid': 1.06799}, {'highAsk': 1.06814, 'complete': True, 'lowAsk': 1.06814, 'lowBid': 1.06802, 'closeBid': 1.06802, 'openAsk': 1.06814, 'openBid': 1.06802, 'time': '2017-01-27T13:22:05.000000Z', 'closeAsk': 1.06814, 'volume': 1, 'highBid': 1.06802}, {'highAsk': 1.06812, 'complete': True, 'lowAsk': 1.06804, 'lowBid': 1.06792, 'closeBid': 1.06792, 'openAsk': 1.06812, 'openBid': 1.06799, 'time': '2017-01-27T13:22:10.000000Z', 'closeAsk': 1.06804, 'volume': 4, 'highBid': 1.06799}, {'highAsk': 1.06802, 'complete': True, 'lowAsk': 1.06795, 'lowBid': 1.06782, 'closeBid': 1.0679, 'openAsk': 1.06802, 'openBid': 1.06789, 'time': '2017-01-27T13:22:20.000000Z', 'closeAsk': 1.06802, 'volume': 7, 'highBid': 1.0679}, {'highAsk': 1.06806, 'complete': True, 'lowAsk': 1.06797, 'lowBid': 1.06785, 'closeBid': 1.06791, 'openAsk': 1.06799, 'openBid': 1.06787, 'time': '2017-01-27T13:22:25.000000Z', 'closeAsk': 1.06804, 'volume': 7, 'highBid': 1.06794}, {'highAsk': 1.06811, 'complete': True, 'lowAsk': 1.06805, 'lowBid': 1.06795, 'closeBid': 1.06799, 'openAsk': 1.06805, 'openBid': 1.06795, 'time': '2017-01-27T13:22:30.000000Z', 'closeAsk': 1.06811, 'volume': 3, 'highBid': 1.06799}, {'highAsk': 1.06816, 'complete': True, 'lowAsk': 1.06811, 'lowBid': 1.06799, 'closeBid': 1.06799, 'openAsk': 1.06814, 'openBid': 1.068, 'time': '2017-01-27T13:22:35.000000Z', 'closeAsk': 1.06811, 'volume': 4, 'highBid': 1.06803}, {'highAsk': 1.06809, 'complete': True, 'lowAsk': 1.06802, 'lowBid': 1.06788, 'closeBid': 1.06788, 'openAsk': 1.06809, 'openBid': 1.06796, 'time': '2017-01-27T13:22:40.000000Z', 'closeAsk': 1.06802, 'volume': 4, 'highBid': 1.06796}, {'highAsk': 1.06808, 'complete': True, 'lowAsk': 1.06804, 'lowBid': 1.06792, 'closeBid': 1.06794, 'openAsk': 1.06804, 'openBid': 1.06792, 'time': '2017-01-27T13:22:45.000000Z', 'closeAsk': 1.06807, 'volume': 4, 'highBid': 1.06797}, {'highAsk': 1.06808, 'complete': True, 'lowAsk': 1.06808, 'lowBid': 1.06797, 'closeBid': 1.06797, 'openAsk': 1.06808, 'openBid': 1.06797, 'time': '2017-01-27T13:22:50.000000Z', 'closeAsk': 1.06808, 'volume': 1, 'highBid': 1.06797}, {'highAsk': 1.06812, 'complete': True, 'lowAsk': 1.06812, 'lowBid': 1.068, 'closeBid': 1.068, 'openAsk': 1.06812, 'openBid': 1.068, 'time': '2017-01-27T13:23:05.000000Z', 'closeAsk': 1.06812, 'volume': 1, 'highBid': 1.068}, {'highAsk': 1.06816, 'complete': True, 'lowAsk': 1.06814, 'lowBid': 1.06803, 'closeBid': 1.06805, 'openAsk': 1.06814, 'openBid': 1.06803, 'time': '2017-01-27T13:23:10.000000Z', 'closeAsk': 1.06816, 'volume': 2, 'highBid': 1.06805}, {'highAsk': 1.06824, 'complete': True, 'lowAsk': 1.06819, 'lowBid': 1.06807, 'closeBid': 1.06812, 'openAsk': 1.06819, 'openBid': 1.06808, 'time': '2017-01-27T13:23:15.000000Z', 'closeAsk': 1.06824, 'volume': 5, 'highBid': 1.06812}, {'highAsk': 1.06829, 'complete': True, 'lowAsk': 1.06826, 'lowBid': 1.06814, 'closeBid': 1.06817, 'openAsk': 1.06826, 'openBid': 1.06814, 'time': '2017-01-27T13:23:20.000000Z', 'closeAsk': 1.06829, 'volume': 2, 'highBid': 1.06817}, {'highAsk': 1.06837, 'complete': True, 'lowAsk': 1.06832, 'lowBid': 1.06819, 'closeBid': 1.06823, 'openAsk': 1.06832, 'openBid': 1.06819, 'time': '2017-01-27T13:23:25.000000Z', 'closeAsk': 1.06837, 'volume': 3, 'highBid': 1.06823}, {'highAsk': 1.06833, 'complete': True, 'lowAsk': 1.06828, 'lowBid': 1.06817, 'closeBid': 1.06818, 'openAsk': 1.06833, 'openBid': 1.06821, 'time': '2017-01-27T13:23:30.000000Z', 'closeAsk': 1.06831, 'volume': 4, 'highBid': 1.06821}, {'highAsk': 1.06833, 'complete': True, 'lowAsk': 1.06822, 'lowBid': 1.0681, 'closeBid': 1.06818, 'openAsk': 1.06833, 'openBid': 1.06821, 'time': '2017-01-27T13:23:35.000000Z', 'closeAsk': 1.0683, 'volume': 10, 'highBid': 1.06821}, {'highAsk': 1.06836, 'complete': True, 'lowAsk': 1.06827, 'lowBid': 1.06815, 'closeBid': 1.06818, 'openAsk': 1.06827, 'openBid': 1.06815, 'time': '2017-01-27T13:23:40.000000Z', 'closeAsk': 1.0683, 'volume': 6, 'highBid': 1.06823}, {'highAsk': 1.06834, 'complete': True, 'lowAsk': 1.06822, 'lowBid': 1.06809, 'closeBid': 1.06814, 'openAsk': 1.06833, 'openBid': 1.06819, 'time': '2017-01-27T13:23:45.000000Z', 'closeAsk': 1.06828, 'volume': 13, 'highBid': 1.06822}, {'highAsk': 1.06832, 'complete': True, 'lowAsk': 1.06823, 'lowBid': 1.0681, 'closeBid': 1.0681, 'openAsk': 1.0683, 'openBid': 1.06818, 'time': '2017-01-27T13:23:50.000000Z', 'closeAsk': 1.06823, 'volume': 6, 'highBid': 1.0682}, {'highAsk': 1.06824, 'complete': True, 'lowAsk': 1.06817, 'lowBid': 1.06806, 'closeBid': 1.06811, 'openAsk': 1.0682, 'openBid': 1.06808, 'time': '2017-01-27T13:23:55.000000Z', 'closeAsk': 1.06824, 'volume': 4, 'highBid': 1.06811}, {'highAsk': 1.06833, 'complete': True, 'lowAsk': 1.06826, 'lowBid': 1.06814, 'closeBid': 1.06819, 'openAsk': 1.06826, 'openBid': 1.06814, 'time': '2017-01-27T13:24:20.000000Z', 'closeAsk': 1.06831, 'volume': 5, 'highBid': 1.06821}, {'highAsk': 1.06828, 'complete': True, 'lowAsk': 1.06823, 'lowBid': 1.06812, 'closeBid': 1.06814, 'openAsk': 1.06828, 'openBid': 1.06817, 'time': '2017-01-27T13:24:25.000000Z', 'closeAsk': 1.06827, 'volume': 4, 'highBid': 1.06817}, {'highAsk': 1.06833, 'complete': True, 'lowAsk': 1.0683, 'lowBid': 1.06817, 'closeBid': 1.06817, 'openAsk': 1.0683, 'openBid': 1.06817, 'time': '2017-01-27T13:24:30.000000Z', 'closeAsk': 1.0683, 'volume': 3, 'highBid': 1.0682}, {'highAsk': 1.0683, 'complete': True, 'lowAsk': 1.06826, 'lowBid': 1.06812, 'closeBid': 1.06817, 'openAsk': 1.06827, 'openBid': 1.06816, 'time': '2017-01-27T13:24:35.000000Z', 'closeAsk': 1.0683, 'volume': 4, 'highBid': 1.06817}, {'highAsk': 1.06833, 'complete': True, 'lowAsk': 1.06828, 'lowBid': 1.06815, 'closeBid': 1.0682, 'openAsk': 1.06828, 'openBid': 1.06815, 'time': '2017-01-27T13:24:40.000000Z', 'closeAsk': 1.06833, 'volume': 3, 'highBid': 1.0682}, {'highAsk': 1.06834, 'complete': True, 'lowAsk': 1.0683, 'lowBid': 1.06818, 'closeBid': 1.0682, 'openAsk': 1.0683, 'openBid': 1.06818, 'time': '2017-01-27T13:24:45.000000Z', 'closeAsk': 1.06832, 'volume': 6, 'highBid': 1.06823}, {'highAsk': 1.06834, 'complete': True, 'lowAsk': 1.06827, 'lowBid': 1.06815, 'closeBid': 1.06815, 'openAsk': 1.06834, 'openBid': 1.06822, 'time': '2017-01-27T13:24:50.000000Z', 'closeAsk': 1.06827, 'volume': 6, 'highBid': 1.06822}, {'highAsk': 1.0683, 'complete': True, 'lowAsk': 1.06827, 'lowBid': 1.06815, 'closeBid': 1.06815, 'openAsk': 1.0683, 'openBid': 1.06818, 'time': '2017-01-27T13:24:55.000000Z', 'closeAsk': 1.06827, 'volume': 2, 'highBid': 1.06818}, {'highAsk': 1.06827, 'complete': True, 'lowAsk': 1.06824, 'lowBid': 1.06811, 'closeBid': 1.06815, 'openAsk': 1.06825, 'openBid': 1.06812, 'time': '2017-01-27T13:25:05.000000Z', 'closeAsk': 1.06826, 'volume': 4, 'highBid': 1.06815}, {'highAsk': 1.0683, 'complete': True, 'lowAsk': 1.0683, 'lowBid': 1.06817, 'closeBid': 1.06817, 'openAsk': 1.0683, 'openBid': 1.06817, 'time': '2017-01-27T13:25:10.000000Z', 'closeAsk': 1.0683, 'volume': 1, 'highBid': 1.06817}, {'highAsk': 1.06828, 'complete': True, 'lowAsk': 1.06828, 'lowBid': 1.06817, 'closeBid': 1.06817, 'openAsk': 1.06828, 'openBid': 1.06817, 'time': '2017-01-27T13:25:15.000000Z', 'closeAsk': 1.06828, 'volume': 1, 'highBid': 1.06817}, {'highAsk': 1.06831, 'complete': True, 'lowAsk': 1.06831, 'lowBid': 1.06819, 'closeBid': 1.06819, 'openAsk': 1.06831, 'openBid': 1.06819, 'time': '2017-01-27T13:25:20.000000Z', 'closeAsk': 1.06831, 'volume': 1, 'highBid': 1.06819}, {'highAsk': 1.06835, 'complete': True, 'lowAsk': 1.06833, 'lowBid': 1.06821, 'closeBid': 1.06821, 'openAsk': 1.06833, 'openBid': 1.06821, 'time': '2017-01-27T13:25:25.000000Z', 'closeAsk': 1.06833, 'volume': 3, 'highBid': 1.06824}, {'highAsk': 1.06837, 'complete': True, 'lowAsk': 1.06836, 'lowBid': 1.06823, 'closeBid': 1.06826, 'openAsk': 1.06836, 'openBid': 1.06823, 'time': '2017-01-27T13:25:30.000000Z', 'closeAsk': 1.06837, 'volume': 2, 'highBid': 1.06826}, {'highAsk': 1.06841, 'complete': True, 'lowAsk': 1.06841, 'lowBid': 1.06828, 'closeBid': 1.06828, 'openAsk': 1.06841, 'openBid': 1.06828, 'time': '2017-01-27T13:25:40.000000Z', 'closeAsk': 1.06841, 'volume': 1, 'highBid': 1.06828}, {'highAsk': 1.06838, 'complete': True, 'lowAsk': 1.06825, 'lowBid': 1.06808, 'closeBid': 1.06808, 'openAsk': 1.06838, 'openBid': 1.06826, 'time': '2017-01-27T13:25:45.000000Z', 'closeAsk': 1.06825, 'volume': 6, 'highBid': 1.06826}, {'highAsk': 1.06821, 'complete': True, 'lowAsk': 1.06818, 'lowBid': 1.06804, 'closeBid': 1.06804, 'openAsk': 1.06821, 'openBid': 1.06807, 'time': '2017-01-27T13:25:50.000000Z', 'closeAsk': 1.06818, 'volume': 2, 'highBid': 1.06807}, {'highAsk': 1.06822, 'complete': True, 'lowAsk': 1.0682, 'lowBid': 1.06807, 'closeBid': 1.0681, 'openAsk': 1.0682, 'openBid': 1.06807, 'time': '2017-01-27T13:25:55.000000Z', 'closeAsk': 1.06822, 'volume': 2, 'highBid': 1.0681}, {'highAsk': 1.06827, 'complete': True, 'lowAsk': 1.06825, 'lowBid': 1.06811, 'closeBid': 1.06811, 'openAsk': 1.06825, 'openBid': 1.06812, 'time': '2017-01-27T13:26:00.000000Z', 'closeAsk': 1.06825, 'volume': 3, 'highBid': 1.06814}, {'highAsk': 1.06827, 'complete': True, 'lowAsk': 1.06827, 'lowBid': 1.06814, 'closeBid': 1.06814, 'openAsk': 1.06827, 'openBid': 1.06814, 'time': '2017-01-27T13:26:05.000000Z', 'closeAsk': 1.06827, 'volume': 1, 'highBid': 1.06814}, {'highAsk': 1.06833, 'complete': True, 'lowAsk': 1.0683, 'lowBid': 1.06818, 'closeBid': 1.06819, 'openAsk': 1.0683, 'openBid': 1.06818, 'time': '2017-01-27T13:26:10.000000Z', 'closeAsk': 1.06833, 'volume': 2, 'highBid': 1.06819}, {'highAsk': 1.06834, 'complete': True, 'lowAsk': 1.06834, 'lowBid': 1.06823, 'closeBid': 1.06823, 'openAsk': 1.06834, 'openBid': 1.06823, 'time': '2017-01-27T13:26:15.000000Z', 'closeAsk': 1.06834, 'volume': 1, 'highBid': 1.06823}, {'highAsk': 1.06832, 'complete': True, 'lowAsk': 1.06832, 'lowBid': 1.0682, 'closeBid': 1.0682, 'openAsk': 1.06832, 'openBid': 1.0682, 'time': '2017-01-27T13:26:20.000000Z', 'closeAsk': 1.06832, 'volume': 1, 'highBid': 1.0682}, {'highAsk': 1.06837, 'complete': True, 'lowAsk': 1.06834, 'lowBid': 1.06821, 'closeBid': 1.06823, 'openAsk': 1.06835, 'openBid': 1.06821, 'time': '2017-01-27T13:26:30.000000Z', 'closeAsk': 1.06834, 'volume': 3, 'highBid': 1.06824}, {'highAsk': 1.06832, 'complete': True, 'lowAsk': 1.06829, 'lowBid': 1.06818, 'closeBid': 1.06818, 'openAsk': 1.06832, 'openBid': 1.0682, 'time': '2017-01-27T13:26:35.000000Z', 'closeAsk': 1.06829, 'volume': 2, 'highBid': 1.0682}, {'highAsk': 1.06827, 'complete': True, 'lowAsk': 1.06827, 'lowBid': 1.06814, 'closeBid': 1.06814, 'openAsk': 1.06827, 'openBid': 1.06814, 'time': '2017-01-27T13:26:40.000000Z', 'closeAsk': 1.06827, 'volume': 1, 'highBid': 1.06814}, {'highAsk': 1.06829, 'complete': True, 'lowAsk': 1.06829, 'lowBid': 1.06817, 'closeBid': 1.06817, 'openAsk': 1.06829, 'openBid': 1.06817, 'time': '2017-01-27T13:26:45.000000Z', 'closeAsk': 1.06829, 'volume': 1, 'highBid': 1.06817}, {'highAsk': 1.0684, 'complete': True, 'lowAsk': 1.06831, 'lowBid': 1.0682, 'closeBid': 1.06825, 'openAsk': 1.06831, 'openBid': 1.0682, 'time': '2017-01-27T13:26:55.000000Z', 'closeAsk': 1.06837, 'volume': 5, 'highBid': 1.06827}, {'highAsk': 1.06834, 'complete': True, 'lowAsk': 1.06834, 'lowBid': 1.06823, 'closeBid': 1.06823, 'openAsk': 1.06834, 'openBid': 1.06823, 'time': '2017-01-27T13:27:00.000000Z', 'closeAsk': 1.06834, 'volume': 1, 'highBid': 1.06823}, {'highAsk': 1.06837, 'complete': True, 'lowAsk': 1.06837, 'lowBid': 1.06825, 'closeBid': 1.06825, 'openAsk': 1.06837, 'openBid': 1.06825, 'time': '2017-01-27T13:27:10.000000Z', 'closeAsk': 1.06837, 'volume': 1, 'highBid': 1.06825}, {'highAsk': 1.06835, 'complete': True, 'lowAsk': 1.06824, 'lowBid': 1.06812, 'closeBid': 1.06812, 'openAsk': 1.06835, 'openBid': 1.06822, 'time': '2017-01-27T13:27:20.000000Z', 'closeAsk': 1.06824, 'volume': 5, 'highBid': 1.06822}, {'highAsk': 1.06826, 'complete': True, 'lowAsk': 1.06824, 'lowBid': 1.06811, 'closeBid': 1.06811, 'openAsk': 1.06826, 'openBid': 1.06814, 'time': '2017-01-27T13:27:30.000000Z', 'closeAsk': 1.06824, 'volume': 2, 'highBid': 1.06814}, {'highAsk': 1.06822, 'complete': True, 'lowAsk': 1.06819, 'lowBid': 1.06807, 'closeBid': 1.0681, 'openAsk': 1.06822, 'openBid': 1.06809, 'time': '2017-01-27T13:27:40.000000Z', 'closeAsk': 1.0682, 'volume': 3, 'highBid': 1.0681}, {'highAsk': 1.06823, 'complete': True, 'lowAsk': 1.06823, 'lowBid': 1.06812, 'closeBid': 1.06812, 'openAsk': 1.06823, 'openBid': 1.06812, 'time': '2017-01-27T13:27:45.000000Z', 'closeAsk': 1.06823, 'volume': 1, 'highBid': 1.06812}, {'highAsk': 1.06831, 'complete': True, 'lowAsk': 1.06827, 'lowBid': 1.06815, 'closeBid': 1.0682, 'openAsk': 1.06827, 'openBid': 1.06815, 'time': '2017-01-27T13:28:00.000000Z', 'closeAsk': 1.06831, 'volume': 3, 'highBid': 1.0682}, {'highAsk': 1.0684, 'complete': True, 'lowAsk': 1.06834, 'lowBid': 1.06823, 'closeBid': 1.06827, 'openAsk': 1.06834, 'openBid': 1.06823, 'time': '2017-01-27T13:28:05.000000Z', 'closeAsk': 1.0684, 'volume': 3, 'highBid': 1.06827}, {'highAsk': 1.06855, 'complete': True, 'lowAsk': 1.06844, 'lowBid': 1.0683, 'closeBid': 1.06843, 'openAsk': 1.06844, 'openBid': 1.0683, 'time': '2017-01-27T13:28:15.000000Z', 'closeAsk': 1.06855, 'volume': 6, 'highBid': 1.06843}, {'highAsk': 1.06858, 'complete': True, 'lowAsk': 1.06856, 'lowBid': 1.06843, 'closeBid': 1.06845, 'openAsk': 1.06858, 'openBid': 1.06845, 'time': '2017-01-27T13:28:20.000000Z', 'closeAsk': 1.06858, 'volume': 3, 'highBid': 1.06845}, {'highAsk': 1.06865, 'complete': True, 'lowAsk': 1.06857, 'lowBid': 1.06843, 'closeBid': 1.06843, 'openAsk': 1.06862, 'openBid': 1.06847, 'time': '2017-01-27T13:28:25.000000Z', 'closeAsk': 1.06857, 'volume': 5, 'highBid': 1.0685}, {'highAsk': 1.06868, 'complete': True, 'lowAsk': 1.06859, 'lowBid': 1.06847, 'closeBid': 1.06856, 'openAsk': 1.06859, 'openBid': 1.06847, 'time': '2017-01-27T13:28:30.000000Z', 'closeAsk': 1.06868, 'volume': 5, 'highBid': 1.06856}, {'highAsk': 1.06884, 'complete': True, 'lowAsk': 1.06872, 'lowBid': 1.06857, 'closeBid': 1.06871, 'openAsk': 1.06872, 'openBid': 1.06857, 'time': '2017-01-27T13:28:40.000000Z', 'closeAsk': 1.06884, 'volume': 8, 'highBid': 1.06871}, {'highAsk': 1.06883, 'complete': True, 'lowAsk': 1.06879, 'lowBid': 1.06866, 'closeBid': 1.06871, 'openAsk': 1.06882, 'openBid': 1.06868, 'time': '2017-01-27T13:28:45.000000Z', 'closeAsk': 1.06883, 'volume': 4, 'highBid': 1.06871}, {'highAsk': 1.0689, 'complete': True, 'lowAsk': 1.06887, 'lowBid': 1.06873, 'closeBid': 1.06874, 'openAsk': 1.06887, 'openBid': 1.06873, 'time': '2017-01-27T13:28:50.000000Z', 'closeAsk': 1.0689, 'volume': 2, 'highBid': 1.06874}, {'highAsk': 1.06887, 'complete': True, 'lowAsk': 1.06884, 'lowBid': 1.06872, 'closeBid': 1.06872, 'openAsk': 1.06887, 'openBid': 1.06873, 'time': '2017-01-27T13:28:55.000000Z', 'closeAsk': 1.06884, 'volume': 2, 'highBid': 1.06873}, {'highAsk': 1.06881, 'complete': True, 'lowAsk': 1.06875, 'lowBid': 1.06862, 'closeBid': 1.06862, 'openAsk': 1.06881, 'openBid': 1.06869, 'time': '2017-01-27T13:29:00.000000Z', 'closeAsk': 1.06875, 'volume': 4, 'highBid': 1.06869}, {'highAsk': 1.06872, 'complete': True, 'lowAsk': 1.06867, 'lowBid': 1.06853, 'closeBid': 1.06853, 'openAsk': 1.06872, 'openBid': 1.06859, 'time': '2017-01-27T13:29:05.000000Z', 'closeAsk': 1.06867, 'volume': 3, 'highBid': 1.06859}, {'highAsk': 1.0687, 'complete': True, 'lowAsk': 1.0687, 'lowBid': 1.06855, 'closeBid': 1.06855, 'openAsk': 1.0687, 'openBid': 1.06855, 'time': '2017-01-27T13:29:10.000000Z', 'closeAsk': 1.0687, 'volume': 1, 'highBid': 1.06855}, {'highAsk': 1.06868, 'complete': True, 'lowAsk': 1.06867, 'lowBid': 1.06852, 'closeBid': 1.06855, 'openAsk': 1.06867, 'openBid': 1.06852, 'time': '2017-01-27T13:29:15.000000Z', 'closeAsk': 1.06868, 'volume': 2, 'highBid': 1.06855}, {'highAsk': 1.06866, 'complete': True, 'lowAsk': 1.06866, 'lowBid': 1.06851, 'closeBid': 1.06851, 'openAsk': 1.06866, 'openBid': 1.06851, 'time': '2017-01-27T13:29:20.000000Z', 'closeAsk': 1.06866, 'volume': 1, 'highBid': 1.06851}, {'highAsk': 1.06863, 'complete': True, 'lowAsk': 1.06863, 'lowBid': 1.0685, 'closeBid': 1.0685, 'openAsk': 1.06863, 'openBid': 1.0685, 'time': '2017-01-27T13:29:25.000000Z', 'closeAsk': 1.06863, 'volume': 1, 'highBid': 1.0685}, {'highAsk': 1.06863, 'complete': True, 'lowAsk': 1.06863, 'lowBid': 1.06846, 'closeBid': 1.06846, 'openAsk': 1.06863, 'openBid': 1.06846, 'time': '2017-01-27T13:29:30.000000Z', 'closeAsk': 1.06863, 'volume': 1, 'highBid': 1.06846}, {'highAsk': 1.06865, 'complete': True, 'lowAsk': 1.06865, 'lowBid': 1.0685, 'closeBid': 1.0685, 'openAsk': 1.06865, 'openBid': 1.0685, 'time': '2017-01-27T13:29:35.000000Z', 'closeAsk': 1.06865, 'volume': 1, 'highBid': 1.0685}, {'highAsk': 1.06875, 'complete': True, 'lowAsk': 1.06866, 'lowBid': 1.06848, 'closeBid': 1.06853, 'openAsk': 1.06868, 'openBid': 1.06853, 'time': '2017-01-27T13:29:40.000000Z', 'closeAsk': 1.06875, 'volume': 8, 'highBid': 1.06855}, {'highAsk': 1.0687, 'complete': True, 'lowAsk': 1.06865, 'lowBid': 1.06839, 'closeBid': 1.06842, 'openAsk': 1.0687, 'openBid': 1.06851, 'time': '2017-01-27T13:29:45.000000Z', 'closeAsk': 1.06866, 'volume': 9, 'highBid': 1.06851}, {'highAsk': 1.06868, 'complete': True, 'lowAsk': 1.06859, 'lowBid': 1.06836, 'closeBid': 1.06841, 'openAsk': 1.06864, 'openBid': 1.06838, 'time': '2017-01-27T13:29:50.000000Z', 'closeAsk': 1.06867, 'volume': 7, 'highBid': 1.06841}, {'highAsk': 1.0688, 'complete': True, 'lowAsk': 1.06863, 'lowBid': 1.06811, 'closeBid': 1.06817, 'openAsk': 1.06868, 'openBid': 1.06839, 'time': '2017-01-27T13:29:55.000000Z', 'closeAsk': 1.06868, 'volume': 8, 'highBid': 1.06841}, {'highAsk': 1.0704, 'complete': True, 'lowAsk': 1.06881, 'lowBid': 1.06819, 'closeBid': 1.06968, 'openAsk': 1.06881, 'openBid': 1.06819, 'time': '2017-01-27T13:30:00.000000Z', 'closeAsk': 1.0704, 'volume': 45, 'highBid': 1.06968}, {'highAsk': 1.07065, 'complete': True, 'lowAsk': 1.07025, 'lowBid': 1.06969, 'closeBid': 1.07033, 'openAsk': 1.07047, 'openBid': 1.06978, 'time': '2017-01-27T13:30:05.000000Z', 'closeAsk': 1.07058, 'volume': 48, 'highBid': 1.07033}, {'highAsk': 1.07067, 'complete': True, 'lowAsk': 1.07018, 'lowBid': 1.06991, 'closeBid': 1.06991, 'openAsk': 1.07063, 'openBid': 1.07034, 'time': '2017-01-27T13:30:10.000000Z', 'closeAsk': 1.07018, 'volume': 57, 'highBid': 1.07038}, {'highAsk': 1.07029, 'complete': True, 'lowAsk': 1.07016, 'lowBid': 1.06992, 'closeBid': 1.07001, 'openAsk': 1.07017, 'openBid': 1.06992, 'time': '2017-01-27T13:30:15.000000Z', 'closeAsk': 1.07022, 'volume': 31, 'highBid': 1.07005}, {'highAsk': 1.07068, 'complete': True, 'lowAsk': 1.07024, 'lowBid': 1.07005, 'closeBid': 1.07044, 'openAsk': 1.07024, 'openBid': 1.07005, 'time': '2017-01-27T13:30:20.000000Z', 'closeAsk': 1.07067, 'volume': 30, 'highBid': 1.07044}, {'highAsk': 1.07082, 'complete': True, 'lowAsk': 1.07051, 'lowBid': 1.07032, 'closeBid': 1.07038, 'openAsk': 1.0707, 'openBid': 1.07048, 'time': '2017-01-27T13:30:25.000000Z', 'closeAsk': 1.07059, 'volume': 34, 'highBid': 1.07059}, {'highAsk': 1.07062, 'complete': True, 'lowAsk': 1.07032, 'lowBid': 1.07017, 'closeBid': 1.07017, 'openAsk': 1.07062, 'openBid': 1.07043, 'time': '2017-01-27T13:30:30.000000Z', 'closeAsk': 1.07032, 'volume': 26, 'highBid': 1.07043}, {'highAsk': 1.0703, 'complete': True, 'lowAsk': 1.07008, 'lowBid': 1.0699, 'closeBid': 1.06995, 'openAsk': 1.0703, 'openBid': 1.07013, 'time': '2017-01-27T13:30:35.000000Z', 'closeAsk': 1.07011, 'volume': 20, 'highBid': 1.07013}, {'highAsk': 1.07024, 'complete': True, 'lowAsk': 1.07008, 'lowBid': 1.06992, 'closeBid': 1.07008, 'openAsk': 1.07013, 'openBid': 1.06999, 'time': '2017-01-27T13:30:40.000000Z', 'closeAsk': 1.07024, 'volume': 13, 'highBid': 1.07008}, {'highAsk': 1.07039, 'complete': True, 'lowAsk': 1.07023, 'lowBid': 1.07006, 'closeBid': 1.07022, 'openAsk': 1.07025, 'openBid': 1.07012, 'time': '2017-01-27T13:30:45.000000Z', 'closeAsk': 1.07039, 'volume': 19, 'highBid': 1.07022}, {'highAsk': 1.0707, 'complete': True, 'lowAsk': 1.0704, 'lowBid': 1.07025, 'closeBid': 1.07054, 'openAsk': 1.0704, 'openBid': 1.07025, 'time': '2017-01-27T13:30:50.000000Z', 'closeAsk': 1.0707, 'volume': 18, 'highBid': 1.07054}, {'highAsk': 1.07073, 'complete': True, 'lowAsk': 1.07043, 'lowBid': 1.07027, 'closeBid': 1.07027, 'openAsk': 1.07071, 'openBid': 1.07057, 'time': '2017-01-27T13:30:55.000000Z', 'closeAsk': 1.07045, 'volume': 29, 'highBid': 1.07057}, {'highAsk': 1.07042, 'complete': True, 'lowAsk': 1.07029, 'lowBid': 1.0701, 'closeBid': 1.07019, 'openAsk': 1.07042, 'openBid': 1.07026, 'time': '2017-01-27T13:31:00.000000Z', 'closeAsk': 1.07034, 'volume': 24, 'highBid': 1.07028}, {'highAsk': 1.07051, 'complete': True, 'lowAsk': 1.07032, 'lowBid': 1.07017, 'closeBid': 1.07037, 'openAsk': 1.07032, 'openBid': 1.07017, 'time': '2017-01-27T13:31:05.000000Z', 'closeAsk': 1.07051, 'volume': 13, 'highBid': 1.07037}, {'highAsk': 1.07053, 'complete': True, 'lowAsk': 1.07049, 'lowBid': 1.07032, 'closeBid': 1.07036, 'openAsk': 1.07049, 'openBid': 1.07035, 'time': '2017-01-27T13:31:10.000000Z', 'closeAsk': 1.07051, 'volume': 10, 'highBid': 1.07041}, {'highAsk': 1.07051, 'complete': True, 'lowAsk': 1.0703, 'lowBid': 1.07015, 'closeBid': 1.0703, 'openAsk': 1.07047, 'openBid': 1.07034, 'time': '2017-01-27T13:31:15.000000Z', 'closeAsk': 1.07044, 'volume': 18, 'highBid': 1.07036}, {'highAsk': 1.07077, 'complete': True, 'lowAsk': 1.07046, 'lowBid': 1.07033, 'closeBid': 1.07057, 'openAsk': 1.07046, 'openBid': 1.07033, 'time': '2017-01-27T13:31:20.000000Z', 'closeAsk': 1.0707, 'volume': 25, 'highBid': 1.07058}, {'highAsk': 1.07093, 'complete': True, 'lowAsk': 1.07074, 'lowBid': 1.07058, 'closeBid': 1.07065, 'openAsk': 1.07074, 'openBid': 1.07058, 'time': '2017-01-27T13:31:25.000000Z', 'closeAsk': 1.07081, 'volume': 23, 'highBid': 1.07077}, {'highAsk': 1.07093, 'complete': True, 'lowAsk': 1.07076, 'lowBid': 1.07058, 'closeBid': 1.07071, 'openAsk': 1.07085, 'openBid': 1.07068, 'time': '2017-01-27T13:31:30.000000Z', 'closeAsk': 1.07085, 'volume': 23, 'highBid': 1.07076}, {'highAsk': 1.07095, 'complete': True, 'lowAsk': 1.07074, 'lowBid': 1.07055, 'closeBid': 1.07067, 'openAsk': 1.07084, 'openBid': 1.07068, 'time': '2017-01-27T13:31:35.000000Z', 'closeAsk': 1.07082, 'volume': 18, 'highBid': 1.0708}, {'highAsk': 1.07091, 'complete': True, 'lowAsk': 1.07077, 'lowBid': 1.0706, 'closeBid': 1.07065, 'openAsk': 1.07082, 'openBid': 1.0707, 'time': '2017-01-27T13:31:40.000000Z', 'closeAsk': 1.07077, 'volume': 14, 'highBid': 1.07076}, {'highAsk': 1.07077, 'complete': True, 'lowAsk': 1.07071, 'lowBid': 1.07057, 'closeBid': 1.0706, 'openAsk': 1.07075, 'openBid': 1.07062, 'time': '2017-01-27T13:31:45.000000Z', 'closeAsk': 1.07073, 'volume': 8, 'highBid': 1.07065}, {'highAsk': 1.0708, 'complete': True, 'lowAsk': 1.07068, 'lowBid': 1.07055, 'closeBid': 1.07055, 'openAsk': 1.07076, 'openBid': 1.07061, 'time': '2017-01-27T13:31:50.000000Z', 'closeAsk': 1.07068, 'volume': 9, 'highBid': 1.07067}, {'highAsk': 1.07066, 'complete': True, 'lowAsk': 1.07051, 'lowBid': 1.07035, 'closeBid': 1.07035, 'openAsk': 1.07066, 'openBid': 1.07053, 'time': '2017-01-27T13:31:55.000000Z', 'closeAsk': 1.07051, 'volume': 15, 'highBid': 1.07053}, {'highAsk': 1.07059, 'complete': True, 'lowAsk': 1.0705, 'lowBid': 1.07036, 'closeBid': 1.07042, 'openAsk': 1.07052, 'openBid': 1.07038, 'time': '2017-01-27T13:32:00.000000Z', 'closeAsk': 1.07059, 'volume': 13, 'highBid': 1.07043}, {'highAsk': 1.07072, 'complete': True, 'lowAsk': 1.07061, 'lowBid': 1.07045, 'closeBid': 1.07049, 'openAsk': 1.07061, 'openBid': 1.07045, 'time': '2017-01-27T13:32:05.000000Z', 'closeAsk': 1.07063, 'volume': 16, 'highBid': 1.07057}, {'highAsk': 1.07063, 'complete': True, 'lowAsk': 1.07031, 'lowBid': 1.07018, 'closeBid': 1.07018, 'openAsk': 1.07061, 'openBid': 1.07046, 'time': '2017-01-27T13:32:10.000000Z', 'closeAsk': 1.07031, 'volume': 15, 'highBid': 1.07048}, {'highAsk': 1.07038, 'complete': True, 'lowAsk': 1.07031, 'lowBid': 1.07016, 'closeBid': 1.07024, 'openAsk': 1.07035, 'openBid': 1.0702, 'time': '2017-01-27T13:32:15.000000Z', 'closeAsk': 1.07038, 'volume': 6, 'highBid': 1.07024}, {'highAsk': 1.07046, 'complete': True, 'lowAsk': 1.07028, 'lowBid': 1.07015, 'closeBid': 1.07017, 'openAsk': 1.07035, 'openBid': 1.07021, 'time': '2017-01-27T13:32:20.000000Z', 'closeAsk': 1.0703, 'volume': 17, 'highBid': 1.07032}, {'highAsk': 1.07036, 'complete': True, 'lowAsk': 1.07021, 'lowBid': 1.07008, 'closeBid': 1.07008, 'openAsk': 1.07034, 'openBid': 1.07019, 'time': '2017-01-27T13:32:25.000000Z', 'closeAsk': 1.07021, 'volume': 11, 'highBid': 1.07021}, {'highAsk': 1.07065, 'complete': True, 'lowAsk': 1.07025, 'lowBid': 1.0701, 'closeBid': 1.07039, 'openAsk': 1.07025, 'openBid': 1.0701, 'time': '2017-01-27T13:32:30.000000Z', 'closeAsk': 1.07052, 'volume': 29, 'highBid': 1.07051}, {'highAsk': 1.07071, 'complete': True, 'lowAsk': 1.07049, 'lowBid': 1.07036, 'closeBid': 1.07046, 'openAsk': 1.07049, 'openBid': 1.07036, 'time': '2017-01-27T13:32:35.000000Z', 'closeAsk': 1.0706, 'volume': 15, 'highBid': 1.07056}, {'highAsk': 1.07068, 'complete': True, 'lowAsk': 1.07043, 'lowBid': 1.07027, 'closeBid': 1.0703, 'openAsk': 1.07063, 'openBid': 1.07049, 'time': '2017-01-27T13:32:40.000000Z', 'closeAsk': 1.07045, 'volume': 23, 'highBid': 1.07054}, {'highAsk': 1.07044, 'complete': True, 'lowAsk': 1.07028, 'lowBid': 1.07013, 'closeBid': 1.07016, 'openAsk': 1.07043, 'openBid': 1.07027, 'time': '2017-01-27T13:32:45.000000Z', 'closeAsk': 1.0703, 'volume': 15, 'highBid': 1.0703}, {'highAsk': 1.07035, 'complete': True, 'lowAsk': 1.07028, 'lowBid': 1.0701, 'closeBid': 1.0701, 'openAsk': 1.07032, 'openBid': 1.07019, 'time': '2017-01-27T13:32:50.000000Z', 'closeAsk': 1.07028, 'volume': 5, 'highBid': 1.07021}, {'highAsk': 1.07036, 'complete': True, 'lowAsk': 1.07023, 'lowBid': 1.07009, 'closeBid': 1.07009, 'openAsk': 1.07029, 'openBid': 1.07016, 'time': '2017-01-27T13:32:55.000000Z', 'closeAsk': 1.07024, 'volume': 12, 'highBid': 1.07022}, {'highAsk': 1.07031, 'complete': True, 'lowAsk': 1.07026, 'lowBid': 1.07012, 'closeBid': 1.07013, 'openAsk': 1.07026, 'openBid': 1.07012, 'time': '2017-01-27T13:33:00.000000Z', 'closeAsk': 1.07026, 'volume': 5, 'highBid': 1.07017}, {'highAsk': 1.07029, 'complete': True, 'lowAsk': 1.07024, 'lowBid': 1.07009, 'closeBid': 1.07009, 'openAsk': 1.07024, 'openBid': 1.07011, 'time': '2017-01-27T13:33:05.000000Z', 'closeAsk': 1.07025, 'volume': 5, 'highBid': 1.07014}, {'highAsk': 1.07021, 'complete': True, 'lowAsk': 1.07012, 'lowBid': 1.06997, 'closeBid': 1.06997, 'openAsk': 1.07021, 'openBid': 1.07009, 'time': '2017-01-27T13:33:10.000000Z', 'closeAsk': 1.07014, 'volume': 7, 'highBid': 1.07009}, {'highAsk': 1.07017, 'complete': True, 'lowAsk': 1.07006, 'lowBid': 1.06991, 'closeBid': 1.06991, 'openAsk': 1.07011, 'openBid': 1.06996, 'time': '2017-01-27T13:33:15.000000Z', 'closeAsk': 1.07006, 'volume': 11, 'highBid': 1.07}, {'highAsk': 1.07003, 'complete': True, 'lowAsk': 1.06993, 'lowBid': 1.06977, 'closeBid': 1.06977, 'openAsk': 1.07003, 'openBid': 1.06988, 'time': '2017-01-27T13:33:20.000000Z', 'closeAsk': 1.06993, 'volume': 7, 'highBid': 1.06988}, {'highAsk': 1.07, 'complete': True, 'lowAsk': 1.06988, 'lowBid': 1.06971, 'closeBid': 1.06986, 'openAsk': 1.0699, 'openBid': 1.06975, 'time': '2017-01-27T13:33:25.000000Z', 'closeAsk': 1.07, 'volume': 9, 'highBid': 1.06986}, {'highAsk': 1.07015, 'complete': True, 'lowAsk': 1.07002, 'lowBid': 1.06989, 'closeBid': 1.06999, 'openAsk': 1.07002, 'openBid': 1.06989, 'time': '2017-01-27T13:33:30.000000Z', 'closeAsk': 1.07013, 'volume': 7, 'highBid': 1.07002}, {'highAsk': 1.07012, 'complete': True, 'lowAsk': 1.07006, 'lowBid': 1.06991, 'closeBid': 1.06994, 'openAsk': 1.0701, 'openBid': 1.06997, 'time': '2017-01-27T13:33:35.000000Z', 'closeAsk': 1.07008, 'volume': 10, 'highBid': 1.07}, {'highAsk': 1.0701, 'complete': True, 'lowAsk': 1.07002, 'lowBid': 1.06988, 'closeBid': 1.06988, 'openAsk': 1.0701, 'openBid': 1.06996, 'time': '2017-01-27T13:33:40.000000Z', 'closeAsk': 1.07002, 'volume': 4, 'highBid': 1.06996}, {'highAsk': 1.06999, 'complete': True, 'lowAsk': 1.06992, 'lowBid': 1.06977, 'closeBid': 1.06982, 'openAsk': 1.06999, 'openBid': 1.06986, 'time': '2017-01-27T13:33:45.000000Z', 'closeAsk': 1.06997, 'volume': 6, 'highBid': 1.06986}, {'highAsk': 1.06992, 'complete': True, 'lowAsk': 1.06976, 'lowBid': 1.0696, 'closeBid': 1.06964, 'openAsk': 1.06992, 'openBid': 1.06981, 'time': '2017-01-27T13:33:50.000000Z', 'closeAsk': 1.06981, 'volume': 10, 'highBid': 1.06981}, {'highAsk': 1.06992, 'complete': True, 'lowAsk': 1.06973, 'lowBid': 1.06961, 'closeBid': 1.06962, 'openAsk': 1.06977, 'openBid': 1.06964, 'time': '2017-01-27T13:33:55.000000Z', 'closeAsk': 1.06976, 'volume': 16, 'highBid': 1.06977}, {'highAsk': 1.06991, 'complete': True, 'lowAsk': 1.06973, 'lowBid': 1.06959, 'closeBid': 1.0696, 'openAsk': 1.06973, 'openBid': 1.06961, 'time': '2017-01-27T13:34:00.000000Z', 'closeAsk': 1.06976, 'volume': 15, 'highBid': 1.0697}, {'highAsk': 1.06979, 'complete': True, 'lowAsk': 1.06971, 'lowBid': 1.06956, 'closeBid': 1.06965, 'openAsk': 1.06973, 'openBid': 1.06958, 'time': '2017-01-27T13:34:05.000000Z', 'closeAsk': 1.06979, 'volume': 12, 'highBid': 1.06965}, {'highAsk': 1.06992, 'complete': True, 'lowAsk': 1.06979, 'lowBid': 1.06965, 'closeBid': 1.06972, 'openAsk': 1.06981, 'openBid': 1.06968, 'time': '2017-01-27T13:34:10.000000Z', 'closeAsk': 1.06986, 'volume': 9, 'highBid': 1.06979}, {'highAsk': 1.06996, 'complete': True, 'lowAsk': 1.06985, 'lowBid': 1.06972, 'closeBid': 1.06979, 'openAsk': 1.0699, 'openBid': 1.06974, 'time': '2017-01-27T13:34:15.000000Z', 'closeAsk': 1.06992, 'volume': 11, 'highBid': 1.06982}, {'highAsk': 1.07, 'complete': True, 'lowAsk': 1.06996, 'lowBid': 1.06981, 'closeBid': 1.06987, 'openAsk': 1.06996, 'openBid': 1.06981, 'time': '2017-01-27T13:34:20.000000Z', 'closeAsk': 1.07, 'volume': 3, 'highBid': 1.06987}, {'highAsk': 1.07013, 'complete': True, 'lowAsk': 1.06998, 'lowBid': 1.06985, 'closeBid': 1.06999, 'openAsk': 1.06998, 'openBid': 1.06985, 'time': '2017-01-27T13:34:25.000000Z', 'closeAsk': 1.07013, 'volume': 7, 'highBid': 1.06999}, {'highAsk': 1.0703, 'complete': True, 'lowAsk': 1.07013, 'lowBid': 1.06998, 'closeBid': 1.07014, 'openAsk': 1.07017, 'openBid': 1.07002, 'time': '2017-01-27T13:34:30.000000Z', 'closeAsk': 1.0703, 'volume': 15, 'highBid': 1.07014}, {'highAsk': 1.07027, 'complete': True, 'lowAsk': 1.07016, 'lowBid': 1.07001, 'closeBid': 1.07009, 'openAsk': 1.07026, 'openBid': 1.07013, 'time': '2017-01-27T13:34:35.000000Z', 'closeAsk': 1.07023, 'volume': 16, 'highBid': 1.07013}, {'highAsk': 1.07045, 'complete': True, 'lowAsk': 1.07023, 'lowBid': 1.07009, 'closeBid': 1.07009, 'openAsk': 1.07026, 'openBid': 1.07012, 'time': '2017-01-27T13:34:40.000000Z', 'closeAsk': 1.07024, 'volume': 24, 'highBid': 1.07031}, {'highAsk': 1.07041, 'complete': True, 'lowAsk': 1.07014, 'lowBid': 1.06998, 'closeBid': 1.07019, 'openAsk': 1.07021, 'openBid': 1.07007, 'time': '2017-01-27T13:34:45.000000Z', 'closeAsk': 1.07034, 'volume': 22, 'highBid': 1.07027}, {'highAsk': 1.07037, 'complete': True, 'lowAsk': 1.07016, 'lowBid': 1.07003, 'closeBid': 1.07003, 'openAsk': 1.07037, 'openBid': 1.07023, 'time': '2017-01-27T13:34:50.000000Z', 'closeAsk': 1.07016, 'volume': 14, 'highBid': 1.07023}, {'highAsk': 1.07028, 'complete': True, 'lowAsk': 1.07019, 'lowBid': 1.07005, 'closeBid': 1.07011, 'openAsk': 1.07019, 'openBid': 1.07005, 'time': '2017-01-27T13:34:55.000000Z', 'closeAsk': 1.07024, 'volume': 11, 'highBid': 1.07012}, {'highAsk': 1.07022, 'complete': True, 'lowAsk': 1.06998, 'lowBid': 1.06983, 'closeBid': 1.06997, 'openAsk': 1.07022, 'openBid': 1.07006, 'time': '2017-01-27T13:35:00.000000Z', 'closeAsk': 1.07013, 'volume': 30, 'highBid': 1.07006}, {'highAsk': 1.07015, 'complete': True, 'lowAsk': 1.06994, 'lowBid': 1.06982, 'closeBid': 1.06983, 'openAsk': 1.07009, 'openBid': 1.06996, 'time': '2017-01-27T13:35:05.000000Z', 'closeAsk': 1.06997, 'volume': 14, 'highBid': 1.07}, {'highAsk': 1.07, 'complete': True, 'lowAsk': 1.06982, 'lowBid': 1.06968, 'closeBid': 1.06968, 'openAsk': 1.06995, 'openBid': 1.06981, 'time': '2017-01-27T13:35:10.000000Z', 'closeAsk': 1.06982, 'volume': 18, 'highBid': 1.06985}, {'highAsk': 1.06985, 'complete': True, 'lowAsk': 1.06975, 'lowBid': 1.06962, 'closeBid': 1.06967, 'openAsk': 1.06985, 'openBid': 1.0697, 'time': '2017-01-27T13:35:15.000000Z', 'closeAsk': 1.0698, 'volume': 10, 'highBid': 1.0697}, {'highAsk': 1.06985, 'complete': True, 'lowAsk': 1.06974, 'lowBid': 1.0696, 'closeBid': 1.06966, 'openAsk': 1.06983, 'openBid': 1.06969, 'time': '2017-01-27T13:35:20.000000Z', 'closeAsk': 1.06982, 'volume': 15, 'highBid': 1.06971}, {'highAsk': 1.06978, 'complete': True, 'lowAsk': 1.06967, 'lowBid': 1.06952, 'closeBid': 1.06952, 'openAsk': 1.06978, 'openBid': 1.06964, 'time': '2017-01-27T13:35:25.000000Z', 'closeAsk': 1.06968, 'volume': 12, 'highBid': 1.06964}, {'highAsk': 1.06964, 'complete': True, 'lowAsk': 1.06949, 'lowBid': 1.06934, 'closeBid': 1.06939, 'openAsk': 1.06964, 'openBid': 1.0695, 'time': '2017-01-27T13:35:30.000000Z', 'closeAsk': 1.06953, 'volume': 14, 'highBid': 1.0695}, {'highAsk': 1.06972, 'complete': True, 'lowAsk': 1.06956, 'lowBid': 1.06941, 'closeBid': 1.06959, 'openAsk': 1.06956, 'openBid': 1.06941, 'time': '2017-01-27T13:35:35.000000Z', 'closeAsk': 1.06972, 'volume': 13, 'highBid': 1.06959}, {'highAsk': 1.06982, 'complete': True, 'lowAsk': 1.06971, 'lowBid': 1.06959, 'closeBid': 1.06959, 'openAsk': 1.06976, 'openBid': 1.0696, 'time': '2017-01-27T13:35:40.000000Z', 'closeAsk': 1.06972, 'volume': 16, 'highBid': 1.06969}, {'highAsk': 1.0697, 'complete': True, 'lowAsk': 1.06957, 'lowBid': 1.06946, 'closeBid': 1.06946, 'openAsk': 1.0697, 'openBid': 1.06957, 'time': '2017-01-27T13:35:45.000000Z', 'closeAsk': 1.06957, 'volume': 12, 'highBid': 1.06958}, {'highAsk': 1.06977, 'complete': True, 'lowAsk': 1.06961, 'lowBid': 1.06947, 'closeBid': 1.06958, 'openAsk': 1.06961, 'openBid': 1.06947, 'time': '2017-01-27T13:35:50.000000Z', 'closeAsk': 1.06973, 'volume': 13, 'highBid': 1.06963}, {'highAsk': 1.06986, 'complete': True, 'lowAsk': 1.06976, 'lowBid': 1.06962, 'closeBid': 1.06972, 'openAsk': 1.06976, 'openBid': 1.06962, 'time': '2017-01-27T13:35:55.000000Z', 'closeAsk': 1.06985, 'volume': 15, 'highBid': 1.06972}, {'highAsk': 1.06984, 'complete': True, 'lowAsk': 1.06976, 'lowBid': 1.06964, 'closeBid': 1.06964, 'openAsk': 1.06982, 'openBid': 1.06969, 'time': '2017-01-27T13:36:00.000000Z', 'closeAsk': 1.06976, 'volume': 7, 'highBid': 1.06971}, {'highAsk': 1.06989, 'complete': True, 'lowAsk': 1.0697, 'lowBid': 1.0696, 'closeBid': 1.0697, 'openAsk': 1.06975, 'openBid': 1.06961, 'time': '2017-01-27T13:36:05.000000Z', 'closeAsk': 1.06984, 'volume': 19, 'highBid': 1.06976}, {'highAsk': 1.0699, 'complete': True, 'lowAsk': 1.06981, 'lowBid': 1.06969, 'closeBid': 1.06978, 'openAsk': 1.06981, 'openBid': 1.06969, 'time': '2017-01-27T13:36:10.000000Z', 'closeAsk': 1.0699, 'volume': 5, 'highBid': 1.06978}, {'highAsk': 1.06989, 'complete': True, 'lowAsk': 1.06973, 'lowBid': 1.06959, 'closeBid': 1.06961, 'openAsk': 1.06989, 'openBid': 1.06974, 'time': '2017-01-27T13:36:15.000000Z', 'closeAsk': 1.06976, 'volume': 8, 'highBid': 1.06974}, {'highAsk': 1.06973, 'complete': True, 'lowAsk': 1.06963, 'lowBid': 1.06948, 'closeBid': 1.06953, 'openAsk': 1.06973, 'openBid': 1.06959, 'time': '2017-01-27T13:36:20.000000Z', 'closeAsk': 1.06968, 'volume': 11, 'highBid': 1.06959}, {'highAsk': 1.06977, 'complete': True, 'lowAsk': 1.06964, 'lowBid': 1.06951, 'closeBid': 1.06955, 'openAsk': 1.06971, 'openBid': 1.06955, 'time': '2017-01-27T13:36:25.000000Z', 'closeAsk': 1.06967, 'volume': 15, 'highBid': 1.06963}, {'highAsk': 1.06965, 'complete': True, 'lowAsk': 1.06948, 'lowBid': 1.06934, 'closeBid': 1.06937, 'openAsk': 1.06965, 'openBid': 1.0695, 'time': '2017-01-27T13:36:30.000000Z', 'closeAsk': 1.0695, 'volume': 10, 'highBid': 1.0695}, {'highAsk': 1.06966, 'complete': True, 'lowAsk': 1.06942, 'lowBid': 1.06928, 'closeBid': 1.06941, 'openAsk': 1.06947, 'openBid': 1.06934, 'time': '2017-01-27T13:36:35.000000Z', 'closeAsk': 1.06954, 'volume': 22, 'highBid': 1.06953}, {'highAsk': 1.06975, 'complete': True, 'lowAsk': 1.06957, 'lowBid': 1.06943, 'closeBid': 1.0696, 'openAsk': 1.06957, 'openBid': 1.06943, 'time': '2017-01-27T13:36:40.000000Z', 'closeAsk': 1.06972, 'volume': 9, 'highBid': 1.06962}, {'highAsk': 1.06977, 'complete': True, 'lowAsk': 1.06955, 'lowBid': 1.06944, 'closeBid': 1.06944, 'openAsk': 1.06977, 'openBid': 1.06961, 'time': '2017-01-27T13:36:45.000000Z', 'closeAsk': 1.06955, 'volume': 11, 'highBid': 1.06961}, {'highAsk': 1.06956, 'complete': True, 'lowAsk': 1.06948, 'lowBid': 1.06934, 'closeBid': 1.06934, 'openAsk': 1.06953, 'openBid': 1.0694, 'time': '2017-01-27T13:36:50.000000Z', 'closeAsk': 1.06948, 'volume': 8, 'highBid': 1.06943}, {'highAsk': 1.06946, 'complete': True, 'lowAsk': 1.06934, 'lowBid': 1.0692, 'closeBid': 1.0692, 'openAsk': 1.06946, 'openBid': 1.06931, 'time': '2017-01-27T13:36:55.000000Z', 'closeAsk': 1.06934, 'volume': 7, 'highBid': 1.06931}, {'highAsk': 1.06944, 'complete': True, 'lowAsk': 1.06928, 'lowBid': 1.06914, 'closeBid': 1.06914, 'openAsk': 1.06936, 'openBid': 1.06922, 'time': '2017-01-27T13:37:00.000000Z', 'closeAsk': 1.06928, 'volume': 16, 'highBid': 1.06926}, {'highAsk': 1.06955, 'complete': True, 'lowAsk': 1.06924, 'lowBid': 1.06906, 'closeBid': 1.06917, 'openAsk': 1.06926, 'openBid': 1.0691, 'time': '2017-01-27T13:37:05.000000Z', 'closeAsk': 1.06932, 'volume': 30, 'highBid': 1.06921}, {'highAsk': 1.06963, 'complete': True, 'lowAsk': 1.06935, 'lowBid': 1.0692, 'closeBid': 1.06927, 'openAsk': 1.06935, 'openBid': 1.0692, 'time': '2017-01-27T13:37:10.000000Z', 'closeAsk': 1.06939, 'volume': 24, 'highBid': 1.06939}, {'highAsk': 1.06959, 'complete': True, 'lowAsk': 1.06932, 'lowBid': 1.06916, 'closeBid': 1.06934, 'openAsk': 1.06937, 'openBid': 1.06924, 'time': '2017-01-27T13:37:15.000000Z', 'closeAsk': 1.06949, 'volume': 24, 'highBid': 1.06941}, {'highAsk': 1.06958, 'complete': True, 'lowAsk': 1.06945, 'lowBid': 1.06931, 'closeBid': 1.06935, 'openAsk': 1.06951, 'openBid': 1.06937, 'time': '2017-01-27T13:37:20.000000Z', 'closeAsk': 1.06951, 'volume': 15, 'highBid': 1.06945}, {'highAsk': 1.0695, 'complete': True, 'lowAsk': 1.0693, 'lowBid': 1.06917, 'closeBid': 1.06919, 'openAsk': 1.06947, 'openBid': 1.06934, 'time': '2017-01-27T13:37:25.000000Z', 'closeAsk': 1.06933, 'volume': 14, 'highBid': 1.06936}, {'highAsk': 1.0693, 'complete': True, 'lowAsk': 1.06919, 'lowBid': 1.06905, 'closeBid': 1.06905, 'openAsk': 1.0693, 'openBid': 1.06916, 'time': '2017-01-27T13:37:30.000000Z', 'closeAsk': 1.06919, 'volume': 14, 'highBid': 1.06916}, {'highAsk': 1.06922, 'complete': True, 'lowAsk': 1.06914, 'lowBid': 1.06901, 'closeBid': 1.06909, 'openAsk': 1.06917, 'openBid': 1.06903, 'time': '2017-01-27T13:37:35.000000Z', 'closeAsk': 1.06921, 'volume': 7, 'highBid': 1.06909}, {'highAsk': 1.0692, 'complete': True, 'lowAsk': 1.06904, 'lowBid': 1.06888, 'closeBid': 1.06893, 'openAsk': 1.0692, 'openBid': 1.06906, 'time': '2017-01-27T13:37:40.000000Z', 'closeAsk': 1.06907, 'volume': 16, 'highBid': 1.06906}, {'highAsk': 1.06918, 'complete': True, 'lowAsk': 1.06906, 'lowBid': 1.0689, 'closeBid': 1.06903, 'openAsk': 1.06908, 'openBid': 1.06896, 'time': '2017-01-27T13:37:45.000000Z', 'closeAsk': 1.06918, 'volume': 16, 'highBid': 1.06903}, {'highAsk': 1.06925, 'complete': True, 'lowAsk': 1.06914, 'lowBid': 1.06902, 'closeBid': 1.0691, 'openAsk': 1.06914, 'openBid': 1.06902, 'time': '2017-01-27T13:37:50.000000Z', 'closeAsk': 1.06923, 'volume': 8, 'highBid': 1.06912}, {'highAsk': 1.06939, 'complete': True, 'lowAsk': 1.0692, 'lowBid': 1.06906, 'closeBid': 1.06906, 'openAsk': 1.06925, 'openBid': 1.06912, 'time': '2017-01-27T13:37:55.000000Z', 'closeAsk': 1.0692, 'volume': 16, 'highBid': 1.06926}, {'highAsk': 1.06921, 'complete': True, 'lowAsk': 1.06911, 'lowBid': 1.06899, 'closeBid': 1.06899, 'openAsk': 1.06921, 'openBid': 1.06909, 'time': '2017-01-27T13:38:00.000000Z', 'closeAsk': 1.06911, 'volume': 11, 'highBid': 1.06909}, {'highAsk': 1.06914, 'complete': True, 'lowAsk': 1.06911, 'lowBid': 1.06897, 'closeBid': 1.06901, 'openAsk': 1.06914, 'openBid': 1.06901, 'time': '2017-01-27T13:38:05.000000Z', 'closeAsk': 1.06913, 'volume': 3, 'highBid': 1.06901}, {'highAsk': 1.0693, 'complete': True, 'lowAsk': 1.06916, 'lowBid': 1.069, 'closeBid': 1.06907, 'openAsk': 1.06916, 'openBid': 1.06902, 'time': '2017-01-27T13:38:10.000000Z', 'closeAsk': 1.06921, 'volume': 11, 'highBid': 1.06911}, {'highAsk': 1.06919, 'complete': True, 'lowAsk': 1.06913, 'lowBid': 1.06898, 'closeBid': 1.06903, 'openAsk': 1.06917, 'openBid': 1.06905, 'time': '2017-01-27T13:38:15.000000Z', 'closeAsk': 1.06917, 'volume': 7, 'highBid': 1.06906}, {'highAsk': 1.06932, 'complete': True, 'lowAsk': 1.06919, 'lowBid': 1.06906, 'closeBid': 1.06919, 'openAsk': 1.06919, 'openBid': 1.06906, 'time': '2017-01-27T13:38:20.000000Z', 'closeAsk': 1.06932, 'volume': 8, 'highBid': 1.06919}, {'highAsk': 1.06942, 'complete': True, 'lowAsk': 1.06928, 'lowBid': 1.06914, 'closeBid': 1.06914, 'openAsk': 1.06936, 'openBid': 1.06921, 'time': '2017-01-27T13:38:25.000000Z', 'closeAsk': 1.06928, 'volume': 10, 'highBid': 1.06927}, {'highAsk': 1.06925, 'complete': True, 'lowAsk': 1.06907, 'lowBid': 1.06894, 'closeBid': 1.06894, 'openAsk': 1.06925, 'openBid': 1.06913, 'time': '2017-01-27T13:38:30.000000Z', 'closeAsk': 1.06907, 'volume': 10, 'highBid': 1.06913}, {'highAsk': 1.06912, 'complete': True, 'lowAsk': 1.06882, 'lowBid': 1.0687, 'closeBid': 1.0687, 'openAsk': 1.0691, 'openBid': 1.06896, 'time': '2017-01-27T13:38:35.000000Z', 'closeAsk': 1.06882, 'volume': 17, 'highBid': 1.06898}, {'highAsk': 1.06895, 'complete': True, 'lowAsk': 1.06881, 'lowBid': 1.06867, 'closeBid': 1.06881, 'openAsk': 1.06885, 'openBid': 1.06872, 'time': '2017-01-27T13:38:40.000000Z', 'closeAsk': 1.06895, 'volume': 10, 'highBid': 1.06881}, {'highAsk': 1.06899, 'complete': True, 'lowAsk': 1.06885, 'lowBid': 1.06873, 'closeBid': 1.06873, 'openAsk': 1.06897, 'openBid': 1.06884, 'time': '2017-01-27T13:38:45.000000Z', 'closeAsk': 1.06885, 'volume': 10, 'highBid': 1.06886}, {'highAsk': 1.06895, 'complete': True, 'lowAsk': 1.06888, 'lowBid': 1.06874, 'closeBid': 1.06879, 'openAsk': 1.06888, 'openBid': 1.06874, 'time': '2017-01-27T13:38:50.000000Z', 'closeAsk': 1.06893, 'volume': 5, 'highBid': 1.06882}, {'highAsk': 1.06896, 'complete': True, 'lowAsk': 1.06891, 'lowBid': 1.06877, 'closeBid': 1.06877, 'openAsk': 1.06895, 'openBid': 1.06881, 'time': '2017-01-27T13:38:55.000000Z', 'closeAsk': 1.06891, 'volume': 7, 'highBid': 1.06883}, {'highAsk': 1.06899, 'complete': True, 'lowAsk': 1.06893, 'lowBid': 1.0688, 'closeBid': 1.06885, 'openAsk': 1.06893, 'openBid': 1.0688, 'time': '2017-01-27T13:39:00.000000Z', 'closeAsk': 1.06899, 'volume': 5, 'highBid': 1.06885}, {'highAsk': 1.06896, 'complete': True, 'lowAsk': 1.06891, 'lowBid': 1.06879, 'closeBid': 1.06879, 'openAsk': 1.06896, 'openBid': 1.06883, 'time': '2017-01-27T13:39:05.000000Z', 'closeAsk': 1.06891, 'volume': 3, 'highBid': 1.06883}, {'highAsk': 1.06888, 'complete': True, 'lowAsk': 1.06886, 'lowBid': 1.06874, 'closeBid': 1.06874, 'openAsk': 1.06888, 'openBid': 1.06876, 'time': '2017-01-27T13:39:20.000000Z', 'closeAsk': 1.06886, 'volume': 2, 'highBid': 1.06876}, {'highAsk': 1.06884, 'complete': True, 'lowAsk': 1.06874, 'lowBid': 1.06862, 'closeBid': 1.06862, 'openAsk': 1.06884, 'openBid': 1.06872, 'time': '2017-01-27T13:39:25.000000Z', 'closeAsk': 1.06874, 'volume': 7, 'highBid': 1.06872}, {'highAsk': 1.06874, 'complete': True, 'lowAsk': 1.06869, 'lowBid': 1.06858, 'closeBid': 1.0686, 'openAsk': 1.06872, 'openBid': 1.0686, 'time': '2017-01-27T13:39:30.000000Z', 'closeAsk': 1.06872, 'volume': 5, 'highBid': 1.06862}, {'highAsk': 1.06882, 'complete': True, 'lowAsk': 1.06875, 'lowBid': 1.06861, 'closeBid': 1.06868, 'openAsk': 1.06875, 'openBid': 1.06861, 'time': '2017-01-27T13:39:35.000000Z', 'closeAsk': 1.06882, 'volume': 4, 'highBid': 1.06868}, {'highAsk': 1.06884, 'complete': True, 'lowAsk': 1.0687, 'lowBid': 1.06857, 'closeBid': 1.06857, 'openAsk': 1.06884, 'openBid': 1.06871, 'time': '2017-01-27T13:39:40.000000Z', 'closeAsk': 1.0687, 'volume': 9, 'highBid': 1.06871}, {'highAsk': 1.06871, 'complete': True, 'lowAsk': 1.06859, 'lowBid': 1.06847, 'closeBid': 1.06847, 'openAsk': 1.06871, 'openBid': 1.0686, 'time': '2017-01-27T13:39:45.000000Z', 'closeAsk': 1.06859, 'volume': 8, 'highBid': 1.0686}, {'highAsk': 1.06862, 'complete': True, 'lowAsk': 1.06851, 'lowBid': 1.06838, 'closeBid': 1.06842, 'openAsk': 1.06856, 'openBid': 1.06845, 'time': '2017-01-27T13:39:50.000000Z', 'closeAsk': 1.06854, 'volume': 13, 'highBid': 1.06848}, {'highAsk': 1.06858, 'complete': True, 'lowAsk': 1.0685, 'lowBid': 1.06835, 'closeBid': 1.06838, 'openAsk': 1.06858, 'openBid': 1.06843, 'time': '2017-01-27T13:39:55.000000Z', 'closeAsk': 1.06851, 'volume': 7, 'highBid': 1.06843}, {'highAsk': 1.06855, 'complete': True, 'lowAsk': 1.06846, 'lowBid': 1.06832, 'closeBid': 1.06832, 'openAsk': 1.06849, 'openBid': 1.06836, 'time': '2017-01-27T13:40:00.000000Z', 'closeAsk': 1.06846, 'volume': 13, 'highBid': 1.06842}, {'highAsk': 1.06851, 'complete': True, 'lowAsk': 1.06838, 'lowBid': 1.06825, 'closeBid': 1.06837, 'openAsk': 1.06843, 'openBid': 1.0683, 'time': '2017-01-27T13:40:05.000000Z', 'closeAsk': 1.06851, 'volume': 11, 'highBid': 1.06838}, {'highAsk': 1.06861, 'complete': True, 'lowAsk': 1.06851, 'lowBid': 1.06839, 'closeBid': 1.06847, 'openAsk': 1.06853, 'openBid': 1.0684, 'time': '2017-01-27T13:40:10.000000Z', 'closeAsk': 1.06861, 'volume': 11, 'highBid': 1.06847}, {'highAsk': 1.06864, 'complete': True, 'lowAsk': 1.06852, 'lowBid': 1.0684, 'closeBid': 1.06845, 'openAsk': 1.06864, 'openBid': 1.06851, 'time': '2017-01-27T13:40:15.000000Z', 'closeAsk': 1.06857, 'volume': 11, 'highBid': 1.06851}, {'highAsk': 1.06865, 'complete': True, 'lowAsk': 1.06859, 'lowBid': 1.06847, 'closeBid': 1.0685, 'openAsk': 1.06859, 'openBid': 1.06847, 'time': '2017-01-27T13:40:20.000000Z', 'closeAsk': 1.06862, 'volume': 4, 'highBid': 1.06851}, {'highAsk': 1.0687, 'complete': True, 'lowAsk': 1.06864, 'lowBid': 1.0685, 'closeBid': 1.0685, 'openAsk': 1.06865, 'openBid': 1.06853, 'time': '2017-01-27T13:40:25.000000Z', 'closeAsk': 1.06864, 'volume': 5, 'highBid': 1.06857}, {'highAsk': 1.06868, 'complete': True, 'lowAsk': 1.06867, 'lowBid': 1.06853, 'closeBid': 1.06856, 'openAsk': 1.06867, 'openBid': 1.06853, 'time': '2017-01-27T13:40:30.000000Z', 'closeAsk': 1.06868, 'volume': 2, 'highBid': 1.06856}, {'highAsk': 1.06871, 'complete': True, 'lowAsk': 1.06866, 'lowBid': 1.06852, 'closeBid': 1.06856, 'openAsk': 1.06866, 'openBid': 1.06852, 'time': '2017-01-27T13:40:35.000000Z', 'closeAsk': 1.06868, 'volume': 4, 'highBid': 1.06858}, {'highAsk': 1.06869, 'complete': True, 'lowAsk': 1.0686, 'lowBid': 1.06846, 'closeBid': 1.06846, 'openAsk': 1.06867, 'openBid': 1.06853, 'time': '2017-01-27T13:40:40.000000Z', 'closeAsk': 1.0686, 'volume': 6, 'highBid': 1.06855}, {'highAsk': 1.06866, 'complete': True, 'lowAsk': 1.06857, 'lowBid': 1.06845, 'closeBid': 1.06854, 'openAsk': 1.06857, 'openBid': 1.06845, 'time': '2017-01-27T13:40:45.000000Z', 'closeAsk': 1.06866, 'volume': 5, 'highBid': 1.06854}, {'highAsk': 1.06866, 'complete': True, 'lowAsk': 1.06859, 'lowBid': 1.06846, 'closeBid': 1.06854, 'openAsk': 1.06864, 'openBid': 1.06851, 'time': '2017-01-27T13:40:50.000000Z', 'closeAsk': 1.06866, 'volume': 6, 'highBid': 1.06854}, {'highAsk': 1.06873, 'complete': True, 'lowAsk': 1.06868, 'lowBid': 1.06855, 'closeBid': 1.06858, 'openAsk': 1.06868, 'openBid': 1.06856, 'time': '2017-01-27T13:40:55.000000Z', 'closeAsk': 1.06871, 'volume': 6, 'highBid': 1.06861}, {'highAsk': 1.06873, 'complete': True, 'lowAsk': 1.06868, 'lowBid': 1.06854, 'closeBid': 1.0686, 'openAsk': 1.06868, 'openBid': 1.06854, 'time': '2017-01-27T13:41:00.000000Z', 'closeAsk': 1.06873, 'volume': 3, 'highBid': 1.0686}, {'highAsk': 1.0687, 'complete': True, 'lowAsk': 1.06861, 'lowBid': 1.06848, 'closeBid': 1.06853, 'openAsk': 1.0687, 'openBid': 1.06858, 'time': '2017-01-27T13:41:05.000000Z', 'closeAsk': 1.06866, 'volume': 7, 'highBid': 1.06858}, {'highAsk': 1.06871, 'complete': True, 'lowAsk': 1.06863, 'lowBid': 1.06851, 'closeBid': 1.06855, 'openAsk': 1.06863, 'openBid': 1.06851, 'time': '2017-01-27T13:41:10.000000Z', 'closeAsk': 1.06869, 'volume': 5, 'highBid': 1.06858}, {'highAsk': 1.0688, 'complete': True, 'lowAsk': 1.06868, 'lowBid': 1.06855, 'closeBid': 1.06864, 'openAsk': 1.06871, 'openBid': 1.06858, 'time': '2017-01-27T13:41:15.000000Z', 'closeAsk': 1.06877, 'volume': 9, 'highBid': 1.06866}, {'highAsk': 1.06875, 'complete': True, 'lowAsk': 1.06873, 'lowBid': 1.06859, 'closeBid': 1.06861, 'openAsk': 1.06875, 'openBid': 1.06862, 'time': '2017-01-27T13:41:20.000000Z', 'closeAsk': 1.06875, 'volume': 3, 'highBid': 1.06862}, {'highAsk': 1.06887, 'complete': True, 'lowAsk': 1.06878, 'lowBid': 1.06864, 'closeBid': 1.06874, 'openAsk': 1.06878, 'openBid': 1.06864, 'time': '2017-01-27T13:41:25.000000Z', 'closeAsk': 1.06887, 'volume': 4, 'highBid': 1.06874}, {'highAsk': 1.06887, 'complete': True, 'lowAsk': 1.06884, 'lowBid': 1.06871, 'closeBid': 1.06874, 'openAsk': 1.06884, 'openBid': 1.06871, 'time': '2017-01-27T13:41:30.000000Z', 'closeAsk': 1.06887, 'volume': 2, 'highBid': 1.06874}, {'highAsk': 1.06893, 'complete': True, 'lowAsk': 1.06885, 'lowBid': 1.06871, 'closeBid': 1.06881, 'openAsk': 1.06885, 'openBid': 1.06871, 'time': '2017-01-27T13:41:35.000000Z', 'closeAsk': 1.06893, 'volume': 8, 'highBid': 1.06881}, {'highAsk': 1.06898, 'complete': True, 'lowAsk': 1.06895, 'lowBid': 1.06883, 'closeBid': 1.06883, 'openAsk': 1.06895, 'openBid': 1.06883, 'time': '2017-01-27T13:41:45.000000Z', 'closeAsk': 1.06895, 'volume': 3, 'highBid': 1.06885}, {'highAsk': 1.06892, 'complete': True, 'lowAsk': 1.06875, 'lowBid': 1.06861, 'closeBid': 1.06861, 'openAsk': 1.06892, 'openBid': 1.06881, 'time': '2017-01-27T13:41:55.000000Z', 'closeAsk': 1.06875, 'volume': 8, 'highBid': 1.06881}, {'highAsk': 1.06872, 'complete': True, 'lowAsk': 1.06861, 'lowBid': 1.06847, 'closeBid': 1.06854, 'openAsk': 1.06872, 'openBid': 1.06859, 'time': '2017-01-27T13:42:00.000000Z', 'closeAsk': 1.06868, 'volume': 11, 'highBid': 1.06859}, {'highAsk': 1.06878, 'complete': True, 'lowAsk': 1.0687, 'lowBid': 1.06857, 'closeBid': 1.06865, 'openAsk': 1.0687, 'openBid': 1.06857, 'time': '2017-01-27T13:42:05.000000Z', 'closeAsk': 1.06878, 'volume': 4, 'highBid': 1.06865}, {'highAsk': 1.06876, 'complete': True, 'lowAsk': 1.06861, 'lowBid': 1.06846, 'closeBid': 1.06846, 'openAsk': 1.06876, 'openBid': 1.06862, 'time': '2017-01-27T13:42:10.000000Z', 'closeAsk': 1.06861, 'volume': 8, 'highBid': 1.06862}, {'highAsk': 1.06857, 'complete': True, 'lowAsk': 1.06844, 'lowBid': 1.06829, 'closeBid': 1.06833, 'openAsk': 1.06857, 'openBid': 1.06845, 'time': '2017-01-27T13:42:15.000000Z', 'closeAsk': 1.06845, 'volume': 11, 'highBid': 1.06845}, {'highAsk': 1.06857, 'complete': True, 'lowAsk': 1.06848, 'lowBid': 1.06835, 'closeBid': 1.0684, 'openAsk': 1.06848, 'openBid': 1.06835, 'time': '2017-01-27T13:42:20.000000Z', 'closeAsk': 1.06852, 'volume': 7, 'highBid': 1.06844}, {'highAsk': 1.06858, 'complete': True, 'lowAsk': 1.06848, 'lowBid': 1.06833, 'closeBid': 1.06843, 'openAsk': 1.06855, 'openBid': 1.06841, 'time': '2017-01-27T13:42:25.000000Z', 'closeAsk': 1.06857, 'volume': 13, 'highBid': 1.06843}, {'highAsk': 1.06864, 'complete': True, 'lowAsk': 1.06859, 'lowBid': 1.06846, 'closeBid': 1.06849, 'openAsk': 1.06859, 'openBid': 1.06846, 'time': '2017-01-27T13:42:30.000000Z', 'closeAsk': 1.06861, 'volume': 6, 'highBid': 1.06851}, {'highAsk': 1.06866, 'complete': True, 'lowAsk': 1.0686, 'lowBid': 1.06846, 'closeBid': 1.06854, 'openAsk': 1.0686, 'openBid': 1.06846, 'time': '2017-01-27T13:42:40.000000Z', 'closeAsk': 1.06866, 'volume': 4, 'highBid': 1.06854}, {'highAsk': 1.06864, 'complete': True, 'lowAsk': 1.06845, 'lowBid': 1.06833, 'closeBid': 1.06843, 'openAsk': 1.06864, 'openBid': 1.06852, 'time': '2017-01-27T13:42:45.000000Z', 'closeAsk': 1.06855, 'volume': 15, 'highBid': 1.06852}, {'highAsk': 1.06857, 'complete': True, 'lowAsk': 1.0685, 'lowBid': 1.06835, 'closeBid': 1.06835, 'openAsk': 1.06853, 'openBid': 1.0684, 'time': '2017-01-27T13:42:50.000000Z', 'closeAsk': 1.0685, 'volume': 7, 'highBid': 1.06842}, {'highAsk': 1.06847, 'complete': True, 'lowAsk': 1.0684, 'lowBid': 1.06826, 'closeBid': 1.06834, 'openAsk': 1.06846, 'openBid': 1.06834, 'time': '2017-01-27T13:42:55.000000Z', 'closeAsk': 1.06847, 'volume': 9, 'highBid': 1.06834}, {'highAsk': 1.06853, 'complete': True, 'lowAsk': 1.06845, 'lowBid': 1.06831, 'closeBid': 1.06838, 'openAsk': 1.06845, 'openBid': 1.06831, 'time': '2017-01-27T13:43:00.000000Z', 'closeAsk': 1.0685, 'volume': 9, 'highBid': 1.0684}, {'highAsk': 1.0686, 'complete': True, 'lowAsk': 1.06848, 'lowBid': 1.06834, 'closeBid': 1.06846, 'openAsk': 1.06853, 'openBid': 1.0684, 'time': '2017-01-27T13:43:05.000000Z', 'closeAsk': 1.0686, 'volume': 8, 'highBid': 1.06846}, {'highAsk': 1.06866, 'complete': True, 'lowAsk': 1.06857, 'lowBid': 1.06844, 'closeBid': 1.06854, 'openAsk': 1.06857, 'openBid': 1.06844, 'time': '2017-01-27T13:43:10.000000Z', 'closeAsk': 1.06866, 'volume': 9, 'highBid': 1.06854}, {'highAsk': 1.06879, 'complete': True, 'lowAsk': 1.06868, 'lowBid': 1.06856, 'closeBid': 1.06866, 'openAsk': 1.06868, 'openBid': 1.06856, 'time': '2017-01-27T13:43:15.000000Z', 'closeAsk': 1.06879, 'volume': 9, 'highBid': 1.06866}, {'highAsk': 1.06881, 'complete': True, 'lowAsk': 1.06873, 'lowBid': 1.06861, 'closeBid': 1.06869, 'openAsk': 1.06876, 'openBid': 1.06863, 'time': '2017-01-27T13:43:20.000000Z', 'closeAsk': 1.06881, 'volume': 7, 'highBid': 1.06869}, {'highAsk': 1.06902, 'complete': True, 'lowAsk': 1.0688, 'lowBid': 1.06866, 'closeBid': 1.06888, 'openAsk': 1.06884, 'openBid': 1.06872, 'time': '2017-01-27T13:43:25.000000Z', 'closeAsk': 1.06902, 'volume': 14, 'highBid': 1.06888}, {'highAsk': 1.06912, 'complete': True, 'lowAsk': 1.06904, 'lowBid': 1.0689, 'closeBid': 1.06893, 'openAsk': 1.06904, 'openBid': 1.06891, 'time': '2017-01-27T13:43:30.000000Z', 'closeAsk': 1.06906, 'volume': 12, 'highBid': 1.06897}, {'highAsk': 1.06924, 'complete': True, 'lowAsk': 1.06908, 'lowBid': 1.06895, 'closeBid': 1.0691, 'openAsk': 1.06908, 'openBid': 1.06895, 'time': '2017-01-27T13:43:35.000000Z', 'closeAsk': 1.06924, 'volume': 6, 'highBid': 1.0691}, {'highAsk': 1.06928, 'complete': True, 'lowAsk': 1.06923, 'lowBid': 1.06911, 'closeBid': 1.06913, 'openAsk': 1.06926, 'openBid': 1.06912, 'time': '2017-01-27T13:43:40.000000Z', 'closeAsk': 1.06927, 'volume': 5, 'highBid': 1.06917}, {'highAsk': 1.06926, 'complete': True, 'lowAsk': 1.06909, 'lowBid': 1.06896, 'closeBid': 1.06909, 'openAsk': 1.06924, 'openBid': 1.06911, 'time': '2017-01-27T13:43:45.000000Z', 'closeAsk': 1.06921, 'volume': 18, 'highBid': 1.06913}, {'highAsk': 1.06928, 'complete': True, 'lowAsk': 1.06912, 'lowBid': 1.069, 'closeBid': 1.06914, 'openAsk': 1.0692, 'openBid': 1.06906, 'time': '2017-01-27T13:43:50.000000Z', 'closeAsk': 1.06928, 'volume': 12, 'highBid': 1.06914}, {'highAsk': 1.06926, 'complete': True, 'lowAsk': 1.06923, 'lowBid': 1.0691, 'closeBid': 1.06911, 'openAsk': 1.06925, 'openBid': 1.06912, 'time': '2017-01-27T13:43:55.000000Z', 'closeAsk': 1.06924, 'volume': 8, 'highBid': 1.06914}, {'highAsk': 1.06931, 'complete': True, 'lowAsk': 1.06918, 'lowBid': 1.06905, 'closeBid': 1.06917, 'openAsk': 1.06921, 'openBid': 1.06908, 'time': '2017-01-27T13:44:00.000000Z', 'closeAsk': 1.06931, 'volume': 9, 'highBid': 1.06917}, {'highAsk': 1.06933, 'complete': True, 'lowAsk': 1.06925, 'lowBid': 1.06913, 'closeBid': 1.06917, 'openAsk': 1.06933, 'openBid': 1.0692, 'time': '2017-01-27T13:44:05.000000Z', 'closeAsk': 1.0693, 'volume': 8, 'highBid': 1.0692}, {'highAsk': 1.06936, 'complete': True, 'lowAsk': 1.0693, 'lowBid': 1.06917, 'closeBid': 1.0692, 'openAsk': 1.06932, 'openBid': 1.06919, 'time': '2017-01-27T13:44:10.000000Z', 'closeAsk': 1.06932, 'volume': 5, 'highBid': 1.06921}, {'highAsk': 1.06945, 'complete': True, 'lowAsk': 1.06933, 'lowBid': 1.0692, 'closeBid': 1.06928, 'openAsk': 1.06936, 'openBid': 1.06921, 'time': '2017-01-27T13:44:15.000000Z', 'closeAsk': 1.06942, 'volume': 9, 'highBid': 1.06931}, {'highAsk': 1.06944, 'complete': True, 'lowAsk': 1.06928, 'lowBid': 1.06915, 'closeBid': 1.06921, 'openAsk': 1.06943, 'openBid': 1.06931, 'time': '2017-01-27T13:44:20.000000Z', 'closeAsk': 1.06934, 'volume': 13, 'highBid': 1.06931}, {'highAsk': 1.06942, 'complete': True, 'lowAsk': 1.06932, 'lowBid': 1.06919, 'closeBid': 1.06919, 'openAsk': 1.06937, 'openBid': 1.06924, 'time': '2017-01-27T13:44:25.000000Z', 'closeAsk': 1.06932, 'volume': 11, 'highBid': 1.06929}, {'highAsk': 1.06935, 'complete': True, 'lowAsk': 1.06928, 'lowBid': 1.06914, 'closeBid': 1.06914, 'openAsk': 1.06935, 'openBid': 1.06921, 'time': '2017-01-27T13:44:30.000000Z', 'closeAsk': 1.06928, 'volume': 4, 'highBid': 1.06921}, {'highAsk': 1.06937, 'complete': True, 'lowAsk': 1.06923, 'lowBid': 1.0691, 'closeBid': 1.0692, 'openAsk': 1.06931, 'openBid': 1.06917, 'time': '2017-01-27T13:44:35.000000Z', 'closeAsk': 1.06934, 'volume': 13, 'highBid': 1.06923}, {'highAsk': 1.06942, 'complete': True, 'lowAsk': 1.06935, 'lowBid': 1.06923, 'closeBid': 1.06928, 'openAsk': 1.06935, 'openBid': 1.06923, 'time': '2017-01-27T13:44:40.000000Z', 'closeAsk': 1.06942, 'volume': 3, 'highBid': 1.06928}, {'highAsk': 1.06939, 'complete': True, 'lowAsk': 1.06931, 'lowBid': 1.06919, 'closeBid': 1.06919, 'openAsk': 1.06939, 'openBid': 1.06926, 'time': '2017-01-27T13:44:45.000000Z', 'closeAsk': 1.06931, 'volume': 6, 'highBid': 1.06926}, {'highAsk': 1.06946, 'complete': True, 'lowAsk': 1.06927, 'lowBid': 1.06914, 'closeBid': 1.0693, 'openAsk': 1.06929, 'openBid': 1.06916, 'time': '2017-01-27T13:44:50.000000Z', 'closeAsk': 1.06942, 'volume': 10, 'highBid': 1.06932}, {'highAsk': 1.06962, 'complete': True, 'lowAsk': 1.06941, 'lowBid': 1.06927, 'closeBid': 1.06941, 'openAsk': 1.06941, 'openBid': 1.06927, 'time': '2017-01-27T13:44:55.000000Z', 'closeAsk': 1.06954, 'volume': 15, 'highBid': 1.06949}, {'highAsk': 1.06952, 'complete': True, 'lowAsk': 1.0694, 'lowBid': 1.06926, 'closeBid': 1.06926, 'openAsk': 1.06952, 'openBid': 1.06938, 'time': '2017-01-27T13:45:00.000000Z', 'closeAsk': 1.0694, 'volume': 12, 'highBid': 1.06938}, {'highAsk': 1.06937, 'complete': True, 'lowAsk': 1.06933, 'lowBid': 1.0692, 'closeBid': 1.06922, 'openAsk': 1.06937, 'openBid': 1.06924, 'time': '2017-01-27T13:45:05.000000Z', 'closeAsk': 1.06935, 'volume': 5, 'highBid': 1.06924}, {'highAsk': 1.06933, 'complete': True, 'lowAsk': 1.06928, 'lowBid': 1.06915, 'closeBid': 1.06918, 'openAsk': 1.06933, 'openBid': 1.0692, 'time': '2017-01-27T13:45:10.000000Z', 'closeAsk': 1.06931, 'volume': 4, 'highBid': 1.0692}, {'highAsk': 1.06928, 'complete': True, 'lowAsk': 1.06914, 'lowBid': 1.06902, 'closeBid': 1.06902, 'openAsk': 1.06928, 'openBid': 1.06915, 'time': '2017-01-27T13:45:15.000000Z', 'closeAsk': 1.06914, 'volume': 6, 'highBid': 1.06915}, {'highAsk': 1.0692, 'complete': True, 'lowAsk': 1.06911, 'lowBid': 1.06899, 'closeBid': 1.06904, 'openAsk': 1.06911, 'openBid': 1.06899, 'time': '2017-01-27T13:45:20.000000Z', 'closeAsk': 1.06916, 'volume': 11, 'highBid': 1.06905}, {'highAsk': 1.06914, 'complete': True, 'lowAsk': 1.069, 'lowBid': 1.06889, 'closeBid': 1.06889, 'openAsk': 1.06914, 'openBid': 1.069, 'time': '2017-01-27T13:45:25.000000Z', 'closeAsk': 1.069, 'volume': 8, 'highBid': 1.06901}, {'highAsk': 1.069, 'complete': True, 'lowAsk': 1.06898, 'lowBid': 1.06884, 'closeBid': 1.06884, 'openAsk': 1.06898, 'openBid': 1.06886, 'time': '2017-01-27T13:45:30.000000Z', 'closeAsk': 1.069, 'volume': 3, 'highBid': 1.06888}, {'highAsk': 1.069, 'complete': True, 'lowAsk': 1.06884, 'lowBid': 1.06869, 'closeBid': 1.06879, 'openAsk': 1.069, 'openBid': 1.06888, 'time': '2017-01-27T13:45:35.000000Z', 'closeAsk': 1.06891, 'volume': 11, 'highBid': 1.06888}, {'highAsk': 1.06899, 'complete': True, 'lowAsk': 1.06884, 'lowBid': 1.06869, 'closeBid': 1.06869, 'openAsk': 1.06894, 'openBid': 1.06881, 'time': '2017-01-27T13:45:40.000000Z', 'closeAsk': 1.06884, 'volume': 12, 'highBid': 1.06885}, {'highAsk': 1.06895, 'complete': True, 'lowAsk': 1.06885, 'lowBid': 1.06872, 'closeBid': 1.06883, 'openAsk': 1.06885, 'openBid': 1.06872, 'time': '2017-01-27T13:45:45.000000Z', 'closeAsk': 1.06895, 'volume': 7, 'highBid': 1.06883}, {'highAsk': 1.06902, 'complete': True, 'lowAsk': 1.06886, 'lowBid': 1.06874, 'closeBid': 1.06874, 'openAsk': 1.06898, 'openBid': 1.06885, 'time': '2017-01-27T13:45:50.000000Z', 'closeAsk': 1.06886, 'volume': 9, 'highBid': 1.0689}, {'highAsk': 1.06884, 'complete': True, 'lowAsk': 1.06879, 'lowBid': 1.06866, 'closeBid': 1.06868, 'openAsk': 1.06884, 'openBid': 1.06871, 'time': '2017-01-27T13:45:55.000000Z', 'closeAsk': 1.06882, 'volume': 6, 'highBid': 1.06871}, {'highAsk': 1.06893, 'complete': True, 'lowAsk': 1.06884, 'lowBid': 1.06872, 'closeBid': 1.06872, 'openAsk': 1.06884, 'openBid': 1.06872, 'time': '2017-01-27T13:46:00.000000Z', 'closeAsk': 1.06886, 'volume': 7, 'highBid': 1.06879}, {'highAsk': 1.06892, 'complete': True, 'lowAsk': 1.06887, 'lowBid': 1.06873, 'closeBid': 1.06881, 'openAsk': 1.06887, 'openBid': 1.06875, 'time': '2017-01-27T13:46:05.000000Z', 'closeAsk': 1.06892, 'volume': 7, 'highBid': 1.06881}, {'highAsk': 1.06896, 'complete': True, 'lowAsk': 1.06891, 'lowBid': 1.06877, 'closeBid': 1.06877, 'openAsk': 1.06896, 'openBid': 1.06882, 'time': '2017-01-27T13:46:10.000000Z', 'closeAsk': 1.06891, 'volume': 7, 'highBid': 1.06884}, {'highAsk': 1.06902, 'complete': True, 'lowAsk': 1.06893, 'lowBid': 1.0688, 'closeBid': 1.0689, 'openAsk': 1.06893, 'openBid': 1.0688, 'time': '2017-01-27T13:46:20.000000Z', 'closeAsk': 1.06902, 'volume': 9, 'highBid': 1.0689}, {'highAsk': 1.069, 'complete': True, 'lowAsk': 1.06896, 'lowBid': 1.06883, 'closeBid': 1.06886, 'openAsk': 1.069, 'openBid': 1.06888, 'time': '2017-01-27T13:46:25.000000Z', 'closeAsk': 1.06897, 'volume': 6, 'highBid': 1.06888}, {'highAsk': 1.06895, 'complete': True, 'lowAsk': 1.06887, 'lowBid': 1.06874, 'closeBid': 1.06874, 'openAsk': 1.06895, 'openBid': 1.06882, 'time': '2017-01-27T13:46:30.000000Z', 'closeAsk': 1.06887, 'volume': 4, 'highBid': 1.06882}, {'highAsk': 1.06883, 'complete': True, 'lowAsk': 1.06871, 'lowBid': 1.0686, 'closeBid': 1.06864, 'openAsk': 1.06883, 'openBid': 1.06872, 'time': '2017-01-27T13:46:35.000000Z', 'closeAsk': 1.06877, 'volume': 8, 'highBid': 1.06872}, {'highAsk': 1.06881, 'complete': True, 'lowAsk': 1.06874, 'lowBid': 1.0686, 'closeBid': 1.0686, 'openAsk': 1.06881, 'openBid': 1.06867, 'time': '2017-01-27T13:46:40.000000Z', 'closeAsk': 1.06874, 'volume': 4, 'highBid': 1.06867}, {'highAsk': 1.06888, 'complete': True, 'lowAsk': 1.06874, 'lowBid': 1.0686, 'closeBid': 1.06875, 'openAsk': 1.06876, 'openBid': 1.06863, 'time': '2017-01-27T13:46:45.000000Z', 'closeAsk': 1.06888, 'volume': 8, 'highBid': 1.06875}, {'highAsk': 1.06885, 'complete': True, 'lowAsk': 1.06875, 'lowBid': 1.06863, 'closeBid': 1.06863, 'openAsk': 1.06885, 'openBid': 1.06873, 'time': '2017-01-27T13:46:50.000000Z', 'closeAsk': 1.06875, 'volume': 5, 'highBid': 1.06873}, {'highAsk': 1.06882, 'complete': True, 'lowAsk': 1.06852, 'lowBid': 1.06839, 'closeBid': 1.06842, 'openAsk': 1.06873, 'openBid': 1.06861, 'time': '2017-01-27T13:46:55.000000Z', 'closeAsk': 1.06854, 'volume': 21, 'highBid': 1.06868}, {'highAsk': 1.06857, 'complete': True, 'lowAsk': 1.06841, 'lowBid': 1.06827, 'closeBid': 1.06835, 'openAsk': 1.06852, 'openBid': 1.0684, 'time': '2017-01-27T13:47:00.000000Z', 'closeAsk': 1.06847, 'volume': 17, 'highBid': 1.06844}, {'highAsk': 1.06859, 'complete': True, 'lowAsk': 1.06844, 'lowBid': 1.0683, 'closeBid': 1.0683, 'openAsk': 1.06851, 'openBid': 1.06836, 'time': '2017-01-27T13:47:05.000000Z', 'closeAsk': 1.06844, 'volume': 20, 'highBid': 1.06845}, {'highAsk': 1.0685, 'complete': True, 'lowAsk': 1.06839, 'lowBid': 1.06824, 'closeBid': 1.06828, 'openAsk': 1.06846, 'openBid': 1.06833, 'time': '2017-01-27T13:47:10.000000Z', 'closeAsk': 1.0684, 'volume': 11, 'highBid': 1.06835}, {'highAsk': 1.06849, 'complete': True, 'lowAsk': 1.06841, 'lowBid': 1.06828, 'closeBid': 1.06834, 'openAsk': 1.06844, 'openBid': 1.0683, 'time': '2017-01-27T13:47:15.000000Z', 'closeAsk': 1.06846, 'volume': 8, 'highBid': 1.06836}, {'highAsk': 1.0685, 'complete': True, 'lowAsk': 1.06844, 'lowBid': 1.06832, 'closeBid': 1.06832, 'openAsk': 1.06844, 'openBid': 1.06832, 'time': '2017-01-27T13:47:20.000000Z', 'closeAsk': 1.06845, 'volume': 8, 'highBid': 1.06837}, {'highAsk': 1.0685, 'complete': True, 'lowAsk': 1.06844, 'lowBid': 1.06832, 'closeBid': 1.06836, 'openAsk': 1.06847, 'openBid': 1.06834, 'time': '2017-01-27T13:47:25.000000Z', 'closeAsk': 1.06848, 'volume': 6, 'highBid': 1.06836}, {'highAsk': 1.06848, 'complete': True, 'lowAsk': 1.06841, 'lowBid': 1.0683, 'closeBid': 1.06835, 'openAsk': 1.06846, 'openBid': 1.06834, 'time': '2017-01-27T13:47:30.000000Z', 'closeAsk': 1.06848, 'volume': 5, 'highBid': 1.06835}, {'highAsk': 1.06856, 'complete': True, 'lowAsk': 1.0685, 'lowBid': 1.06838, 'closeBid': 1.0684, 'openAsk': 1.0685, 'openBid': 1.06838, 'time': '2017-01-27T13:47:35.000000Z', 'closeAsk': 1.06853, 'volume': 8, 'highBid': 1.06843}, {'highAsk': 1.06865, 'complete': True, 'lowAsk': 1.06853, 'lowBid': 1.06841, 'closeBid': 1.06841, 'openAsk': 1.06855, 'openBid': 1.06843, 'time': '2017-01-27T13:47:40.000000Z', 'closeAsk': 1.06853, 'volume': 9, 'highBid': 1.06852}, {'highAsk': 1.06851, 'complete': True, 'lowAsk': 1.06847, 'lowBid': 1.06835, 'closeBid': 1.06835, 'openAsk': 1.06851, 'openBid': 1.06837, 'time': '2017-01-27T13:47:45.000000Z', 'closeAsk': 1.06847, 'volume': 2, 'highBid': 1.06837}, {'highAsk': 1.06853, 'complete': True, 'lowAsk': 1.06848, 'lowBid': 1.06835, 'closeBid': 1.0684, 'openAsk': 1.06851, 'openBid': 1.06837, 'time': '2017-01-27T13:47:50.000000Z', 'closeAsk': 1.06853, 'volume': 4, 'highBid': 1.0684}, {'highAsk': 1.06861, 'complete': True, 'lowAsk': 1.06855, 'lowBid': 1.06843, 'closeBid': 1.06846, 'openAsk': 1.06855, 'openBid': 1.06843, 'time': '2017-01-27T13:47:55.000000Z', 'closeAsk': 1.06858, 'volume': 4, 'highBid': 1.06847}, {'highAsk': 1.06863, 'complete': True, 'lowAsk': 1.06853, 'lowBid': 1.0684, 'closeBid': 1.0684, 'openAsk': 1.06856, 'openBid': 1.06843, 'time': '2017-01-27T13:48:00.000000Z', 'closeAsk': 1.06853, 'volume': 12, 'highBid': 1.06851}, {'highAsk': 1.06855, 'complete': True, 'lowAsk': 1.0685, 'lowBid': 1.06838, 'closeBid': 1.06841, 'openAsk': 1.06855, 'openBid': 1.06843, 'time': '2017-01-27T13:48:05.000000Z', 'closeAsk': 1.06852, 'volume': 4, 'highBid': 1.06843}, {'highAsk': 1.06856, 'complete': True, 'lowAsk': 1.06853, 'lowBid': 1.0684, 'closeBid': 1.06843, 'openAsk': 1.06856, 'openBid': 1.06844, 'time': '2017-01-27T13:48:10.000000Z', 'closeAsk': 1.06856, 'volume': 5, 'highBid': 1.06844}, {'highAsk': 1.06853, 'complete': True, 'lowAsk': 1.06851, 'lowBid': 1.06839, 'closeBid': 1.06839, 'openAsk': 1.06853, 'openBid': 1.06841, 'time': '2017-01-27T13:48:15.000000Z', 'closeAsk': 1.06851, 'volume': 2, 'highBid': 1.06841}, {'highAsk': 1.06866, 'complete': True, 'lowAsk': 1.06855, 'lowBid': 1.06841, 'closeBid': 1.06853, 'openAsk': 1.06855, 'openBid': 1.06841, 'time': '2017-01-27T13:48:20.000000Z', 'closeAsk': 1.06866, 'volume': 7, 'highBid': 1.06853}, {'highAsk': 1.06863, 'complete': True, 'lowAsk': 1.06857, 'lowBid': 1.06843, 'closeBid': 1.06843, 'openAsk': 1.06863, 'openBid': 1.0685, 'time': '2017-01-27T13:48:25.000000Z', 'closeAsk': 1.06857, 'volume': 7, 'highBid': 1.0685}, {'highAsk': 1.0686, 'complete': True, 'lowAsk': 1.06854, 'lowBid': 1.06841, 'closeBid': 1.06841, 'openAsk': 1.06854, 'openBid': 1.06841, 'time': '2017-01-27T13:48:30.000000Z', 'closeAsk': 1.06855, 'volume': 5, 'highBid': 1.06846}, {'highAsk': 1.06856, 'complete': True, 'lowAsk': 1.06852, 'lowBid': 1.06839, 'closeBid': 1.06841, 'openAsk': 1.06856, 'openBid': 1.06845, 'time': '2017-01-27T13:48:35.000000Z', 'closeAsk': 1.06854, 'volume': 4, 'highBid': 1.06845}, {'highAsk': 1.06859, 'complete': True, 'lowAsk': 1.06856, 'lowBid': 1.06843, 'closeBid': 1.06843, 'openAsk': 1.06856, 'openBid': 1.06844, 'time': '2017-01-27T13:48:40.000000Z', 'closeAsk': 1.06857, 'volume': 3, 'highBid': 1.06846}, {'highAsk': 1.06861, 'complete': True, 'lowAsk': 1.06849, 'lowBid': 1.06836, 'closeBid': 1.06847, 'openAsk': 1.06853, 'openBid': 1.06841, 'time': '2017-01-27T13:48:45.000000Z', 'closeAsk': 1.06861, 'volume': 9, 'highBid': 1.06847}, {'highAsk': 1.06865, 'complete': True, 'lowAsk': 1.06863, 'lowBid': 1.0685, 'closeBid': 1.06852, 'openAsk': 1.06863, 'openBid': 1.0685, 'time': '2017-01-27T13:48:50.000000Z', 'closeAsk': 1.06865, 'volume': 2, 'highBid': 1.06852}, {'highAsk': 1.06869, 'complete': True, 'lowAsk': 1.06859, 'lowBid': 1.06847, 'closeBid': 1.06857, 'openAsk': 1.06862, 'openBid': 1.0685, 'time': '2017-01-27T13:48:55.000000Z', 'closeAsk': 1.06869, 'volume': 6, 'highBid': 1.06857}, {'highAsk': 1.06868, 'complete': True, 'lowAsk': 1.06864, 'lowBid': 1.06851, 'closeBid': 1.06856, 'openAsk': 1.06867, 'openBid': 1.06854, 'time': '2017-01-27T13:49:00.000000Z', 'closeAsk': 1.06868, 'volume': 4, 'highBid': 1.06856}, {'highAsk': 1.06879, 'complete': True, 'lowAsk': 1.06871, 'lowBid': 1.06858, 'closeBid': 1.06866, 'openAsk': 1.06871, 'openBid': 1.06858, 'time': '2017-01-27T13:49:05.000000Z', 'closeAsk': 1.06879, 'volume': 4, 'highBid': 1.06866}, {'highAsk': 1.06887, 'complete': True, 'lowAsk': 1.06882, 'lowBid': 1.06868, 'closeBid': 1.06872, 'openAsk': 1.06882, 'openBid': 1.06868, 'time': '2017-01-27T13:49:10.000000Z', 'closeAsk': 1.06884, 'volume': 4, 'highBid': 1.06873}, {'highAsk': 1.06881, 'complete': True, 'lowAsk': 1.06881, 'lowBid': 1.0687, 'closeBid': 1.0687, 'openAsk': 1.06881, 'openBid': 1.0687, 'time': '2017-01-27T13:49:15.000000Z', 'closeAsk': 1.06881, 'volume': 1, 'highBid': 1.0687}, {'highAsk': 1.06892, 'complete': True, 'lowAsk': 1.06885, 'lowBid': 1.06871, 'closeBid': 1.06881, 'openAsk': 1.06885, 'openBid': 1.06871, 'time': '2017-01-27T13:49:20.000000Z', 'closeAsk': 1.06892, 'volume': 4, 'highBid': 1.06881}, {'highAsk': 1.06898, 'complete': True, 'lowAsk': 1.06886, 'lowBid': 1.06874, 'closeBid': 1.06878, 'openAsk': 1.06895, 'openBid': 1.06884, 'time': '2017-01-27T13:49:25.000000Z', 'closeAsk': 1.06891, 'volume': 10, 'highBid': 1.06885}, {'highAsk': 1.06901, 'complete': True, 'lowAsk': 1.06893, 'lowBid': 1.06881, 'closeBid': 1.06886, 'openAsk': 1.06893, 'openBid': 1.06881, 'time': '2017-01-27T13:49:30.000000Z', 'closeAsk': 1.06898, 'volume': 5, 'highBid': 1.06888}, {'highAsk': 1.06895, 'complete': True, 'lowAsk': 1.06887, 'lowBid': 1.06874, 'closeBid': 1.06874, 'openAsk': 1.06895, 'openBid': 1.06882, 'time': '2017-01-27T13:49:35.000000Z', 'closeAsk': 1.06887, 'volume': 4, 'highBid': 1.06882}, {'highAsk': 1.0689, 'complete': True, 'lowAsk': 1.06878, 'lowBid': 1.06865, 'closeBid': 1.06865, 'openAsk': 1.0689, 'openBid': 1.06878, 'time': '2017-01-27T13:49:40.000000Z', 'closeAsk': 1.06878, 'volume': 6, 'highBid': 1.06878}, {'highAsk': 1.06895, 'complete': True, 'lowAsk': 1.06881, 'lowBid': 1.06868, 'closeBid': 1.0688, 'openAsk': 1.06881, 'openBid': 1.06868, 'time': '2017-01-27T13:49:45.000000Z', 'closeAsk': 1.06891, 'volume': 7, 'highBid': 1.06882}, {'highAsk': 1.06902, 'complete': True, 'lowAsk': 1.06894, 'lowBid': 1.06883, 'closeBid': 1.0689, 'openAsk': 1.06894, 'openBid': 1.06883, 'time': '2017-01-27T13:49:50.000000Z', 'closeAsk': 1.06902, 'volume': 4, 'highBid': 1.0689}, {'highAsk': 1.06901, 'complete': True, 'lowAsk': 1.06884, 'lowBid': 1.0687, 'closeBid': 1.0687, 'openAsk': 1.06901, 'openBid': 1.06887, 'time': '2017-01-27T13:49:55.000000Z', 'closeAsk': 1.06884, 'volume': 8, 'highBid': 1.06887}, {'highAsk': 1.06882, 'complete': True, 'lowAsk': 1.06879, 'lowBid': 1.06865, 'closeBid': 1.0687, 'openAsk': 1.06881, 'openBid': 1.06867, 'time': '2017-01-27T13:50:00.000000Z', 'closeAsk': 1.06882, 'volume': 4, 'highBid': 1.0687}, {'highAsk': 1.0689, 'complete': True, 'lowAsk': 1.06882, 'lowBid': 1.0687, 'closeBid': 1.06878, 'openAsk': 1.06885, 'openBid': 1.06873, 'time': '2017-01-27T13:50:05.000000Z', 'closeAsk': 1.0689, 'volume': 5, 'highBid': 1.06878}, {'highAsk': 1.06899, 'complete': True, 'lowAsk': 1.06894, 'lowBid': 1.0688, 'closeBid': 1.06886, 'openAsk': 1.06894, 'openBid': 1.0688, 'time': '2017-01-27T13:50:10.000000Z', 'closeAsk': 1.06899, 'volume': 3, 'highBid': 1.06886}, {'highAsk': 1.06897, 'complete': True, 'lowAsk': 1.06893, 'lowBid': 1.06879, 'closeBid': 1.06879, 'openAsk': 1.06897, 'openBid': 1.06886, 'time': '2017-01-27T13:50:15.000000Z', 'closeAsk': 1.06893, 'volume': 4, 'highBid': 1.06886}, {'highAsk': 1.06903, 'complete': True, 'lowAsk': 1.06888, 'lowBid': 1.06873, 'closeBid': 1.0689, 'openAsk': 1.0689, 'openBid': 1.06877, 'time': '2017-01-27T13:50:20.000000Z', 'closeAsk': 1.06903, 'volume': 8, 'highBid': 1.0689}, {'highAsk': 1.06906, 'complete': True, 'lowAsk': 1.06901, 'lowBid': 1.06887, 'closeBid': 1.06893, 'openAsk': 1.06901, 'openBid': 1.06887, 'time': '2017-01-27T13:50:25.000000Z', 'closeAsk': 1.06906, 'volume': 3, 'highBid': 1.06893}, {'highAsk': 1.06911, 'complete': True, 'lowAsk': 1.0691, 'lowBid': 1.06895, 'closeBid': 1.06898, 'openAsk': 1.0691, 'openBid': 1.06895, 'time': '2017-01-27T13:50:30.000000Z', 'closeAsk': 1.06911, 'volume': 2, 'highBid': 1.06898}, {'highAsk': 1.06912, 'complete': True, 'lowAsk': 1.06906, 'lowBid': 1.06894, 'closeBid': 1.06894, 'openAsk': 1.06909, 'openBid': 1.06896, 'time': '2017-01-27T13:50:35.000000Z', 'closeAsk': 1.06906, 'volume': 8, 'highBid': 1.06898}, {'highAsk': 1.06915, 'complete': True, 'lowAsk': 1.06909, 'lowBid': 1.06895, 'closeBid': 1.069, 'openAsk': 1.06909, 'openBid': 1.06895, 'time': '2017-01-27T13:50:40.000000Z', 'closeAsk': 1.06915, 'volume': 3, 'highBid': 1.069}, {'highAsk': 1.06922, 'complete': True, 'lowAsk': 1.06917, 'lowBid': 1.06903, 'closeBid': 1.06909, 'openAsk': 1.06917, 'openBid': 1.06903, 'time': '2017-01-27T13:50:45.000000Z', 'closeAsk': 1.06921, 'volume': 11, 'highBid': 1.06909}, {'highAsk': 1.06926, 'complete': True, 'lowAsk': 1.06925, 'lowBid': 1.0691, 'closeBid': 1.06913, 'openAsk': 1.06925, 'openBid': 1.0691, 'time': '2017-01-27T13:50:50.000000Z', 'closeAsk': 1.06926, 'volume': 2, 'highBid': 1.06913}, {'highAsk': 1.06942, 'complete': True, 'lowAsk': 1.06928, 'lowBid': 1.06915, 'closeBid': 1.06921, 'openAsk': 1.06928, 'openBid': 1.06916, 'time': '2017-01-27T13:50:55.000000Z', 'closeAsk': 1.06933, 'volume': 13, 'highBid': 1.0693}, {'highAsk': 1.06934, 'complete': True, 'lowAsk': 1.06928, 'lowBid': 1.06914, 'closeBid': 1.06919, 'openAsk': 1.06931, 'openBid': 1.06917, 'time': '2017-01-27T13:51:00.000000Z', 'closeAsk': 1.06932, 'volume': 6, 'highBid': 1.06919}, {'highAsk': 1.06942, 'complete': True, 'lowAsk': 1.06935, 'lowBid': 1.06921, 'closeBid': 1.06929, 'openAsk': 1.06935, 'openBid': 1.06921, 'time': '2017-01-27T13:51:05.000000Z', 'closeAsk': 1.06942, 'volume': 4, 'highBid': 1.06929}, {'highAsk': 1.06954, 'complete': True, 'lowAsk': 1.0694, 'lowBid': 1.06927, 'closeBid': 1.06941, 'openAsk': 1.0694, 'openBid': 1.06927, 'time': '2017-01-27T13:51:10.000000Z', 'closeAsk': 1.06954, 'volume': 7, 'highBid': 1.06941}, {'highAsk': 1.06957, 'complete': True, 'lowAsk': 1.06949, 'lowBid': 1.06938, 'closeBid': 1.06941, 'openAsk': 1.06951, 'openBid': 1.06939, 'time': '2017-01-27T13:51:15.000000Z', 'closeAsk': 1.06957, 'volume': 8, 'highBid': 1.06945}, {'highAsk': 1.06962, 'complete': True, 'lowAsk': 1.06958, 'lowBid': 1.06945, 'closeBid': 1.06948, 'openAsk': 1.06958, 'openBid': 1.06945, 'time': '2017-01-27T13:51:20.000000Z', 'closeAsk': 1.0696, 'volume': 6, 'highBid': 1.0695}, {'highAsk': 1.06965, 'complete': True, 'lowAsk': 1.06957, 'lowBid': 1.06945, 'closeBid': 1.06945, 'openAsk': 1.06963, 'openBid': 1.0695, 'time': '2017-01-27T13:51:25.000000Z', 'closeAsk': 1.06958, 'volume': 9, 'highBid': 1.06952}, {'highAsk': 1.06956, 'complete': True, 'lowAsk': 1.06941, 'lowBid': 1.06928, 'closeBid': 1.06929, 'openAsk': 1.06956, 'openBid': 1.06942, 'time': '2017-01-27T13:51:30.000000Z', 'closeAsk': 1.06941, 'volume': 8, 'highBid': 1.06942}, {'highAsk': 1.06947, 'complete': True, 'lowAsk': 1.06945, 'lowBid': 1.06931, 'closeBid': 1.06934, 'openAsk': 1.06945, 'openBid': 1.06931, 'time': '2017-01-27T13:51:35.000000Z', 'closeAsk': 1.06947, 'volume': 2, 'highBid': 1.06934}, {'highAsk': 1.06953, 'complete': True, 'lowAsk': 1.06936, 'lowBid': 1.06925, 'closeBid': 1.06925, 'openAsk': 1.0695, 'openBid': 1.06936, 'time': '2017-01-27T13:51:40.000000Z', 'closeAsk': 1.06936, 'volume': 10, 'highBid': 1.06939}, {'highAsk': 1.06934, 'complete': True, 'lowAsk': 1.06926, 'lowBid': 1.06914, 'closeBid': 1.06914, 'openAsk': 1.06934, 'openBid': 1.06921, 'time': '2017-01-27T13:51:45.000000Z', 'closeAsk': 1.06926, 'volume': 6, 'highBid': 1.06921}, {'highAsk': 1.06931, 'complete': True, 'lowAsk': 1.06924, 'lowBid': 1.06911, 'closeBid': 1.06915, 'openAsk': 1.06924, 'openBid': 1.06911, 'time': '2017-01-27T13:51:50.000000Z', 'closeAsk': 1.06931, 'volume': 3, 'highBid': 1.06915}, {'highAsk': 1.06937, 'complete': True, 'lowAsk': 1.06926, 'lowBid': 1.06914, 'closeBid': 1.06917, 'openAsk': 1.06927, 'openBid': 1.06914, 'time': '2017-01-27T13:51:55.000000Z', 'closeAsk': 1.06929, 'volume': 12, 'highBid': 1.06924}, {'highAsk': 1.0694, 'complete': True, 'lowAsk': 1.06927, 'lowBid': 1.06914, 'closeBid': 1.06926, 'openAsk': 1.06927, 'openBid': 1.06914, 'time': '2017-01-27T13:52:00.000000Z', 'closeAsk': 1.0694, 'volume': 6, 'highBid': 1.06926}, {'highAsk': 1.06944, 'complete': True, 'lowAsk': 1.06932, 'lowBid': 1.0692, 'closeBid': 1.0692, 'openAsk': 1.06936, 'openBid': 1.06925, 'time': '2017-01-27T13:52:05.000000Z', 'closeAsk': 1.06932, 'volume': 11, 'highBid': 1.06932}, {'highAsk': 1.06935, 'complete': True, 'lowAsk': 1.06933, 'lowBid': 1.06919, 'closeBid': 1.06919, 'openAsk': 1.06935, 'openBid': 1.06921, 'time': '2017-01-27T13:52:10.000000Z', 'closeAsk': 1.06933, 'volume': 4, 'highBid': 1.06922}, {'highAsk': 1.06939, 'complete': True, 'lowAsk': 1.06935, 'lowBid': 1.06921, 'closeBid': 1.06924, 'openAsk': 1.06935, 'openBid': 1.06921, 'time': '2017-01-27T13:52:15.000000Z', 'closeAsk': 1.06937, 'volume': 4, 'highBid': 1.06926}, {'highAsk': 1.06938, 'complete': True, 'lowAsk': 1.06937, 'lowBid': 1.06924, 'closeBid': 1.06924, 'openAsk': 1.06938, 'openBid': 1.06927, 'time': '2017-01-27T13:52:20.000000Z', 'closeAsk': 1.06937, 'volume': 2, 'highBid': 1.06927}, {'highAsk': 1.06939, 'complete': True, 'lowAsk': 1.06932, 'lowBid': 1.0692, 'closeBid': 1.06923, 'openAsk': 1.06939, 'openBid': 1.06926, 'time': '2017-01-27T13:52:25.000000Z', 'closeAsk': 1.06934, 'volume': 5, 'highBid': 1.06926}, {'highAsk': 1.06937, 'complete': True, 'lowAsk': 1.06932, 'lowBid': 1.0692, 'closeBid': 1.06922, 'openAsk': 1.06937, 'openBid': 1.06925, 'time': '2017-01-27T13:52:30.000000Z', 'closeAsk': 1.06934, 'volume': 4, 'highBid': 1.06925}, {'highAsk': 1.06941, 'complete': True, 'lowAsk': 1.06936, 'lowBid': 1.06924, 'closeBid': 1.06929, 'openAsk': 1.06936, 'openBid': 1.06924, 'time': '2017-01-27T13:52:35.000000Z', 'closeAsk': 1.06941, 'volume': 3, 'highBid': 1.06929}, {'highAsk': 1.06941, 'complete': True, 'lowAsk': 1.06939, 'lowBid': 1.06927, 'closeBid': 1.06929, 'openAsk': 1.06939, 'openBid': 1.06927, 'time': '2017-01-27T13:52:40.000000Z', 'closeAsk': 1.06941, 'volume': 2, 'highBid': 1.06929}, {'highAsk': 1.06944, 'complete': True, 'lowAsk': 1.06941, 'lowBid': 1.06929, 'closeBid': 1.06929, 'openAsk': 1.06944, 'openBid': 1.06931, 'time': '2017-01-27T13:52:45.000000Z', 'closeAsk': 1.06941, 'volume': 2, 'highBid': 1.06931}, {'highAsk': 1.06944, 'complete': True, 'lowAsk': 1.06936, 'lowBid': 1.06924, 'closeBid': 1.06924, 'openAsk': 1.06944, 'openBid': 1.06931, 'time': '2017-01-27T13:52:55.000000Z', 'closeAsk': 1.06936, 'volume': 4, 'highBid': 1.06931}, {'highAsk': 1.0694, 'complete': True, 'lowAsk': 1.06932, 'lowBid': 1.0692, 'closeBid': 1.06926, 'openAsk': 1.0694, 'openBid': 1.06927, 'time': '2017-01-27T13:53:00.000000Z', 'closeAsk': 1.06936, 'volume': 6, 'highBid': 1.06927}, {'highAsk': 1.06941, 'complete': True, 'lowAsk': 1.06917, 'lowBid': 1.06904, 'closeBid': 1.0691, 'openAsk': 1.06941, 'openBid': 1.06927, 'time': '2017-01-27T13:53:05.000000Z', 'closeAsk': 1.06923, 'volume': 14, 'highBid': 1.06927}, {'highAsk': 1.06926, 'complete': True, 'lowAsk': 1.06924, 'lowBid': 1.0691, 'closeBid': 1.0691, 'openAsk': 1.06926, 'openBid': 1.06912, 'time': '2017-01-27T13:53:10.000000Z', 'closeAsk': 1.06924, 'volume': 2, 'highBid': 1.06912}, {'highAsk': 1.06927, 'complete': True, 'lowAsk': 1.06924, 'lowBid': 1.0691, 'closeBid': 1.0691, 'openAsk': 1.06927, 'openBid': 1.06913, 'time': '2017-01-27T13:53:15.000000Z', 'closeAsk': 1.06924, 'volume': 6, 'highBid': 1.06914}, {'highAsk': 1.06926, 'complete': True, 'lowAsk': 1.06911, 'lowBid': 1.06898, 'closeBid': 1.06898, 'openAsk': 1.06926, 'openBid': 1.06914, 'time': '2017-01-27T13:53:20.000000Z', 'closeAsk': 1.06911, 'volume': 7, 'highBid': 1.06914}, {'highAsk': 1.0691, 'complete': True, 'lowAsk': 1.06906, 'lowBid': 1.06894, 'closeBid': 1.06899, 'openAsk': 1.06908, 'openBid': 1.06896, 'time': '2017-01-27T13:53:25.000000Z', 'closeAsk': 1.0691, 'volume': 6, 'highBid': 1.06899}, {'highAsk': 1.06922, 'complete': True, 'lowAsk': 1.06915, 'lowBid': 1.069, 'closeBid': 1.06908, 'openAsk': 1.06915, 'openBid': 1.069, 'time': '2017-01-27T13:53:30.000000Z', 'closeAsk': 1.06922, 'volume': 4, 'highBid': 1.06908}, {'highAsk': 1.06924, 'complete': False, 'lowAsk': 1.06915, 'lowBid': 1.06903, 'closeBid': 1.06908, 'openAsk': 1.06924, 'openBid': 1.06911, 'time': '2017-01-27T13:53:35.000000Z', 'closeAsk': 1.0692, 'volume': 6, 'highBid': 1.06911}]}\n"
     ]
    }
   ],
   "source": [
    "response = oanda.get_history(instrument=\"EUR_USD\")\n",
    "print(response)"
   ]
  },
  {
   "cell_type": "code",
   "execution_count": 12,
   "metadata": {
    "collapsed": false
   },
   "outputs": [
    {
     "data": {
      "text/html": [
       "<div>\n",
       "<table border=\"1\" class=\"dataframe\">\n",
       "  <thead>\n",
       "    <tr style=\"text-align: right;\">\n",
       "      <th></th>\n",
       "      <th>closeAsk</th>\n",
       "      <th>closeBid</th>\n",
       "      <th>complete</th>\n",
       "      <th>highAsk</th>\n",
       "      <th>highBid</th>\n",
       "      <th>lowAsk</th>\n",
       "      <th>lowBid</th>\n",
       "      <th>openAsk</th>\n",
       "      <th>openBid</th>\n",
       "      <th>time</th>\n",
       "      <th>volume</th>\n",
       "    </tr>\n",
       "  </thead>\n",
       "  <tbody>\n",
       "    <tr>\n",
       "      <th>0</th>\n",
       "      <td>1.06781</td>\n",
       "      <td>1.06770</td>\n",
       "      <td>True</td>\n",
       "      <td>1.06781</td>\n",
       "      <td>1.06770</td>\n",
       "      <td>1.06765</td>\n",
       "      <td>1.06753</td>\n",
       "      <td>1.06765</td>\n",
       "      <td>1.06753</td>\n",
       "      <td>2017-01-27T13:06:40.000000Z</td>\n",
       "      <td>7</td>\n",
       "    </tr>\n",
       "    <tr>\n",
       "      <th>1</th>\n",
       "      <td>1.06780</td>\n",
       "      <td>1.06768</td>\n",
       "      <td>True</td>\n",
       "      <td>1.06780</td>\n",
       "      <td>1.06768</td>\n",
       "      <td>1.06774</td>\n",
       "      <td>1.06760</td>\n",
       "      <td>1.06780</td>\n",
       "      <td>1.06767</td>\n",
       "      <td>2017-01-27T13:06:45.000000Z</td>\n",
       "      <td>6</td>\n",
       "    </tr>\n",
       "    <tr>\n",
       "      <th>2</th>\n",
       "      <td>1.06791</td>\n",
       "      <td>1.06778</td>\n",
       "      <td>True</td>\n",
       "      <td>1.06791</td>\n",
       "      <td>1.06778</td>\n",
       "      <td>1.06783</td>\n",
       "      <td>1.06771</td>\n",
       "      <td>1.06783</td>\n",
       "      <td>1.06771</td>\n",
       "      <td>2017-01-27T13:06:50.000000Z</td>\n",
       "      <td>4</td>\n",
       "    </tr>\n",
       "    <tr>\n",
       "      <th>3</th>\n",
       "      <td>1.06787</td>\n",
       "      <td>1.06774</td>\n",
       "      <td>True</td>\n",
       "      <td>1.06789</td>\n",
       "      <td>1.06777</td>\n",
       "      <td>1.06787</td>\n",
       "      <td>1.06774</td>\n",
       "      <td>1.06789</td>\n",
       "      <td>1.06777</td>\n",
       "      <td>2017-01-27T13:06:55.000000Z</td>\n",
       "      <td>4</td>\n",
       "    </tr>\n",
       "    <tr>\n",
       "      <th>4</th>\n",
       "      <td>1.06789</td>\n",
       "      <td>1.06776</td>\n",
       "      <td>True</td>\n",
       "      <td>1.06789</td>\n",
       "      <td>1.06776</td>\n",
       "      <td>1.06783</td>\n",
       "      <td>1.06771</td>\n",
       "      <td>1.06783</td>\n",
       "      <td>1.06771</td>\n",
       "      <td>2017-01-27T13:07:00.000000Z</td>\n",
       "      <td>4</td>\n",
       "    </tr>\n",
       "  </tbody>\n",
       "</table>\n",
       "</div>"
      ],
      "text/plain": [
       "   closeAsk  closeBid complete  highAsk  highBid   lowAsk   lowBid  openAsk  \\\n",
       "0   1.06781   1.06770     True  1.06781  1.06770  1.06765  1.06753  1.06765   \n",
       "1   1.06780   1.06768     True  1.06780  1.06768  1.06774  1.06760  1.06780   \n",
       "2   1.06791   1.06778     True  1.06791  1.06778  1.06783  1.06771  1.06783   \n",
       "3   1.06787   1.06774     True  1.06789  1.06777  1.06787  1.06774  1.06789   \n",
       "4   1.06789   1.06776     True  1.06789  1.06776  1.06783  1.06771  1.06783   \n",
       "\n",
       "   openBid                         time  volume  \n",
       "0  1.06753  2017-01-27T13:06:40.000000Z       7  \n",
       "1  1.06767  2017-01-27T13:06:45.000000Z       6  \n",
       "2  1.06771  2017-01-27T13:06:50.000000Z       4  \n",
       "3  1.06777  2017-01-27T13:06:55.000000Z       4  \n",
       "4  1.06771  2017-01-27T13:07:00.000000Z       4  "
      ]
     },
     "execution_count": 12,
     "metadata": {},
     "output_type": "execute_result"
    }
   ],
   "source": [
    "res = pd.DataFrame(response[\"candles\"])\n",
    "res.head()"
   ]
  },
  {
   "cell_type": "code",
   "execution_count": 13,
   "metadata": {
    "collapsed": true
   },
   "outputs": [],
   "source": [
    "res.columns = ['Close_Ask', 'Close_Bid', 'Complete', \n",
    "               'High_Ask', 'High_Bid', 'Low_Ask', 'Low_Bid', \n",
    "               'Open_Ask', 'Open_Bid', 'Time', 'Volume']\n",
    "res = res.reindex_axis(['Time', 'Open_Bid', 'Open_Ask', \n",
    "                        'High_Bid', 'High_Ask', 'Low_Bid', \n",
    "                        'Low_Ask', 'Close_Bid', 'Close_Ask', \n",
    "                        'Complete', 'Volume'], \n",
    "                       axis=1)"
   ]
  },
  {
   "cell_type": "code",
   "execution_count": 14,
   "metadata": {
    "collapsed": false,
    "scrolled": true
   },
   "outputs": [
    {
     "data": {
      "text/html": [
       "<div>\n",
       "<table border=\"1\" class=\"dataframe\">\n",
       "  <thead>\n",
       "    <tr style=\"text-align: right;\">\n",
       "      <th></th>\n",
       "      <th>Time</th>\n",
       "      <th>Open_Bid</th>\n",
       "      <th>Open_Ask</th>\n",
       "      <th>High_Bid</th>\n",
       "      <th>High_Ask</th>\n",
       "      <th>Low_Bid</th>\n",
       "      <th>Low_Ask</th>\n",
       "      <th>Close_Bid</th>\n",
       "      <th>Close_Ask</th>\n",
       "      <th>Complete</th>\n",
       "      <th>Volume</th>\n",
       "    </tr>\n",
       "  </thead>\n",
       "  <tbody>\n",
       "    <tr>\n",
       "      <th>495</th>\n",
       "      <td>2017-01-27T13:53:15.000000Z</td>\n",
       "      <td>1.06913</td>\n",
       "      <td>1.06927</td>\n",
       "      <td>1.06914</td>\n",
       "      <td>1.06927</td>\n",
       "      <td>1.06910</td>\n",
       "      <td>1.06924</td>\n",
       "      <td>1.06910</td>\n",
       "      <td>1.06924</td>\n",
       "      <td>True</td>\n",
       "      <td>6</td>\n",
       "    </tr>\n",
       "    <tr>\n",
       "      <th>496</th>\n",
       "      <td>2017-01-27T13:53:20.000000Z</td>\n",
       "      <td>1.06914</td>\n",
       "      <td>1.06926</td>\n",
       "      <td>1.06914</td>\n",
       "      <td>1.06926</td>\n",
       "      <td>1.06898</td>\n",
       "      <td>1.06911</td>\n",
       "      <td>1.06898</td>\n",
       "      <td>1.06911</td>\n",
       "      <td>True</td>\n",
       "      <td>7</td>\n",
       "    </tr>\n",
       "    <tr>\n",
       "      <th>497</th>\n",
       "      <td>2017-01-27T13:53:25.000000Z</td>\n",
       "      <td>1.06896</td>\n",
       "      <td>1.06908</td>\n",
       "      <td>1.06899</td>\n",
       "      <td>1.06910</td>\n",
       "      <td>1.06894</td>\n",
       "      <td>1.06906</td>\n",
       "      <td>1.06899</td>\n",
       "      <td>1.06910</td>\n",
       "      <td>True</td>\n",
       "      <td>6</td>\n",
       "    </tr>\n",
       "    <tr>\n",
       "      <th>498</th>\n",
       "      <td>2017-01-27T13:53:30.000000Z</td>\n",
       "      <td>1.06900</td>\n",
       "      <td>1.06915</td>\n",
       "      <td>1.06908</td>\n",
       "      <td>1.06922</td>\n",
       "      <td>1.06900</td>\n",
       "      <td>1.06915</td>\n",
       "      <td>1.06908</td>\n",
       "      <td>1.06922</td>\n",
       "      <td>True</td>\n",
       "      <td>4</td>\n",
       "    </tr>\n",
       "    <tr>\n",
       "      <th>499</th>\n",
       "      <td>2017-01-27T13:53:35.000000Z</td>\n",
       "      <td>1.06911</td>\n",
       "      <td>1.06924</td>\n",
       "      <td>1.06911</td>\n",
       "      <td>1.06924</td>\n",
       "      <td>1.06903</td>\n",
       "      <td>1.06915</td>\n",
       "      <td>1.06908</td>\n",
       "      <td>1.06920</td>\n",
       "      <td>False</td>\n",
       "      <td>6</td>\n",
       "    </tr>\n",
       "  </tbody>\n",
       "</table>\n",
       "</div>"
      ],
      "text/plain": [
       "                            Time  Open_Bid  Open_Ask  High_Bid  High_Ask  \\\n",
       "495  2017-01-27T13:53:15.000000Z   1.06913   1.06927   1.06914   1.06927   \n",
       "496  2017-01-27T13:53:20.000000Z   1.06914   1.06926   1.06914   1.06926   \n",
       "497  2017-01-27T13:53:25.000000Z   1.06896   1.06908   1.06899   1.06910   \n",
       "498  2017-01-27T13:53:30.000000Z   1.06900   1.06915   1.06908   1.06922   \n",
       "499  2017-01-27T13:53:35.000000Z   1.06911   1.06924   1.06911   1.06924   \n",
       "\n",
       "     Low_Bid  Low_Ask  Close_Bid  Close_Ask Complete  Volume  \n",
       "495  1.06910  1.06924    1.06910    1.06924     True       6  \n",
       "496  1.06898  1.06911    1.06898    1.06911     True       7  \n",
       "497  1.06894  1.06906    1.06899    1.06910     True       6  \n",
       "498  1.06900  1.06915    1.06908    1.06922     True       4  \n",
       "499  1.06903  1.06915    1.06908    1.06920    False       6  "
      ]
     },
     "execution_count": 14,
     "metadata": {},
     "output_type": "execute_result"
    }
   ],
   "source": [
    "res.tail()"
   ]
  },
  {
   "cell_type": "markdown",
   "metadata": {},
   "source": [
    "<!--NAVIGATION-->\n",
    "< [Algorithmic Trading Architecture](01.03 Algorithmic Trading Architecture.ipynb) | [Contents](Index.ipynb) | [Account Information](03.00 Account Information.ipynb) >"
   ]
  }
 ],
 "metadata": {
  "anaconda-cloud": {},
  "kernelspec": {
   "display_name": "Python 3",
   "language": "python",
   "name": "python3"
  },
  "language_info": {
   "codemirror_mode": {
    "name": "ipython",
    "version": 3
   },
   "file_extension": ".py",
   "mimetype": "text/x-python",
   "name": "python",
   "nbconvert_exporter": "python",
   "pygments_lexer": "ipython3",
   "version": "3.6.0"
  }
 },
 "nbformat": 4,
 "nbformat_minor": 1
}
